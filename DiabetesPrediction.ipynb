{
 "cells": [
  {
   "cell_type": "markdown",
   "id": "93b67b22",
   "metadata": {},
   "source": [
    "## Imports :"
   ]
  },
  {
   "cell_type": "code",
   "execution_count": 70,
   "id": "adccb82a",
   "metadata": {},
   "outputs": [],
   "source": [
    "import pandas as pd\n",
    "from sklearn.model_selection import train_test_split\n",
    "from sklearn.linear_model import LogisticRegression\n",
    "from sklearn.neighbors import KNeighborsClassifier\n",
    "from sklearn.tree import DecisionTreeClassifier\n",
    "from sklearn.metrics import accuracy_score, f1_score, precision_score, recall_score"
   ]
  },
  {
   "cell_type": "markdown",
   "id": "e0a4a17b",
   "metadata": {},
   "source": [
    "## Loading the data :"
   ]
  },
  {
   "cell_type": "code",
   "execution_count": 53,
   "id": "9cfefd37",
   "metadata": {},
   "outputs": [],
   "source": [
    "dataframe_of_dataset = pd.read_csv('Dataset Folder/diabetes.csv')"
   ]
  },
  {
   "cell_type": "code",
   "execution_count": 54,
   "id": "cb4e6fa4",
   "metadata": {},
   "outputs": [
    {
     "data": {
      "text/html": [
       "<div>\n",
       "<style scoped>\n",
       "    .dataframe tbody tr th:only-of-type {\n",
       "        vertical-align: middle;\n",
       "    }\n",
       "\n",
       "    .dataframe tbody tr th {\n",
       "        vertical-align: top;\n",
       "    }\n",
       "\n",
       "    .dataframe thead th {\n",
       "        text-align: right;\n",
       "    }\n",
       "</style>\n",
       "<table border=\"1\" class=\"dataframe\">\n",
       "  <thead>\n",
       "    <tr style=\"text-align: right;\">\n",
       "      <th></th>\n",
       "      <th>Pregnancies</th>\n",
       "      <th>Glucose</th>\n",
       "      <th>BloodPressure</th>\n",
       "      <th>SkinThickness</th>\n",
       "      <th>Insulin</th>\n",
       "      <th>BMI</th>\n",
       "      <th>DiabetesPedigreeFunction</th>\n",
       "      <th>Age</th>\n",
       "      <th>Outcome</th>\n",
       "    </tr>\n",
       "  </thead>\n",
       "  <tbody>\n",
       "    <tr>\n",
       "      <th>0</th>\n",
       "      <td>6</td>\n",
       "      <td>148</td>\n",
       "      <td>72</td>\n",
       "      <td>35</td>\n",
       "      <td>0</td>\n",
       "      <td>33.6</td>\n",
       "      <td>0.627</td>\n",
       "      <td>50</td>\n",
       "      <td>1</td>\n",
       "    </tr>\n",
       "    <tr>\n",
       "      <th>1</th>\n",
       "      <td>1</td>\n",
       "      <td>85</td>\n",
       "      <td>66</td>\n",
       "      <td>29</td>\n",
       "      <td>0</td>\n",
       "      <td>26.6</td>\n",
       "      <td>0.351</td>\n",
       "      <td>31</td>\n",
       "      <td>0</td>\n",
       "    </tr>\n",
       "    <tr>\n",
       "      <th>2</th>\n",
       "      <td>8</td>\n",
       "      <td>183</td>\n",
       "      <td>64</td>\n",
       "      <td>0</td>\n",
       "      <td>0</td>\n",
       "      <td>23.3</td>\n",
       "      <td>0.672</td>\n",
       "      <td>32</td>\n",
       "      <td>1</td>\n",
       "    </tr>\n",
       "    <tr>\n",
       "      <th>3</th>\n",
       "      <td>1</td>\n",
       "      <td>89</td>\n",
       "      <td>66</td>\n",
       "      <td>23</td>\n",
       "      <td>94</td>\n",
       "      <td>28.1</td>\n",
       "      <td>0.167</td>\n",
       "      <td>21</td>\n",
       "      <td>0</td>\n",
       "    </tr>\n",
       "    <tr>\n",
       "      <th>4</th>\n",
       "      <td>0</td>\n",
       "      <td>137</td>\n",
       "      <td>40</td>\n",
       "      <td>35</td>\n",
       "      <td>168</td>\n",
       "      <td>43.1</td>\n",
       "      <td>2.288</td>\n",
       "      <td>33</td>\n",
       "      <td>1</td>\n",
       "    </tr>\n",
       "    <tr>\n",
       "      <th>...</th>\n",
       "      <td>...</td>\n",
       "      <td>...</td>\n",
       "      <td>...</td>\n",
       "      <td>...</td>\n",
       "      <td>...</td>\n",
       "      <td>...</td>\n",
       "      <td>...</td>\n",
       "      <td>...</td>\n",
       "      <td>...</td>\n",
       "    </tr>\n",
       "    <tr>\n",
       "      <th>763</th>\n",
       "      <td>10</td>\n",
       "      <td>101</td>\n",
       "      <td>76</td>\n",
       "      <td>48</td>\n",
       "      <td>180</td>\n",
       "      <td>32.9</td>\n",
       "      <td>0.171</td>\n",
       "      <td>63</td>\n",
       "      <td>0</td>\n",
       "    </tr>\n",
       "    <tr>\n",
       "      <th>764</th>\n",
       "      <td>2</td>\n",
       "      <td>122</td>\n",
       "      <td>70</td>\n",
       "      <td>27</td>\n",
       "      <td>0</td>\n",
       "      <td>36.8</td>\n",
       "      <td>0.340</td>\n",
       "      <td>27</td>\n",
       "      <td>0</td>\n",
       "    </tr>\n",
       "    <tr>\n",
       "      <th>765</th>\n",
       "      <td>5</td>\n",
       "      <td>121</td>\n",
       "      <td>72</td>\n",
       "      <td>23</td>\n",
       "      <td>112</td>\n",
       "      <td>26.2</td>\n",
       "      <td>0.245</td>\n",
       "      <td>30</td>\n",
       "      <td>0</td>\n",
       "    </tr>\n",
       "    <tr>\n",
       "      <th>766</th>\n",
       "      <td>1</td>\n",
       "      <td>126</td>\n",
       "      <td>60</td>\n",
       "      <td>0</td>\n",
       "      <td>0</td>\n",
       "      <td>30.1</td>\n",
       "      <td>0.349</td>\n",
       "      <td>47</td>\n",
       "      <td>1</td>\n",
       "    </tr>\n",
       "    <tr>\n",
       "      <th>767</th>\n",
       "      <td>1</td>\n",
       "      <td>93</td>\n",
       "      <td>70</td>\n",
       "      <td>31</td>\n",
       "      <td>0</td>\n",
       "      <td>30.4</td>\n",
       "      <td>0.315</td>\n",
       "      <td>23</td>\n",
       "      <td>0</td>\n",
       "    </tr>\n",
       "  </tbody>\n",
       "</table>\n",
       "<p>768 rows × 9 columns</p>\n",
       "</div>"
      ],
      "text/plain": [
       "     Pregnancies  Glucose  BloodPressure  SkinThickness  Insulin   BMI  \\\n",
       "0              6      148             72             35        0  33.6   \n",
       "1              1       85             66             29        0  26.6   \n",
       "2              8      183             64              0        0  23.3   \n",
       "3              1       89             66             23       94  28.1   \n",
       "4              0      137             40             35      168  43.1   \n",
       "..           ...      ...            ...            ...      ...   ...   \n",
       "763           10      101             76             48      180  32.9   \n",
       "764            2      122             70             27        0  36.8   \n",
       "765            5      121             72             23      112  26.2   \n",
       "766            1      126             60              0        0  30.1   \n",
       "767            1       93             70             31        0  30.4   \n",
       "\n",
       "     DiabetesPedigreeFunction  Age  Outcome  \n",
       "0                       0.627   50        1  \n",
       "1                       0.351   31        0  \n",
       "2                       0.672   32        1  \n",
       "3                       0.167   21        0  \n",
       "4                       2.288   33        1  \n",
       "..                        ...  ...      ...  \n",
       "763                     0.171   63        0  \n",
       "764                     0.340   27        0  \n",
       "765                     0.245   30        0  \n",
       "766                     0.349   47        1  \n",
       "767                     0.315   23        0  \n",
       "\n",
       "[768 rows x 9 columns]"
      ]
     },
     "execution_count": 54,
     "metadata": {},
     "output_type": "execute_result"
    }
   ],
   "source": [
    "dataframe_of_dataset"
   ]
  },
  {
   "cell_type": "markdown",
   "id": "3c34bbdc",
   "metadata": {},
   "source": [
    "A Few questions that I want to ask myself at this point :-\n",
    "\n",
    "-> What is the purpose of my project? What is the end result that I am trying to achieve?\n",
    "\n",
    "Ans. I am trying to Make a predictor which predicts whether a person has Diabetes or not.\n",
    "\n",
    "\n",
    "-> Why do you have to make a predictor yourself? We've got doctors!\n",
    "\n",
    "Ans. We do have doctors, but to make their job easier and also by helping the people to diagnose themselves and start taking precautions, care; do I need to make a predictor.\n",
    "\n",
    "\n",
    "-> How will you make a predictor? \n",
    "\n",
    "Ans. I will make a predictor using a few techniques/tricks; I will see which trick works the best to predict whether one has diabetes or not. \n",
    "\n",
    "\n",
    "-> What are the examples of tricks?\n",
    "\n",
    "Ans. Maybe KNN trick, Logistic Regression trick, SVM trick, Decision Tree Classifier Trick, RandomForest Classifier trick, xgboost trick or one of the others.\n",
    "\n",
    "\n",
    "-> Do you know those tricks? \n",
    "\n",
    "Ans. Not all of them. In particular, I need to see for once Logistic Regression, SVM trick fully, Decision Tree Classifier, RandomForest Maybe fully, xgboost fully etc. \n",
    "\n",
    "\n",
    "-> Can you apply those tricks directly on the existing data regarding diabetes that you have?\n",
    "\n",
    "Ans. No! First, the data needs to be seen and checked and processed. Things like : How many diabteic datapoints & non-diabetic datapoints, How many missing values in each column of the dataset(what to do for them?), How many continous features and how many categorical features, correlations and things like that and maybe more.......(i.e. Data preprocessing)\n",
    "\n",
    "\n",
    "-> After that, we can understand each trick and apply the tricks one by one!!!!!!!!\n",
    "\n",
    "\n",
    "-> Thereafter, use performance metrics such as accuracy, precision, f-score etc. for evaluating the performance of algorithm.\n",
    "\n",
    "-> Just think a bit about different performance metrics in different situations.\n",
    "\n",
    "\n",
    "-> Refer, the reports published by different people on Diabetes Prediction to see and find something, if at all something comes up."
   ]
  },
  {
   "cell_type": "markdown",
   "id": "2b9b7c3f",
   "metadata": {},
   "source": [
    "## Data Exploration :"
   ]
  },
  {
   "cell_type": "code",
   "execution_count": 55,
   "id": "59f07e48",
   "metadata": {},
   "outputs": [
    {
     "name": "stdout",
     "output_type": "stream",
     "text": [
      "Number of Diabetic datapoints/rows in the dataset are : 268\n",
      "Number of Non-Diabetic datapoints/rows in the dataset are : 500\n"
     ]
    }
   ],
   "source": [
    "# Number of Diabetic datapoints and Non-diabetic datapoints :-\n",
    "\n",
    "diabetic_dataframe = dataframe_of_dataset[dataframe_of_dataset['Outcome']==1]\n",
    "\n",
    "non_diabetic_dataframe = dataframe_of_dataset[dataframe_of_dataset['Outcome']==0]\n",
    "\n",
    "print(f'Number of Diabetic datapoints/rows in the dataset are : {diabetic_dataframe.shape[0]}')\n",
    "print(f'Number of Non-Diabetic datapoints/rows in the dataset are : {non_diabetic_dataframe.shape[0]}')"
   ]
  },
  {
   "cell_type": "code",
   "execution_count": 7,
   "id": "61e90561",
   "metadata": {},
   "outputs": [
    {
     "data": {
      "text/html": [
       "<div>\n",
       "<style scoped>\n",
       "    .dataframe tbody tr th:only-of-type {\n",
       "        vertical-align: middle;\n",
       "    }\n",
       "\n",
       "    .dataframe tbody tr th {\n",
       "        vertical-align: top;\n",
       "    }\n",
       "\n",
       "    .dataframe thead th {\n",
       "        text-align: right;\n",
       "    }\n",
       "</style>\n",
       "<table border=\"1\" class=\"dataframe\">\n",
       "  <thead>\n",
       "    <tr style=\"text-align: right;\">\n",
       "      <th></th>\n",
       "      <th>preg</th>\n",
       "      <th>glu</th>\n",
       "      <th>bp</th>\n",
       "      <th>skinThickness</th>\n",
       "      <th>insulin</th>\n",
       "      <th>bmi</th>\n",
       "      <th>dpf</th>\n",
       "      <th>age</th>\n",
       "      <th>outcome</th>\n",
       "    </tr>\n",
       "  </thead>\n",
       "  <tbody>\n",
       "    <tr>\n",
       "      <th>0</th>\n",
       "      <td>6</td>\n",
       "      <td>148</td>\n",
       "      <td>72</td>\n",
       "      <td>35</td>\n",
       "      <td>0</td>\n",
       "      <td>33.6</td>\n",
       "      <td>0.627</td>\n",
       "      <td>50</td>\n",
       "      <td>1</td>\n",
       "    </tr>\n",
       "    <tr>\n",
       "      <th>1</th>\n",
       "      <td>1</td>\n",
       "      <td>85</td>\n",
       "      <td>66</td>\n",
       "      <td>29</td>\n",
       "      <td>0</td>\n",
       "      <td>26.6</td>\n",
       "      <td>0.351</td>\n",
       "      <td>31</td>\n",
       "      <td>0</td>\n",
       "    </tr>\n",
       "    <tr>\n",
       "      <th>2</th>\n",
       "      <td>8</td>\n",
       "      <td>183</td>\n",
       "      <td>64</td>\n",
       "      <td>0</td>\n",
       "      <td>0</td>\n",
       "      <td>23.3</td>\n",
       "      <td>0.672</td>\n",
       "      <td>32</td>\n",
       "      <td>1</td>\n",
       "    </tr>\n",
       "    <tr>\n",
       "      <th>3</th>\n",
       "      <td>1</td>\n",
       "      <td>89</td>\n",
       "      <td>66</td>\n",
       "      <td>23</td>\n",
       "      <td>94</td>\n",
       "      <td>28.1</td>\n",
       "      <td>0.167</td>\n",
       "      <td>21</td>\n",
       "      <td>0</td>\n",
       "    </tr>\n",
       "    <tr>\n",
       "      <th>4</th>\n",
       "      <td>0</td>\n",
       "      <td>137</td>\n",
       "      <td>40</td>\n",
       "      <td>35</td>\n",
       "      <td>168</td>\n",
       "      <td>43.1</td>\n",
       "      <td>2.288</td>\n",
       "      <td>33</td>\n",
       "      <td>1</td>\n",
       "    </tr>\n",
       "    <tr>\n",
       "      <th>...</th>\n",
       "      <td>...</td>\n",
       "      <td>...</td>\n",
       "      <td>...</td>\n",
       "      <td>...</td>\n",
       "      <td>...</td>\n",
       "      <td>...</td>\n",
       "      <td>...</td>\n",
       "      <td>...</td>\n",
       "      <td>...</td>\n",
       "    </tr>\n",
       "    <tr>\n",
       "      <th>763</th>\n",
       "      <td>10</td>\n",
       "      <td>101</td>\n",
       "      <td>76</td>\n",
       "      <td>48</td>\n",
       "      <td>180</td>\n",
       "      <td>32.9</td>\n",
       "      <td>0.171</td>\n",
       "      <td>63</td>\n",
       "      <td>0</td>\n",
       "    </tr>\n",
       "    <tr>\n",
       "      <th>764</th>\n",
       "      <td>2</td>\n",
       "      <td>122</td>\n",
       "      <td>70</td>\n",
       "      <td>27</td>\n",
       "      <td>0</td>\n",
       "      <td>36.8</td>\n",
       "      <td>0.340</td>\n",
       "      <td>27</td>\n",
       "      <td>0</td>\n",
       "    </tr>\n",
       "    <tr>\n",
       "      <th>765</th>\n",
       "      <td>5</td>\n",
       "      <td>121</td>\n",
       "      <td>72</td>\n",
       "      <td>23</td>\n",
       "      <td>112</td>\n",
       "      <td>26.2</td>\n",
       "      <td>0.245</td>\n",
       "      <td>30</td>\n",
       "      <td>0</td>\n",
       "    </tr>\n",
       "    <tr>\n",
       "      <th>766</th>\n",
       "      <td>1</td>\n",
       "      <td>126</td>\n",
       "      <td>60</td>\n",
       "      <td>0</td>\n",
       "      <td>0</td>\n",
       "      <td>30.1</td>\n",
       "      <td>0.349</td>\n",
       "      <td>47</td>\n",
       "      <td>1</td>\n",
       "    </tr>\n",
       "    <tr>\n",
       "      <th>767</th>\n",
       "      <td>1</td>\n",
       "      <td>93</td>\n",
       "      <td>70</td>\n",
       "      <td>31</td>\n",
       "      <td>0</td>\n",
       "      <td>30.4</td>\n",
       "      <td>0.315</td>\n",
       "      <td>23</td>\n",
       "      <td>0</td>\n",
       "    </tr>\n",
       "  </tbody>\n",
       "</table>\n",
       "<p>768 rows × 9 columns</p>\n",
       "</div>"
      ],
      "text/plain": [
       "     preg  glu  bp  skinThickness  insulin   bmi    dpf  age  outcome\n",
       "0       6  148  72             35        0  33.6  0.627   50        1\n",
       "1       1   85  66             29        0  26.6  0.351   31        0\n",
       "2       8  183  64              0        0  23.3  0.672   32        1\n",
       "3       1   89  66             23       94  28.1  0.167   21        0\n",
       "4       0  137  40             35      168  43.1  2.288   33        1\n",
       "..    ...  ...  ..            ...      ...   ...    ...  ...      ...\n",
       "763    10  101  76             48      180  32.9  0.171   63        0\n",
       "764     2  122  70             27        0  36.8  0.340   27        0\n",
       "765     5  121  72             23      112  26.2  0.245   30        0\n",
       "766     1  126  60              0        0  30.1  0.349   47        1\n",
       "767     1   93  70             31        0  30.4  0.315   23        0\n",
       "\n",
       "[768 rows x 9 columns]"
      ]
     },
     "execution_count": 7,
     "metadata": {},
     "output_type": "execute_result"
    }
   ],
   "source": [
    "# Renaming the column names for convenience, dealing with the dataframe :-\n",
    "\n",
    "dataframe_of_dataset.rename(columns={\n",
    "                                     \"Pregnancies\": \"preg\", \n",
    "                                     \"Glucose\": \"glu\", \n",
    "                                     \"BloodPressure\":\"bp\", \n",
    "                                     \"SkinThickness\":\"skinThickness\",\n",
    "                                     \"Insulin\":\"insulin\", \n",
    "                                     \"BMI\":\"bmi\",\n",
    "                                     \"DiabetesPedigreeFunction\":\"dpf\",\n",
    "                                     \"Age\":\"age\", \n",
    "                                     \"Outcome\":\"outcome\"}, inplace=True\n",
    "                           )\n",
    "\n",
    "\n",
    "dataframe_of_dataset"
   ]
  },
  {
   "cell_type": "code",
   "execution_count": 8,
   "id": "2cf9ee77",
   "metadata": {},
   "outputs": [
    {
     "name": "stdout",
     "output_type": "stream",
     "text": [
      "Number of NaN(null) values in 'preg' column are :     0\n",
      "Number of NaN(null) values in 'glu' column are :     0\n",
      "Number of NaN(null) values in 'bp' column are :     0\n",
      "Number of NaN(null) values in 'skinThickness' column are :     0\n",
      "Number of NaN(null) values in 'insulin' column are :     0\n",
      "Number of NaN(null) values in 'bmi' column are :     0\n",
      "Number of NaN(null) values in 'dpf' column are :     0\n",
      "Number of NaN(null) values in 'age' column are :     0\n",
      "Number of NaN(null) values in 'outcome' column are :     0\n"
     ]
    }
   ],
   "source": [
    "# Let's have a look at the null('NaN') values in the dataframe :-\n",
    "\n",
    "for column in dataframe_of_dataset.columns:\n",
    "    print(f'Number of NaN(null) values in \\'{column}\\' column are : \\\n",
    "    {dataframe_of_dataset[column].isnull().sum()}')"
   ]
  },
  {
   "cell_type": "markdown",
   "id": "5fd5e197",
   "metadata": {},
   "source": [
    "### Now, we know there are no 'null' values in the entire dataframe. But, there could '0' in the dataset and that value of '0' in columns apart from just 'preg' and 'outcome' are subject to performance change of the algorithm.(Since, that's missing information). Hence, we should find out the missing data in columns.\n",
    "\n",
    "### If, 'preg' and 'outcome' are having '0' values, then it is not missing information as there can be '0' pregnancies and non-diabetic patients which is indicated by '0'."
   ]
  },
  {
   "cell_type": "code",
   "execution_count": 9,
   "id": "56e49686",
   "metadata": {},
   "outputs": [
    {
     "name": "stdout",
     "output_type": "stream",
     "text": [
      "Number of missing values in glu are           : 5\n",
      "Number of missing values in bp are           : 35\n",
      "Number of missing values in skinThickness are           : 227\n",
      "Number of missing values in insulin are           : 374\n",
      "Number of missing values in bmi are           : 11\n",
      "Number of missing values in dpf are           : 0\n"
     ]
    }
   ],
   "source": [
    "# Let's have a look at the missing values in the dataframe\n",
    "\n",
    "columns_missing_values = ['glu', 'bp', 'skinThickness', 'insulin', 'bmi', 'dpf']\n",
    "\n",
    "\n",
    "for missing_values_column in columns_missing_values:\n",
    "    \n",
    "    print(f'Number of missing values in {missing_values_column} are \\\n",
    "          : {len(dataframe_of_dataset[dataframe_of_dataset[missing_values_column]==0])}')\n",
    "    "
   ]
  },
  {
   "cell_type": "markdown",
   "id": "ca1c3a5c",
   "metadata": {},
   "source": [
    "## Before any sort of manipulation of the missing data, let's apply the techniques and find out how well they help prediction."
   ]
  },
  {
   "cell_type": "code",
   "execution_count": 10,
   "id": "148f4992",
   "metadata": {},
   "outputs": [],
   "source": [
    "# First of all splitting the dataset into training and testing :\n",
    "\n",
    "X = dataframe_of_dataset.iloc[:, :-1]\n",
    "\n",
    "y = dataframe_of_dataset.iloc[:, -1]\n",
    "\n",
    "X_train, X_test, y_train, y_test = train_test_split(X, y, test_size=0.20, random_state=1)"
   ]
  },
  {
   "cell_type": "markdown",
   "id": "8eba09a6",
   "metadata": {},
   "source": [
    "## i.e. Before Anything :\n",
    "\n",
    "### Unweighted KNN Technique :-"
   ]
  },
  {
   "cell_type": "code",
   "execution_count": 29,
   "id": "cea34a07",
   "metadata": {},
   "outputs": [
    {
     "name": "stdout",
     "output_type": "stream",
     "text": [
      "78.57142857142857% is the accuracy score in percentage form with knn.\n"
     ]
    },
    {
     "name": "stderr",
     "output_type": "stream",
     "text": [
      "c:\\users\\hp\\appdata\\local\\programs\\python\\python39\\lib\\site-packages\\sklearn\\base.py:441: UserWarning: X does not have valid feature names, but KNeighborsClassifier was fitted with feature names\n",
      "  warnings.warn(\n"
     ]
    }
   ],
   "source": [
    "neigh = KNeighborsClassifier(n_neighbors=17)\n",
    "\n",
    "neigh.fit(X_train, y_train)\n",
    "\n",
    "y_pred = neigh.predict(X_test)\n",
    "\n",
    "knn_accuracy_score = accuracy_score(y_test, y_pred)*100\n",
    "\n",
    "print(f\"{knn_accuracy_score}% is the accuracy score in percentage form with knn.\")"
   ]
  },
  {
   "cell_type": "markdown",
   "id": "c79fcb69",
   "metadata": {},
   "source": [
    "### Weighted KNN Technique :-"
   ]
  },
  {
   "cell_type": "code",
   "execution_count": 69,
   "id": "81c66316",
   "metadata": {},
   "outputs": [
    {
     "name": "stdout",
     "output_type": "stream",
     "text": [
      "77.92207792207793% is the accuracy score in percentage form with knn.\n"
     ]
    },
    {
     "name": "stderr",
     "output_type": "stream",
     "text": [
      "c:\\users\\hp\\appdata\\local\\programs\\python\\python39\\lib\\site-packages\\sklearn\\base.py:441: UserWarning: X does not have valid feature names, but KNeighborsClassifier was fitted with feature names\n",
      "  warnings.warn(\n"
     ]
    }
   ],
   "source": [
    "neigh = KNeighborsClassifier(n_neighbors=15, weights=\"distance\")\n",
    "\n",
    "neigh.fit(X_train, y_train)\n",
    "\n",
    "y_pred = neigh.predict(X_test)\n",
    "\n",
    "knn_accuracy_score = accuracy_score(y_test, y_pred)*100\n",
    "\n",
    "print(f\"{knn_accuracy_score}% is the accuracy score in percentage form with knn.\")"
   ]
  },
  {
   "cell_type": "markdown",
   "id": "789499c9",
   "metadata": {},
   "source": [
    "### Logistic Regression :-"
   ]
  },
  {
   "cell_type": "code",
   "execution_count": 50,
   "id": "cb0470ba",
   "metadata": {},
   "outputs": [
    {
     "name": "stdout",
     "output_type": "stream",
     "text": [
      "77.92207792207793% is the accuracy score in percentage form with LogisticRegression.\n"
     ]
    }
   ],
   "source": [
    "logistic = LogisticRegression(max_iter=200)\n",
    "\n",
    "logistic.fit(X_train, y_train)\n",
    "\n",
    "# Predicting the X_test datapoints :\n",
    "y_pred = logistic.predict(X_test)\n",
    "\n",
    "logistic_accuracy_score = accuracy_score(y_test, y_pred)*100\n",
    "\n",
    "print(f\"{logistic_accuracy_score}% is the accuracy score in percentage form with LogisticRegression.\")"
   ]
  },
  {
   "cell_type": "markdown",
   "id": "3eaadc2a",
   "metadata": {},
   "source": [
    "### Decision Trees :-"
   ]
  },
  {
   "cell_type": "code",
   "execution_count": 81,
   "id": "6c46b8d8",
   "metadata": {},
   "outputs": [
    {
     "name": "stdout",
     "output_type": "stream",
     "text": [
      "79.87012987012987% is the accuracy score in percentage form with DecisionTreesTrick.\n"
     ]
    }
   ],
   "source": [
    "decision_tree = DecisionTreeClassifier(max_depth=2)\n",
    "\n",
    "decision_tree.fit(X_train, y_train)\n",
    "\n",
    "# Predicting the X_test :\n",
    "y_pred = decision_tree.predict(X_test)\n",
    "\n",
    "decision_accuracy_score = accuracy_score(y_test, y_pred)*100\n",
    "\n",
    "print(f\"{decision_accuracy_score}% is the accuracy score in percentage form with DecisionTreesTrick.\")"
   ]
  },
  {
   "cell_type": "code",
   "execution_count": null,
   "id": "50a296bf",
   "metadata": {},
   "outputs": [],
   "source": []
  },
  {
   "cell_type": "code",
   "execution_count": 12,
   "id": "d709806b",
   "metadata": {},
   "outputs": [],
   "source": [
    "# --------------------------------------------------------------------------------------------------------------"
   ]
  },
  {
   "cell_type": "code",
   "execution_count": 13,
   "id": "9735e37f",
   "metadata": {},
   "outputs": [
    {
     "data": {
      "text/html": [
       "<div>\n",
       "<style scoped>\n",
       "    .dataframe tbody tr th:only-of-type {\n",
       "        vertical-align: middle;\n",
       "    }\n",
       "\n",
       "    .dataframe tbody tr th {\n",
       "        vertical-align: top;\n",
       "    }\n",
       "\n",
       "    .dataframe thead th {\n",
       "        text-align: right;\n",
       "    }\n",
       "</style>\n",
       "<table border=\"1\" class=\"dataframe\">\n",
       "  <thead>\n",
       "    <tr style=\"text-align: right;\">\n",
       "      <th></th>\n",
       "      <th>preg</th>\n",
       "      <th>glu</th>\n",
       "      <th>bp</th>\n",
       "      <th>skinThickness</th>\n",
       "      <th>insulin</th>\n",
       "      <th>bmi</th>\n",
       "      <th>dpf</th>\n",
       "      <th>age</th>\n",
       "      <th>outcome</th>\n",
       "    </tr>\n",
       "  </thead>\n",
       "  <tbody>\n",
       "    <tr>\n",
       "      <th>75</th>\n",
       "      <td>1</td>\n",
       "      <td>0</td>\n",
       "      <td>48</td>\n",
       "      <td>20</td>\n",
       "      <td>0</td>\n",
       "      <td>24.7</td>\n",
       "      <td>0.140</td>\n",
       "      <td>22</td>\n",
       "      <td>0</td>\n",
       "    </tr>\n",
       "    <tr>\n",
       "      <th>182</th>\n",
       "      <td>1</td>\n",
       "      <td>0</td>\n",
       "      <td>74</td>\n",
       "      <td>20</td>\n",
       "      <td>23</td>\n",
       "      <td>27.7</td>\n",
       "      <td>0.299</td>\n",
       "      <td>21</td>\n",
       "      <td>0</td>\n",
       "    </tr>\n",
       "    <tr>\n",
       "      <th>342</th>\n",
       "      <td>1</td>\n",
       "      <td>0</td>\n",
       "      <td>68</td>\n",
       "      <td>35</td>\n",
       "      <td>0</td>\n",
       "      <td>32.0</td>\n",
       "      <td>0.389</td>\n",
       "      <td>22</td>\n",
       "      <td>0</td>\n",
       "    </tr>\n",
       "  </tbody>\n",
       "</table>\n",
       "</div>"
      ],
      "text/plain": [
       "     preg  glu  bp  skinThickness  insulin   bmi    dpf  age  outcome\n",
       "75      1    0  48             20        0  24.7  0.140   22        0\n",
       "182     1    0  74             20       23  27.7  0.299   21        0\n",
       "342     1    0  68             35        0  32.0  0.389   22        0"
      ]
     },
     "execution_count": 13,
     "metadata": {},
     "output_type": "execute_result"
    }
   ],
   "source": [
    "dataframe_of_dataset[(dataframe_of_dataset['glu']==0) & (dataframe_of_dataset['outcome']==0)]"
   ]
  },
  {
   "cell_type": "code",
   "execution_count": 14,
   "id": "f8366ac9",
   "metadata": {},
   "outputs": [
    {
     "data": {
      "text/plain": [
       "preg               3.311871\n",
       "glu              110.643863\n",
       "bp                68.213280\n",
       "skinThickness     19.631791\n",
       "insulin           69.160966\n",
       "bmi               30.317304\n",
       "dpf                0.430662\n",
       "age               31.247485\n",
       "outcome            0.000000\n",
       "dtype: float64"
      ]
     },
     "execution_count": 14,
     "metadata": {},
     "output_type": "execute_result"
    }
   ],
   "source": [
    "dataframe_of_dataset[(dataframe_of_dataset['outcome']==0) & (dataframe_of_dataset['glu']!=0)].mean()"
   ]
  },
  {
   "cell_type": "code",
   "execution_count": 15,
   "id": "44cee588",
   "metadata": {},
   "outputs": [
    {
     "data": {
      "text/plain": [
       "preg               4.865672\n",
       "glu              141.257463\n",
       "bp                70.824627\n",
       "skinThickness     22.164179\n",
       "insulin          100.335821\n",
       "bmi               35.142537\n",
       "dpf                0.550500\n",
       "age               37.067164\n",
       "outcome            1.000000\n",
       "dtype: float64"
      ]
     },
     "execution_count": 15,
     "metadata": {},
     "output_type": "execute_result"
    }
   ],
   "source": [
    "dataframe_of_dataset[dataframe_of_dataset['outcome']==1].mean()"
   ]
  },
  {
   "cell_type": "code",
   "execution_count": 16,
   "id": "b59690f2",
   "metadata": {},
   "outputs": [],
   "source": [
    "# Going to perform different types of imputation tricks based on various ideas and use ML algorithms."
   ]
  }
 ],
 "metadata": {
  "kernelspec": {
   "display_name": "Python 3 (ipykernel)",
   "language": "python",
   "name": "python3"
  },
  "language_info": {
   "codemirror_mode": {
    "name": "ipython",
    "version": 3
   },
   "file_extension": ".py",
   "mimetype": "text/x-python",
   "name": "python",
   "nbconvert_exporter": "python",
   "pygments_lexer": "ipython3",
   "version": "3.9.6"
  }
 },
 "nbformat": 4,
 "nbformat_minor": 5
}
