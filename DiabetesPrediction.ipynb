{
 "cells": [
  {
   "cell_type": "markdown",
   "id": "13c1e29b",
   "metadata": {},
   "source": [
    "## Imports :"
   ]
  },
  {
   "cell_type": "code",
   "execution_count": 720,
   "id": "adccb82a",
   "metadata": {},
   "outputs": [],
   "source": [
    "import numpy as np\n",
    "import pandas as pd\n",
    "import seaborn as sns\n",
    "import warnings as ws\n",
    "import matplotlib.pyplot as plt\n",
    "from scipy.stats import randint, expon\n",
    "from sklearn.model_selection import train_test_split\n",
    "from sklearn.naive_bayes import GaussianNB\n",
    "from sklearn.linear_model import LogisticRegression\n",
    "from sklearn.neighbors import KNeighborsClassifier\n",
    "from sklearn.tree import DecisionTreeClassifier\n",
    "from sklearn.ensemble import RandomForestClassifier,AdaBoostClassifier\n",
    "from sklearn.svm import SVC\n",
    "from sklearn.impute import SimpleImputer, KNNImputer\n",
    "from sklearn.preprocessing import Normalizer,MinMaxScaler\n",
    "from sklearn.compose import ColumnTransformer\n",
    "from imblearn.over_sampling import SMOTE\n",
    "from collections import Counter\n",
    "from sklearn.model_selection import GridSearchCV, RandomizedSearchCV\n",
    "from sklearn.metrics import accuracy_score, f1_score, precision_score, recall_score, roc_auc_score"
   ]
  },
  {
   "cell_type": "markdown",
   "id": "26a94af7",
   "metadata": {},
   "source": [
    "## Loading the data :"
   ]
  },
  {
   "cell_type": "code",
   "execution_count": 2,
   "id": "9cfefd37",
   "metadata": {},
   "outputs": [],
   "source": [
    "df = pd.read_csv('Dataset Folder/diabetes.csv')"
   ]
  },
  {
   "cell_type": "code",
   "execution_count": 3,
   "id": "cb4e6fa4",
   "metadata": {},
   "outputs": [
    {
     "data": {
      "text/html": [
       "<div>\n",
       "<style scoped>\n",
       "    .dataframe tbody tr th:only-of-type {\n",
       "        vertical-align: middle;\n",
       "    }\n",
       "\n",
       "    .dataframe tbody tr th {\n",
       "        vertical-align: top;\n",
       "    }\n",
       "\n",
       "    .dataframe thead th {\n",
       "        text-align: right;\n",
       "    }\n",
       "</style>\n",
       "<table border=\"1\" class=\"dataframe\">\n",
       "  <thead>\n",
       "    <tr style=\"text-align: right;\">\n",
       "      <th></th>\n",
       "      <th>Pregnancies</th>\n",
       "      <th>Glucose</th>\n",
       "      <th>BloodPressure</th>\n",
       "      <th>SkinThickness</th>\n",
       "      <th>Insulin</th>\n",
       "      <th>BMI</th>\n",
       "      <th>DiabetesPedigreeFunction</th>\n",
       "      <th>Age</th>\n",
       "      <th>Outcome</th>\n",
       "    </tr>\n",
       "  </thead>\n",
       "  <tbody>\n",
       "    <tr>\n",
       "      <th>0</th>\n",
       "      <td>6</td>\n",
       "      <td>148</td>\n",
       "      <td>72</td>\n",
       "      <td>35</td>\n",
       "      <td>0</td>\n",
       "      <td>33.6</td>\n",
       "      <td>0.627</td>\n",
       "      <td>50</td>\n",
       "      <td>1</td>\n",
       "    </tr>\n",
       "    <tr>\n",
       "      <th>1</th>\n",
       "      <td>1</td>\n",
       "      <td>85</td>\n",
       "      <td>66</td>\n",
       "      <td>29</td>\n",
       "      <td>0</td>\n",
       "      <td>26.6</td>\n",
       "      <td>0.351</td>\n",
       "      <td>31</td>\n",
       "      <td>0</td>\n",
       "    </tr>\n",
       "    <tr>\n",
       "      <th>2</th>\n",
       "      <td>8</td>\n",
       "      <td>183</td>\n",
       "      <td>64</td>\n",
       "      <td>0</td>\n",
       "      <td>0</td>\n",
       "      <td>23.3</td>\n",
       "      <td>0.672</td>\n",
       "      <td>32</td>\n",
       "      <td>1</td>\n",
       "    </tr>\n",
       "    <tr>\n",
       "      <th>3</th>\n",
       "      <td>1</td>\n",
       "      <td>89</td>\n",
       "      <td>66</td>\n",
       "      <td>23</td>\n",
       "      <td>94</td>\n",
       "      <td>28.1</td>\n",
       "      <td>0.167</td>\n",
       "      <td>21</td>\n",
       "      <td>0</td>\n",
       "    </tr>\n",
       "    <tr>\n",
       "      <th>4</th>\n",
       "      <td>0</td>\n",
       "      <td>137</td>\n",
       "      <td>40</td>\n",
       "      <td>35</td>\n",
       "      <td>168</td>\n",
       "      <td>43.1</td>\n",
       "      <td>2.288</td>\n",
       "      <td>33</td>\n",
       "      <td>1</td>\n",
       "    </tr>\n",
       "    <tr>\n",
       "      <th>...</th>\n",
       "      <td>...</td>\n",
       "      <td>...</td>\n",
       "      <td>...</td>\n",
       "      <td>...</td>\n",
       "      <td>...</td>\n",
       "      <td>...</td>\n",
       "      <td>...</td>\n",
       "      <td>...</td>\n",
       "      <td>...</td>\n",
       "    </tr>\n",
       "    <tr>\n",
       "      <th>763</th>\n",
       "      <td>10</td>\n",
       "      <td>101</td>\n",
       "      <td>76</td>\n",
       "      <td>48</td>\n",
       "      <td>180</td>\n",
       "      <td>32.9</td>\n",
       "      <td>0.171</td>\n",
       "      <td>63</td>\n",
       "      <td>0</td>\n",
       "    </tr>\n",
       "    <tr>\n",
       "      <th>764</th>\n",
       "      <td>2</td>\n",
       "      <td>122</td>\n",
       "      <td>70</td>\n",
       "      <td>27</td>\n",
       "      <td>0</td>\n",
       "      <td>36.8</td>\n",
       "      <td>0.340</td>\n",
       "      <td>27</td>\n",
       "      <td>0</td>\n",
       "    </tr>\n",
       "    <tr>\n",
       "      <th>765</th>\n",
       "      <td>5</td>\n",
       "      <td>121</td>\n",
       "      <td>72</td>\n",
       "      <td>23</td>\n",
       "      <td>112</td>\n",
       "      <td>26.2</td>\n",
       "      <td>0.245</td>\n",
       "      <td>30</td>\n",
       "      <td>0</td>\n",
       "    </tr>\n",
       "    <tr>\n",
       "      <th>766</th>\n",
       "      <td>1</td>\n",
       "      <td>126</td>\n",
       "      <td>60</td>\n",
       "      <td>0</td>\n",
       "      <td>0</td>\n",
       "      <td>30.1</td>\n",
       "      <td>0.349</td>\n",
       "      <td>47</td>\n",
       "      <td>1</td>\n",
       "    </tr>\n",
       "    <tr>\n",
       "      <th>767</th>\n",
       "      <td>1</td>\n",
       "      <td>93</td>\n",
       "      <td>70</td>\n",
       "      <td>31</td>\n",
       "      <td>0</td>\n",
       "      <td>30.4</td>\n",
       "      <td>0.315</td>\n",
       "      <td>23</td>\n",
       "      <td>0</td>\n",
       "    </tr>\n",
       "  </tbody>\n",
       "</table>\n",
       "<p>768 rows × 9 columns</p>\n",
       "</div>"
      ],
      "text/plain": [
       "     Pregnancies  Glucose  BloodPressure  SkinThickness  Insulin   BMI  \\\n",
       "0              6      148             72             35        0  33.6   \n",
       "1              1       85             66             29        0  26.6   \n",
       "2              8      183             64              0        0  23.3   \n",
       "3              1       89             66             23       94  28.1   \n",
       "4              0      137             40             35      168  43.1   \n",
       "..           ...      ...            ...            ...      ...   ...   \n",
       "763           10      101             76             48      180  32.9   \n",
       "764            2      122             70             27        0  36.8   \n",
       "765            5      121             72             23      112  26.2   \n",
       "766            1      126             60              0        0  30.1   \n",
       "767            1       93             70             31        0  30.4   \n",
       "\n",
       "     DiabetesPedigreeFunction  Age  Outcome  \n",
       "0                       0.627   50        1  \n",
       "1                       0.351   31        0  \n",
       "2                       0.672   32        1  \n",
       "3                       0.167   21        0  \n",
       "4                       2.288   33        1  \n",
       "..                        ...  ...      ...  \n",
       "763                     0.171   63        0  \n",
       "764                     0.340   27        0  \n",
       "765                     0.245   30        0  \n",
       "766                     0.349   47        1  \n",
       "767                     0.315   23        0  \n",
       "\n",
       "[768 rows x 9 columns]"
      ]
     },
     "execution_count": 3,
     "metadata": {},
     "output_type": "execute_result"
    }
   ],
   "source": [
    "df"
   ]
  },
  {
   "cell_type": "markdown",
   "id": "fa8e8d91",
   "metadata": {},
   "source": [
    "## Data Exploration :"
   ]
  },
  {
   "cell_type": "code",
   "execution_count": 4,
   "id": "59f07e48",
   "metadata": {},
   "outputs": [
    {
     "name": "stdout",
     "output_type": "stream",
     "text": [
      "Number of Diabetic datapoints/rows in the dataset are : 268\n",
      "Number of Non-Diabetic datapoints/rows in the dataset are : 500\n"
     ]
    }
   ],
   "source": [
    "# Number of Diabetic datapoints and Non-diabetic datapoints :-\n",
    "\n",
    "diabetic_dataframe = df[df['Outcome']==1]\n",
    "\n",
    "non_diabetic_dataframe = df[df['Outcome']==0]\n",
    "\n",
    "print(f'Number of Diabetic datapoints/rows in the dataset are : {diabetic_dataframe.shape[0]}')\n",
    "print(f'Number of Non-Diabetic datapoints/rows in the dataset are : {non_diabetic_dataframe.shape[0]}')"
   ]
  },
  {
   "cell_type": "code",
   "execution_count": 5,
   "id": "61e90561",
   "metadata": {},
   "outputs": [
    {
     "data": {
      "text/html": [
       "<div>\n",
       "<style scoped>\n",
       "    .dataframe tbody tr th:only-of-type {\n",
       "        vertical-align: middle;\n",
       "    }\n",
       "\n",
       "    .dataframe tbody tr th {\n",
       "        vertical-align: top;\n",
       "    }\n",
       "\n",
       "    .dataframe thead th {\n",
       "        text-align: right;\n",
       "    }\n",
       "</style>\n",
       "<table border=\"1\" class=\"dataframe\">\n",
       "  <thead>\n",
       "    <tr style=\"text-align: right;\">\n",
       "      <th></th>\n",
       "      <th>preg</th>\n",
       "      <th>glu</th>\n",
       "      <th>bp</th>\n",
       "      <th>skinThickness</th>\n",
       "      <th>insulin</th>\n",
       "      <th>bmi</th>\n",
       "      <th>dpf</th>\n",
       "      <th>age</th>\n",
       "      <th>outcome</th>\n",
       "    </tr>\n",
       "  </thead>\n",
       "  <tbody>\n",
       "    <tr>\n",
       "      <th>0</th>\n",
       "      <td>6</td>\n",
       "      <td>148</td>\n",
       "      <td>72</td>\n",
       "      <td>35</td>\n",
       "      <td>0</td>\n",
       "      <td>33.6</td>\n",
       "      <td>0.627</td>\n",
       "      <td>50</td>\n",
       "      <td>1</td>\n",
       "    </tr>\n",
       "    <tr>\n",
       "      <th>1</th>\n",
       "      <td>1</td>\n",
       "      <td>85</td>\n",
       "      <td>66</td>\n",
       "      <td>29</td>\n",
       "      <td>0</td>\n",
       "      <td>26.6</td>\n",
       "      <td>0.351</td>\n",
       "      <td>31</td>\n",
       "      <td>0</td>\n",
       "    </tr>\n",
       "    <tr>\n",
       "      <th>2</th>\n",
       "      <td>8</td>\n",
       "      <td>183</td>\n",
       "      <td>64</td>\n",
       "      <td>0</td>\n",
       "      <td>0</td>\n",
       "      <td>23.3</td>\n",
       "      <td>0.672</td>\n",
       "      <td>32</td>\n",
       "      <td>1</td>\n",
       "    </tr>\n",
       "    <tr>\n",
       "      <th>3</th>\n",
       "      <td>1</td>\n",
       "      <td>89</td>\n",
       "      <td>66</td>\n",
       "      <td>23</td>\n",
       "      <td>94</td>\n",
       "      <td>28.1</td>\n",
       "      <td>0.167</td>\n",
       "      <td>21</td>\n",
       "      <td>0</td>\n",
       "    </tr>\n",
       "    <tr>\n",
       "      <th>4</th>\n",
       "      <td>0</td>\n",
       "      <td>137</td>\n",
       "      <td>40</td>\n",
       "      <td>35</td>\n",
       "      <td>168</td>\n",
       "      <td>43.1</td>\n",
       "      <td>2.288</td>\n",
       "      <td>33</td>\n",
       "      <td>1</td>\n",
       "    </tr>\n",
       "    <tr>\n",
       "      <th>...</th>\n",
       "      <td>...</td>\n",
       "      <td>...</td>\n",
       "      <td>...</td>\n",
       "      <td>...</td>\n",
       "      <td>...</td>\n",
       "      <td>...</td>\n",
       "      <td>...</td>\n",
       "      <td>...</td>\n",
       "      <td>...</td>\n",
       "    </tr>\n",
       "    <tr>\n",
       "      <th>763</th>\n",
       "      <td>10</td>\n",
       "      <td>101</td>\n",
       "      <td>76</td>\n",
       "      <td>48</td>\n",
       "      <td>180</td>\n",
       "      <td>32.9</td>\n",
       "      <td>0.171</td>\n",
       "      <td>63</td>\n",
       "      <td>0</td>\n",
       "    </tr>\n",
       "    <tr>\n",
       "      <th>764</th>\n",
       "      <td>2</td>\n",
       "      <td>122</td>\n",
       "      <td>70</td>\n",
       "      <td>27</td>\n",
       "      <td>0</td>\n",
       "      <td>36.8</td>\n",
       "      <td>0.340</td>\n",
       "      <td>27</td>\n",
       "      <td>0</td>\n",
       "    </tr>\n",
       "    <tr>\n",
       "      <th>765</th>\n",
       "      <td>5</td>\n",
       "      <td>121</td>\n",
       "      <td>72</td>\n",
       "      <td>23</td>\n",
       "      <td>112</td>\n",
       "      <td>26.2</td>\n",
       "      <td>0.245</td>\n",
       "      <td>30</td>\n",
       "      <td>0</td>\n",
       "    </tr>\n",
       "    <tr>\n",
       "      <th>766</th>\n",
       "      <td>1</td>\n",
       "      <td>126</td>\n",
       "      <td>60</td>\n",
       "      <td>0</td>\n",
       "      <td>0</td>\n",
       "      <td>30.1</td>\n",
       "      <td>0.349</td>\n",
       "      <td>47</td>\n",
       "      <td>1</td>\n",
       "    </tr>\n",
       "    <tr>\n",
       "      <th>767</th>\n",
       "      <td>1</td>\n",
       "      <td>93</td>\n",
       "      <td>70</td>\n",
       "      <td>31</td>\n",
       "      <td>0</td>\n",
       "      <td>30.4</td>\n",
       "      <td>0.315</td>\n",
       "      <td>23</td>\n",
       "      <td>0</td>\n",
       "    </tr>\n",
       "  </tbody>\n",
       "</table>\n",
       "<p>768 rows × 9 columns</p>\n",
       "</div>"
      ],
      "text/plain": [
       "     preg  glu  bp  skinThickness  insulin   bmi    dpf  age  outcome\n",
       "0       6  148  72             35        0  33.6  0.627   50        1\n",
       "1       1   85  66             29        0  26.6  0.351   31        0\n",
       "2       8  183  64              0        0  23.3  0.672   32        1\n",
       "3       1   89  66             23       94  28.1  0.167   21        0\n",
       "4       0  137  40             35      168  43.1  2.288   33        1\n",
       "..    ...  ...  ..            ...      ...   ...    ...  ...      ...\n",
       "763    10  101  76             48      180  32.9  0.171   63        0\n",
       "764     2  122  70             27        0  36.8  0.340   27        0\n",
       "765     5  121  72             23      112  26.2  0.245   30        0\n",
       "766     1  126  60              0        0  30.1  0.349   47        1\n",
       "767     1   93  70             31        0  30.4  0.315   23        0\n",
       "\n",
       "[768 rows x 9 columns]"
      ]
     },
     "execution_count": 5,
     "metadata": {},
     "output_type": "execute_result"
    }
   ],
   "source": [
    "# Renaming the column names for convenience, dealing with the dataframe :-\n",
    "\n",
    "df.rename(columns={\n",
    "                                     \"Pregnancies\": \"preg\", \n",
    "                                     \"Glucose\": \"glu\", \n",
    "                                     \"BloodPressure\":\"bp\", \n",
    "                                     \"SkinThickness\":\"skinThickness\",\n",
    "                                     \"Insulin\":\"insulin\", \n",
    "                                     \"BMI\":\"bmi\",\n",
    "                                     \"DiabetesPedigreeFunction\":\"dpf\",\n",
    "                                     \"Age\":\"age\", \n",
    "                                     \"Outcome\":\"outcome\"}, inplace=True\n",
    "                           )\n",
    "\n",
    "\n",
    "df"
   ]
  },
  {
   "cell_type": "code",
   "execution_count": 6,
   "id": "0f40b812",
   "metadata": {},
   "outputs": [
    {
     "data": {
      "text/html": [
       "<div>\n",
       "<style scoped>\n",
       "    .dataframe tbody tr th:only-of-type {\n",
       "        vertical-align: middle;\n",
       "    }\n",
       "\n",
       "    .dataframe tbody tr th {\n",
       "        vertical-align: top;\n",
       "    }\n",
       "\n",
       "    .dataframe thead th {\n",
       "        text-align: right;\n",
       "    }\n",
       "</style>\n",
       "<table border=\"1\" class=\"dataframe\">\n",
       "  <thead>\n",
       "    <tr style=\"text-align: right;\">\n",
       "      <th></th>\n",
       "      <th>preg</th>\n",
       "      <th>glu</th>\n",
       "      <th>bp</th>\n",
       "      <th>skinThickness</th>\n",
       "      <th>insulin</th>\n",
       "      <th>bmi</th>\n",
       "      <th>dpf</th>\n",
       "      <th>age</th>\n",
       "      <th>outcome</th>\n",
       "    </tr>\n",
       "  </thead>\n",
       "  <tbody>\n",
       "    <tr>\n",
       "      <th>count</th>\n",
       "      <td>768.000000</td>\n",
       "      <td>768.000000</td>\n",
       "      <td>768.000000</td>\n",
       "      <td>768.000000</td>\n",
       "      <td>768.000000</td>\n",
       "      <td>768.000000</td>\n",
       "      <td>768.000000</td>\n",
       "      <td>768.000000</td>\n",
       "      <td>768.000000</td>\n",
       "    </tr>\n",
       "    <tr>\n",
       "      <th>mean</th>\n",
       "      <td>3.845052</td>\n",
       "      <td>120.894531</td>\n",
       "      <td>69.105469</td>\n",
       "      <td>20.536458</td>\n",
       "      <td>79.799479</td>\n",
       "      <td>31.992578</td>\n",
       "      <td>0.471876</td>\n",
       "      <td>33.240885</td>\n",
       "      <td>0.348958</td>\n",
       "    </tr>\n",
       "    <tr>\n",
       "      <th>std</th>\n",
       "      <td>3.369578</td>\n",
       "      <td>31.972618</td>\n",
       "      <td>19.355807</td>\n",
       "      <td>15.952218</td>\n",
       "      <td>115.244002</td>\n",
       "      <td>7.884160</td>\n",
       "      <td>0.331329</td>\n",
       "      <td>11.760232</td>\n",
       "      <td>0.476951</td>\n",
       "    </tr>\n",
       "    <tr>\n",
       "      <th>min</th>\n",
       "      <td>0.000000</td>\n",
       "      <td>0.000000</td>\n",
       "      <td>0.000000</td>\n",
       "      <td>0.000000</td>\n",
       "      <td>0.000000</td>\n",
       "      <td>0.000000</td>\n",
       "      <td>0.078000</td>\n",
       "      <td>21.000000</td>\n",
       "      <td>0.000000</td>\n",
       "    </tr>\n",
       "    <tr>\n",
       "      <th>25%</th>\n",
       "      <td>1.000000</td>\n",
       "      <td>99.000000</td>\n",
       "      <td>62.000000</td>\n",
       "      <td>0.000000</td>\n",
       "      <td>0.000000</td>\n",
       "      <td>27.300000</td>\n",
       "      <td>0.243750</td>\n",
       "      <td>24.000000</td>\n",
       "      <td>0.000000</td>\n",
       "    </tr>\n",
       "    <tr>\n",
       "      <th>50%</th>\n",
       "      <td>3.000000</td>\n",
       "      <td>117.000000</td>\n",
       "      <td>72.000000</td>\n",
       "      <td>23.000000</td>\n",
       "      <td>30.500000</td>\n",
       "      <td>32.000000</td>\n",
       "      <td>0.372500</td>\n",
       "      <td>29.000000</td>\n",
       "      <td>0.000000</td>\n",
       "    </tr>\n",
       "    <tr>\n",
       "      <th>75%</th>\n",
       "      <td>6.000000</td>\n",
       "      <td>140.250000</td>\n",
       "      <td>80.000000</td>\n",
       "      <td>32.000000</td>\n",
       "      <td>127.250000</td>\n",
       "      <td>36.600000</td>\n",
       "      <td>0.626250</td>\n",
       "      <td>41.000000</td>\n",
       "      <td>1.000000</td>\n",
       "    </tr>\n",
       "    <tr>\n",
       "      <th>max</th>\n",
       "      <td>17.000000</td>\n",
       "      <td>199.000000</td>\n",
       "      <td>122.000000</td>\n",
       "      <td>99.000000</td>\n",
       "      <td>846.000000</td>\n",
       "      <td>67.100000</td>\n",
       "      <td>2.420000</td>\n",
       "      <td>81.000000</td>\n",
       "      <td>1.000000</td>\n",
       "    </tr>\n",
       "  </tbody>\n",
       "</table>\n",
       "</div>"
      ],
      "text/plain": [
       "             preg         glu          bp  skinThickness     insulin  \\\n",
       "count  768.000000  768.000000  768.000000     768.000000  768.000000   \n",
       "mean     3.845052  120.894531   69.105469      20.536458   79.799479   \n",
       "std      3.369578   31.972618   19.355807      15.952218  115.244002   \n",
       "min      0.000000    0.000000    0.000000       0.000000    0.000000   \n",
       "25%      1.000000   99.000000   62.000000       0.000000    0.000000   \n",
       "50%      3.000000  117.000000   72.000000      23.000000   30.500000   \n",
       "75%      6.000000  140.250000   80.000000      32.000000  127.250000   \n",
       "max     17.000000  199.000000  122.000000      99.000000  846.000000   \n",
       "\n",
       "              bmi         dpf         age     outcome  \n",
       "count  768.000000  768.000000  768.000000  768.000000  \n",
       "mean    31.992578    0.471876   33.240885    0.348958  \n",
       "std      7.884160    0.331329   11.760232    0.476951  \n",
       "min      0.000000    0.078000   21.000000    0.000000  \n",
       "25%     27.300000    0.243750   24.000000    0.000000  \n",
       "50%     32.000000    0.372500   29.000000    0.000000  \n",
       "75%     36.600000    0.626250   41.000000    1.000000  \n",
       "max     67.100000    2.420000   81.000000    1.000000  "
      ]
     },
     "execution_count": 6,
     "metadata": {},
     "output_type": "execute_result"
    }
   ],
   "source": [
    "# Description of the dataset :-\n",
    "\n",
    "df.describe() "
   ]
  },
  {
   "cell_type": "markdown",
   "id": "4c0c2b69",
   "metadata": {},
   "source": [
    "From the above description we know that, there are more than half of the columns with zero as a value in them. We'll evaluate below the number of zeroes that they have. And, also use different techniques of imputation to make the prediction performance better."
   ]
  },
  {
   "cell_type": "code",
   "execution_count": 7,
   "id": "2cf9ee77",
   "metadata": {},
   "outputs": [
    {
     "name": "stdout",
     "output_type": "stream",
     "text": [
      "Number of NaN(null) values in 'preg' column are :     0\n",
      "Number of NaN(null) values in 'glu' column are :     0\n",
      "Number of NaN(null) values in 'bp' column are :     0\n",
      "Number of NaN(null) values in 'skinThickness' column are :     0\n",
      "Number of NaN(null) values in 'insulin' column are :     0\n",
      "Number of NaN(null) values in 'bmi' column are :     0\n",
      "Number of NaN(null) values in 'dpf' column are :     0\n",
      "Number of NaN(null) values in 'age' column are :     0\n",
      "Number of NaN(null) values in 'outcome' column are :     0\n"
     ]
    }
   ],
   "source": [
    "# Let's have a look at the null('NaN') values in the dataframe :-\n",
    "\n",
    "for column in df.columns:\n",
    "    print(f'Number of NaN(null) values in \\'{column}\\' column are : \\\n",
    "    {df[column].isnull().sum()}')"
   ]
  },
  {
   "cell_type": "markdown",
   "id": "5fd5e197",
   "metadata": {},
   "source": [
    "Now, we know there are no 'null' values in the entire dataframe. But, there are '0' values in the dataset and that value of '0' in columns apart from just 'preg' and 'outcome' are subject to performance change of the algorithm.(Since, that's missing information). Hence, we should find out the missing data in columns.\n",
    "\n",
    "If, 'preg' and 'outcome' are having '0' values, then it is not missing information as there can be '0' pregnancies and non-diabetic patients which is indicated by '0'."
   ]
  },
  {
   "cell_type": "code",
   "execution_count": 8,
   "id": "56e49686",
   "metadata": {},
   "outputs": [
    {
     "name": "stdout",
     "output_type": "stream",
     "text": [
      "Number of missing values in glu are : 5\n",
      "Number of missing values in bp are : 35\n",
      "Number of missing values in skinThickness are : 227\n",
      "Number of missing values in insulin are : 374\n",
      "Number of missing values in bmi are : 11\n",
      "Number of missing values in dpf are : 0\n"
     ]
    }
   ],
   "source": [
    "# Let's have a look at the number of  missing values in the dataframe\n",
    "\n",
    "columns_missing_values = ['glu', 'bp', 'skinThickness', 'insulin', 'bmi', 'dpf']\n",
    "\n",
    "def zeroes_in_columns(columns, dataframe):\n",
    "    for missing_values_column in columns:\n",
    "        print(f'Number of missing values in {missing_values_column} are : \\\n",
    "        {len(dataframe[dataframe[missing_values_column]==0])}')\n",
    "                \n",
    "\n",
    "zeroes_in_columns(columns_missing_values, df)"
   ]
  },
  {
   "cell_type": "markdown",
   "id": "9244ee0c",
   "metadata": {},
   "source": [
    "### Let's find out correlation between every pairs of features in the dataset :"
   ]
  },
  {
   "cell_type": "code",
   "execution_count": 9,
   "id": "30845668",
   "metadata": {},
   "outputs": [
    {
     "data": {
      "text/html": [
       "<div>\n",
       "<style scoped>\n",
       "    .dataframe tbody tr th:only-of-type {\n",
       "        vertical-align: middle;\n",
       "    }\n",
       "\n",
       "    .dataframe tbody tr th {\n",
       "        vertical-align: top;\n",
       "    }\n",
       "\n",
       "    .dataframe thead th {\n",
       "        text-align: right;\n",
       "    }\n",
       "</style>\n",
       "<table border=\"1\" class=\"dataframe\">\n",
       "  <thead>\n",
       "    <tr style=\"text-align: right;\">\n",
       "      <th></th>\n",
       "      <th>preg</th>\n",
       "      <th>glu</th>\n",
       "      <th>bp</th>\n",
       "      <th>skinThickness</th>\n",
       "      <th>insulin</th>\n",
       "      <th>bmi</th>\n",
       "      <th>dpf</th>\n",
       "      <th>age</th>\n",
       "      <th>outcome</th>\n",
       "    </tr>\n",
       "  </thead>\n",
       "  <tbody>\n",
       "    <tr>\n",
       "      <th>preg</th>\n",
       "      <td>1.000000</td>\n",
       "      <td>0.129459</td>\n",
       "      <td>0.141282</td>\n",
       "      <td>-0.081672</td>\n",
       "      <td>-0.073535</td>\n",
       "      <td>0.017683</td>\n",
       "      <td>-0.033523</td>\n",
       "      <td>0.544341</td>\n",
       "      <td>0.221898</td>\n",
       "    </tr>\n",
       "    <tr>\n",
       "      <th>glu</th>\n",
       "      <td>0.129459</td>\n",
       "      <td>1.000000</td>\n",
       "      <td>0.152590</td>\n",
       "      <td>0.057328</td>\n",
       "      <td>0.331357</td>\n",
       "      <td>0.221071</td>\n",
       "      <td>0.137337</td>\n",
       "      <td>0.263514</td>\n",
       "      <td>0.466581</td>\n",
       "    </tr>\n",
       "    <tr>\n",
       "      <th>bp</th>\n",
       "      <td>0.141282</td>\n",
       "      <td>0.152590</td>\n",
       "      <td>1.000000</td>\n",
       "      <td>0.207371</td>\n",
       "      <td>0.088933</td>\n",
       "      <td>0.281805</td>\n",
       "      <td>0.041265</td>\n",
       "      <td>0.239528</td>\n",
       "      <td>0.065068</td>\n",
       "    </tr>\n",
       "    <tr>\n",
       "      <th>skinThickness</th>\n",
       "      <td>-0.081672</td>\n",
       "      <td>0.057328</td>\n",
       "      <td>0.207371</td>\n",
       "      <td>1.000000</td>\n",
       "      <td>0.436783</td>\n",
       "      <td>0.392573</td>\n",
       "      <td>0.183928</td>\n",
       "      <td>-0.113970</td>\n",
       "      <td>0.074752</td>\n",
       "    </tr>\n",
       "    <tr>\n",
       "      <th>insulin</th>\n",
       "      <td>-0.073535</td>\n",
       "      <td>0.331357</td>\n",
       "      <td>0.088933</td>\n",
       "      <td>0.436783</td>\n",
       "      <td>1.000000</td>\n",
       "      <td>0.197859</td>\n",
       "      <td>0.185071</td>\n",
       "      <td>-0.042163</td>\n",
       "      <td>0.130548</td>\n",
       "    </tr>\n",
       "    <tr>\n",
       "      <th>bmi</th>\n",
       "      <td>0.017683</td>\n",
       "      <td>0.221071</td>\n",
       "      <td>0.281805</td>\n",
       "      <td>0.392573</td>\n",
       "      <td>0.197859</td>\n",
       "      <td>1.000000</td>\n",
       "      <td>0.140647</td>\n",
       "      <td>0.036242</td>\n",
       "      <td>0.292695</td>\n",
       "    </tr>\n",
       "    <tr>\n",
       "      <th>dpf</th>\n",
       "      <td>-0.033523</td>\n",
       "      <td>0.137337</td>\n",
       "      <td>0.041265</td>\n",
       "      <td>0.183928</td>\n",
       "      <td>0.185071</td>\n",
       "      <td>0.140647</td>\n",
       "      <td>1.000000</td>\n",
       "      <td>0.033561</td>\n",
       "      <td>0.173844</td>\n",
       "    </tr>\n",
       "    <tr>\n",
       "      <th>age</th>\n",
       "      <td>0.544341</td>\n",
       "      <td>0.263514</td>\n",
       "      <td>0.239528</td>\n",
       "      <td>-0.113970</td>\n",
       "      <td>-0.042163</td>\n",
       "      <td>0.036242</td>\n",
       "      <td>0.033561</td>\n",
       "      <td>1.000000</td>\n",
       "      <td>0.238356</td>\n",
       "    </tr>\n",
       "    <tr>\n",
       "      <th>outcome</th>\n",
       "      <td>0.221898</td>\n",
       "      <td>0.466581</td>\n",
       "      <td>0.065068</td>\n",
       "      <td>0.074752</td>\n",
       "      <td>0.130548</td>\n",
       "      <td>0.292695</td>\n",
       "      <td>0.173844</td>\n",
       "      <td>0.238356</td>\n",
       "      <td>1.000000</td>\n",
       "    </tr>\n",
       "  </tbody>\n",
       "</table>\n",
       "</div>"
      ],
      "text/plain": [
       "                   preg       glu        bp  skinThickness   insulin  \\\n",
       "preg           1.000000  0.129459  0.141282      -0.081672 -0.073535   \n",
       "glu            0.129459  1.000000  0.152590       0.057328  0.331357   \n",
       "bp             0.141282  0.152590  1.000000       0.207371  0.088933   \n",
       "skinThickness -0.081672  0.057328  0.207371       1.000000  0.436783   \n",
       "insulin       -0.073535  0.331357  0.088933       0.436783  1.000000   \n",
       "bmi            0.017683  0.221071  0.281805       0.392573  0.197859   \n",
       "dpf           -0.033523  0.137337  0.041265       0.183928  0.185071   \n",
       "age            0.544341  0.263514  0.239528      -0.113970 -0.042163   \n",
       "outcome        0.221898  0.466581  0.065068       0.074752  0.130548   \n",
       "\n",
       "                    bmi       dpf       age   outcome  \n",
       "preg           0.017683 -0.033523  0.544341  0.221898  \n",
       "glu            0.221071  0.137337  0.263514  0.466581  \n",
       "bp             0.281805  0.041265  0.239528  0.065068  \n",
       "skinThickness  0.392573  0.183928 -0.113970  0.074752  \n",
       "insulin        0.197859  0.185071 -0.042163  0.130548  \n",
       "bmi            1.000000  0.140647  0.036242  0.292695  \n",
       "dpf            0.140647  1.000000  0.033561  0.173844  \n",
       "age            0.036242  0.033561  1.000000  0.238356  \n",
       "outcome        0.292695  0.173844  0.238356  1.000000  "
      ]
     },
     "execution_count": 9,
     "metadata": {},
     "output_type": "execute_result"
    }
   ],
   "source": [
    "corr = df.corr()\n",
    "corr"
   ]
  },
  {
   "cell_type": "code",
   "execution_count": 10,
   "id": "66f73d43",
   "metadata": {},
   "outputs": [
    {
     "data": {
      "image/png": "[encoded data removed]",
      "text/plain": [
       "<Figure size 1224x792 with 2 Axes>"
      ]
     },
     "metadata": {
      "needs_background": "light"
     },
     "output_type": "display_data"
    }
   ],
   "source": [
    "# Representing the above using heatmap :-\n",
    "\n",
    "plt.figure(figsize = (17,11))\n",
    "\n",
    "p = sns.heatmap(df.corr(), annot=True, cmap ='RdYlGn')"
   ]
  },
  {
   "cell_type": "markdown",
   "id": "054d838d",
   "metadata": {},
   "source": [
    "### Looking at the distributions of all the features :-"
   ]
  },
  {
   "cell_type": "code",
   "execution_count": 11,
   "id": "ef9e9b1a",
   "metadata": {},
   "outputs": [
    {
     "data": {
      "text/plain": [
       "array([[<AxesSubplot:title={'center':'preg'}>,\n",
       "        <AxesSubplot:title={'center':'glu'}>,\n",
       "        <AxesSubplot:title={'center':'bp'}>],\n",
       "       [<AxesSubplot:title={'center':'skinThickness'}>,\n",
       "        <AxesSubplot:title={'center':'insulin'}>,\n",
       "        <AxesSubplot:title={'center':'bmi'}>],\n",
       "       [<AxesSubplot:title={'center':'dpf'}>,\n",
       "        <AxesSubplot:title={'center':'age'}>,\n",
       "        <AxesSubplot:title={'center':'outcome'}>]], dtype=object)"
      ]
     },
     "execution_count": 11,
     "metadata": {},
     "output_type": "execute_result"
    },
    {
     "data": {
      "image/png": "[encoded data removed]",
      "text/plain": [
       "<Figure size 720x720 with 9 Axes>"
      ]
     },
     "metadata": {
      "needs_background": "light"
     },
     "output_type": "display_data"
    }
   ],
   "source": [
    "df.hist(figsize=(10,10))"
   ]
  },
  {
   "cell_type": "code",
   "execution_count": 12,
   "id": "5b379a86",
   "metadata": {},
   "outputs": [],
   "source": [
    "ws.filterwarnings('ignore')"
   ]
  },
  {
   "cell_type": "markdown",
   "id": "ca1c3a5c",
   "metadata": {},
   "source": [
    "## Before any sort of manipulation of the missing data, let's apply the techniques and find out how well they help prediction."
   ]
  },
  {
   "cell_type": "code",
   "execution_count": 13,
   "id": "148f4992",
   "metadata": {},
   "outputs": [],
   "source": [
    "# First of all splitting the dataset into training and testing :\n",
    "\n",
    "X = df.iloc[:, :-1]\n",
    "\n",
    "y = df.iloc[:, -1]\n",
    "\n",
    "X_train, X_test, y_train, y_test = train_test_split(X, y, test_size=0.30, random_state=1)"
   ]
  },
  {
   "cell_type": "code",
   "execution_count": 14,
   "id": "55c5dfc9",
   "metadata": {},
   "outputs": [
    {
     "name": "stdout",
     "output_type": "stream",
     "text": [
      "There are 85 diabetic & 146 non-diabetic records in the test dataset.\n"
     ]
    }
   ],
   "source": [
    "print(f'There are {len(y_test[y_test==1])} diabetic & {len(y_test[y_test==0])} \\\n",
    "non-diabetic records in the test dataset.')"
   ]
  },
  {
   "cell_type": "code",
   "execution_count": null,
   "id": "1fd2b60b",
   "metadata": {},
   "outputs": [],
   "source": []
  },
  {
   "cell_type": "markdown",
   "id": "7c7fce82",
   "metadata": {},
   "source": [
    "### We'll use the optimized hyperparameters for all the algorithms despite not manipulating the dataset in any manner. And, for that purpose, some functions defined below would become immensely useful :"
   ]
  },
  {
   "cell_type": "markdown",
   "id": "a8eb0183",
   "metadata": {},
   "source": [
    "Below is the function for GridSearchCV :-"
   ]
  },
  {
   "cell_type": "code",
   "execution_count": 1094,
   "id": "d6231b7e",
   "metadata": {},
   "outputs": [],
   "source": [
    "def grid_search_cv(estimator,param_grid,X_train=X_train, \n",
    "                   y_train=y_train, X_test=X_test, y_test=y_test):\n",
    "    \n",
    "    '''\n",
    "    This function upon rendering a list with the estimator and its parameters for hypertuning,\n",
    "    along with the X_train, y_train, X_test and y_test; performs GridSearchCV for selecting best set\n",
    "    of parameters, thereafter fits X_train, y_train with the suggested set of best hyperparameters\n",
    "    and prints the performance metrics.\n",
    "    '''        \n",
    "        \n",
    "    grid_search = GridSearchCV(estimator=estimator, param_grid=param_grid, cv=5,\n",
    "                                   scoring='roc_auc')\n",
    "        \n",
    "    grid_search.fit(X_train, y_train)\n",
    "        \n",
    "    grid_search_best_estimator = grid_search.best_estimator_\n",
    "        \n",
    "    # Printing the best set of hyperparameters as per GridSearchCV.\n",
    "    print(f'{grid_search_best_estimator} is the Best Estimator according to Exhaustive Hyperparameter search.')\n",
    "        \n",
    "        \n",
    "    # Fitting the X_train with the best_estimator obtained and then testing X_test\n",
    "    # to see how the performance is:\n",
    "    grid_search_best_estimator.fit(X_train, y_train)\n",
    "        \n",
    "        \n",
    "    y_pred = grid_search_best_estimator.predict(X_test)\n",
    "        \n",
    "    # Evaluating performance metrics :\n",
    "    \n",
    "    roc_auc_ = roc_auc_score(y_test, y_pred)*100\n",
    "    \n",
    "    accuracy_score_ = accuracy_score(y_test, y_pred)*100\n",
    "        \n",
    "    precision_score_ = precision_score(y_test, y_pred)*100\n",
    "        \n",
    "    recall_score_ = recall_score(y_test, y_pred)*100\n",
    "        \n",
    "    f1_score_ = f1_score(y_test, y_pred)*100\n",
    "    \n",
    "    print()\n",
    "        \n",
    "    # Printing the performance metrics' results:\n",
    "    print(f'{accuracy_score_}% is the accuracy score for the {estimator} using the best hyparameters suggested by GridSearchCV.')\n",
    "    \n",
    "    print(f'{roc_auc_}% is the auroc score for the {estimator} using the best hyparameters suggested by GridSearchCV.')\n",
    "        \n",
    "    print(f'{precision_score_}% is the precision score for the {estimator} using the best hyparameters suggested by GridSearchCV.')\n",
    "        \n",
    "    print(f'{recall_score_}% is the recall score for the {estimator} using the best hyparameters suggested by GridSearchCV.')\n",
    "\n",
    "    print(f'{f1_score_}% is the f1_score for the {estimator} using the best hyparameters suggested by GridSearchCV.')\n",
    "    \n",
    "    return accuracy_score_, roc_auc_"
   ]
  },
  {
   "cell_type": "markdown",
   "id": "10fd689c",
   "metadata": {},
   "source": [
    "Below is the function for RandimizedSearchCV :"
   ]
  },
  {
   "cell_type": "code",
   "execution_count": 1555,
   "id": "1cb6c1d7",
   "metadata": {},
   "outputs": [],
   "source": [
    "def randomized_search_cv(estimator,param_grid,X_train=X_train, \n",
    "                   y_train=y_train, X_test=X_test, y_test=y_test, n_iter=20):\n",
    "    \n",
    "    '''\n",
    "    This function upon rendering a list with the estimator and its parameters for hypertuning,\n",
    "    along with the X_train, y_train, X_test and y_test; performs RandomizearchCV for selecting best set\n",
    "    of parameters, thereafter fits X_train, y_train with the suggested set of best hyperparameters\n",
    "    and prints the performance metrics.\n",
    "    '''        \n",
    "        \n",
    "    randomized_search = RandomizedSearchCV(estimator=estimator, param_distributions=param_grid, cv=5,\n",
    "                                   scoring='roc_auc', n_iter=n_iter)\n",
    "        \n",
    "    randomized_search.fit(X_train, y_train)\n",
    "        \n",
    "    randomized_search_best_estimator = randomized_search.best_estimator_\n",
    "        \n",
    "    # Printing the best set of hyperparameters as per GridSearchCV.\n",
    "    print(f'{randomized_search_best_estimator} is the Best Estimator according to Randomized Hyperparameter search.')\n",
    "        \n",
    "        \n",
    "    # Fitting the X_train with the best_estimator obtained and then testing X_test\n",
    "    # to see how the performance is:\n",
    "    randomized_search_best_estimator.fit(X_train, y_train)\n",
    "        \n",
    "        \n",
    "    y_pred = randomized_search_best_estimator.predict(X_test)\n",
    "        \n",
    "    # Evaluating performance metrics :\n",
    "    accuracy_score_ = accuracy_score(y_test, y_pred)*100\n",
    "    \n",
    "    roc_auc_ = roc_auc_score(y_test, y_pred)*100\n",
    "        \n",
    "    precision_score_ = precision_score(y_test, y_pred)*100\n",
    "        \n",
    "    recall_score_ = recall_score(y_test, y_pred)*100\n",
    "        \n",
    "    f1_score_ = f1_score(y_test, y_pred)*100\n",
    "    \n",
    "    print()\n",
    "        \n",
    "    # Printing the performance metrics' results:\n",
    "    print(f'{accuracy_score_}% is the accuracy score for {estimator} using the best hyparameters suggested by RandomizedSearchCV.')\n",
    "    \n",
    "    print(f'{roc_auc_}% is the auroc score for {estimator} using the best hyparameters suggested by RandomizedSearchCV.')\n",
    "        \n",
    "    print(f'{precision_score_}% is the precision score for {estimator} using the best hyparameters suggested by RandomizedSearchCV.')\n",
    "        \n",
    "    print(f'{recall_score_}% is the recall score for {estimator} using the best hyparameters suggested by RandomizedSearchCV.')\n",
    "\n",
    "    print(f'{f1_score_}% is the f1_score for {estimator} using the best hyparameters suggested by RandomizedSearchCV.')\n",
    "    \n",
    "    return accuracy_score_, roc_auc_"
   ]
  },
  {
   "cell_type": "markdown",
   "id": "a5b5f16c",
   "metadata": {},
   "source": [
    "Below is the function for Bar-Plot comparison between performance-metrics of various models :-"
   ]
  },
  {
   "cell_type": "code",
   "execution_count": 1256,
   "id": "3a6ee739",
   "metadata": {},
   "outputs": [],
   "source": [
    "def bar_plot_for_comaparison(y_label, performance_metric, x_label=\"Different ML techniques\",  bar_width=0.5, \\\n",
    "                             figsize=(10,6), color='orange', title = \"Accuracy Score comparison between best of all the Models\",\\\n",
    "                             models = ['NaiveBayes', 'Knn', 'LogRegression', 'DecTrees', 'SVM', 'RandomForest', 'AdaBoost']):\n",
    "    \n",
    "    '''\n",
    "    This function is to plot the comparison of performance_metric of different models.\n",
    "    \n",
    "    It has parameters to be passed with a certain of them having default values.\n",
    "    \n",
    "    Configuration of parameters :-\n",
    "    \n",
    "    y_label, performance_metric, x_label=\"Different ML techniques\",  bar_width=0.5, \\\n",
    "    figsize=(10,6), color='orange', title = \"Accuracy Score comparison between best of all the Models\",\\\n",
    "    models = ['NaiveBayes', 'Knn', 'LogRegression', 'DecTrees', 'SVM', 'RandomForest', 'AdaBoost']\n",
    "    \n",
    "    performance_metric = List of the values of performance metric (i.e. either Accuracy, Auroc or else)\n",
    "    '''\n",
    "    models = models\n",
    "    performance_metric = performance_metric\n",
    "    fig = plt.figure(figsize = figsize)\n",
    "    plt.bar(models, performance_metric, color =color,\n",
    "            width = bar_width)\n",
    "    plt.xlabel(x_label)\n",
    "    plt.ylabel(y_label)\n",
    "    plt.title(title)\n",
    "    plt.show()"
   ]
  },
  {
   "cell_type": "code",
   "execution_count": null,
   "id": "52425e23",
   "metadata": {},
   "outputs": [],
   "source": []
  },
  {
   "cell_type": "markdown",
   "id": "d0acf13f",
   "metadata": {},
   "source": [
    "## i.e. Before Anything :"
   ]
  },
  {
   "cell_type": "markdown",
   "id": "b33ce573",
   "metadata": {},
   "source": [
    "### Naive-Bayes Classifier :-"
   ]
  },
  {
   "cell_type": "code",
   "execution_count": 1087,
   "id": "511ab290",
   "metadata": {},
   "outputs": [
    {
     "data": {
      "text/plain": [
       "78.35497835497836"
      ]
     },
     "execution_count": 1087,
     "metadata": {},
     "output_type": "execute_result"
    }
   ],
   "source": [
    "gnb_classifier = GaussianNB()\n",
    "\n",
    "gnb_classifier.fit(X_train, y_train)\n",
    "\n",
    "y_pred = gnb_classifier.predict(X_test)\n",
    "\n",
    "accuracy_score_gnb = accuracy_score(y_test, y_pred)\n",
    "\n",
    "accuracy_score_gnb*100"
   ]
  },
  {
   "cell_type": "code",
   "execution_count": 1088,
   "id": "e3149023",
   "metadata": {},
   "outputs": [],
   "source": [
    "performance_nb = accuracy_score_gnb*100\n",
    "performance_nb_grid = performance_nb_randomized = 0"
   ]
  },
  {
   "cell_type": "code",
   "execution_count": 1089,
   "id": "705da2ef",
   "metadata": {
    "scrolled": true
   },
   "outputs": [
    {
     "data": {
      "text/plain": [
       "{'priors': None, 'var_smoothing': 1e-09}"
      ]
     },
     "execution_count": 1089,
     "metadata": {},
     "output_type": "execute_result"
    }
   ],
   "source": [
    "gnb_classifier.get_params()"
   ]
  },
  {
   "cell_type": "code",
   "execution_count": 1091,
   "id": "89ef4ad8",
   "metadata": {},
   "outputs": [],
   "source": [
    "accuracy_nb_normal_1 = accuracy_score_gnb*100\n",
    "auroc_nb_normal_1 = roc_auc_score(y_test, y_pred)*100"
   ]
  },
  {
   "cell_type": "markdown",
   "id": "3af8bfc3",
   "metadata": {},
   "source": [
    "Below values will be used for plotting a bar-plot for comparison :-"
   ]
  },
  {
   "cell_type": "code",
   "execution_count": 1219,
   "id": "557619f2",
   "metadata": {},
   "outputs": [],
   "source": [
    "naiveBayesAcc1 = accuracy_nb_normal_1\n",
    "\n",
    "naiveBayesAuroc1 = auroc_nb_normal_1"
   ]
  },
  {
   "cell_type": "markdown",
   "id": "8eba09a6",
   "metadata": {},
   "source": [
    "###  KNN Technique :-"
   ]
  },
  {
   "cell_type": "code",
   "execution_count": 1097,
   "id": "09129a92",
   "metadata": {},
   "outputs": [
    {
     "name": "stdout",
     "output_type": "stream",
     "text": [
      "78.78787878787878% is the accuracy score in percentage form with knn.\n"
     ]
    }
   ],
   "source": [
    "neigh = KNeighborsClassifier(n_neighbors=17)\n",
    "\n",
    "neigh.fit(X_train.values, y_train.values)\n",
    "\n",
    "y_pred = neigh.predict(X_test.values)\n",
    "\n",
    "knn_accuracy_score = accuracy_score(y_test, y_pred)*100\n",
    "\n",
    "print(f\"{knn_accuracy_score}% is the accuracy score in percentage form with knn.\")"
   ]
  },
  {
   "cell_type": "code",
   "execution_count": 1098,
   "id": "3356f6d2",
   "metadata": {},
   "outputs": [
    {
     "data": {
      "text/plain": [
       "{'algorithm': 'auto',\n",
       " 'leaf_size': 30,\n",
       " 'metric': 'minkowski',\n",
       " 'metric_params': None,\n",
       " 'n_jobs': None,\n",
       " 'n_neighbors': 17,\n",
       " 'p': 2,\n",
       " 'weights': 'uniform'}"
      ]
     },
     "execution_count": 1098,
     "metadata": {},
     "output_type": "execute_result"
    }
   ],
   "source": [
    "neigh.get_params()"
   ]
  },
  {
   "cell_type": "code",
   "execution_count": 1113,
   "id": "92f6507b",
   "metadata": {},
   "outputs": [],
   "source": [
    "accuracy_knn_normal_1 = knn_accuracy_score\n",
    "\n",
    "auroc_knn_normal_1 = roc_auc_score(y_test, y_pred)*100"
   ]
  },
  {
   "cell_type": "markdown",
   "id": "783ea753",
   "metadata": {},
   "source": [
    "#### Hyperparameter tuning for KNN :-"
   ]
  },
  {
   "cell_type": "markdown",
   "id": "baffad2f",
   "metadata": {},
   "source": [
    "##### GridSearchCV (KNN)"
   ]
  },
  {
   "cell_type": "code",
   "execution_count": 1107,
   "id": "566863cd",
   "metadata": {},
   "outputs": [
    {
     "name": "stdout",
     "output_type": "stream",
     "text": [
      "KNeighborsClassifier(n_neighbors=23, weights='distance') is the Best Estimator according to Exhaustive Hyperparameter search.\n",
      "\n",
      "76.62337662337663% is the accuracy score for the KNeighborsClassifier() using the best hyparameters suggested by GridSearchCV.\n",
      "70.93875906526993% is the auroc score for the KNeighborsClassifier() using the best hyparameters suggested by GridSearchCV.\n",
      "79.24528301886792% is the precision score for the KNeighborsClassifier() using the best hyparameters suggested by GridSearchCV.\n",
      "49.411764705882355% is the recall score for the KNeighborsClassifier() using the best hyparameters suggested by GridSearchCV.\n",
      "60.86956521739131% is the f1_score for the KNeighborsClassifier() using the best hyparameters suggested by GridSearchCV.\n"
     ]
    }
   ],
   "source": [
    "params_grid_dict = {\n",
    "    'n_neighbors' : np.array([i for i in range(5,25,2)]),\n",
    "    'weights': ['distance', 'uniform'],\n",
    "    'metric':['minkowski', 'euclidean']\n",
    "}\n",
    "\n",
    "neigh = KNeighborsClassifier()\n",
    "\n",
    "accuracy_knn_grid_1, auroc_knn_grid_1 = grid_search_cv(neigh,params_grid_dict,X_train=X_train, \n",
    "                   y_train=y_train, X_test=X_test, y_test=y_test)"
   ]
  },
  {
   "cell_type": "markdown",
   "id": "0db16f2b",
   "metadata": {},
   "source": [
    "#### RandomizedSearchCV (KNN) :-"
   ]
  },
  {
   "cell_type": "code",
   "execution_count": 1108,
   "id": "2148af25",
   "metadata": {},
   "outputs": [
    {
     "name": "stdout",
     "output_type": "stream",
     "text": [
      "KNeighborsClassifier(metric='euclidean', n_neighbors=37) is the Best Estimator according to Randomized Hyperparameter search.\n",
      "\n",
      "76.62337662337663% is the accuracy score for KNeighborsClassifier() using the best hyparameters suggested by RandomizedSearchCV.\n",
      "70.20145044319096% is the auroc score for KNeighborsClassifier() using the best hyparameters suggested by RandomizedSearchCV.\n",
      "82.97872340425532% is the precision score for KNeighborsClassifier() using the best hyparameters suggested by RandomizedSearchCV.\n",
      "45.88235294117647% is the recall score for KNeighborsClassifier() using the best hyparameters suggested by RandomizedSearchCV.\n",
      "59.09090909090908% is the f1_score for KNeighborsClassifier() using the best hyparameters suggested by RandomizedSearchCV.\n"
     ]
    }
   ],
   "source": [
    "neigh = KNeighborsClassifier()\n",
    "\n",
    "params_grid_dict = {\n",
    "    # Increasing the range of n_neighbors to maybe find a better set of hyperparameters.\n",
    "    'n_neighbors' : np.array([i for i in range(5,40,2)]), \n",
    "    'weights': ['distance', 'uniform'],\n",
    "    'metric':['minkowski', 'euclidean']\n",
    "}\n",
    "\n",
    "accuracy_knn_random_1, auroc_knn_random_1 = randomized_search_cv(neigh,params_grid_dict,X_train=X_train, \n",
    "                   y_train=y_train, X_test=X_test, y_test=y_test)"
   ]
  },
  {
   "cell_type": "markdown",
   "id": "46a897e7",
   "metadata": {},
   "source": [
    "Below are the values for Accuracy and Auroc score for KNN, to be used for Bar plot for comparison :-"
   ]
  },
  {
   "cell_type": "code",
   "execution_count": 1220,
   "id": "99d2881a",
   "metadata": {},
   "outputs": [],
   "source": [
    "knnAccuracy1 = max(accuracy_knn_normal_1, accuracy_knn_grid_1, accuracy_knn_random_1)\n",
    "\n",
    "knnAuroc1 = max(auroc_knn_normal_1, auroc_knn_grid_1, auroc_knn_random_1)"
   ]
  },
  {
   "cell_type": "code",
   "execution_count": null,
   "id": "223c3cc1",
   "metadata": {},
   "outputs": [],
   "source": []
  },
  {
   "cell_type": "markdown",
   "id": "789499c9",
   "metadata": {},
   "source": [
    "### Logistic Regression :-"
   ]
  },
  {
   "cell_type": "code",
   "execution_count": 1126,
   "id": "082db871",
   "metadata": {},
   "outputs": [
    {
     "name": "stdout",
     "output_type": "stream",
     "text": [
      "78.35497835497836% is the accuracy score in percentage form with LogisticRegression.\n"
     ]
    }
   ],
   "source": [
    "logistic_regression = LogisticRegression(max_iter=200)\n",
    "\n",
    "logistic_regression.fit(X_train, y_train)\n",
    "\n",
    "# Predicting the X_test datapoints :\n",
    "y_pred = logistic_regression.predict(X_test)\n",
    "\n",
    "accuracy_lr_normal_1 = accuracy_score(y_test, y_pred)*100\n",
    "\n",
    "auroc_lr_normal_1 = roc_auc_score(y_test, y_pred)*100\n",
    "\n",
    "print(f\"{accuracy_lr_normal_1}% is the accuracy score in percentage form with LogisticRegression.\")"
   ]
  },
  {
   "cell_type": "code",
   "execution_count": 395,
   "id": "2849dcc7",
   "metadata": {},
   "outputs": [
    {
     "data": {
      "text/plain": [
       "{'C': 1.0,\n",
       " 'class_weight': None,\n",
       " 'dual': False,\n",
       " 'fit_intercept': True,\n",
       " 'intercept_scaling': 1,\n",
       " 'l1_ratio': None,\n",
       " 'max_iter': 200,\n",
       " 'multi_class': 'auto',\n",
       " 'n_jobs': None,\n",
       " 'penalty': 'l2',\n",
       " 'random_state': None,\n",
       " 'solver': 'lbfgs',\n",
       " 'tol': 0.0001,\n",
       " 'verbose': 0,\n",
       " 'warm_start': False}"
      ]
     },
     "execution_count": 395,
     "metadata": {},
     "output_type": "execute_result"
    }
   ],
   "source": [
    "logistic_regression.get_params()"
   ]
  },
  {
   "cell_type": "markdown",
   "id": "5b445f40",
   "metadata": {},
   "source": [
    "#### Hyperparameter tuning for LogisticRegression :-"
   ]
  },
  {
   "cell_type": "markdown",
   "id": "a3ea69a5",
   "metadata": {},
   "source": [
    "##### GridSearchCV (LogisticRegression)"
   ]
  },
  {
   "cell_type": "code",
   "execution_count": 1200,
   "id": "318f100c",
   "metadata": {},
   "outputs": [
    {
     "name": "stdout",
     "output_type": "stream",
     "text": [
      "LogisticRegression(C=0.012742749857031334) is the Best Estimator according to Exhaustive Hyperparameter search.\n",
      "\n",
      "78.35497835497836% is the accuracy score for the LogisticRegression() using the best hyparameters suggested by GridSearchCV.\n",
      "74.0290088638195% is the auroc score for the LogisticRegression() using the best hyparameters suggested by GridSearchCV.\n",
      "77.77777777777779% is the precision score for the LogisticRegression() using the best hyparameters suggested by GridSearchCV.\n",
      "57.647058823529406% is the recall score for the LogisticRegression() using the best hyparameters suggested by GridSearchCV.\n",
      "66.21621621621621% is the f1_score for the LogisticRegression() using the best hyparameters suggested by GridSearchCV.\n"
     ]
    }
   ],
   "source": [
    "logistic_regression = LogisticRegression()\n",
    "\n",
    "params_grid_dict = {\n",
    "    'penalty' : ['l1', 'l2', 'elasticnet', 'none'],\n",
    "    'max_iter' : [100, 1000,2500, 5000],\n",
    "    'C' : np.logspace(-4, 4, 20),\n",
    "    'solver' : ['lbfgs','newton-cg','liblinear','sag','saga'],\n",
    "    \n",
    "}\n",
    "\n",
    "accuracy_lr_grid_1, auroc_lr_grid_1 = grid_search_cv(logistic_regression, params_grid_dict, \n",
    "               X_train=X_train,\n",
    "               y_train = y_train,\n",
    "               X_test = X_test,\n",
    "               y_test = y_test)     "
   ]
  },
  {
   "cell_type": "markdown",
   "id": "c0492285",
   "metadata": {},
   "source": [
    "#### RandomizedSearchCV (LogisticRegression)"
   ]
  },
  {
   "cell_type": "code",
   "execution_count": 1129,
   "id": "0065da76",
   "metadata": {},
   "outputs": [
    {
     "name": "stdout",
     "output_type": "stream",
     "text": [
      "LogisticRegression(C=69.51927961775606, solver='newton-cg') is the Best Estimator according to Randomized Hyperparameter search.\n",
      "\n",
      "78.35497835497836% is the accuracy score for LogisticRegression() using the best hyparameters suggested by RandomizedSearchCV.\n",
      "74.0290088638195% is the auroc score for LogisticRegression() using the best hyparameters suggested by RandomizedSearchCV.\n",
      "77.77777777777779% is the precision score for LogisticRegression() using the best hyparameters suggested by RandomizedSearchCV.\n",
      "57.647058823529406% is the recall score for LogisticRegression() using the best hyparameters suggested by RandomizedSearchCV.\n",
      "66.21621621621621% is the f1_score for LogisticRegression() using the best hyparameters suggested by RandomizedSearchCV.\n"
     ]
    }
   ],
   "source": [
    "logistic_regression = LogisticRegression()\n",
    "\n",
    "params_grid_dict = {\n",
    "    'penalty' : ['l1', 'l2', 'elasticnet', 'none'],\n",
    "    'max_iter' : [40,50,70,80,100,1000,2500,5000, ],\n",
    "    'C' : np.logspace(-5, 5, 20),\n",
    "    'solver' : ['lbfgs','newton-cg','liblinear','sag','saga'],\n",
    "    \n",
    "}\n",
    "\n",
    "accuracy_lr_random_1, auroc_lr_random_1 = randomized_search_cv(logistic_regression,params_grid_dict,X_train=X_train, \n",
    "                   y_train=y_train, X_test=X_test, y_test=y_test)"
   ]
  },
  {
   "cell_type": "markdown",
   "id": "4aaa1d13",
   "metadata": {},
   "source": [
    "Below values are to be used for comparison purpose in the bar plot :-"
   ]
  },
  {
   "cell_type": "code",
   "execution_count": 1221,
   "id": "0640007a",
   "metadata": {},
   "outputs": [],
   "source": [
    "logisticRegressionAcc1 = max(accuracy_lr_normal_1, accuracy_lr_grid_1, accuracy_lr_random_1)\n",
    "\n",
    "logisticRegressionAuroc1 = max(auroc_lr_normal_1, auroc_lr_grid_1, auroc_lr_random_1)"
   ]
  },
  {
   "cell_type": "code",
   "execution_count": null,
   "id": "08bac29d",
   "metadata": {},
   "outputs": [],
   "source": []
  },
  {
   "cell_type": "markdown",
   "id": "ddff052f",
   "metadata": {},
   "source": [
    "### Decision Trees :-"
   ]
  },
  {
   "cell_type": "code",
   "execution_count": 1137,
   "id": "de78be8e",
   "metadata": {},
   "outputs": [
    {
     "name": "stdout",
     "output_type": "stream",
     "text": [
      "70.995670995671% is the accuracy score in percentage form with DecisionTreesTechnique.\n"
     ]
    }
   ],
   "source": [
    "decision_tree = DecisionTreeClassifier(random_state=42)\n",
    "\n",
    "decision_tree.fit(X_train, y_train)\n",
    "\n",
    "y_pred = decision_tree.predict(X_test)\n",
    "\n",
    "accuracy_dt_normal_1 = accuracy_score(y_test, y_pred)*100\n",
    "\n",
    "auroc_dt_normal_1 = roc_auc_score(y_test, y_pred)*100\n",
    "\n",
    "print(f\"{accuracy_dt_normal_1}% is the accuracy score in percentage form with DecisionTreesTechnique.\")"
   ]
  },
  {
   "cell_type": "code",
   "execution_count": 399,
   "id": "3210339a",
   "metadata": {},
   "outputs": [
    {
     "data": {
      "text/plain": [
       "{'ccp_alpha': 0.0,\n",
       " 'class_weight': None,\n",
       " 'criterion': 'gini',\n",
       " 'max_depth': None,\n",
       " 'max_features': None,\n",
       " 'max_leaf_nodes': None,\n",
       " 'min_impurity_decrease': 0.0,\n",
       " 'min_samples_leaf': 1,\n",
       " 'min_samples_split': 2,\n",
       " 'min_weight_fraction_leaf': 0.0,\n",
       " 'random_state': 42,\n",
       " 'splitter': 'best'}"
      ]
     },
     "execution_count": 399,
     "metadata": {},
     "output_type": "execute_result"
    }
   ],
   "source": [
    "decision_tree.get_params()"
   ]
  },
  {
   "cell_type": "markdown",
   "id": "ffd70b3f",
   "metadata": {},
   "source": [
    "### Hyperparameter tunning for DecisionTreeClassifier :-"
   ]
  },
  {
   "cell_type": "markdown",
   "id": "6b8efe6f",
   "metadata": {},
   "source": [
    "#### GridSearchCV (DecisionTreesClassifier)"
   ]
  },
  {
   "cell_type": "code",
   "execution_count": 1138,
   "id": "66d8efc5",
   "metadata": {},
   "outputs": [
    {
     "name": "stdout",
     "output_type": "stream",
     "text": [
      "DecisionTreeClassifier(criterion='entropy', max_depth=9,\n",
      "                       min_impurity_decrease=0.01, min_samples_split=50) is the Best Estimator according to Exhaustive Hyperparameter search.\n",
      "\n",
      "77.92207792207793% is the accuracy score for the DecisionTreeClassifier() using the best hyparameters suggested by GridSearchCV.\n",
      "74.6696212731668% is the auroc score for the DecisionTreeClassifier() using the best hyparameters suggested by GridSearchCV.\n",
      "73.61111111111111% is the precision score for the DecisionTreeClassifier() using the best hyparameters suggested by GridSearchCV.\n",
      "62.35294117647059% is the recall score for the DecisionTreeClassifier() using the best hyparameters suggested by GridSearchCV.\n",
      "67.51592356687898% is the f1_score for the DecisionTreeClassifier() using the best hyparameters suggested by GridSearchCV.\n"
     ]
    }
   ],
   "source": [
    "decision_tree = DecisionTreeClassifier()\n",
    "\n",
    "params_grid_dict = {\n",
    "    'max_depth' : np.array([i for i in range(2,20)]),\n",
    "    'criterion' : np.array(['gini', 'entropy']),\n",
    "    'min_impurity_decrease': np.arange(0.01, 0.06, 0.01),\n",
    "    'min_samples_split': np.arange(10,100,10) \n",
    "}\n",
    "\n",
    "accuracy_dt_grid_1, auroc_dt_grid_1  = grid_search_cv(decision_tree, params_grid_dict, \n",
    "               X_train=X_train,\n",
    "               y_train = y_train,\n",
    "               X_test = X_test,\n",
    "               y_test = y_test)  "
   ]
  },
  {
   "cell_type": "markdown",
   "id": "5c8ff358",
   "metadata": {},
   "source": [
    "#### RandomizedSearchCV (DecisionTrees):-"
   ]
  },
  {
   "cell_type": "code",
   "execution_count": 1184,
   "id": "12723305",
   "metadata": {
    "scrolled": true
   },
   "outputs": [
    {
     "name": "stdout",
     "output_type": "stream",
     "text": [
      "DecisionTreeClassifier(criterion='entropy', max_depth=15,\n",
      "                       min_impurity_decrease=0.01, min_samples_split=50) is the Best Estimator according to Randomized Hyperparameter search.\n",
      "\n",
      "77.92207792207793% is the accuracy score for DecisionTreeClassifier() using the best hyparameters suggested by RandomizedSearchCV.\n",
      "74.6696212731668% is the auroc score for DecisionTreeClassifier() using the best hyparameters suggested by RandomizedSearchCV.\n",
      "73.61111111111111% is the precision score for DecisionTreeClassifier() using the best hyparameters suggested by RandomizedSearchCV.\n",
      "62.35294117647059% is the recall score for DecisionTreeClassifier() using the best hyparameters suggested by RandomizedSearchCV.\n",
      "67.51592356687898% is the f1_score for DecisionTreeClassifier() using the best hyparameters suggested by RandomizedSearchCV.\n"
     ]
    }
   ],
   "source": [
    "decision_tree = DecisionTreeClassifier()\n",
    "\n",
    "params_grid_dict = {\n",
    "    'max_depth' : np.array([i for i in range(2,40)]),\n",
    "    'criterion' : np.array(['gini', 'entropy']),\n",
    "    'min_impurity_decrease': np.arange(0.01, 1.05, 0.01),\n",
    "    'min_samples_split': np.arange(10,100,10) \n",
    "}\n",
    "\n",
    "accuracy_dt_random_1, auroc_dt_random_1 = randomized_search_cv(decision_tree,params_grid_dict,X_train=X_train, \n",
    "                   y_train=y_train, X_test=X_test, y_test=y_test)"
   ]
  },
  {
   "cell_type": "markdown",
   "id": "83e9e7ca",
   "metadata": {},
   "source": [
    "Below values are to be used for comparison purpose in the bar plot :-"
   ]
  },
  {
   "cell_type": "code",
   "execution_count": 1222,
   "id": "606f374f",
   "metadata": {},
   "outputs": [],
   "source": [
    "decisionTreeAcc1 = max(accuracy_dt_normal_1, accuracy_dt_grid_1, accuracy_dt_random_1)\n",
    "\n",
    "decisionTreeAuroc1 = max(auroc_dt_normal_1, auroc_dt_grid_1, auroc_dt_random_1)"
   ]
  },
  {
   "cell_type": "code",
   "execution_count": null,
   "id": "4563ccdb",
   "metadata": {},
   "outputs": [],
   "source": []
  },
  {
   "cell_type": "markdown",
   "id": "a0402324",
   "metadata": {},
   "source": [
    "### Support Vector Machine :-"
   ]
  },
  {
   "cell_type": "code",
   "execution_count": 1190,
   "id": "ba5fa37c",
   "metadata": {},
   "outputs": [
    {
     "name": "stdout",
     "output_type": "stream",
     "text": [
      "77.05627705627705% is the accuracy score in percentage form with SVM technique.\n"
     ]
    }
   ],
   "source": [
    "svc_model = SVC()\n",
    "svc_model.fit(X_train, y_train)\n",
    "\n",
    "# Predicting the X_test :\n",
    "y_pred = svc_model.predict(X_test)\n",
    "\n",
    "accuracy_svm_normal_1 = accuracy_score(y_test, y_pred)*100\n",
    "\n",
    "auroc_svm_normal_1 = roc_auc_score(y_test, y_pred)*100\n",
    "\n",
    "print(f\"{accuracy_svm_normal_1}% is the accuracy score in percentage form with SVM technique.\")"
   ]
  },
  {
   "cell_type": "code",
   "execution_count": 408,
   "id": "3796ae48",
   "metadata": {},
   "outputs": [
    {
     "data": {
      "text/plain": [
       "{'C': 1.0,\n",
       " 'break_ties': False,\n",
       " 'cache_size': 200,\n",
       " 'class_weight': None,\n",
       " 'coef0': 0.0,\n",
       " 'decision_function_shape': 'ovr',\n",
       " 'degree': 3,\n",
       " 'gamma': 'scale',\n",
       " 'kernel': 'rbf',\n",
       " 'max_iter': -1,\n",
       " 'probability': False,\n",
       " 'random_state': None,\n",
       " 'shrinking': True,\n",
       " 'tol': 0.001,\n",
       " 'verbose': False}"
      ]
     },
     "execution_count": 408,
     "metadata": {},
     "output_type": "execute_result"
    }
   ],
   "source": [
    "svc_model.get_params()"
   ]
  },
  {
   "cell_type": "markdown",
   "id": "5d0057c5",
   "metadata": {},
   "source": [
    "#### Hyperparameter tuning of the above model of SVM :-"
   ]
  },
  {
   "cell_type": "markdown",
   "id": "3e74ce11",
   "metadata": {},
   "source": [
    "#### GridSearchCV (SVM) :-"
   ]
  },
  {
   "cell_type": "code",
   "execution_count": 1191,
   "id": "dd103182",
   "metadata": {},
   "outputs": [
    {
     "name": "stdout",
     "output_type": "stream",
     "text": [
      "SVC(C=10, kernel='poly') is the Best Estimator according to Exhaustive Hyperparameter search.\n",
      "\n",
      "79.22077922077922% is the accuracy score for the SVC() using the best hyparameters suggested by GridSearchCV.\n",
      "73.73086220789685% is the auroc score for the SVC() using the best hyparameters suggested by GridSearchCV.\n",
      "84.90566037735849% is the precision score for the SVC() using the best hyparameters suggested by GridSearchCV.\n",
      "52.94117647058824% is the recall score for the SVC() using the best hyparameters suggested by GridSearchCV.\n",
      "65.21739130434784% is the f1_score for the SVC() using the best hyparameters suggested by GridSearchCV.\n"
     ]
    }
   ],
   "source": [
    "svc_model = SVC()\n",
    "\n",
    "param_grid_dict = {\n",
    "    'C':[0.1, 1, 10, 100],\n",
    "   'kernel' : ['rbf', 'poly','sigmoid']\n",
    "}\n",
    "\n",
    "accuracy_svm_grid_1, auroc_svm_grid_1 = grid_search_cv(svc_model, param_grid_dict, \n",
    "               X_train=X_train,\n",
    "               y_train = y_train,\n",
    "               X_test = X_test,\n",
    "               y_test = y_test)"
   ]
  },
  {
   "cell_type": "code",
   "execution_count": null,
   "id": "24391331",
   "metadata": {},
   "outputs": [],
   "source": []
  },
  {
   "cell_type": "markdown",
   "id": "587aef72",
   "metadata": {},
   "source": [
    "#### RandomizedSearchCV (SVM) :-"
   ]
  },
  {
   "cell_type": "code",
   "execution_count": 1192,
   "id": "ab40fe30",
   "metadata": {},
   "outputs": [
    {
     "name": "stdout",
     "output_type": "stream",
     "text": [
      "SVC(C=1, kernel='linear') is the Best Estimator according to Randomized Hyperparameter search.\n",
      "\n",
      "79.22077922077922% is the accuracy score for SVC() using the best hyparameters suggested by RandomizedSearchCV.\n",
      "74.9597099113618% is the auroc score for SVC() using the best hyparameters suggested by RandomizedSearchCV.\n",
      "79.36507936507937% is the precision score for SVC() using the best hyparameters suggested by RandomizedSearchCV.\n",
      "58.82352941176471% is the recall score for SVC() using the best hyparameters suggested by RandomizedSearchCV.\n",
      "67.56756756756756% is the f1_score for SVC() using the best hyparameters suggested by RandomizedSearchCV.\n"
     ]
    }
   ],
   "source": [
    "svc_model = SVC()\n",
    "\n",
    "param_grid_dict = {\n",
    "    'C':[0.1, 1, 10, 100, 1000],\n",
    "    'kernel' : ['rbf', 'poly','sigmoid', 'linear'],\n",
    "    }\n",
    "\n",
    "accuracy_svm_random_1, auroc_svm_random_1  = randomized_search_cv(svc_model,param_grid_dict,X_train=X_train, \n",
    "                   y_train=y_train, X_test=X_test, y_test=y_test)"
   ]
  },
  {
   "cell_type": "code",
   "execution_count": 1223,
   "id": "70ad0934",
   "metadata": {},
   "outputs": [],
   "source": [
    "svmAcc1 = max(accuracy_svm_normal_1, accuracy_svm_grid_1, accuracy_svm_random_1)\n",
    "\n",
    "svmAuroc1 = max(auroc_svm_normal_1, auroc_svm_grid_1, auroc_svm_random_1)"
   ]
  },
  {
   "cell_type": "code",
   "execution_count": null,
   "id": "695f0018",
   "metadata": {},
   "outputs": [],
   "source": []
  },
  {
   "cell_type": "markdown",
   "id": "305ad892",
   "metadata": {},
   "source": [
    "### RandomForestClassifier :-"
   ]
  },
  {
   "cell_type": "code",
   "execution_count": 1196,
   "id": "15f57e64",
   "metadata": {},
   "outputs": [
    {
     "name": "stdout",
     "output_type": "stream",
     "text": [
      "81.38528138528139% is the accuracy score in percentage form with RandomForestClassifier technique.\n"
     ]
    }
   ],
   "source": [
    "random_forest = RandomForestClassifier(random_state=42)\n",
    "\n",
    "random_forest.fit(X_train, y_train)\n",
    "\n",
    "y_pred = random_forest.predict(X_test)\n",
    "\n",
    "accuracy_rf_normal_1 = accuracy_score(y_test, y_pred)*100\n",
    "\n",
    "auroc_rf_normal_1 = roc_auc_score(y_test, y_pred)*100\n",
    "\n",
    "print(f\"{accuracy_rf_normal_1}% is the accuracy score in percentage form with RandomForestClassifier technique.\")"
   ]
  },
  {
   "cell_type": "code",
   "execution_count": 1676,
   "id": "73a78b01",
   "metadata": {},
   "outputs": [
    {
     "data": {
      "text/plain": [
       "78.14665592264302"
      ]
     },
     "execution_count": 1676,
     "metadata": {},
     "output_type": "execute_result"
    }
   ],
   "source": [
    "auroc_rf_normal_1"
   ]
  },
  {
   "cell_type": "code",
   "execution_count": 412,
   "id": "61872108",
   "metadata": {},
   "outputs": [
    {
     "data": {
      "text/plain": [
       "{'bootstrap': True,\n",
       " 'ccp_alpha': 0.0,\n",
       " 'class_weight': None,\n",
       " 'criterion': 'gini',\n",
       " 'max_depth': None,\n",
       " 'max_features': 'auto',\n",
       " 'max_leaf_nodes': None,\n",
       " 'max_samples': None,\n",
       " 'min_impurity_decrease': 0.0,\n",
       " 'min_samples_leaf': 1,\n",
       " 'min_samples_split': 2,\n",
       " 'min_weight_fraction_leaf': 0.0,\n",
       " 'n_estimators': 100,\n",
       " 'n_jobs': None,\n",
       " 'oob_score': False,\n",
       " 'random_state': 42,\n",
       " 'verbose': 0,\n",
       " 'warm_start': False}"
      ]
     },
     "execution_count": 412,
     "metadata": {},
     "output_type": "execute_result"
    }
   ],
   "source": [
    "random_forest.get_params()"
   ]
  },
  {
   "cell_type": "markdown",
   "id": "7d0cc1e9",
   "metadata": {},
   "source": [
    "#### Hyperparameter tuning for the above model of \"RandomForestClassifier\" :-"
   ]
  },
  {
   "cell_type": "markdown",
   "id": "4012f355",
   "metadata": {},
   "source": [
    "#### GridSearchCV  (RandomForestClassifier):-"
   ]
  },
  {
   "cell_type": "code",
   "execution_count": 1199,
   "id": "40d6f46e",
   "metadata": {},
   "outputs": [
    {
     "name": "stdout",
     "output_type": "stream",
     "text": [
      "RandomForestClassifier(max_depth=5, n_estimators=50) is the Best Estimator according to Exhaustive Hyperparameter search.\n",
      "\n",
      "79.22077922077922% is the accuracy score for the RandomForestClassifier() using the best hyparameters suggested by GridSearchCV.\n",
      "75.20547945205482% is the auroc score for the RandomForestClassifier() using the best hyparameters suggested by GridSearchCV.\n",
      "78.46153846153847% is the precision score for the RandomForestClassifier() using the best hyparameters suggested by GridSearchCV.\n",
      "60.0% is the recall score for the RandomForestClassifier() using the best hyparameters suggested by GridSearchCV.\n",
      "68.0% is the f1_score for the RandomForestClassifier() using the best hyparameters suggested by GridSearchCV.\n"
     ]
    }
   ],
   "source": [
    "random_forest = RandomForestClassifier()\n",
    "\n",
    "param_grid_dict = {\n",
    "    'max_depth':[2,3,4,5,6,7],\n",
    "    'n_estimators':[10, 20, 25, 30, 35, 40, 50, 60, 70, 80, 90, 100],\n",
    "}\n",
    "\n",
    "accuracy_rf_grid_1, auroc_rf_grid_1 = grid_search_cv(random_forest, param_grid_dict, \n",
    "               X_train=X_train,\n",
    "               y_train = y_train,\n",
    "               X_test = X_test,\n",
    "               y_test = y_test)"
   ]
  },
  {
   "cell_type": "markdown",
   "id": "d432642b",
   "metadata": {},
   "source": [
    "##### RandomizedSearchCV (RandomForestClassifier) :-"
   ]
  },
  {
   "cell_type": "code",
   "execution_count": 1204,
   "id": "be934652",
   "metadata": {},
   "outputs": [
    {
     "name": "stdout",
     "output_type": "stream",
     "text": [
      "RandomForestClassifier(max_depth=26, min_impurity_decrease=0.01,\n",
      "                       min_samples_split=40, n_estimators=50) is the Best Estimator according to Randomized Hyperparameter search.\n",
      "\n",
      "77.92207792207793% is the accuracy score for RandomForestClassifier() using the best hyparameters suggested by RandomizedSearchCV.\n",
      "72.45769540692989% is the auroc score for RandomForestClassifier() using the best hyparameters suggested by RandomizedSearchCV.\n",
      "81.48148148148148% is the precision score for RandomForestClassifier() using the best hyparameters suggested by RandomizedSearchCV.\n",
      "51.76470588235295% is the recall score for RandomForestClassifier() using the best hyparameters suggested by RandomizedSearchCV.\n",
      "63.309352517985616% is the f1_score for RandomForestClassifier() using the best hyparameters suggested by RandomizedSearchCV.\n"
     ]
    }
   ],
   "source": [
    "random_forest = RandomForestClassifier()\n",
    "\n",
    "params_grid_dict = {\n",
    "    'max_depth':np.arange(1,40),\n",
    "    'n_estimators':np.arange(30,250,20),\n",
    "    'min_impurity_decrease': np.arange(0.01, 0.06, 0.01),\n",
    "    'min_samples_split': np.arange(10,100,10) \n",
    "}\n",
    "\n",
    "accuracy_rf_random_1, auroc_rf_random_1 = randomized_search_cv(random_forest, params_grid_dict, X_train=X_train,\n",
    "                    y_train=y_train, X_test=X_test, y_test=y_test)"
   ]
  },
  {
   "cell_type": "markdown",
   "id": "a81786c8",
   "metadata": {},
   "source": [
    "Below values are to be used for comparison purpose in the bar plot :-"
   ]
  },
  {
   "cell_type": "code",
   "execution_count": 1224,
   "id": "163b71ae",
   "metadata": {},
   "outputs": [],
   "source": [
    "randomForestAcc1 = max(accuracy_rf_normal_1, accuracy_rf_grid_1, accuracy_rf_random_1)\n",
    "\n",
    "randomForestAuroc1 = max(auroc_rf_normal_1, auroc_rf_grid_1, auroc_rf_random_1)"
   ]
  },
  {
   "cell_type": "code",
   "execution_count": null,
   "id": "244018f0",
   "metadata": {},
   "outputs": [],
   "source": []
  },
  {
   "cell_type": "markdown",
   "id": "174413d7",
   "metadata": {},
   "source": [
    "### Adaboost Classifier :-"
   ]
  },
  {
   "cell_type": "code",
   "execution_count": 1211,
   "id": "3b291edc",
   "metadata": {},
   "outputs": [
    {
     "name": "stdout",
     "output_type": "stream",
     "text": [
      "78.35497835497836% is the accuracy score using AdaboostClassifier.\n"
     ]
    }
   ],
   "source": [
    "adaboost_classifier = AdaBoostClassifier(random_state=42)\n",
    "\n",
    "adaboost_classifier.fit(X_train.values, y_train.values)\n",
    "\n",
    "y_pred = adaboost_classifier.predict(X_test.values)\n",
    "\n",
    "accuracy_ab_normal_1 = accuracy_score(y_test, y_pred)*100\n",
    "\n",
    "auroc_ab_normal_1 = roc_auc_score(y_test, y_pred)*100\n",
    "\n",
    "print(f'{accuracy_ab_normal_1}% is the accuracy score using AdaboostClassifier.')"
   ]
  },
  {
   "cell_type": "code",
   "execution_count": 419,
   "id": "b8d98e1c",
   "metadata": {},
   "outputs": [
    {
     "data": {
      "text/plain": [
       "{'algorithm': 'SAMME.R',\n",
       " 'base_estimator': None,\n",
       " 'learning_rate': 1.0,\n",
       " 'n_estimators': 50,\n",
       " 'random_state': 42}"
      ]
     },
     "execution_count": 419,
     "metadata": {},
     "output_type": "execute_result"
    }
   ],
   "source": [
    "adaboost_classifier.get_params()"
   ]
  },
  {
   "cell_type": "markdown",
   "id": "23b8cada",
   "metadata": {},
   "source": [
    "### Hyperparameter Tuning for Adaboost Classifier :-"
   ]
  },
  {
   "cell_type": "markdown",
   "id": "5c848fe1",
   "metadata": {},
   "source": [
    "#### GridSearchCV (AdaBoost Classifier) :-"
   ]
  },
  {
   "cell_type": "code",
   "execution_count": 1212,
   "id": "151cb7d0",
   "metadata": {},
   "outputs": [
    {
     "name": "stdout",
     "output_type": "stream",
     "text": [
      "AdaBoostClassifier(n_estimators=90) is the Best Estimator according to Exhaustive Hyperparameter search.\n",
      "\n",
      "80.08658008658008% is the accuracy score for the AdaBoostClassifier() using the best hyparameters suggested by GridSearchCV.\n",
      "77.11925866236905% is the auroc score for the AdaBoostClassifier() using the best hyparameters suggested by GridSearchCV.\n",
      "76.71232876712328% is the precision score for the AdaBoostClassifier() using the best hyparameters suggested by GridSearchCV.\n",
      "65.88235294117646% is the recall score for the AdaBoostClassifier() using the best hyparameters suggested by GridSearchCV.\n",
      "70.88607594936708% is the f1_score for the AdaBoostClassifier() using the best hyparameters suggested by GridSearchCV.\n"
     ]
    }
   ],
   "source": [
    "adaboost_classifier = AdaBoostClassifier()\n",
    "\n",
    "param_grid_dict = {\n",
    "    'n_estimators':np.arange(50,100,10),\n",
    "    'learning_rate':np.arange(1.0,10.0,1.0)\n",
    "}\n",
    "\n",
    "accuracy_ab_grid_1, auroc_ab_grid_1 = grid_search_cv(adaboost_classifier, param_grid_dict, \n",
    "               X_train=X_train,\n",
    "               y_train = y_train,\n",
    "               X_test = X_test,\n",
    "               y_test = y_test)"
   ]
  },
  {
   "cell_type": "markdown",
   "id": "d7880a9e",
   "metadata": {},
   "source": [
    "#### RandomizedSearchCV (AdaBoost Classifier) :-"
   ]
  },
  {
   "cell_type": "code",
   "execution_count": 1217,
   "id": "4663eb5e",
   "metadata": {},
   "outputs": [
    {
     "name": "stdout",
     "output_type": "stream",
     "text": [
      "AdaBoostClassifier(learning_rate=1, n_estimators=90) is the Best Estimator according to Randomized Hyperparameter search.\n",
      "\n",
      "80.08658008658008% is the accuracy score for AdaBoostClassifier() using the best hyparameters suggested by RandomizedSearchCV.\n",
      "77.11925866236905% is the auroc score for AdaBoostClassifier() using the best hyparameters suggested by RandomizedSearchCV.\n",
      "76.71232876712328% is the precision score for AdaBoostClassifier() using the best hyparameters suggested by RandomizedSearchCV.\n",
      "65.88235294117646% is the recall score for AdaBoostClassifier() using the best hyparameters suggested by RandomizedSearchCV.\n",
      "70.88607594936708% is the f1_score for AdaBoostClassifier() using the best hyparameters suggested by RandomizedSearchCV.\n"
     ]
    }
   ],
   "source": [
    "adaboost_classifier = AdaBoostClassifier()\n",
    "\n",
    "param_grid_dict = {\n",
    "    'n_estimators':np.arange(50,110,10),\n",
    "    'learning_rate':np.arange(1,20,1)\n",
    "}\n",
    "\n",
    "accuracy_ab_random_1, auroc_ab_random_1 = randomized_search_cv(adaboost_classifier, param_grid_dict, X_train,\n",
    "                    y_train=y_train, X_test=X_test, y_test=y_test)"
   ]
  },
  {
   "cell_type": "markdown",
   "id": "b4daa69e",
   "metadata": {},
   "source": [
    "Below values are to be used for comparison purpose in the bar plot :-"
   ]
  },
  {
   "cell_type": "code",
   "execution_count": 1225,
   "id": "8912a788",
   "metadata": {},
   "outputs": [],
   "source": [
    "adaBoostAcc1 = max(accuracy_ab_normal_1, accuracy_ab_grid_1, accuracy_ab_random_1)\n",
    "\n",
    "adaBoostAuroc1 = max(auroc_ab_normal_1, auroc_ab_grid_1, auroc_ab_random_1)"
   ]
  },
  {
   "cell_type": "markdown",
   "id": "6dfcfcf9",
   "metadata": {},
   "source": [
    "#### Accuracy Bar Plot :-"
   ]
  },
  {
   "cell_type": "code",
   "execution_count": 1272,
   "id": "2c99201f",
   "metadata": {},
   "outputs": [],
   "source": [
    "accuracies1 = naiveBayesAcc1, knnAccuracy1, logisticRegressionAcc1, decisionTreeAcc1, svmAcc1, randomForestAcc1, adaBoostAcc1"
   ]
  },
  {
   "cell_type": "code",
   "execution_count": 1673,
   "id": "bd02119f",
   "metadata": {},
   "outputs": [
    {
     "data": {
      "text/plain": [
       "(78.35497835497836,\n",
       " 78.78787878787878,\n",
       " 78.35497835497836,\n",
       " 77.92207792207793,\n",
       " 79.22077922077922,\n",
       " 81.38528138528139,\n",
       " 80.08658008658008)"
      ]
     },
     "execution_count": 1673,
     "metadata": {},
     "output_type": "execute_result"
    }
   ],
   "source": [
    "accuracies1"
   ]
  },
  {
   "cell_type": "code",
   "execution_count": 1286,
   "id": "2600dd7a",
   "metadata": {
    "scrolled": false
   },
   "outputs": [
    {
     "data": {
      "image/png": "[encoded data removed]",
      "text/plain": [
       "<Figure size 630x432 with 1 Axes>"
      ]
     },
     "metadata": {
      "needs_background": "light"
     },
     "output_type": "display_data"
    }
   ],
   "source": [
    "bar_plot_for_comaparison(y_label='Accuracy', performance_metric = accuracies, x_label=\"Different ML techniques\",  bar_width=0.5, \\\n",
    "                             figsize=(8.75,6), color='orange', title = \"Accuracy Score comparison between best of all the Models\",\\\n",
    "                     models = ['NaiveBayes', 'Knn', 'LogRegression', 'DecTrees', 'SVM', 'RandomForest', 'AdaBoost'])"
   ]
  },
  {
   "cell_type": "markdown",
   "id": "b0d421f6",
   "metadata": {},
   "source": [
    "RandomForestClassifier has the highest Accuracy of 81.39 %."
   ]
  },
  {
   "cell_type": "code",
   "execution_count": 1288,
   "id": "50619c16",
   "metadata": {
    "scrolled": true
   },
   "outputs": [
    {
     "data": {
      "text/plain": [
       "[77.92207792207793,\n",
       " 78.35497835497836,\n",
       " 78.35497835497836,\n",
       " 78.78787878787878,\n",
       " 79.22077922077922,\n",
       " 80.08658008658008,\n",
       " 81.38528138528139]"
      ]
     },
     "execution_count": 1288,
     "metadata": {},
     "output_type": "execute_result"
    }
   ],
   "source": [
    "sorted(accuracies)"
   ]
  },
  {
   "cell_type": "markdown",
   "id": "a24c117b",
   "metadata": {},
   "source": [
    "#### Auroc Bar Plot :-"
   ]
  },
  {
   "cell_type": "code",
   "execution_count": 1672,
   "id": "86e2b7ea",
   "metadata": {},
   "outputs": [
    {
     "data": {
      "text/plain": [
       "(75.01208702659146,\n",
       " 73.87993553585818,\n",
       " 74.0290088638195,\n",
       " 74.6696212731668,\n",
       " 74.9597099113618,\n",
       " 78.14665592264302,\n",
       " 77.11925866236905)"
      ]
     },
     "execution_count": 1672,
     "metadata": {},
     "output_type": "execute_result"
    }
   ],
   "source": [
    "aurocScores = naiveBayesAuroc1, knnAuroc1, logisticRegressionAuroc1, decisionTreeAuroc1, svmAuroc1, randomForestAuroc1, \\\n",
    "              adaBoostAuroc1\n",
    "\n",
    "aurocScores"
   ]
  },
  {
   "cell_type": "code",
   "execution_count": 1671,
   "id": "62d06b4f",
   "metadata": {},
   "outputs": [
    {
     "data": {
      "image/png": "[encoded data removed]",
      "text/plain": [
       "<Figure size 630x432 with 1 Axes>"
      ]
     },
     "metadata": {
      "needs_background": "light"
     },
     "output_type": "display_data"
    }
   ],
   "source": [
    "bar_plot_for_comaparison(y_label='AurocScores', performance_metric = aurocScores, x_label=\"Different ML techniques\",  bar_width=0.5, \\\n",
    "                             figsize=(8.75,6), color='skyblue', title = \"Auroc Score comparison between best of all the Models\",\\\n",
    "                     models = ['NaiveBayes', 'Knn', 'LogRegres', 'DecTrees', 'SVM', 'RandomForest', 'AdaBoost'])"
   ]
  },
  {
   "cell_type": "markdown",
   "id": "41cb777e",
   "metadata": {},
   "source": [
    "RandomForestClassifier has the highest AUROC score of 78.15 %."
   ]
  },
  {
   "cell_type": "code",
   "execution_count": 1289,
   "id": "ef3107d9",
   "metadata": {},
   "outputs": [
    {
     "data": {
      "text/plain": [
       "[73.87993553585818,\n",
       " 74.0290088638195,\n",
       " 74.6696212731668,\n",
       " 74.9597099113618,\n",
       " 75.01208702659146,\n",
       " 77.11925866236905,\n",
       " 78.14665592264302]"
      ]
     },
     "execution_count": 1289,
     "metadata": {},
     "output_type": "execute_result"
    }
   ],
   "source": [
    "sorted(aurocScores)"
   ]
  },
  {
   "cell_type": "code",
   "execution_count": 1290,
   "id": "87caa860",
   "metadata": {},
   "outputs": [],
   "source": [
    "#list_of_performance = [\n",
    "#    [performance_nb,performance_knn,performance_lr,performance_dt, performance_svm, performance_rf,performance_ab,],\n",
    "#    [performance_nb_grid, performance_knn_grid, performance_lr_grid, performance_dt_grid,  performance_svm_grid,\\\n",
    "#     performance_rf_grid, performance_ab_grid],\n",
    "#   [performance_nb_randomized, performance_knn_randomized, performance_lr_randomized, performance_dt_randomized, \\\n",
    "#    performance_svm_randomized, performance_rf_randomized, performance_ab_randomized]\n",
    "#]"
   ]
  },
  {
   "cell_type": "code",
   "execution_count": 1291,
   "id": "1ee40ba0",
   "metadata": {},
   "outputs": [],
   "source": [
    "#X = np.arange(7)\n",
    "#fig = plt.figure()\n",
    "#ax = fig.add_axes([0,0,1,1])\n",
    "#ax.bar(X + 0.00, list_of_performance[0], color = 'b', width = 0.25)\n",
    "#ax.bar(X + 0.25, list_of_performance[1], color = 'g', width = 0.25)\n",
    "#ax.bar(X + 0.50, list_of_performance[2], color = 'r', width = 0.25)"
   ]
  },
  {
   "cell_type": "code",
   "execution_count": null,
   "id": "4af785a1",
   "metadata": {},
   "outputs": [],
   "source": []
  },
  {
   "cell_type": "code",
   "execution_count": null,
   "id": "0fcae453",
   "metadata": {},
   "outputs": [],
   "source": []
  },
  {
   "cell_type": "code",
   "execution_count": null,
   "id": "e5b03b8a",
   "metadata": {},
   "outputs": [],
   "source": []
  },
  {
   "cell_type": "code",
   "execution_count": null,
   "id": "b72c8c4f",
   "metadata": {},
   "outputs": [],
   "source": []
  },
  {
   "cell_type": "markdown",
   "id": "23a36ce6",
   "metadata": {},
   "source": [
    "## Mean Imputation & Feature Scaling :-"
   ]
  },
  {
   "cell_type": "code",
   "execution_count": 422,
   "id": "bd0954e6",
   "metadata": {},
   "outputs": [],
   "source": [
    "imp = SimpleImputer(missing_values=0, strategy='mean')"
   ]
  },
  {
   "cell_type": "code",
   "execution_count": 423,
   "id": "d10e678e",
   "metadata": {},
   "outputs": [
    {
     "data": {
      "text/html": [
       "<div>\n",
       "<style scoped>\n",
       "    .dataframe tbody tr th:only-of-type {\n",
       "        vertical-align: middle;\n",
       "    }\n",
       "\n",
       "    .dataframe tbody tr th {\n",
       "        vertical-align: top;\n",
       "    }\n",
       "\n",
       "    .dataframe thead th {\n",
       "        text-align: right;\n",
       "    }\n",
       "</style>\n",
       "<table border=\"1\" class=\"dataframe\">\n",
       "  <thead>\n",
       "    <tr style=\"text-align: right;\">\n",
       "      <th></th>\n",
       "      <th>preg</th>\n",
       "      <th>glu</th>\n",
       "      <th>bp</th>\n",
       "      <th>skinThickness</th>\n",
       "      <th>insulin</th>\n",
       "      <th>bmi</th>\n",
       "      <th>dpf</th>\n",
       "      <th>age</th>\n",
       "    </tr>\n",
       "  </thead>\n",
       "  <tbody>\n",
       "    <tr>\n",
       "      <th>88</th>\n",
       "      <td>15</td>\n",
       "      <td>136</td>\n",
       "      <td>70</td>\n",
       "      <td>32</td>\n",
       "      <td>110</td>\n",
       "      <td>37.1</td>\n",
       "      <td>0.153</td>\n",
       "      <td>43</td>\n",
       "    </tr>\n",
       "    <tr>\n",
       "      <th>467</th>\n",
       "      <td>0</td>\n",
       "      <td>97</td>\n",
       "      <td>64</td>\n",
       "      <td>36</td>\n",
       "      <td>100</td>\n",
       "      <td>36.8</td>\n",
       "      <td>0.600</td>\n",
       "      <td>25</td>\n",
       "    </tr>\n",
       "    <tr>\n",
       "      <th>550</th>\n",
       "      <td>1</td>\n",
       "      <td>116</td>\n",
       "      <td>70</td>\n",
       "      <td>28</td>\n",
       "      <td>0</td>\n",
       "      <td>27.4</td>\n",
       "      <td>0.204</td>\n",
       "      <td>21</td>\n",
       "    </tr>\n",
       "    <tr>\n",
       "      <th>147</th>\n",
       "      <td>2</td>\n",
       "      <td>106</td>\n",
       "      <td>64</td>\n",
       "      <td>35</td>\n",
       "      <td>119</td>\n",
       "      <td>30.5</td>\n",
       "      <td>1.400</td>\n",
       "      <td>34</td>\n",
       "    </tr>\n",
       "    <tr>\n",
       "      <th>481</th>\n",
       "      <td>0</td>\n",
       "      <td>123</td>\n",
       "      <td>88</td>\n",
       "      <td>37</td>\n",
       "      <td>0</td>\n",
       "      <td>35.2</td>\n",
       "      <td>0.197</td>\n",
       "      <td>29</td>\n",
       "    </tr>\n",
       "    <tr>\n",
       "      <th>...</th>\n",
       "      <td>...</td>\n",
       "      <td>...</td>\n",
       "      <td>...</td>\n",
       "      <td>...</td>\n",
       "      <td>...</td>\n",
       "      <td>...</td>\n",
       "      <td>...</td>\n",
       "      <td>...</td>\n",
       "    </tr>\n",
       "    <tr>\n",
       "      <th>645</th>\n",
       "      <td>2</td>\n",
       "      <td>157</td>\n",
       "      <td>74</td>\n",
       "      <td>35</td>\n",
       "      <td>440</td>\n",
       "      <td>39.4</td>\n",
       "      <td>0.134</td>\n",
       "      <td>30</td>\n",
       "    </tr>\n",
       "    <tr>\n",
       "      <th>715</th>\n",
       "      <td>7</td>\n",
       "      <td>187</td>\n",
       "      <td>50</td>\n",
       "      <td>33</td>\n",
       "      <td>392</td>\n",
       "      <td>33.9</td>\n",
       "      <td>0.826</td>\n",
       "      <td>34</td>\n",
       "    </tr>\n",
       "    <tr>\n",
       "      <th>72</th>\n",
       "      <td>13</td>\n",
       "      <td>126</td>\n",
       "      <td>90</td>\n",
       "      <td>0</td>\n",
       "      <td>0</td>\n",
       "      <td>43.4</td>\n",
       "      <td>0.583</td>\n",
       "      <td>42</td>\n",
       "    </tr>\n",
       "    <tr>\n",
       "      <th>235</th>\n",
       "      <td>4</td>\n",
       "      <td>171</td>\n",
       "      <td>72</td>\n",
       "      <td>0</td>\n",
       "      <td>0</td>\n",
       "      <td>43.6</td>\n",
       "      <td>0.479</td>\n",
       "      <td>26</td>\n",
       "    </tr>\n",
       "    <tr>\n",
       "      <th>37</th>\n",
       "      <td>9</td>\n",
       "      <td>102</td>\n",
       "      <td>76</td>\n",
       "      <td>37</td>\n",
       "      <td>0</td>\n",
       "      <td>32.9</td>\n",
       "      <td>0.665</td>\n",
       "      <td>46</td>\n",
       "    </tr>\n",
       "  </tbody>\n",
       "</table>\n",
       "<p>537 rows × 8 columns</p>\n",
       "</div>"
      ],
      "text/plain": [
       "     preg  glu  bp  skinThickness  insulin   bmi    dpf  age\n",
       "88     15  136  70             32      110  37.1  0.153   43\n",
       "467     0   97  64             36      100  36.8  0.600   25\n",
       "550     1  116  70             28        0  27.4  0.204   21\n",
       "147     2  106  64             35      119  30.5  1.400   34\n",
       "481     0  123  88             37        0  35.2  0.197   29\n",
       "..    ...  ...  ..            ...      ...   ...    ...  ...\n",
       "645     2  157  74             35      440  39.4  0.134   30\n",
       "715     7  187  50             33      392  33.9  0.826   34\n",
       "72     13  126  90              0        0  43.4  0.583   42\n",
       "235     4  171  72              0        0  43.6  0.479   26\n",
       "37      9  102  76             37        0  32.9  0.665   46\n",
       "\n",
       "[537 rows x 8 columns]"
      ]
     },
     "execution_count": 423,
     "metadata": {},
     "output_type": "execute_result"
    }
   ],
   "source": [
    "X_train"
   ]
  },
  {
   "cell_type": "code",
   "execution_count": 424,
   "id": "677d482d",
   "metadata": {},
   "outputs": [
    {
     "data": {
      "text/html": [
       "<div>\n",
       "<style scoped>\n",
       "    .dataframe tbody tr th:only-of-type {\n",
       "        vertical-align: middle;\n",
       "    }\n",
       "\n",
       "    .dataframe tbody tr th {\n",
       "        vertical-align: top;\n",
       "    }\n",
       "\n",
       "    .dataframe thead th {\n",
       "        text-align: right;\n",
       "    }\n",
       "</style>\n",
       "<table border=\"1\" class=\"dataframe\">\n",
       "  <thead>\n",
       "    <tr style=\"text-align: right;\">\n",
       "      <th></th>\n",
       "      <th>preg</th>\n",
       "      <th>glu</th>\n",
       "      <th>bp</th>\n",
       "      <th>skinThickness</th>\n",
       "      <th>insulin</th>\n",
       "      <th>bmi</th>\n",
       "      <th>dpf</th>\n",
       "      <th>age</th>\n",
       "    </tr>\n",
       "  </thead>\n",
       "  <tbody>\n",
       "    <tr>\n",
       "      <th>285</th>\n",
       "      <td>7</td>\n",
       "      <td>136</td>\n",
       "      <td>74</td>\n",
       "      <td>26</td>\n",
       "      <td>135</td>\n",
       "      <td>26.0</td>\n",
       "      <td>0.647</td>\n",
       "      <td>51</td>\n",
       "    </tr>\n",
       "    <tr>\n",
       "      <th>101</th>\n",
       "      <td>1</td>\n",
       "      <td>151</td>\n",
       "      <td>60</td>\n",
       "      <td>0</td>\n",
       "      <td>0</td>\n",
       "      <td>26.1</td>\n",
       "      <td>0.179</td>\n",
       "      <td>22</td>\n",
       "    </tr>\n",
       "    <tr>\n",
       "      <th>581</th>\n",
       "      <td>6</td>\n",
       "      <td>109</td>\n",
       "      <td>60</td>\n",
       "      <td>27</td>\n",
       "      <td>0</td>\n",
       "      <td>25.0</td>\n",
       "      <td>0.206</td>\n",
       "      <td>27</td>\n",
       "    </tr>\n",
       "    <tr>\n",
       "      <th>352</th>\n",
       "      <td>3</td>\n",
       "      <td>61</td>\n",
       "      <td>82</td>\n",
       "      <td>28</td>\n",
       "      <td>0</td>\n",
       "      <td>34.4</td>\n",
       "      <td>0.243</td>\n",
       "      <td>46</td>\n",
       "    </tr>\n",
       "    <tr>\n",
       "      <th>726</th>\n",
       "      <td>1</td>\n",
       "      <td>116</td>\n",
       "      <td>78</td>\n",
       "      <td>29</td>\n",
       "      <td>180</td>\n",
       "      <td>36.1</td>\n",
       "      <td>0.496</td>\n",
       "      <td>25</td>\n",
       "    </tr>\n",
       "    <tr>\n",
       "      <th>...</th>\n",
       "      <td>...</td>\n",
       "      <td>...</td>\n",
       "      <td>...</td>\n",
       "      <td>...</td>\n",
       "      <td>...</td>\n",
       "      <td>...</td>\n",
       "      <td>...</td>\n",
       "      <td>...</td>\n",
       "    </tr>\n",
       "    <tr>\n",
       "      <th>241</th>\n",
       "      <td>4</td>\n",
       "      <td>91</td>\n",
       "      <td>70</td>\n",
       "      <td>32</td>\n",
       "      <td>88</td>\n",
       "      <td>33.1</td>\n",
       "      <td>0.446</td>\n",
       "      <td>22</td>\n",
       "    </tr>\n",
       "    <tr>\n",
       "      <th>599</th>\n",
       "      <td>1</td>\n",
       "      <td>109</td>\n",
       "      <td>38</td>\n",
       "      <td>18</td>\n",
       "      <td>120</td>\n",
       "      <td>23.1</td>\n",
       "      <td>0.407</td>\n",
       "      <td>26</td>\n",
       "    </tr>\n",
       "    <tr>\n",
       "      <th>650</th>\n",
       "      <td>1</td>\n",
       "      <td>91</td>\n",
       "      <td>54</td>\n",
       "      <td>25</td>\n",
       "      <td>100</td>\n",
       "      <td>25.2</td>\n",
       "      <td>0.234</td>\n",
       "      <td>23</td>\n",
       "    </tr>\n",
       "    <tr>\n",
       "      <th>11</th>\n",
       "      <td>10</td>\n",
       "      <td>168</td>\n",
       "      <td>74</td>\n",
       "      <td>0</td>\n",
       "      <td>0</td>\n",
       "      <td>38.0</td>\n",
       "      <td>0.537</td>\n",
       "      <td>34</td>\n",
       "    </tr>\n",
       "    <tr>\n",
       "      <th>214</th>\n",
       "      <td>9</td>\n",
       "      <td>112</td>\n",
       "      <td>82</td>\n",
       "      <td>32</td>\n",
       "      <td>175</td>\n",
       "      <td>34.2</td>\n",
       "      <td>0.260</td>\n",
       "      <td>36</td>\n",
       "    </tr>\n",
       "  </tbody>\n",
       "</table>\n",
       "<p>231 rows × 8 columns</p>\n",
       "</div>"
      ],
      "text/plain": [
       "     preg  glu  bp  skinThickness  insulin   bmi    dpf  age\n",
       "285     7  136  74             26      135  26.0  0.647   51\n",
       "101     1  151  60              0        0  26.1  0.179   22\n",
       "581     6  109  60             27        0  25.0  0.206   27\n",
       "352     3   61  82             28        0  34.4  0.243   46\n",
       "726     1  116  78             29      180  36.1  0.496   25\n",
       "..    ...  ...  ..            ...      ...   ...    ...  ...\n",
       "241     4   91  70             32       88  33.1  0.446   22\n",
       "599     1  109  38             18      120  23.1  0.407   26\n",
       "650     1   91  54             25      100  25.2  0.234   23\n",
       "11     10  168  74              0        0  38.0  0.537   34\n",
       "214     9  112  82             32      175  34.2  0.260   36\n",
       "\n",
       "[231 rows x 8 columns]"
      ]
     },
     "execution_count": 424,
     "metadata": {},
     "output_type": "execute_result"
    }
   ],
   "source": [
    "X_test"
   ]
  },
  {
   "cell_type": "code",
   "execution_count": 425,
   "id": "006fdabc",
   "metadata": {},
   "outputs": [
    {
     "data": {
      "text/html": [
       "<div>\n",
       "<style scoped>\n",
       "    .dataframe tbody tr th:only-of-type {\n",
       "        vertical-align: middle;\n",
       "    }\n",
       "\n",
       "    .dataframe tbody tr th {\n",
       "        vertical-align: top;\n",
       "    }\n",
       "\n",
       "    .dataframe thead th {\n",
       "        text-align: right;\n",
       "    }\n",
       "</style>\n",
       "<table border=\"1\" class=\"dataframe\">\n",
       "  <thead>\n",
       "    <tr style=\"text-align: right;\">\n",
       "      <th></th>\n",
       "      <th>glu</th>\n",
       "      <th>bp</th>\n",
       "      <th>skinThickness</th>\n",
       "      <th>insulin</th>\n",
       "      <th>bmi</th>\n",
       "      <th>dpf</th>\n",
       "      <th>age</th>\n",
       "    </tr>\n",
       "  </thead>\n",
       "  <tbody>\n",
       "    <tr>\n",
       "      <th>88</th>\n",
       "      <td>136</td>\n",
       "      <td>70</td>\n",
       "      <td>32</td>\n",
       "      <td>110</td>\n",
       "      <td>37.1</td>\n",
       "      <td>0.153</td>\n",
       "      <td>43</td>\n",
       "    </tr>\n",
       "    <tr>\n",
       "      <th>467</th>\n",
       "      <td>97</td>\n",
       "      <td>64</td>\n",
       "      <td>36</td>\n",
       "      <td>100</td>\n",
       "      <td>36.8</td>\n",
       "      <td>0.600</td>\n",
       "      <td>25</td>\n",
       "    </tr>\n",
       "    <tr>\n",
       "      <th>550</th>\n",
       "      <td>116</td>\n",
       "      <td>70</td>\n",
       "      <td>28</td>\n",
       "      <td>0</td>\n",
       "      <td>27.4</td>\n",
       "      <td>0.204</td>\n",
       "      <td>21</td>\n",
       "    </tr>\n",
       "    <tr>\n",
       "      <th>147</th>\n",
       "      <td>106</td>\n",
       "      <td>64</td>\n",
       "      <td>35</td>\n",
       "      <td>119</td>\n",
       "      <td>30.5</td>\n",
       "      <td>1.400</td>\n",
       "      <td>34</td>\n",
       "    </tr>\n",
       "    <tr>\n",
       "      <th>481</th>\n",
       "      <td>123</td>\n",
       "      <td>88</td>\n",
       "      <td>37</td>\n",
       "      <td>0</td>\n",
       "      <td>35.2</td>\n",
       "      <td>0.197</td>\n",
       "      <td>29</td>\n",
       "    </tr>\n",
       "    <tr>\n",
       "      <th>...</th>\n",
       "      <td>...</td>\n",
       "      <td>...</td>\n",
       "      <td>...</td>\n",
       "      <td>...</td>\n",
       "      <td>...</td>\n",
       "      <td>...</td>\n",
       "      <td>...</td>\n",
       "    </tr>\n",
       "    <tr>\n",
       "      <th>645</th>\n",
       "      <td>157</td>\n",
       "      <td>74</td>\n",
       "      <td>35</td>\n",
       "      <td>440</td>\n",
       "      <td>39.4</td>\n",
       "      <td>0.134</td>\n",
       "      <td>30</td>\n",
       "    </tr>\n",
       "    <tr>\n",
       "      <th>715</th>\n",
       "      <td>187</td>\n",
       "      <td>50</td>\n",
       "      <td>33</td>\n",
       "      <td>392</td>\n",
       "      <td>33.9</td>\n",
       "      <td>0.826</td>\n",
       "      <td>34</td>\n",
       "    </tr>\n",
       "    <tr>\n",
       "      <th>72</th>\n",
       "      <td>126</td>\n",
       "      <td>90</td>\n",
       "      <td>0</td>\n",
       "      <td>0</td>\n",
       "      <td>43.4</td>\n",
       "      <td>0.583</td>\n",
       "      <td>42</td>\n",
       "    </tr>\n",
       "    <tr>\n",
       "      <th>235</th>\n",
       "      <td>171</td>\n",
       "      <td>72</td>\n",
       "      <td>0</td>\n",
       "      <td>0</td>\n",
       "      <td>43.6</td>\n",
       "      <td>0.479</td>\n",
       "      <td>26</td>\n",
       "    </tr>\n",
       "    <tr>\n",
       "      <th>37</th>\n",
       "      <td>102</td>\n",
       "      <td>76</td>\n",
       "      <td>37</td>\n",
       "      <td>0</td>\n",
       "      <td>32.9</td>\n",
       "      <td>0.665</td>\n",
       "      <td>46</td>\n",
       "    </tr>\n",
       "  </tbody>\n",
       "</table>\n",
       "<p>537 rows × 7 columns</p>\n",
       "</div>"
      ],
      "text/plain": [
       "     glu  bp  skinThickness  insulin   bmi    dpf  age\n",
       "88   136  70             32      110  37.1  0.153   43\n",
       "467   97  64             36      100  36.8  0.600   25\n",
       "550  116  70             28        0  27.4  0.204   21\n",
       "147  106  64             35      119  30.5  1.400   34\n",
       "481  123  88             37        0  35.2  0.197   29\n",
       "..   ...  ..            ...      ...   ...    ...  ...\n",
       "645  157  74             35      440  39.4  0.134   30\n",
       "715  187  50             33      392  33.9  0.826   34\n",
       "72   126  90              0        0  43.4  0.583   42\n",
       "235  171  72              0        0  43.6  0.479   26\n",
       "37   102  76             37        0  32.9  0.665   46\n",
       "\n",
       "[537 rows x 7 columns]"
      ]
     },
     "execution_count": 425,
     "metadata": {},
     "output_type": "execute_result"
    }
   ],
   "source": [
    "X_train_ = X_train.drop(columns=['preg'])\n",
    "\n",
    "X_train_"
   ]
  },
  {
   "cell_type": "markdown",
   "id": "345e58ea",
   "metadata": {},
   "source": [
    "\n",
    "\n",
    "\n",
    "The reason behind droping 'preg' below is so that, it does not get transformed where it has zero values. As, pregnancy can be zero in any case."
   ]
  },
  {
   "cell_type": "code",
   "execution_count": 426,
   "id": "652d5cd9",
   "metadata": {},
   "outputs": [
    {
     "data": {
      "text/html": [
       "<div>\n",
       "<style scoped>\n",
       "    .dataframe tbody tr th:only-of-type {\n",
       "        vertical-align: middle;\n",
       "    }\n",
       "\n",
       "    .dataframe tbody tr th {\n",
       "        vertical-align: top;\n",
       "    }\n",
       "\n",
       "    .dataframe thead th {\n",
       "        text-align: right;\n",
       "    }\n",
       "</style>\n",
       "<table border=\"1\" class=\"dataframe\">\n",
       "  <thead>\n",
       "    <tr style=\"text-align: right;\">\n",
       "      <th></th>\n",
       "      <th>glu</th>\n",
       "      <th>bp</th>\n",
       "      <th>skinThickness</th>\n",
       "      <th>insulin</th>\n",
       "      <th>bmi</th>\n",
       "      <th>dpf</th>\n",
       "      <th>age</th>\n",
       "    </tr>\n",
       "  </thead>\n",
       "  <tbody>\n",
       "    <tr>\n",
       "      <th>285</th>\n",
       "      <td>136</td>\n",
       "      <td>74</td>\n",
       "      <td>26</td>\n",
       "      <td>135</td>\n",
       "      <td>26.0</td>\n",
       "      <td>0.647</td>\n",
       "      <td>51</td>\n",
       "    </tr>\n",
       "    <tr>\n",
       "      <th>101</th>\n",
       "      <td>151</td>\n",
       "      <td>60</td>\n",
       "      <td>0</td>\n",
       "      <td>0</td>\n",
       "      <td>26.1</td>\n",
       "      <td>0.179</td>\n",
       "      <td>22</td>\n",
       "    </tr>\n",
       "    <tr>\n",
       "      <th>581</th>\n",
       "      <td>109</td>\n",
       "      <td>60</td>\n",
       "      <td>27</td>\n",
       "      <td>0</td>\n",
       "      <td>25.0</td>\n",
       "      <td>0.206</td>\n",
       "      <td>27</td>\n",
       "    </tr>\n",
       "    <tr>\n",
       "      <th>352</th>\n",
       "      <td>61</td>\n",
       "      <td>82</td>\n",
       "      <td>28</td>\n",
       "      <td>0</td>\n",
       "      <td>34.4</td>\n",
       "      <td>0.243</td>\n",
       "      <td>46</td>\n",
       "    </tr>\n",
       "    <tr>\n",
       "      <th>726</th>\n",
       "      <td>116</td>\n",
       "      <td>78</td>\n",
       "      <td>29</td>\n",
       "      <td>180</td>\n",
       "      <td>36.1</td>\n",
       "      <td>0.496</td>\n",
       "      <td>25</td>\n",
       "    </tr>\n",
       "    <tr>\n",
       "      <th>...</th>\n",
       "      <td>...</td>\n",
       "      <td>...</td>\n",
       "      <td>...</td>\n",
       "      <td>...</td>\n",
       "      <td>...</td>\n",
       "      <td>...</td>\n",
       "      <td>...</td>\n",
       "    </tr>\n",
       "    <tr>\n",
       "      <th>241</th>\n",
       "      <td>91</td>\n",
       "      <td>70</td>\n",
       "      <td>32</td>\n",
       "      <td>88</td>\n",
       "      <td>33.1</td>\n",
       "      <td>0.446</td>\n",
       "      <td>22</td>\n",
       "    </tr>\n",
       "    <tr>\n",
       "      <th>599</th>\n",
       "      <td>109</td>\n",
       "      <td>38</td>\n",
       "      <td>18</td>\n",
       "      <td>120</td>\n",
       "      <td>23.1</td>\n",
       "      <td>0.407</td>\n",
       "      <td>26</td>\n",
       "    </tr>\n",
       "    <tr>\n",
       "      <th>650</th>\n",
       "      <td>91</td>\n",
       "      <td>54</td>\n",
       "      <td>25</td>\n",
       "      <td>100</td>\n",
       "      <td>25.2</td>\n",
       "      <td>0.234</td>\n",
       "      <td>23</td>\n",
       "    </tr>\n",
       "    <tr>\n",
       "      <th>11</th>\n",
       "      <td>168</td>\n",
       "      <td>74</td>\n",
       "      <td>0</td>\n",
       "      <td>0</td>\n",
       "      <td>38.0</td>\n",
       "      <td>0.537</td>\n",
       "      <td>34</td>\n",
       "    </tr>\n",
       "    <tr>\n",
       "      <th>214</th>\n",
       "      <td>112</td>\n",
       "      <td>82</td>\n",
       "      <td>32</td>\n",
       "      <td>175</td>\n",
       "      <td>34.2</td>\n",
       "      <td>0.260</td>\n",
       "      <td>36</td>\n",
       "    </tr>\n",
       "  </tbody>\n",
       "</table>\n",
       "<p>231 rows × 7 columns</p>\n",
       "</div>"
      ],
      "text/plain": [
       "     glu  bp  skinThickness  insulin   bmi    dpf  age\n",
       "285  136  74             26      135  26.0  0.647   51\n",
       "101  151  60              0        0  26.1  0.179   22\n",
       "581  109  60             27        0  25.0  0.206   27\n",
       "352   61  82             28        0  34.4  0.243   46\n",
       "726  116  78             29      180  36.1  0.496   25\n",
       "..   ...  ..            ...      ...   ...    ...  ...\n",
       "241   91  70             32       88  33.1  0.446   22\n",
       "599  109  38             18      120  23.1  0.407   26\n",
       "650   91  54             25      100  25.2  0.234   23\n",
       "11   168  74              0        0  38.0  0.537   34\n",
       "214  112  82             32      175  34.2  0.260   36\n",
       "\n",
       "[231 rows x 7 columns]"
      ]
     },
     "execution_count": 426,
     "metadata": {},
     "output_type": "execute_result"
    }
   ],
   "source": [
    "X_test_ = X_test.drop(columns=['preg'])\n",
    "\n",
    "X_test_"
   ]
  },
  {
   "cell_type": "code",
   "execution_count": null,
   "id": "6d67e7b0",
   "metadata": {},
   "outputs": [],
   "source": []
  },
  {
   "cell_type": "code",
   "execution_count": 427,
   "id": "1c5970dd",
   "metadata": {},
   "outputs": [
    {
     "data": {
      "text/plain": [
       "SimpleImputer(missing_values=0)"
      ]
     },
     "execution_count": 427,
     "metadata": {},
     "output_type": "execute_result"
    }
   ],
   "source": [
    "imp.fit(X_train_)"
   ]
  },
  {
   "cell_type": "code",
   "execution_count": null,
   "id": "6ad7de37",
   "metadata": {},
   "outputs": [],
   "source": []
  },
  {
   "cell_type": "code",
   "execution_count": 428,
   "id": "6d855ebc",
   "metadata": {},
   "outputs": [],
   "source": [
    "X_train_imputed = imp.transform(X_train_)\n",
    "\n",
    "X_test_imputed = imp.transform(X_test_)"
   ]
  },
  {
   "cell_type": "code",
   "execution_count": 429,
   "id": "1e2dabe2",
   "metadata": {},
   "outputs": [
    {
     "data": {
      "text/plain": [
       "array([[1.36000000e+02, 7.00000000e+01, 3.20000000e+01, ...,\n",
       "        3.71000000e+01, 1.53000000e-01, 4.30000000e+01],\n",
       "       [9.70000000e+01, 6.40000000e+01, 3.60000000e+01, ...,\n",
       "        3.68000000e+01, 6.00000000e-01, 2.50000000e+01],\n",
       "       [1.16000000e+02, 7.00000000e+01, 2.80000000e+01, ...,\n",
       "        2.74000000e+01, 2.04000000e-01, 2.10000000e+01],\n",
       "       ...,\n",
       "       [1.26000000e+02, 9.00000000e+01, 2.86721311e+01, ...,\n",
       "        4.34000000e+01, 5.83000000e-01, 4.20000000e+01],\n",
       "       [1.71000000e+02, 7.20000000e+01, 2.86721311e+01, ...,\n",
       "        4.36000000e+01, 4.79000000e-01, 2.60000000e+01],\n",
       "       [1.02000000e+02, 7.60000000e+01, 3.70000000e+01, ...,\n",
       "        3.29000000e+01, 6.65000000e-01, 4.60000000e+01]])"
      ]
     },
     "execution_count": 429,
     "metadata": {},
     "output_type": "execute_result"
    }
   ],
   "source": [
    "X_train_imputed"
   ]
  },
  {
   "cell_type": "code",
   "execution_count": 430,
   "id": "2c5156ec",
   "metadata": {},
   "outputs": [
    {
     "data": {
      "text/plain": [
       "array([[136.        ,  74.        ,  26.        , ...,  26.        ,\n",
       "          0.647     ,  51.        ],\n",
       "       [151.        ,  60.        ,  28.67213115, ...,  26.1       ,\n",
       "          0.179     ,  22.        ],\n",
       "       [109.        ,  60.        ,  27.        , ...,  25.        ,\n",
       "          0.206     ,  27.        ],\n",
       "       ...,\n",
       "       [ 91.        ,  54.        ,  25.        , ...,  25.2       ,\n",
       "          0.234     ,  23.        ],\n",
       "       [168.        ,  74.        ,  28.67213115, ...,  38.        ,\n",
       "          0.537     ,  34.        ],\n",
       "       [112.        ,  82.        ,  32.        , ...,  34.2       ,\n",
       "          0.26      ,  36.        ]])"
      ]
     },
     "execution_count": 430,
     "metadata": {},
     "output_type": "execute_result"
    }
   ],
   "source": [
    "X_test_imputed"
   ]
  },
  {
   "cell_type": "code",
   "execution_count": 431,
   "id": "9a464ab3",
   "metadata": {},
   "outputs": [],
   "source": [
    "X_train_imputed = pd.DataFrame(X_train_imputed)\n",
    "X_test_imputed = pd.DataFrame(X_test_imputed)"
   ]
  },
  {
   "cell_type": "code",
   "execution_count": 432,
   "id": "df8c4076",
   "metadata": {},
   "outputs": [
    {
     "data": {
      "text/html": [
       "<div>\n",
       "<style scoped>\n",
       "    .dataframe tbody tr th:only-of-type {\n",
       "        vertical-align: middle;\n",
       "    }\n",
       "\n",
       "    .dataframe tbody tr th {\n",
       "        vertical-align: top;\n",
       "    }\n",
       "\n",
       "    .dataframe thead th {\n",
       "        text-align: right;\n",
       "    }\n",
       "</style>\n",
       "<table border=\"1\" class=\"dataframe\">\n",
       "  <thead>\n",
       "    <tr style=\"text-align: right;\">\n",
       "      <th></th>\n",
       "      <th>0</th>\n",
       "      <th>1</th>\n",
       "      <th>2</th>\n",
       "      <th>3</th>\n",
       "      <th>4</th>\n",
       "      <th>5</th>\n",
       "      <th>6</th>\n",
       "    </tr>\n",
       "  </thead>\n",
       "  <tbody>\n",
       "    <tr>\n",
       "      <th>0</th>\n",
       "      <td>136.0</td>\n",
       "      <td>70.0</td>\n",
       "      <td>32.000000</td>\n",
       "      <td>110.000000</td>\n",
       "      <td>37.1</td>\n",
       "      <td>0.153</td>\n",
       "      <td>43.0</td>\n",
       "    </tr>\n",
       "    <tr>\n",
       "      <th>1</th>\n",
       "      <td>97.0</td>\n",
       "      <td>64.0</td>\n",
       "      <td>36.000000</td>\n",
       "      <td>100.000000</td>\n",
       "      <td>36.8</td>\n",
       "      <td>0.600</td>\n",
       "      <td>25.0</td>\n",
       "    </tr>\n",
       "    <tr>\n",
       "      <th>2</th>\n",
       "      <td>116.0</td>\n",
       "      <td>70.0</td>\n",
       "      <td>28.000000</td>\n",
       "      <td>158.243346</td>\n",
       "      <td>27.4</td>\n",
       "      <td>0.204</td>\n",
       "      <td>21.0</td>\n",
       "    </tr>\n",
       "    <tr>\n",
       "      <th>3</th>\n",
       "      <td>106.0</td>\n",
       "      <td>64.0</td>\n",
       "      <td>35.000000</td>\n",
       "      <td>119.000000</td>\n",
       "      <td>30.5</td>\n",
       "      <td>1.400</td>\n",
       "      <td>34.0</td>\n",
       "    </tr>\n",
       "    <tr>\n",
       "      <th>4</th>\n",
       "      <td>123.0</td>\n",
       "      <td>88.0</td>\n",
       "      <td>37.000000</td>\n",
       "      <td>158.243346</td>\n",
       "      <td>35.2</td>\n",
       "      <td>0.197</td>\n",
       "      <td>29.0</td>\n",
       "    </tr>\n",
       "    <tr>\n",
       "      <th>...</th>\n",
       "      <td>...</td>\n",
       "      <td>...</td>\n",
       "      <td>...</td>\n",
       "      <td>...</td>\n",
       "      <td>...</td>\n",
       "      <td>...</td>\n",
       "      <td>...</td>\n",
       "    </tr>\n",
       "    <tr>\n",
       "      <th>532</th>\n",
       "      <td>157.0</td>\n",
       "      <td>74.0</td>\n",
       "      <td>35.000000</td>\n",
       "      <td>440.000000</td>\n",
       "      <td>39.4</td>\n",
       "      <td>0.134</td>\n",
       "      <td>30.0</td>\n",
       "    </tr>\n",
       "    <tr>\n",
       "      <th>533</th>\n",
       "      <td>187.0</td>\n",
       "      <td>50.0</td>\n",
       "      <td>33.000000</td>\n",
       "      <td>392.000000</td>\n",
       "      <td>33.9</td>\n",
       "      <td>0.826</td>\n",
       "      <td>34.0</td>\n",
       "    </tr>\n",
       "    <tr>\n",
       "      <th>534</th>\n",
       "      <td>126.0</td>\n",
       "      <td>90.0</td>\n",
       "      <td>28.672131</td>\n",
       "      <td>158.243346</td>\n",
       "      <td>43.4</td>\n",
       "      <td>0.583</td>\n",
       "      <td>42.0</td>\n",
       "    </tr>\n",
       "    <tr>\n",
       "      <th>535</th>\n",
       "      <td>171.0</td>\n",
       "      <td>72.0</td>\n",
       "      <td>28.672131</td>\n",
       "      <td>158.243346</td>\n",
       "      <td>43.6</td>\n",
       "      <td>0.479</td>\n",
       "      <td>26.0</td>\n",
       "    </tr>\n",
       "    <tr>\n",
       "      <th>536</th>\n",
       "      <td>102.0</td>\n",
       "      <td>76.0</td>\n",
       "      <td>37.000000</td>\n",
       "      <td>158.243346</td>\n",
       "      <td>32.9</td>\n",
       "      <td>0.665</td>\n",
       "      <td>46.0</td>\n",
       "    </tr>\n",
       "  </tbody>\n",
       "</table>\n",
       "<p>537 rows × 7 columns</p>\n",
       "</div>"
      ],
      "text/plain": [
       "         0     1          2           3     4      5     6\n",
       "0    136.0  70.0  32.000000  110.000000  37.1  0.153  43.0\n",
       "1     97.0  64.0  36.000000  100.000000  36.8  0.600  25.0\n",
       "2    116.0  70.0  28.000000  158.243346  27.4  0.204  21.0\n",
       "3    106.0  64.0  35.000000  119.000000  30.5  1.400  34.0\n",
       "4    123.0  88.0  37.000000  158.243346  35.2  0.197  29.0\n",
       "..     ...   ...        ...         ...   ...    ...   ...\n",
       "532  157.0  74.0  35.000000  440.000000  39.4  0.134  30.0\n",
       "533  187.0  50.0  33.000000  392.000000  33.9  0.826  34.0\n",
       "534  126.0  90.0  28.672131  158.243346  43.4  0.583  42.0\n",
       "535  171.0  72.0  28.672131  158.243346  43.6  0.479  26.0\n",
       "536  102.0  76.0  37.000000  158.243346  32.9  0.665  46.0\n",
       "\n",
       "[537 rows x 7 columns]"
      ]
     },
     "execution_count": 432,
     "metadata": {},
     "output_type": "execute_result"
    }
   ],
   "source": [
    "X_train_imputed"
   ]
  },
  {
   "cell_type": "code",
   "execution_count": 433,
   "id": "77382325",
   "metadata": {},
   "outputs": [
    {
     "data": {
      "text/html": [
       "<div>\n",
       "<style scoped>\n",
       "    .dataframe tbody tr th:only-of-type {\n",
       "        vertical-align: middle;\n",
       "    }\n",
       "\n",
       "    .dataframe tbody tr th {\n",
       "        vertical-align: top;\n",
       "    }\n",
       "\n",
       "    .dataframe thead th {\n",
       "        text-align: right;\n",
       "    }\n",
       "</style>\n",
       "<table border=\"1\" class=\"dataframe\">\n",
       "  <thead>\n",
       "    <tr style=\"text-align: right;\">\n",
       "      <th></th>\n",
       "      <th>0</th>\n",
       "      <th>1</th>\n",
       "      <th>2</th>\n",
       "      <th>3</th>\n",
       "      <th>4</th>\n",
       "      <th>5</th>\n",
       "      <th>6</th>\n",
       "    </tr>\n",
       "  </thead>\n",
       "  <tbody>\n",
       "    <tr>\n",
       "      <th>0</th>\n",
       "      <td>136.0</td>\n",
       "      <td>74.0</td>\n",
       "      <td>26.000000</td>\n",
       "      <td>135.000000</td>\n",
       "      <td>26.0</td>\n",
       "      <td>0.647</td>\n",
       "      <td>51.0</td>\n",
       "    </tr>\n",
       "    <tr>\n",
       "      <th>1</th>\n",
       "      <td>151.0</td>\n",
       "      <td>60.0</td>\n",
       "      <td>28.672131</td>\n",
       "      <td>158.243346</td>\n",
       "      <td>26.1</td>\n",
       "      <td>0.179</td>\n",
       "      <td>22.0</td>\n",
       "    </tr>\n",
       "    <tr>\n",
       "      <th>2</th>\n",
       "      <td>109.0</td>\n",
       "      <td>60.0</td>\n",
       "      <td>27.000000</td>\n",
       "      <td>158.243346</td>\n",
       "      <td>25.0</td>\n",
       "      <td>0.206</td>\n",
       "      <td>27.0</td>\n",
       "    </tr>\n",
       "    <tr>\n",
       "      <th>3</th>\n",
       "      <td>61.0</td>\n",
       "      <td>82.0</td>\n",
       "      <td>28.000000</td>\n",
       "      <td>158.243346</td>\n",
       "      <td>34.4</td>\n",
       "      <td>0.243</td>\n",
       "      <td>46.0</td>\n",
       "    </tr>\n",
       "    <tr>\n",
       "      <th>4</th>\n",
       "      <td>116.0</td>\n",
       "      <td>78.0</td>\n",
       "      <td>29.000000</td>\n",
       "      <td>180.000000</td>\n",
       "      <td>36.1</td>\n",
       "      <td>0.496</td>\n",
       "      <td>25.0</td>\n",
       "    </tr>\n",
       "    <tr>\n",
       "      <th>...</th>\n",
       "      <td>...</td>\n",
       "      <td>...</td>\n",
       "      <td>...</td>\n",
       "      <td>...</td>\n",
       "      <td>...</td>\n",
       "      <td>...</td>\n",
       "      <td>...</td>\n",
       "    </tr>\n",
       "    <tr>\n",
       "      <th>226</th>\n",
       "      <td>91.0</td>\n",
       "      <td>70.0</td>\n",
       "      <td>32.000000</td>\n",
       "      <td>88.000000</td>\n",
       "      <td>33.1</td>\n",
       "      <td>0.446</td>\n",
       "      <td>22.0</td>\n",
       "    </tr>\n",
       "    <tr>\n",
       "      <th>227</th>\n",
       "      <td>109.0</td>\n",
       "      <td>38.0</td>\n",
       "      <td>18.000000</td>\n",
       "      <td>120.000000</td>\n",
       "      <td>23.1</td>\n",
       "      <td>0.407</td>\n",
       "      <td>26.0</td>\n",
       "    </tr>\n",
       "    <tr>\n",
       "      <th>228</th>\n",
       "      <td>91.0</td>\n",
       "      <td>54.0</td>\n",
       "      <td>25.000000</td>\n",
       "      <td>100.000000</td>\n",
       "      <td>25.2</td>\n",
       "      <td>0.234</td>\n",
       "      <td>23.0</td>\n",
       "    </tr>\n",
       "    <tr>\n",
       "      <th>229</th>\n",
       "      <td>168.0</td>\n",
       "      <td>74.0</td>\n",
       "      <td>28.672131</td>\n",
       "      <td>158.243346</td>\n",
       "      <td>38.0</td>\n",
       "      <td>0.537</td>\n",
       "      <td>34.0</td>\n",
       "    </tr>\n",
       "    <tr>\n",
       "      <th>230</th>\n",
       "      <td>112.0</td>\n",
       "      <td>82.0</td>\n",
       "      <td>32.000000</td>\n",
       "      <td>175.000000</td>\n",
       "      <td>34.2</td>\n",
       "      <td>0.260</td>\n",
       "      <td>36.0</td>\n",
       "    </tr>\n",
       "  </tbody>\n",
       "</table>\n",
       "<p>231 rows × 7 columns</p>\n",
       "</div>"
      ],
      "text/plain": [
       "         0     1          2           3     4      5     6\n",
       "0    136.0  74.0  26.000000  135.000000  26.0  0.647  51.0\n",
       "1    151.0  60.0  28.672131  158.243346  26.1  0.179  22.0\n",
       "2    109.0  60.0  27.000000  158.243346  25.0  0.206  27.0\n",
       "3     61.0  82.0  28.000000  158.243346  34.4  0.243  46.0\n",
       "4    116.0  78.0  29.000000  180.000000  36.1  0.496  25.0\n",
       "..     ...   ...        ...         ...   ...    ...   ...\n",
       "226   91.0  70.0  32.000000   88.000000  33.1  0.446  22.0\n",
       "227  109.0  38.0  18.000000  120.000000  23.1  0.407  26.0\n",
       "228   91.0  54.0  25.000000  100.000000  25.2  0.234  23.0\n",
       "229  168.0  74.0  28.672131  158.243346  38.0  0.537  34.0\n",
       "230  112.0  82.0  32.000000  175.000000  34.2  0.260  36.0\n",
       "\n",
       "[231 rows x 7 columns]"
      ]
     },
     "execution_count": 433,
     "metadata": {},
     "output_type": "execute_result"
    }
   ],
   "source": [
    "X_test_imputed"
   ]
  },
  {
   "cell_type": "markdown",
   "id": "2e28d5dd",
   "metadata": {},
   "source": [
    "Renaming the column names from [0,1,2,3,4,5,6] to the original names in X_train_imputed and X_test_imputed :-"
   ]
  },
  {
   "cell_type": "code",
   "execution_count": 434,
   "id": "e6cfa0e5",
   "metadata": {},
   "outputs": [],
   "source": [
    "X_train_imputed.columns = X_test_imputed.columns = \\\n",
    "[ 'glu', 'bp', 'skinThickness', 'insulin', 'bmi', 'dpf', 'age']"
   ]
  },
  {
   "cell_type": "markdown",
   "id": "223e783c",
   "metadata": {},
   "source": [
    "The number of missing values (i.e. zeroes) now in the X_train_imputed and X_test_imputed :-"
   ]
  },
  {
   "cell_type": "code",
   "execution_count": 435,
   "id": "3a16ef36",
   "metadata": {},
   "outputs": [
    {
     "name": "stdout",
     "output_type": "stream",
     "text": [
      "Number of missing values in glu are : 0\n",
      "Number of missing values in bp are : 0\n",
      "Number of missing values in skinThickness are : 0\n",
      "Number of missing values in insulin are : 0\n",
      "Number of missing values in bmi are : 0\n",
      "Number of missing values in dpf are : 0\n",
      "Number of missing values in age are : 0\n"
     ]
    }
   ],
   "source": [
    "# Using the function defined above in the notebook to find out the zeroes in columns of any given dataframe :\n",
    "\n",
    "columns_zero_verification = ['glu', 'bp', 'skinThickness', 'insulin', 'bmi', 'dpf', 'age']\n",
    "\n",
    "# X_train_imputed results :\n",
    "zeroes_in_columns(columns_zero_verification, X_train_imputed)"
   ]
  },
  {
   "cell_type": "code",
   "execution_count": 436,
   "id": "5188a400",
   "metadata": {},
   "outputs": [
    {
     "name": "stdout",
     "output_type": "stream",
     "text": [
      "Number of missing values in glu are : 0\n",
      "Number of missing values in bp are : 0\n",
      "Number of missing values in skinThickness are : 0\n",
      "Number of missing values in insulin are : 0\n",
      "Number of missing values in bmi are : 0\n",
      "Number of missing values in dpf are : 0\n",
      "Number of missing values in age are : 0\n"
     ]
    }
   ],
   "source": [
    "# X_test_imputed results :\n",
    "zeroes_in_columns(columns_zero_verification, X_test_imputed)"
   ]
  },
  {
   "cell_type": "markdown",
   "id": "a8918d86",
   "metadata": {},
   "source": [
    "Getting the 'preg' column in 'X_train_imputed' and 'X_test_imputed':-"
   ]
  },
  {
   "cell_type": "code",
   "execution_count": 437,
   "id": "f68811a4",
   "metadata": {},
   "outputs": [
    {
     "data": {
      "text/html": [
       "<div>\n",
       "<style scoped>\n",
       "    .dataframe tbody tr th:only-of-type {\n",
       "        vertical-align: middle;\n",
       "    }\n",
       "\n",
       "    .dataframe tbody tr th {\n",
       "        vertical-align: top;\n",
       "    }\n",
       "\n",
       "    .dataframe thead th {\n",
       "        text-align: right;\n",
       "    }\n",
       "</style>\n",
       "<table border=\"1\" class=\"dataframe\">\n",
       "  <thead>\n",
       "    <tr style=\"text-align: right;\">\n",
       "      <th></th>\n",
       "      <th>preg</th>\n",
       "      <th>glu</th>\n",
       "      <th>bp</th>\n",
       "      <th>skinThickness</th>\n",
       "      <th>insulin</th>\n",
       "      <th>bmi</th>\n",
       "      <th>dpf</th>\n",
       "      <th>age</th>\n",
       "    </tr>\n",
       "  </thead>\n",
       "  <tbody>\n",
       "    <tr>\n",
       "      <th>0</th>\n",
       "      <td>15</td>\n",
       "      <td>136.0</td>\n",
       "      <td>70.0</td>\n",
       "      <td>32.000000</td>\n",
       "      <td>110.000000</td>\n",
       "      <td>37.1</td>\n",
       "      <td>0.153</td>\n",
       "      <td>43.0</td>\n",
       "    </tr>\n",
       "    <tr>\n",
       "      <th>1</th>\n",
       "      <td>0</td>\n",
       "      <td>97.0</td>\n",
       "      <td>64.0</td>\n",
       "      <td>36.000000</td>\n",
       "      <td>100.000000</td>\n",
       "      <td>36.8</td>\n",
       "      <td>0.600</td>\n",
       "      <td>25.0</td>\n",
       "    </tr>\n",
       "    <tr>\n",
       "      <th>2</th>\n",
       "      <td>1</td>\n",
       "      <td>116.0</td>\n",
       "      <td>70.0</td>\n",
       "      <td>28.000000</td>\n",
       "      <td>158.243346</td>\n",
       "      <td>27.4</td>\n",
       "      <td>0.204</td>\n",
       "      <td>21.0</td>\n",
       "    </tr>\n",
       "    <tr>\n",
       "      <th>3</th>\n",
       "      <td>2</td>\n",
       "      <td>106.0</td>\n",
       "      <td>64.0</td>\n",
       "      <td>35.000000</td>\n",
       "      <td>119.000000</td>\n",
       "      <td>30.5</td>\n",
       "      <td>1.400</td>\n",
       "      <td>34.0</td>\n",
       "    </tr>\n",
       "    <tr>\n",
       "      <th>4</th>\n",
       "      <td>0</td>\n",
       "      <td>123.0</td>\n",
       "      <td>88.0</td>\n",
       "      <td>37.000000</td>\n",
       "      <td>158.243346</td>\n",
       "      <td>35.2</td>\n",
       "      <td>0.197</td>\n",
       "      <td>29.0</td>\n",
       "    </tr>\n",
       "    <tr>\n",
       "      <th>...</th>\n",
       "      <td>...</td>\n",
       "      <td>...</td>\n",
       "      <td>...</td>\n",
       "      <td>...</td>\n",
       "      <td>...</td>\n",
       "      <td>...</td>\n",
       "      <td>...</td>\n",
       "      <td>...</td>\n",
       "    </tr>\n",
       "    <tr>\n",
       "      <th>532</th>\n",
       "      <td>2</td>\n",
       "      <td>157.0</td>\n",
       "      <td>74.0</td>\n",
       "      <td>35.000000</td>\n",
       "      <td>440.000000</td>\n",
       "      <td>39.4</td>\n",
       "      <td>0.134</td>\n",
       "      <td>30.0</td>\n",
       "    </tr>\n",
       "    <tr>\n",
       "      <th>533</th>\n",
       "      <td>7</td>\n",
       "      <td>187.0</td>\n",
       "      <td>50.0</td>\n",
       "      <td>33.000000</td>\n",
       "      <td>392.000000</td>\n",
       "      <td>33.9</td>\n",
       "      <td>0.826</td>\n",
       "      <td>34.0</td>\n",
       "    </tr>\n",
       "    <tr>\n",
       "      <th>534</th>\n",
       "      <td>13</td>\n",
       "      <td>126.0</td>\n",
       "      <td>90.0</td>\n",
       "      <td>28.672131</td>\n",
       "      <td>158.243346</td>\n",
       "      <td>43.4</td>\n",
       "      <td>0.583</td>\n",
       "      <td>42.0</td>\n",
       "    </tr>\n",
       "    <tr>\n",
       "      <th>535</th>\n",
       "      <td>4</td>\n",
       "      <td>171.0</td>\n",
       "      <td>72.0</td>\n",
       "      <td>28.672131</td>\n",
       "      <td>158.243346</td>\n",
       "      <td>43.6</td>\n",
       "      <td>0.479</td>\n",
       "      <td>26.0</td>\n",
       "    </tr>\n",
       "    <tr>\n",
       "      <th>536</th>\n",
       "      <td>9</td>\n",
       "      <td>102.0</td>\n",
       "      <td>76.0</td>\n",
       "      <td>37.000000</td>\n",
       "      <td>158.243346</td>\n",
       "      <td>32.9</td>\n",
       "      <td>0.665</td>\n",
       "      <td>46.0</td>\n",
       "    </tr>\n",
       "  </tbody>\n",
       "</table>\n",
       "<p>537 rows × 8 columns</p>\n",
       "</div>"
      ],
      "text/plain": [
       "     preg    glu    bp  skinThickness     insulin   bmi    dpf   age\n",
       "0      15  136.0  70.0      32.000000  110.000000  37.1  0.153  43.0\n",
       "1       0   97.0  64.0      36.000000  100.000000  36.8  0.600  25.0\n",
       "2       1  116.0  70.0      28.000000  158.243346  27.4  0.204  21.0\n",
       "3       2  106.0  64.0      35.000000  119.000000  30.5  1.400  34.0\n",
       "4       0  123.0  88.0      37.000000  158.243346  35.2  0.197  29.0\n",
       "..    ...    ...   ...            ...         ...   ...    ...   ...\n",
       "532     2  157.0  74.0      35.000000  440.000000  39.4  0.134  30.0\n",
       "533     7  187.0  50.0      33.000000  392.000000  33.9  0.826  34.0\n",
       "534    13  126.0  90.0      28.672131  158.243346  43.4  0.583  42.0\n",
       "535     4  171.0  72.0      28.672131  158.243346  43.6  0.479  26.0\n",
       "536     9  102.0  76.0      37.000000  158.243346  32.9  0.665  46.0\n",
       "\n",
       "[537 rows x 8 columns]"
      ]
     },
     "execution_count": 437,
     "metadata": {},
     "output_type": "execute_result"
    }
   ],
   "source": [
    "preg = np.array(X_train['preg'])\n",
    "\n",
    "X_train_imputed.insert(0, \"preg\", preg, True)\n",
    "\n",
    "X_train_imputed"
   ]
  },
  {
   "cell_type": "code",
   "execution_count": 438,
   "id": "4ea9b3b5",
   "metadata": {},
   "outputs": [
    {
     "data": {
      "text/html": [
       "<div>\n",
       "<style scoped>\n",
       "    .dataframe tbody tr th:only-of-type {\n",
       "        vertical-align: middle;\n",
       "    }\n",
       "\n",
       "    .dataframe tbody tr th {\n",
       "        vertical-align: top;\n",
       "    }\n",
       "\n",
       "    .dataframe thead th {\n",
       "        text-align: right;\n",
       "    }\n",
       "</style>\n",
       "<table border=\"1\" class=\"dataframe\">\n",
       "  <thead>\n",
       "    <tr style=\"text-align: right;\">\n",
       "      <th></th>\n",
       "      <th>preg</th>\n",
       "      <th>glu</th>\n",
       "      <th>bp</th>\n",
       "      <th>skinThickness</th>\n",
       "      <th>insulin</th>\n",
       "      <th>bmi</th>\n",
       "      <th>dpf</th>\n",
       "      <th>age</th>\n",
       "    </tr>\n",
       "  </thead>\n",
       "  <tbody>\n",
       "    <tr>\n",
       "      <th>0</th>\n",
       "      <td>7</td>\n",
       "      <td>136.0</td>\n",
       "      <td>74.0</td>\n",
       "      <td>26.000000</td>\n",
       "      <td>135.000000</td>\n",
       "      <td>26.0</td>\n",
       "      <td>0.647</td>\n",
       "      <td>51.0</td>\n",
       "    </tr>\n",
       "    <tr>\n",
       "      <th>1</th>\n",
       "      <td>1</td>\n",
       "      <td>151.0</td>\n",
       "      <td>60.0</td>\n",
       "      <td>28.672131</td>\n",
       "      <td>158.243346</td>\n",
       "      <td>26.1</td>\n",
       "      <td>0.179</td>\n",
       "      <td>22.0</td>\n",
       "    </tr>\n",
       "    <tr>\n",
       "      <th>2</th>\n",
       "      <td>6</td>\n",
       "      <td>109.0</td>\n",
       "      <td>60.0</td>\n",
       "      <td>27.000000</td>\n",
       "      <td>158.243346</td>\n",
       "      <td>25.0</td>\n",
       "      <td>0.206</td>\n",
       "      <td>27.0</td>\n",
       "    </tr>\n",
       "    <tr>\n",
       "      <th>3</th>\n",
       "      <td>3</td>\n",
       "      <td>61.0</td>\n",
       "      <td>82.0</td>\n",
       "      <td>28.000000</td>\n",
       "      <td>158.243346</td>\n",
       "      <td>34.4</td>\n",
       "      <td>0.243</td>\n",
       "      <td>46.0</td>\n",
       "    </tr>\n",
       "    <tr>\n",
       "      <th>4</th>\n",
       "      <td>1</td>\n",
       "      <td>116.0</td>\n",
       "      <td>78.0</td>\n",
       "      <td>29.000000</td>\n",
       "      <td>180.000000</td>\n",
       "      <td>36.1</td>\n",
       "      <td>0.496</td>\n",
       "      <td>25.0</td>\n",
       "    </tr>\n",
       "    <tr>\n",
       "      <th>...</th>\n",
       "      <td>...</td>\n",
       "      <td>...</td>\n",
       "      <td>...</td>\n",
       "      <td>...</td>\n",
       "      <td>...</td>\n",
       "      <td>...</td>\n",
       "      <td>...</td>\n",
       "      <td>...</td>\n",
       "    </tr>\n",
       "    <tr>\n",
       "      <th>226</th>\n",
       "      <td>4</td>\n",
       "      <td>91.0</td>\n",
       "      <td>70.0</td>\n",
       "      <td>32.000000</td>\n",
       "      <td>88.000000</td>\n",
       "      <td>33.1</td>\n",
       "      <td>0.446</td>\n",
       "      <td>22.0</td>\n",
       "    </tr>\n",
       "    <tr>\n",
       "      <th>227</th>\n",
       "      <td>1</td>\n",
       "      <td>109.0</td>\n",
       "      <td>38.0</td>\n",
       "      <td>18.000000</td>\n",
       "      <td>120.000000</td>\n",
       "      <td>23.1</td>\n",
       "      <td>0.407</td>\n",
       "      <td>26.0</td>\n",
       "    </tr>\n",
       "    <tr>\n",
       "      <th>228</th>\n",
       "      <td>1</td>\n",
       "      <td>91.0</td>\n",
       "      <td>54.0</td>\n",
       "      <td>25.000000</td>\n",
       "      <td>100.000000</td>\n",
       "      <td>25.2</td>\n",
       "      <td>0.234</td>\n",
       "      <td>23.0</td>\n",
       "    </tr>\n",
       "    <tr>\n",
       "      <th>229</th>\n",
       "      <td>10</td>\n",
       "      <td>168.0</td>\n",
       "      <td>74.0</td>\n",
       "      <td>28.672131</td>\n",
       "      <td>158.243346</td>\n",
       "      <td>38.0</td>\n",
       "      <td>0.537</td>\n",
       "      <td>34.0</td>\n",
       "    </tr>\n",
       "    <tr>\n",
       "      <th>230</th>\n",
       "      <td>9</td>\n",
       "      <td>112.0</td>\n",
       "      <td>82.0</td>\n",
       "      <td>32.000000</td>\n",
       "      <td>175.000000</td>\n",
       "      <td>34.2</td>\n",
       "      <td>0.260</td>\n",
       "      <td>36.0</td>\n",
       "    </tr>\n",
       "  </tbody>\n",
       "</table>\n",
       "<p>231 rows × 8 columns</p>\n",
       "</div>"
      ],
      "text/plain": [
       "     preg    glu    bp  skinThickness     insulin   bmi    dpf   age\n",
       "0       7  136.0  74.0      26.000000  135.000000  26.0  0.647  51.0\n",
       "1       1  151.0  60.0      28.672131  158.243346  26.1  0.179  22.0\n",
       "2       6  109.0  60.0      27.000000  158.243346  25.0  0.206  27.0\n",
       "3       3   61.0  82.0      28.000000  158.243346  34.4  0.243  46.0\n",
       "4       1  116.0  78.0      29.000000  180.000000  36.1  0.496  25.0\n",
       "..    ...    ...   ...            ...         ...   ...    ...   ...\n",
       "226     4   91.0  70.0      32.000000   88.000000  33.1  0.446  22.0\n",
       "227     1  109.0  38.0      18.000000  120.000000  23.1  0.407  26.0\n",
       "228     1   91.0  54.0      25.000000  100.000000  25.2  0.234  23.0\n",
       "229    10  168.0  74.0      28.672131  158.243346  38.0  0.537  34.0\n",
       "230     9  112.0  82.0      32.000000  175.000000  34.2  0.260  36.0\n",
       "\n",
       "[231 rows x 8 columns]"
      ]
     },
     "execution_count": 438,
     "metadata": {},
     "output_type": "execute_result"
    }
   ],
   "source": [
    "preg = np.array(X_test['preg'])\n",
    "\n",
    "X_test_imputed.insert(0, \"preg\", preg, True)\n",
    "\n",
    "X_test_imputed"
   ]
  },
  {
   "cell_type": "markdown",
   "id": "895dd047",
   "metadata": {},
   "source": [
    "Now, we also want to get a hint of how much the distribution of the columns have changed where we've applied mean imputation. Intuitively it seems, that there would have been significant narrowing towards the mean in distributions. :-"
   ]
  },
  {
   "cell_type": "markdown",
   "id": "c3bf4a0f",
   "metadata": {},
   "source": [
    "### Feature Scaling :-"
   ]
  },
  {
   "cell_type": "code",
   "execution_count": 439,
   "id": "047e467a",
   "metadata": {},
   "outputs": [],
   "source": [
    "norm = MinMaxScaler()"
   ]
  },
  {
   "cell_type": "code",
   "execution_count": 440,
   "id": "a9e63bc8",
   "metadata": {},
   "outputs": [
    {
     "data": {
      "text/plain": [
       "MinMaxScaler()"
      ]
     },
     "execution_count": 440,
     "metadata": {},
     "output_type": "execute_result"
    }
   ],
   "source": [
    "norm.fit(X_train_imputed)"
   ]
  },
  {
   "cell_type": "code",
   "execution_count": 441,
   "id": "9a15fba4",
   "metadata": {},
   "outputs": [
    {
     "data": {
      "text/html": [
       "<div>\n",
       "<style scoped>\n",
       "    .dataframe tbody tr th:only-of-type {\n",
       "        vertical-align: middle;\n",
       "    }\n",
       "\n",
       "    .dataframe tbody tr th {\n",
       "        vertical-align: top;\n",
       "    }\n",
       "\n",
       "    .dataframe thead th {\n",
       "        text-align: right;\n",
       "    }\n",
       "</style>\n",
       "<table border=\"1\" class=\"dataframe\">\n",
       "  <thead>\n",
       "    <tr style=\"text-align: right;\">\n",
       "      <th></th>\n",
       "      <th>0</th>\n",
       "      <th>1</th>\n",
       "      <th>2</th>\n",
       "      <th>3</th>\n",
       "      <th>4</th>\n",
       "      <th>5</th>\n",
       "      <th>6</th>\n",
       "      <th>7</th>\n",
       "    </tr>\n",
       "  </thead>\n",
       "  <tbody>\n",
       "    <tr>\n",
       "      <th>0</th>\n",
       "      <td>1.000000</td>\n",
       "      <td>0.597403</td>\n",
       "      <td>0.469388</td>\n",
       "      <td>0.271739</td>\n",
       "      <td>0.130316</td>\n",
       "      <td>0.386503</td>\n",
       "      <td>0.030303</td>\n",
       "      <td>0.431373</td>\n",
       "    </tr>\n",
       "    <tr>\n",
       "      <th>1</th>\n",
       "      <td>0.000000</td>\n",
       "      <td>0.344156</td>\n",
       "      <td>0.408163</td>\n",
       "      <td>0.315217</td>\n",
       "      <td>0.116598</td>\n",
       "      <td>0.380368</td>\n",
       "      <td>0.229501</td>\n",
       "      <td>0.078431</td>\n",
       "    </tr>\n",
       "    <tr>\n",
       "      <th>2</th>\n",
       "      <td>0.066667</td>\n",
       "      <td>0.467532</td>\n",
       "      <td>0.469388</td>\n",
       "      <td>0.228261</td>\n",
       "      <td>0.196493</td>\n",
       "      <td>0.188139</td>\n",
       "      <td>0.053030</td>\n",
       "      <td>0.000000</td>\n",
       "    </tr>\n",
       "    <tr>\n",
       "      <th>3</th>\n",
       "      <td>0.133333</td>\n",
       "      <td>0.402597</td>\n",
       "      <td>0.408163</td>\n",
       "      <td>0.304348</td>\n",
       "      <td>0.142661</td>\n",
       "      <td>0.251534</td>\n",
       "      <td>0.586007</td>\n",
       "      <td>0.254902</td>\n",
       "    </tr>\n",
       "    <tr>\n",
       "      <th>4</th>\n",
       "      <td>0.000000</td>\n",
       "      <td>0.512987</td>\n",
       "      <td>0.653061</td>\n",
       "      <td>0.326087</td>\n",
       "      <td>0.196493</td>\n",
       "      <td>0.347648</td>\n",
       "      <td>0.049911</td>\n",
       "      <td>0.156863</td>\n",
       "    </tr>\n",
       "    <tr>\n",
       "      <th>...</th>\n",
       "      <td>...</td>\n",
       "      <td>...</td>\n",
       "      <td>...</td>\n",
       "      <td>...</td>\n",
       "      <td>...</td>\n",
       "      <td>...</td>\n",
       "      <td>...</td>\n",
       "      <td>...</td>\n",
       "    </tr>\n",
       "    <tr>\n",
       "      <th>532</th>\n",
       "      <td>0.133333</td>\n",
       "      <td>0.733766</td>\n",
       "      <td>0.510204</td>\n",
       "      <td>0.304348</td>\n",
       "      <td>0.582990</td>\n",
       "      <td>0.433538</td>\n",
       "      <td>0.021836</td>\n",
       "      <td>0.176471</td>\n",
       "    </tr>\n",
       "    <tr>\n",
       "      <th>533</th>\n",
       "      <td>0.466667</td>\n",
       "      <td>0.928571</td>\n",
       "      <td>0.265306</td>\n",
       "      <td>0.282609</td>\n",
       "      <td>0.517147</td>\n",
       "      <td>0.321063</td>\n",
       "      <td>0.330214</td>\n",
       "      <td>0.254902</td>\n",
       "    </tr>\n",
       "    <tr>\n",
       "      <th>534</th>\n",
       "      <td>0.866667</td>\n",
       "      <td>0.532468</td>\n",
       "      <td>0.673469</td>\n",
       "      <td>0.235567</td>\n",
       "      <td>0.196493</td>\n",
       "      <td>0.515337</td>\n",
       "      <td>0.221925</td>\n",
       "      <td>0.411765</td>\n",
       "    </tr>\n",
       "    <tr>\n",
       "      <th>535</th>\n",
       "      <td>0.266667</td>\n",
       "      <td>0.824675</td>\n",
       "      <td>0.489796</td>\n",
       "      <td>0.235567</td>\n",
       "      <td>0.196493</td>\n",
       "      <td>0.519427</td>\n",
       "      <td>0.175579</td>\n",
       "      <td>0.098039</td>\n",
       "    </tr>\n",
       "    <tr>\n",
       "      <th>536</th>\n",
       "      <td>0.600000</td>\n",
       "      <td>0.376623</td>\n",
       "      <td>0.530612</td>\n",
       "      <td>0.326087</td>\n",
       "      <td>0.196493</td>\n",
       "      <td>0.300613</td>\n",
       "      <td>0.258467</td>\n",
       "      <td>0.490196</td>\n",
       "    </tr>\n",
       "  </tbody>\n",
       "</table>\n",
       "<p>537 rows × 8 columns</p>\n",
       "</div>"
      ],
      "text/plain": [
       "            0         1         2         3         4         5         6  \\\n",
       "0    1.000000  0.597403  0.469388  0.271739  0.130316  0.386503  0.030303   \n",
       "1    0.000000  0.344156  0.408163  0.315217  0.116598  0.380368  0.229501   \n",
       "2    0.066667  0.467532  0.469388  0.228261  0.196493  0.188139  0.053030   \n",
       "3    0.133333  0.402597  0.408163  0.304348  0.142661  0.251534  0.586007   \n",
       "4    0.000000  0.512987  0.653061  0.326087  0.196493  0.347648  0.049911   \n",
       "..        ...       ...       ...       ...       ...       ...       ...   \n",
       "532  0.133333  0.733766  0.510204  0.304348  0.582990  0.433538  0.021836   \n",
       "533  0.466667  0.928571  0.265306  0.282609  0.517147  0.321063  0.330214   \n",
       "534  0.866667  0.532468  0.673469  0.235567  0.196493  0.515337  0.221925   \n",
       "535  0.266667  0.824675  0.489796  0.235567  0.196493  0.519427  0.175579   \n",
       "536  0.600000  0.376623  0.530612  0.326087  0.196493  0.300613  0.258467   \n",
       "\n",
       "            7  \n",
       "0    0.431373  \n",
       "1    0.078431  \n",
       "2    0.000000  \n",
       "3    0.254902  \n",
       "4    0.156863  \n",
       "..        ...  \n",
       "532  0.176471  \n",
       "533  0.254902  \n",
       "534  0.411765  \n",
       "535  0.098039  \n",
       "536  0.490196  \n",
       "\n",
       "[537 rows x 8 columns]"
      ]
     },
     "execution_count": 441,
     "metadata": {},
     "output_type": "execute_result"
    }
   ],
   "source": [
    "X_train_scaled = norm.transform(X_train_imputed)\n",
    "\n",
    "X_train_scaled = pd.DataFrame(X_train_scaled)\n",
    "\n",
    "X_train_scaled"
   ]
  },
  {
   "cell_type": "code",
   "execution_count": 442,
   "id": "b7ffae88",
   "metadata": {},
   "outputs": [
    {
     "data": {
      "text/html": [
       "<div>\n",
       "<style scoped>\n",
       "    .dataframe tbody tr th:only-of-type {\n",
       "        vertical-align: middle;\n",
       "    }\n",
       "\n",
       "    .dataframe tbody tr th {\n",
       "        vertical-align: top;\n",
       "    }\n",
       "\n",
       "    .dataframe thead th {\n",
       "        text-align: right;\n",
       "    }\n",
       "</style>\n",
       "<table border=\"1\" class=\"dataframe\">\n",
       "  <thead>\n",
       "    <tr style=\"text-align: right;\">\n",
       "      <th></th>\n",
       "      <th>0</th>\n",
       "      <th>1</th>\n",
       "      <th>2</th>\n",
       "      <th>3</th>\n",
       "      <th>4</th>\n",
       "      <th>5</th>\n",
       "      <th>6</th>\n",
       "      <th>7</th>\n",
       "    </tr>\n",
       "  </thead>\n",
       "  <tbody>\n",
       "    <tr>\n",
       "      <th>0</th>\n",
       "      <td>0.466667</td>\n",
       "      <td>0.597403</td>\n",
       "      <td>0.510204</td>\n",
       "      <td>0.206522</td>\n",
       "      <td>0.164609</td>\n",
       "      <td>0.159509</td>\n",
       "      <td>0.250446</td>\n",
       "      <td>0.588235</td>\n",
       "    </tr>\n",
       "    <tr>\n",
       "      <th>1</th>\n",
       "      <td>0.066667</td>\n",
       "      <td>0.694805</td>\n",
       "      <td>0.367347</td>\n",
       "      <td>0.235567</td>\n",
       "      <td>0.196493</td>\n",
       "      <td>0.161554</td>\n",
       "      <td>0.041889</td>\n",
       "      <td>0.019608</td>\n",
       "    </tr>\n",
       "    <tr>\n",
       "      <th>2</th>\n",
       "      <td>0.400000</td>\n",
       "      <td>0.422078</td>\n",
       "      <td>0.367347</td>\n",
       "      <td>0.217391</td>\n",
       "      <td>0.196493</td>\n",
       "      <td>0.139059</td>\n",
       "      <td>0.053922</td>\n",
       "      <td>0.117647</td>\n",
       "    </tr>\n",
       "    <tr>\n",
       "      <th>3</th>\n",
       "      <td>0.200000</td>\n",
       "      <td>0.110390</td>\n",
       "      <td>0.591837</td>\n",
       "      <td>0.228261</td>\n",
       "      <td>0.196493</td>\n",
       "      <td>0.331288</td>\n",
       "      <td>0.070410</td>\n",
       "      <td>0.490196</td>\n",
       "    </tr>\n",
       "    <tr>\n",
       "      <th>4</th>\n",
       "      <td>0.066667</td>\n",
       "      <td>0.467532</td>\n",
       "      <td>0.551020</td>\n",
       "      <td>0.239130</td>\n",
       "      <td>0.226337</td>\n",
       "      <td>0.366053</td>\n",
       "      <td>0.183155</td>\n",
       "      <td>0.078431</td>\n",
       "    </tr>\n",
       "    <tr>\n",
       "      <th>...</th>\n",
       "      <td>...</td>\n",
       "      <td>...</td>\n",
       "      <td>...</td>\n",
       "      <td>...</td>\n",
       "      <td>...</td>\n",
       "      <td>...</td>\n",
       "      <td>...</td>\n",
       "      <td>...</td>\n",
       "    </tr>\n",
       "    <tr>\n",
       "      <th>226</th>\n",
       "      <td>0.266667</td>\n",
       "      <td>0.305195</td>\n",
       "      <td>0.469388</td>\n",
       "      <td>0.271739</td>\n",
       "      <td>0.100137</td>\n",
       "      <td>0.304703</td>\n",
       "      <td>0.160873</td>\n",
       "      <td>0.019608</td>\n",
       "    </tr>\n",
       "    <tr>\n",
       "      <th>227</th>\n",
       "      <td>0.066667</td>\n",
       "      <td>0.422078</td>\n",
       "      <td>0.142857</td>\n",
       "      <td>0.119565</td>\n",
       "      <td>0.144033</td>\n",
       "      <td>0.100204</td>\n",
       "      <td>0.143494</td>\n",
       "      <td>0.098039</td>\n",
       "    </tr>\n",
       "    <tr>\n",
       "      <th>228</th>\n",
       "      <td>0.066667</td>\n",
       "      <td>0.305195</td>\n",
       "      <td>0.306122</td>\n",
       "      <td>0.195652</td>\n",
       "      <td>0.116598</td>\n",
       "      <td>0.143149</td>\n",
       "      <td>0.066399</td>\n",
       "      <td>0.039216</td>\n",
       "    </tr>\n",
       "    <tr>\n",
       "      <th>229</th>\n",
       "      <td>0.666667</td>\n",
       "      <td>0.805195</td>\n",
       "      <td>0.510204</td>\n",
       "      <td>0.235567</td>\n",
       "      <td>0.196493</td>\n",
       "      <td>0.404908</td>\n",
       "      <td>0.201426</td>\n",
       "      <td>0.254902</td>\n",
       "    </tr>\n",
       "    <tr>\n",
       "      <th>230</th>\n",
       "      <td>0.600000</td>\n",
       "      <td>0.441558</td>\n",
       "      <td>0.591837</td>\n",
       "      <td>0.271739</td>\n",
       "      <td>0.219479</td>\n",
       "      <td>0.327198</td>\n",
       "      <td>0.077986</td>\n",
       "      <td>0.294118</td>\n",
       "    </tr>\n",
       "  </tbody>\n",
       "</table>\n",
       "<p>231 rows × 8 columns</p>\n",
       "</div>"
      ],
      "text/plain": [
       "            0         1         2         3         4         5         6  \\\n",
       "0    0.466667  0.597403  0.510204  0.206522  0.164609  0.159509  0.250446   \n",
       "1    0.066667  0.694805  0.367347  0.235567  0.196493  0.161554  0.041889   \n",
       "2    0.400000  0.422078  0.367347  0.217391  0.196493  0.139059  0.053922   \n",
       "3    0.200000  0.110390  0.591837  0.228261  0.196493  0.331288  0.070410   \n",
       "4    0.066667  0.467532  0.551020  0.239130  0.226337  0.366053  0.183155   \n",
       "..        ...       ...       ...       ...       ...       ...       ...   \n",
       "226  0.266667  0.305195  0.469388  0.271739  0.100137  0.304703  0.160873   \n",
       "227  0.066667  0.422078  0.142857  0.119565  0.144033  0.100204  0.143494   \n",
       "228  0.066667  0.305195  0.306122  0.195652  0.116598  0.143149  0.066399   \n",
       "229  0.666667  0.805195  0.510204  0.235567  0.196493  0.404908  0.201426   \n",
       "230  0.600000  0.441558  0.591837  0.271739  0.219479  0.327198  0.077986   \n",
       "\n",
       "            7  \n",
       "0    0.588235  \n",
       "1    0.019608  \n",
       "2    0.117647  \n",
       "3    0.490196  \n",
       "4    0.078431  \n",
       "..        ...  \n",
       "226  0.019608  \n",
       "227  0.098039  \n",
       "228  0.039216  \n",
       "229  0.254902  \n",
       "230  0.294118  \n",
       "\n",
       "[231 rows x 8 columns]"
      ]
     },
     "execution_count": 442,
     "metadata": {},
     "output_type": "execute_result"
    }
   ],
   "source": [
    "X_test_scaled = norm.transform(X_test_imputed)\n",
    "\n",
    "X_test_scaled = pd.DataFrame(X_test_scaled)\n",
    "\n",
    "X_test_scaled"
   ]
  },
  {
   "cell_type": "code",
   "execution_count": 443,
   "id": "7841be51",
   "metadata": {},
   "outputs": [],
   "source": [
    "X_train_scaled.columns = X_test_scaled.columns = \\\n",
    "[ 'preg','glu', 'bp', 'skinThickness', 'insulin', 'bmi', 'dpf', 'age']"
   ]
  },
  {
   "cell_type": "markdown",
   "id": "8f50796d",
   "metadata": {},
   "source": [
    "### Mean Imputation and Feature Scaling have been performed on the data. Now, the time is to notice the performance of algorithms after having done this :-"
   ]
  },
  {
   "cell_type": "markdown",
   "id": "e1205ffb",
   "metadata": {},
   "source": [
    "### Naive Bayes Classifier :"
   ]
  },
  {
   "cell_type": "code",
   "execution_count": 1292,
   "id": "a6abb4a9",
   "metadata": {},
   "outputs": [
    {
     "data": {
      "text/plain": [
       "78.35497835497836"
      ]
     },
     "execution_count": 1292,
     "metadata": {},
     "output_type": "execute_result"
    }
   ],
   "source": [
    "gnb_classifier = GaussianNB()\n",
    "\n",
    "gnb_classifier.fit(X_train_scaled, y_train) # Have used X_train_imputed\n",
    "\n",
    "y_pred = gnb_classifier.predict(X_test_scaled)\n",
    "\n",
    "accuracy_score_gnb = accuracy_score(y_test, y_pred)\n",
    "\n",
    "accuracy_score_gnb*100"
   ]
  },
  {
   "cell_type": "code",
   "execution_count": 1293,
   "id": "475a5548",
   "metadata": {},
   "outputs": [],
   "source": [
    "accuracy_nb_normal_2 = accuracy_score_gnb*100\n",
    "auroc_nb_normal_2 = roc_auc_score(y_test, y_pred)*100"
   ]
  },
  {
   "cell_type": "code",
   "execution_count": 1294,
   "id": "7f0f55e0",
   "metadata": {},
   "outputs": [],
   "source": [
    "naiveBayesAcc2 = accuracy_nb_normal_2\n",
    "\n",
    "naiveBayesAuroc2 = auroc_nb_normal_2"
   ]
  },
  {
   "cell_type": "code",
   "execution_count": null,
   "id": "16d4f129",
   "metadata": {},
   "outputs": [],
   "source": []
  },
  {
   "cell_type": "markdown",
   "id": "b8b92a7e",
   "metadata": {},
   "source": [
    "### KNN Technique :-"
   ]
  },
  {
   "cell_type": "code",
   "execution_count": 1298,
   "id": "1c8ed838",
   "metadata": {},
   "outputs": [
    {
     "name": "stdout",
     "output_type": "stream",
     "text": [
      "81.38528138528139% is the accuracy score in percentage form with knn.\n"
     ]
    }
   ],
   "source": [
    "neigh = KNeighborsClassifier(n_neighbors=17)\n",
    "\n",
    "neigh.fit(X_train_scaled.values, y_train.values)\n",
    "\n",
    "y_pred = neigh.predict(X_test_scaled.values)\n",
    "\n",
    "knn_accuracy_score = accuracy_score(y_test, y_pred)*100\n",
    "\n",
    "print(f\"{knn_accuracy_score}% is the accuracy score in percentage form with knn.\")"
   ]
  },
  {
   "cell_type": "code",
   "execution_count": 1299,
   "id": "ab543f65",
   "metadata": {},
   "outputs": [],
   "source": [
    "accuracy_knn_normal_2 = knn_accuracy_score\n",
    "\n",
    "auroc_knn_normal_2 = roc_auc_score(y_test, y_pred)*100"
   ]
  },
  {
   "cell_type": "code",
   "execution_count": null,
   "id": "a1e90134",
   "metadata": {},
   "outputs": [],
   "source": []
  },
  {
   "cell_type": "markdown",
   "id": "347fa335",
   "metadata": {},
   "source": [
    "####  GridSearchCV (KNN) :-"
   ]
  },
  {
   "cell_type": "code",
   "execution_count": null,
   "id": "300022d4",
   "metadata": {},
   "outputs": [],
   "source": []
  },
  {
   "cell_type": "code",
   "execution_count": 1300,
   "id": "5d7adc5d",
   "metadata": {},
   "outputs": [
    {
     "name": "stdout",
     "output_type": "stream",
     "text": [
      "KNeighborsClassifier(n_neighbors=23, weights='distance') is the Best Estimator according to Exhaustive Hyperparameter search.\n",
      "\n",
      "83.11688311688312% is the accuracy score for the KNeighborsClassifier() using the best hyparameters suggested by GridSearchCV.\n",
      "79.51651893634165% is the auroc score for the KNeighborsClassifier() using the best hyparameters suggested by GridSearchCV.\n",
      "84.84848484848484% is the precision score for the KNeighborsClassifier() using the best hyparameters suggested by GridSearchCV.\n",
      "65.88235294117646% is the recall score for the KNeighborsClassifier() using the best hyparameters suggested by GridSearchCV.\n",
      "74.17218543046357% is the f1_score for the KNeighborsClassifier() using the best hyparameters suggested by GridSearchCV.\n"
     ]
    }
   ],
   "source": [
    "params_grid_dict = {\n",
    "    'n_neighbors' : np.array([i for i in range(5,25,2)]),\n",
    "    'weights': ['distance', 'uniform'],\n",
    "    'metric':['minkowski', 'euclidean']\n",
    "}\n",
    "\n",
    "neigh = KNeighborsClassifier()\n",
    "\n",
    "accuracy_knn_grid_2, auroc_knn_grid_2 = grid_search_cv(neigh,params_grid_dict,X_train=X_train_scaled, \n",
    "                   y_train=y_train, X_test=X_test_scaled, y_test=y_test)"
   ]
  },
  {
   "cell_type": "markdown",
   "id": "b18ceb06",
   "metadata": {},
   "source": [
    "#### RandomizedSearchCV (KNN)"
   ]
  },
  {
   "cell_type": "code",
   "execution_count": 1303,
   "id": "462f65f3",
   "metadata": {},
   "outputs": [
    {
     "name": "stdout",
     "output_type": "stream",
     "text": [
      "KNeighborsClassifier(metric='euclidean', n_neighbors=27, weights='distance') is the Best Estimator according to Randomized Hyperparameter search.\n",
      "\n",
      "80.95238095238095% is the accuracy score for KNeighborsClassifier() using the best hyparameters suggested by RandomizedSearchCV.\n",
      "77.0668815471394% is the auroc score for KNeighborsClassifier() using the best hyparameters suggested by RandomizedSearchCV.\n",
      "81.53846153846153% is the precision score for KNeighborsClassifier() using the best hyparameters suggested by RandomizedSearchCV.\n",
      "62.35294117647059% is the recall score for KNeighborsClassifier() using the best hyparameters suggested by RandomizedSearchCV.\n",
      "70.66666666666667% is the f1_score for KNeighborsClassifier() using the best hyparameters suggested by RandomizedSearchCV.\n"
     ]
    }
   ],
   "source": [
    "neigh = KNeighborsClassifier()\n",
    "\n",
    "params_grid_dict = {\n",
    "    # Increasing the range of n_neighbors to maybe find a better set of hyperparameters.\n",
    "    'n_neighbors' : np.array([i for i in range(5,40,2)]), \n",
    "    'weights': ['distance', 'uniform'],\n",
    "    'metric':['minkowski', 'euclidean']\n",
    "}\n",
    "\n",
    "accuracy_knn_random_2, auroc_knn_random_2 = randomized_search_cv(neigh,params_grid_dict,X_train=X_train_scaled, \n",
    "                   y_train=y_train, X_test=X_test_scaled, y_test=y_test)"
   ]
  },
  {
   "cell_type": "code",
   "execution_count": 1305,
   "id": "38062839",
   "metadata": {},
   "outputs": [],
   "source": [
    "knnAccuracy2 = max(accuracy_knn_normal_2, accuracy_knn_grid_2, accuracy_knn_random_2)\n",
    "\n",
    "knnAuroc2 = max(auroc_knn_normal_2, auroc_knn_grid_2, auroc_knn_random_2)"
   ]
  },
  {
   "cell_type": "code",
   "execution_count": null,
   "id": "404c832a",
   "metadata": {},
   "outputs": [],
   "source": []
  },
  {
   "cell_type": "markdown",
   "id": "0d269228",
   "metadata": {},
   "source": [
    "### Logistic Regression :-"
   ]
  },
  {
   "cell_type": "code",
   "execution_count": 1311,
   "id": "3ee7648f",
   "metadata": {},
   "outputs": [
    {
     "name": "stdout",
     "output_type": "stream",
     "text": [
      "77.92207792207793% is the accuracy score in percentage form with LogisticRegression.\n"
     ]
    }
   ],
   "source": [
    "logistic_regression = LogisticRegression(max_iter=200)\n",
    "\n",
    "logistic_regression.fit(X_train_scaled, y_train)\n",
    "\n",
    "# Predicting the X_test datapoints :\n",
    "y_pred = logistic_regression.predict(X_test_scaled)\n",
    "\n",
    "logistic_accuracy_score = accuracy_score(y_test, y_pred)*100\n",
    "\n",
    "print(f\"{logistic_accuracy_score}% is the accuracy score in percentage form with LogisticRegression.\")"
   ]
  },
  {
   "cell_type": "code",
   "execution_count": 1312,
   "id": "ec37ab80",
   "metadata": {},
   "outputs": [],
   "source": [
    "accuracy_lr_normal_2 = accuracy_score(y_test, y_pred)*100\n",
    "\n",
    "auroc_lr_normal_2 = roc_auc_score(y_test, y_pred)*100"
   ]
  },
  {
   "cell_type": "code",
   "execution_count": null,
   "id": "7cae9443",
   "metadata": {},
   "outputs": [],
   "source": []
  },
  {
   "cell_type": "markdown",
   "id": "67cb0e1a",
   "metadata": {},
   "source": [
    "#### GridSearchCV (LogisticRegression) :-"
   ]
  },
  {
   "cell_type": "code",
   "execution_count": 1315,
   "id": "3ad8d32e",
   "metadata": {},
   "outputs": [
    {
     "name": "stdout",
     "output_type": "stream",
     "text": [
      "LogisticRegression(C=1.623776739188721, solver='liblinear') is the Best Estimator according to Exhaustive Hyperparameter search.\n",
      "\n",
      "77.48917748917748% is the accuracy score for the LogisticRegression() using the best hyparameters suggested by GridSearchCV.\n",
      "73.0983078162772% is the auroc score for the LogisticRegression() using the best hyparameters suggested by GridSearchCV.\n",
      "76.19047619047619% is the precision score for the LogisticRegression() using the best hyparameters suggested by GridSearchCV.\n",
      "56.470588235294116% is the recall score for the LogisticRegression() using the best hyparameters suggested by GridSearchCV.\n",
      "64.86486486486486% is the f1_score for the LogisticRegression() using the best hyparameters suggested by GridSearchCV.\n"
     ]
    }
   ],
   "source": [
    "logistic_regression = LogisticRegression()\n",
    "\n",
    "params_grid_dict = {\n",
    "    'penalty' : ['l1', 'l2', 'elasticnet', 'none'],\n",
    "    'max_iter' : [100, 1000,2500, 5000],\n",
    "    'C' : np.logspace(-4, 4, 20),\n",
    "    'solver' : ['lbfgs','newton-cg','liblinear','sag','saga'],\n",
    "    \n",
    "}\n",
    "\n",
    "accuracy_lr_grid_2, auroc_lr_grid_2 = grid_search_cv(logistic_regression, params_grid_dict, \n",
    "               X_train=X_train_scaled,\n",
    "               y_train = y_train,\n",
    "               X_test = X_test_scaled,\n",
    "               y_test = y_test)     "
   ]
  },
  {
   "cell_type": "code",
   "execution_count": null,
   "id": "104289b8",
   "metadata": {},
   "outputs": [],
   "source": [
    "  "
   ]
  },
  {
   "cell_type": "markdown",
   "id": "db1c15db",
   "metadata": {},
   "source": [
    "#### RandomizedSearchCV (LogisticRegression) :-"
   ]
  },
  {
   "cell_type": "code",
   "execution_count": 1325,
   "id": "5d7f8da3",
   "metadata": {},
   "outputs": [
    {
     "name": "stdout",
     "output_type": "stream",
     "text": [
      "LogisticRegression(C=69.51927961775606, max_iter=80, penalty='l1',\n",
      "                   solver='saga') is the Best Estimator according to Randomized Hyperparameter search.\n",
      "\n",
      "78.35497835497836% is the accuracy score for LogisticRegression() using the best hyparameters suggested by RandomizedSearchCV.\n",
      "74.2747784045125% is the auroc score for LogisticRegression() using the best hyparameters suggested by RandomizedSearchCV.\n",
      "76.92307692307693% is the precision score for LogisticRegression() using the best hyparameters suggested by RandomizedSearchCV.\n",
      "58.82352941176471% is the recall score for LogisticRegression() using the best hyparameters suggested by RandomizedSearchCV.\n",
      "66.66666666666667% is the f1_score for LogisticRegression() using the best hyparameters suggested by RandomizedSearchCV.\n"
     ]
    }
   ],
   "source": [
    "logistic_regression = LogisticRegression()\n",
    "\n",
    "params_grid_dict = {\n",
    "    'penalty' : ['l1', 'l2', 'elasticnet', 'none'],\n",
    "    'max_iter' : [50,70,80,100,1000,2500,5000, ],\n",
    "    'C' : np.logspace(-5, 5, 20),\n",
    "    'solver' : ['lbfgs','newton-cg','liblinear','sag','saga'],\n",
    "    \n",
    "}\n",
    "\n",
    "accuracy_lr_random_2, auroc_lr_random_2 = randomized_search_cv(logistic_regression,params_grid_dict,X_train=X_train_scaled, \n",
    "                   y_train=y_train, X_test=X_test_scaled, y_test=y_test)\n"
   ]
  },
  {
   "cell_type": "code",
   "execution_count": 1326,
   "id": "4ac33673",
   "metadata": {},
   "outputs": [],
   "source": [
    "logisticRegressionAcc2 = max(accuracy_lr_normal_2, accuracy_lr_grid_2, accuracy_lr_random_2)\n",
    "\n",
    "logisticRegressionAuroc2 = max(auroc_lr_normal_2, auroc_lr_grid_2, auroc_lr_random_2)"
   ]
  },
  {
   "cell_type": "code",
   "execution_count": null,
   "id": "6b235674",
   "metadata": {},
   "outputs": [],
   "source": []
  },
  {
   "cell_type": "markdown",
   "id": "a23e56d9",
   "metadata": {},
   "source": [
    "## Decision Tree Classifier :-"
   ]
  },
  {
   "cell_type": "code",
   "execution_count": 1328,
   "id": "2615a5dd",
   "metadata": {},
   "outputs": [
    {
     "name": "stdout",
     "output_type": "stream",
     "text": [
      "72.72727272727273% is the accuracy score in percentage form with DecisionTreesTechnique.\n"
     ]
    }
   ],
   "source": [
    "# Note :- Using the imputed and not scaled data for DecisionTrees:\n",
    "\n",
    "decision_tree = DecisionTreeClassifier(random_state=42)\n",
    "\n",
    "decision_tree.fit(X_train_imputed, y_train)\n",
    "\n",
    "y_pred = decision_tree.predict(X_test_imputed)\n",
    "\n",
    "accuracy_score_dt = accuracy_score(y_test, y_pred)*100\n",
    "\n",
    "print(f\"{accuracy_score_dt}% is the accuracy score in percentage form with DecisionTreesTechnique.\")"
   ]
  },
  {
   "cell_type": "code",
   "execution_count": 1329,
   "id": "baaa2ac8",
   "metadata": {
    "scrolled": true
   },
   "outputs": [
    {
     "data": {
      "text/plain": [
       "{'ccp_alpha': 0.0,\n",
       " 'class_weight': None,\n",
       " 'criterion': 'gini',\n",
       " 'max_depth': None,\n",
       " 'max_features': None,\n",
       " 'max_leaf_nodes': None,\n",
       " 'min_impurity_decrease': 0.0,\n",
       " 'min_samples_leaf': 1,\n",
       " 'min_samples_split': 2,\n",
       " 'min_weight_fraction_leaf': 0.0,\n",
       " 'random_state': 42,\n",
       " 'splitter': 'best'}"
      ]
     },
     "execution_count": 1329,
     "metadata": {},
     "output_type": "execute_result"
    }
   ],
   "source": [
    "decision_tree.get_params()"
   ]
  },
  {
   "cell_type": "code",
   "execution_count": 1331,
   "id": "859526ae",
   "metadata": {},
   "outputs": [],
   "source": [
    "accuracy_dt_normal_2 = accuracy_score(y_test, y_pred)*100\n",
    "\n",
    "auroc_dt_normal_2 = roc_auc_score(y_test, y_pred)*100"
   ]
  },
  {
   "cell_type": "code",
   "execution_count": null,
   "id": "da9f2da3",
   "metadata": {},
   "outputs": [],
   "source": []
  },
  {
   "cell_type": "markdown",
   "id": "5ea0c794",
   "metadata": {},
   "source": [
    "#### GridSearchCV (DecisionTrees) :-"
   ]
  },
  {
   "cell_type": "code",
   "execution_count": 1333,
   "id": "7b30390e",
   "metadata": {},
   "outputs": [
    {
     "name": "stdout",
     "output_type": "stream",
     "text": [
      "DecisionTreeClassifier(criterion='entropy', max_depth=5,\n",
      "                       min_impurity_decrease=0.01, min_samples_split=90) is the Best Estimator according to Exhaustive Hyperparameter search.\n",
      "\n",
      "79.22077922077922% is the accuracy score for the DecisionTreeClassifier() using the best hyparameters suggested by GridSearchCV.\n",
      "76.18855761482675% is the auroc score for the DecisionTreeClassifier() using the best hyparameters suggested by GridSearchCV.\n",
      "75.34246575342466% is the precision score for the DecisionTreeClassifier() using the best hyparameters suggested by GridSearchCV.\n",
      "64.70588235294117% is the recall score for the DecisionTreeClassifier() using the best hyparameters suggested by GridSearchCV.\n",
      "69.62025316455697% is the f1_score for the DecisionTreeClassifier() using the best hyparameters suggested by GridSearchCV.\n"
     ]
    }
   ],
   "source": [
    "decision_tree = DecisionTreeClassifier()\n",
    "\n",
    "params_grid_dict = {\n",
    "    'max_depth' : np.array([i for i in range(2,20)]),\n",
    "    'criterion' : np.array(['gini', 'entropy']),\n",
    "    'min_impurity_decrease': np.arange(0.01, 0.06, 0.01),\n",
    "    'min_samples_split': np.arange(10,100,10) \n",
    "}\n",
    "\n",
    "accuracy_dt_grid_2, auroc_dt_grid_2 = grid_search_cv(decision_tree, params_grid_dict, \n",
    "               X_train=X_train_imputed,\n",
    "               y_train = y_train,\n",
    "               X_test = X_test_imputed,\n",
    "               y_test = y_test)  "
   ]
  },
  {
   "cell_type": "code",
   "execution_count": null,
   "id": "b6a31be6",
   "metadata": {},
   "outputs": [],
   "source": []
  },
  {
   "cell_type": "markdown",
   "id": "33e8f773",
   "metadata": {},
   "source": [
    "#### RandomizedSearchCV (DecisionTrees) :-"
   ]
  },
  {
   "cell_type": "code",
   "execution_count": 1349,
   "id": "4b3051c6",
   "metadata": {},
   "outputs": [
    {
     "name": "stdout",
     "output_type": "stream",
     "text": [
      "DecisionTreeClassifier(criterion='entropy', max_depth=15,\n",
      "                       min_impurity_decrease=0.01, min_samples_split=90) is the Best Estimator according to Randomized Hyperparameter search.\n",
      "\n",
      "79.22077922077922% is the accuracy score for DecisionTreeClassifier() using the best hyparameters suggested by RandomizedSearchCV.\n",
      "76.18855761482675% is the auroc score for DecisionTreeClassifier() using the best hyparameters suggested by RandomizedSearchCV.\n",
      "75.34246575342466% is the precision score for DecisionTreeClassifier() using the best hyparameters suggested by RandomizedSearchCV.\n",
      "64.70588235294117% is the recall score for DecisionTreeClassifier() using the best hyparameters suggested by RandomizedSearchCV.\n",
      "69.62025316455697% is the f1_score for DecisionTreeClassifier() using the best hyparameters suggested by RandomizedSearchCV.\n"
     ]
    }
   ],
   "source": [
    "decision_tree = DecisionTreeClassifier()\n",
    "\n",
    "params_grid_dict = {\n",
    "    'max_depth' : np.array([i for i in range(2,30)]),\n",
    "    'criterion' : np.array(['gini', 'entropy']),\n",
    "    'min_impurity_decrease': np.arange(0.01, 1.05, 0.01),\n",
    "    'min_samples_split': np.arange(10,100,10) \n",
    "}\n",
    "\n",
    "accuracy_dt_random_2, auroc_dt_random_2 = randomized_search_cv(decision_tree,params_grid_dict,X_train=X_train_imputed, \n",
    "                   y_train=y_train, X_test=X_test_imputed, y_test=y_test)"
   ]
  },
  {
   "cell_type": "markdown",
   "id": "1769b97f",
   "metadata": {},
   "source": [
    "Below values are to be used for comparison purpose in the bar plot :-"
   ]
  },
  {
   "cell_type": "code",
   "execution_count": 1352,
   "id": "6b839b86",
   "metadata": {},
   "outputs": [],
   "source": [
    "decisionTreeAcc2 = max(accuracy_dt_normal_2, accuracy_dt_grid_2, accuracy_dt_random_2)\n",
    "\n",
    "decisionTreeAuroc2 = max(auroc_dt_normal_2, auroc_dt_grid_2, auroc_dt_random_2)"
   ]
  },
  {
   "cell_type": "markdown",
   "id": "4dda084d",
   "metadata": {},
   "source": [
    "### Support Vector Machine :-"
   ]
  },
  {
   "cell_type": "code",
   "execution_count": 1358,
   "id": "3ea5c3dd",
   "metadata": {},
   "outputs": [
    {
     "name": "stdout",
     "output_type": "stream",
     "text": [
      "81.81818181818183% is the accuracy score in percentage form with SVM technique.\n"
     ]
    }
   ],
   "source": [
    "svc_model = SVC()\n",
    "svc_model.fit(X_train_scaled, y_train)\n",
    "\n",
    "# Predicting the X_test :\n",
    "y_pred = svc_model.predict(X_test_scaled)\n",
    "\n",
    "accuracy_svm_normal_2 = accuracy_score(y_test, y_pred)*100\n",
    "\n",
    "auroc_svm_normal_2 = roc_auc_score(y_test, y_pred)*100\n",
    "\n",
    "print(f\"{accuracy_svm_normal_2}% is the accuracy score in percentage form with SVM technique.\")"
   ]
  },
  {
   "cell_type": "code",
   "execution_count": 472,
   "id": "bb6022b4",
   "metadata": {},
   "outputs": [
    {
     "data": {
      "text/plain": [
       "{'C': 1.0,\n",
       " 'break_ties': False,\n",
       " 'cache_size': 200,\n",
       " 'class_weight': None,\n",
       " 'coef0': 0.0,\n",
       " 'decision_function_shape': 'ovr',\n",
       " 'degree': 3,\n",
       " 'gamma': 'scale',\n",
       " 'kernel': 'rbf',\n",
       " 'max_iter': -1,\n",
       " 'probability': False,\n",
       " 'random_state': None,\n",
       " 'shrinking': True,\n",
       " 'tol': 0.001,\n",
       " 'verbose': False}"
      ]
     },
     "execution_count": 472,
     "metadata": {},
     "output_type": "execute_result"
    }
   ],
   "source": [
    "svc_model.get_params()"
   ]
  },
  {
   "cell_type": "code",
   "execution_count": null,
   "id": "58bb59c0",
   "metadata": {},
   "outputs": [],
   "source": []
  },
  {
   "cell_type": "markdown",
   "id": "33cd6c73",
   "metadata": {},
   "source": [
    "#### GridSearchCV (SVM):-"
   ]
  },
  {
   "cell_type": "code",
   "execution_count": 1359,
   "id": "24649435",
   "metadata": {},
   "outputs": [
    {
     "name": "stdout",
     "output_type": "stream",
     "text": [
      "SVC(C=0.1, kernel='poly') is the Best Estimator according to Exhaustive Hyperparameter search.\n",
      "\n",
      "80.08658008658008% is the accuracy score for the SVC() using the best hyparameters suggested by GridSearchCV.\n",
      "74.90733279613215% is the auroc score for the SVC() using the best hyparameters suggested by GridSearchCV.\n",
      "85.45454545454545% is the precision score for the SVC() using the best hyparameters suggested by GridSearchCV.\n",
      "55.294117647058826% is the recall score for the SVC() using the best hyparameters suggested by GridSearchCV.\n",
      "67.14285714285715% is the f1_score for the SVC() using the best hyparameters suggested by GridSearchCV.\n"
     ]
    }
   ],
   "source": [
    "svc_model = SVC()\n",
    "\n",
    "param_grid_dict = {\n",
    "    'C':[0.1, 1, 10, 100],\n",
    "   'kernel' : ['rbf', 'poly','sigmoid']\n",
    "}\n",
    "\n",
    "accuracy_svm_grid_2, auroc_svm_grid_2 = grid_search_cv(svc_model, param_grid_dict, \n",
    "               X_train=X_train_scaled,\n",
    "               y_train = y_train,\n",
    "               X_test = X_test_scaled,\n",
    "               y_test = y_test)"
   ]
  },
  {
   "cell_type": "code",
   "execution_count": null,
   "id": "cd324ef7",
   "metadata": {},
   "outputs": [],
   "source": []
  },
  {
   "cell_type": "markdown",
   "id": "c14ab4f8",
   "metadata": {},
   "source": [
    "#### RandomizedSearchCV (SVM) :-"
   ]
  },
  {
   "cell_type": "code",
   "execution_count": 1360,
   "id": "9418ee31",
   "metadata": {},
   "outputs": [
    {
     "name": "stdout",
     "output_type": "stream",
     "text": [
      "SVC(C=1, kernel='linear') is the Best Estimator according to Randomized Hyperparameter search.\n",
      "\n",
      "77.92207792207793% is the accuracy score for SVC() using the best hyparameters suggested by RandomizedSearchCV.\n",
      "72.94923448831587% is the auroc score for SVC() using the best hyparameters suggested by RandomizedSearchCV.\n",
      "79.3103448275862% is the precision score for SVC() using the best hyparameters suggested by RandomizedSearchCV.\n",
      "54.11764705882353% is the recall score for SVC() using the best hyparameters suggested by RandomizedSearchCV.\n",
      "64.33566433566433% is the f1_score for SVC() using the best hyparameters suggested by RandomizedSearchCV.\n"
     ]
    }
   ],
   "source": [
    "svc_model = SVC()\n",
    "\n",
    "param_grid_dict = {\n",
    "    'C':[0.1, 1, 10, 100, 1000],\n",
    "    'kernel' : ['rbf', 'poly','sigmoid', 'linear'],\n",
    "    }\n",
    "\n",
    "accuracy_svm_random_2, auroc_svm_random_2  = randomized_search_cv(svc_model,param_grid_dict,X_train=X_train_scaled, \n",
    "                   y_train=y_train, X_test=X_test_scaled, y_test=y_test)"
   ]
  },
  {
   "cell_type": "code",
   "execution_count": 1406,
   "id": "a1740777",
   "metadata": {},
   "outputs": [],
   "source": [
    "svmAcc2 = max(accuracy_svm_normal_2, accuracy_svm_grid_2, accuracy_svm_random_2)\n",
    "\n",
    "svmAuroc2 = max(auroc_svm_normal_2, auroc_svm_grid_2, auroc_svm_random_2)"
   ]
  },
  {
   "cell_type": "code",
   "execution_count": null,
   "id": "b122b5d4",
   "metadata": {},
   "outputs": [],
   "source": []
  },
  {
   "cell_type": "markdown",
   "id": "d8112664",
   "metadata": {},
   "source": [
    "### RandomForestClassifier :-"
   ]
  },
  {
   "cell_type": "code",
   "execution_count": null,
   "id": "eefe7e2a",
   "metadata": {},
   "outputs": [],
   "source": []
  },
  {
   "cell_type": "markdown",
   "id": "806af12f",
   "metadata": {},
   "source": [
    "Note :- Underneath since the DecisionTrees work, we've used Imputed data and not scaled."
   ]
  },
  {
   "cell_type": "code",
   "execution_count": 1364,
   "id": "7f9f8441",
   "metadata": {},
   "outputs": [
    {
     "name": "stdout",
     "output_type": "stream",
     "text": [
      "77.48917748917748% is the accuracy score in percentage form with RandomForestClassifier technique.\n"
     ]
    }
   ],
   "source": [
    "random_forest = RandomForestClassifier(random_state=42)\n",
    "\n",
    "random_forest.fit(X_train_imputed, y_train)\n",
    "\n",
    "y_pred = random_forest.predict(X_test_imputed)\n",
    "\n",
    "accuracy_rf_normal_2 = accuracy_score(y_test, y_pred)*100\n",
    "\n",
    "auroc_rf_normal_2 = roc_auc_score(y_test, y_pred)*100\n",
    "\n",
    "print(f\"{accuracy_rf_normal_2}% is the accuracy score in percentage form with RandomForestClassifier technique.\")"
   ]
  },
  {
   "cell_type": "code",
   "execution_count": 477,
   "id": "2532c9f4",
   "metadata": {
    "scrolled": true
   },
   "outputs": [
    {
     "data": {
      "text/plain": [
       "{'bootstrap': True,\n",
       " 'ccp_alpha': 0.0,\n",
       " 'class_weight': None,\n",
       " 'criterion': 'gini',\n",
       " 'max_depth': None,\n",
       " 'max_features': 'auto',\n",
       " 'max_leaf_nodes': None,\n",
       " 'max_samples': None,\n",
       " 'min_impurity_decrease': 0.0,\n",
       " 'min_samples_leaf': 1,\n",
       " 'min_samples_split': 2,\n",
       " 'min_weight_fraction_leaf': 0.0,\n",
       " 'n_estimators': 100,\n",
       " 'n_jobs': None,\n",
       " 'oob_score': False,\n",
       " 'random_state': 42,\n",
       " 'verbose': 0,\n",
       " 'warm_start': False}"
      ]
     },
     "execution_count": 477,
     "metadata": {},
     "output_type": "execute_result"
    }
   ],
   "source": [
    "random_forest.get_params()"
   ]
  },
  {
   "cell_type": "code",
   "execution_count": null,
   "id": "c76eaa05",
   "metadata": {},
   "outputs": [],
   "source": []
  },
  {
   "cell_type": "markdown",
   "id": "340a096b",
   "metadata": {},
   "source": [
    "#### GridSearchCV (RandomForestClassifier) :-"
   ]
  },
  {
   "cell_type": "code",
   "execution_count": 1366,
   "id": "c082c838",
   "metadata": {},
   "outputs": [
    {
     "name": "stdout",
     "output_type": "stream",
     "text": [
      "RandomForestClassifier(max_depth=4, n_estimators=50) is the Best Estimator according to Exhaustive Hyperparameter search.\n",
      "\n",
      "79.22077922077922% is the accuracy score for the RandomForestClassifier() using the best hyparameters suggested by GridSearchCV.\n",
      "74.46817082997582% is the auroc score for the RandomForestClassifier() using the best hyparameters suggested by GridSearchCV.\n",
      "81.35593220338984% is the precision score for the RandomForestClassifier() using the best hyparameters suggested by GridSearchCV.\n",
      "56.470588235294116% is the recall score for the RandomForestClassifier() using the best hyparameters suggested by GridSearchCV.\n",
      "66.66666666666666% is the f1_score for the RandomForestClassifier() using the best hyparameters suggested by GridSearchCV.\n"
     ]
    }
   ],
   "source": [
    "random_forest = RandomForestClassifier()\n",
    "\n",
    "param_grid_dict = {\n",
    "    'max_depth':[2,3,4,5,6,7],\n",
    "    'n_estimators':[10, 20, 25, 30, 35, 40, 50, 60, 70, 80, 90, 100],\n",
    "}\n",
    "\n",
    "accuracy_rf_grid_2, auroc_rf_grid_2 = grid_search_cv(random_forest, param_grid_dict, \n",
    "               X_train=X_train_imputed,\n",
    "               y_train = y_train,\n",
    "               X_test = X_test_imputed,\n",
    "               y_test = y_test)"
   ]
  },
  {
   "cell_type": "code",
   "execution_count": null,
   "id": "d3ad5261",
   "metadata": {},
   "outputs": [],
   "source": []
  },
  {
   "cell_type": "markdown",
   "id": "301b2e4a",
   "metadata": {},
   "source": [
    "### RandomizedSearchCV (RandomForestClassifier) :-"
   ]
  },
  {
   "cell_type": "code",
   "execution_count": 1376,
   "id": "42c8aef5",
   "metadata": {},
   "outputs": [
    {
     "name": "stdout",
     "output_type": "stream",
     "text": [
      "RandomForestClassifier(max_depth=16, min_impurity_decrease=0.01,\n",
      "                       min_samples_split=60, n_estimators=110) is the Best Estimator according to Randomized Hyperparameter search.\n",
      "\n",
      "77.92207792207793% is the accuracy score for RandomForestClassifier() using the best hyparameters suggested by RandomizedSearchCV.\n",
      "72.94923448831587% is the auroc score for RandomForestClassifier() using the best hyparameters suggested by RandomizedSearchCV.\n",
      "79.3103448275862% is the precision score for RandomForestClassifier() using the best hyparameters suggested by RandomizedSearchCV.\n",
      "54.11764705882353% is the recall score for RandomForestClassifier() using the best hyparameters suggested by RandomizedSearchCV.\n",
      "64.33566433566433% is the f1_score for RandomForestClassifier() using the best hyparameters suggested by RandomizedSearchCV.\n"
     ]
    }
   ],
   "source": [
    "random_forest = RandomForestClassifier()\n",
    "\n",
    "params_grid_dict = {\n",
    "    'max_depth':np.arange(1,40),\n",
    "    'n_estimators':np.arange(30,151,20),\n",
    "    'min_impurity_decrease': np.arange(0.01, 0.06, 0.01),\n",
    "    'min_samples_split': np.arange(10,100,10) \n",
    "}\n",
    "\n",
    "accuracy_rf_random_2, auroc_rf_random_2 = randomized_search_cv(random_forest, params_grid_dict, X_train=X_train_imputed,\n",
    "                    y_train=y_train, X_test=X_test_imputed, y_test=y_test)"
   ]
  },
  {
   "cell_type": "markdown",
   "id": "743cf927",
   "metadata": {},
   "source": [
    "Below values are to be used for comparison purpose in the bar plot :-"
   ]
  },
  {
   "cell_type": "code",
   "execution_count": 1377,
   "id": "76286a97",
   "metadata": {},
   "outputs": [],
   "source": [
    "randomForestAcc2 = max(accuracy_rf_normal_2, accuracy_rf_grid_2, accuracy_rf_random_2)\n",
    "\n",
    "randomForestAuroc2 = max(auroc_rf_normal_2, auroc_rf_grid_2, auroc_rf_random_2)"
   ]
  },
  {
   "cell_type": "code",
   "execution_count": null,
   "id": "2d40e3de",
   "metadata": {},
   "outputs": [],
   "source": []
  },
  {
   "cell_type": "markdown",
   "id": "967e3a62",
   "metadata": {},
   "source": [
    "###  Adaboost Classifier :-"
   ]
  },
  {
   "cell_type": "code",
   "execution_count": 1388,
   "id": "cf8e771f",
   "metadata": {},
   "outputs": [
    {
     "name": "stdout",
     "output_type": "stream",
     "text": [
      "77.92207792207793% is the accuracy score using AdaboostClassifier.\n"
     ]
    }
   ],
   "source": [
    "adaboost_classifier = AdaBoostClassifier(random_state=42)\n",
    "\n",
    "adaboost_classifier.fit(X_train_imputed.values, y_train.values)\n",
    "\n",
    "y_pred = adaboost_classifier.predict(X_test_imputed.values)\n",
    "\n",
    "accuracy_ab_normal_2 = accuracy_score(y_test, y_pred)*100\n",
    "\n",
    "auroc_ab_normal_2 = roc_auc_score(y_test, y_pred)*100\n",
    "\n",
    "print(f'{accuracy_ab_normal_2}% is the accuracy score using AdaboostClassifier.')"
   ]
  },
  {
   "cell_type": "code",
   "execution_count": 502,
   "id": "ad3de007",
   "metadata": {},
   "outputs": [
    {
     "data": {
      "text/plain": [
       "{'algorithm': 'SAMME.R',\n",
       " 'base_estimator': None,\n",
       " 'learning_rate': 1.0,\n",
       " 'n_estimators': 50,\n",
       " 'random_state': 42}"
      ]
     },
     "execution_count": 502,
     "metadata": {},
     "output_type": "execute_result"
    }
   ],
   "source": [
    "adaboost_classifier.get_params()"
   ]
  },
  {
   "cell_type": "code",
   "execution_count": null,
   "id": "71fc1a86",
   "metadata": {},
   "outputs": [],
   "source": []
  },
  {
   "cell_type": "markdown",
   "id": "f8012a14",
   "metadata": {},
   "source": [
    "#### GridSearchCV (Adaboost Classifier) :-"
   ]
  },
  {
   "cell_type": "code",
   "execution_count": 1389,
   "id": "afe4cbf0",
   "metadata": {},
   "outputs": [
    {
     "name": "stdout",
     "output_type": "stream",
     "text": [
      "AdaBoostClassifier(n_estimators=60) is the Best Estimator according to Exhaustive Hyperparameter search.\n",
      "\n",
      "77.05627705627705% is the accuracy score for the AdaBoostClassifier() using the best hyparameters suggested by GridSearchCV.\n",
      "73.00161160354553% is the auroc score for the AdaBoostClassifier() using the best hyparameters suggested by GridSearchCV.\n",
      "74.24242424242425% is the precision score for the AdaBoostClassifier() using the best hyparameters suggested by GridSearchCV.\n",
      "57.647058823529406% is the recall score for the AdaBoostClassifier() using the best hyparameters suggested by GridSearchCV.\n",
      "64.90066225165563% is the f1_score for the AdaBoostClassifier() using the best hyparameters suggested by GridSearchCV.\n"
     ]
    }
   ],
   "source": [
    "adaboost_classifier = AdaBoostClassifier()\n",
    "\n",
    "param_grid_dict = {\n",
    "    'n_estimators':np.arange(50,100,10),\n",
    "    'learning_rate':np.arange(1.0,10.0,1.0)\n",
    "}\n",
    "\n",
    "accuracy_ab_grid_2, auroc_ab_grid_2 = grid_search_cv(adaboost_classifier, param_grid_dict, \n",
    "               X_train=X_train_imputed,\n",
    "               y_train = y_train,\n",
    "               X_test = X_test_imputed,\n",
    "               y_test = y_test)"
   ]
  },
  {
   "cell_type": "code",
   "execution_count": null,
   "id": "571de4c5",
   "metadata": {},
   "outputs": [],
   "source": []
  },
  {
   "cell_type": "markdown",
   "id": "a6c8a463",
   "metadata": {},
   "source": [
    "#### RandomizedSearchCV (Adaboost Classifier) :-"
   ]
  },
  {
   "cell_type": "code",
   "execution_count": 1402,
   "id": "f12804ab",
   "metadata": {},
   "outputs": [
    {
     "name": "stdout",
     "output_type": "stream",
     "text": [
      "AdaBoostClassifier(learning_rate=1, n_estimators=90) is the Best Estimator according to Randomized Hyperparameter search.\n",
      "\n",
      "79.65367965367966% is the accuracy score for AdaBoostClassifier() using the best hyparameters suggested by RandomizedSearchCV.\n",
      "77.02256244963739% is the auroc score for AdaBoostClassifier() using the best hyparameters suggested by RandomizedSearchCV.\n",
      "75.0% is the precision score for AdaBoostClassifier() using the best hyparameters suggested by RandomizedSearchCV.\n",
      "67.05882352941175% is the recall score for AdaBoostClassifier() using the best hyparameters suggested by RandomizedSearchCV.\n",
      "70.80745341614907% is the f1_score for AdaBoostClassifier() using the best hyparameters suggested by RandomizedSearchCV.\n"
     ]
    }
   ],
   "source": [
    "adaboost_classifier = AdaBoostClassifier()\n",
    "\n",
    "param_grid_dict = {\n",
    "    'n_estimators':np.arange(50,110,10),\n",
    "    'learning_rate':np.arange(1,20,1)\n",
    "}\n",
    "\n",
    "accuracy_ab_random_2, auroc_ab_random_2 = randomized_search_cv(adaboost_classifier, param_grid_dict, X_train_imputed,\n",
    "                    y_train=y_train, X_test=X_test_imputed, y_test=y_test)"
   ]
  },
  {
   "cell_type": "markdown",
   "id": "b5fb175b",
   "metadata": {},
   "source": [
    "Below values are to be used for comparison purpose in the bar plot :-"
   ]
  },
  {
   "cell_type": "code",
   "execution_count": 1403,
   "id": "00628061",
   "metadata": {},
   "outputs": [],
   "source": [
    "adaBoostAcc2 = max(accuracy_ab_normal_2, accuracy_ab_grid_2, accuracy_ab_random_2)\n",
    "\n",
    "adaBoostAuroc2 = max(auroc_ab_normal_2, auroc_ab_grid_2, auroc_ab_random_2)"
   ]
  },
  {
   "cell_type": "code",
   "execution_count": null,
   "id": "51913a5f",
   "metadata": {},
   "outputs": [],
   "source": []
  },
  {
   "cell_type": "markdown",
   "id": "65a247d8",
   "metadata": {},
   "source": [
    "### Accuracy Bar Plot :-"
   ]
  },
  {
   "cell_type": "code",
   "execution_count": 1674,
   "id": "11376813",
   "metadata": {},
   "outputs": [
    {
     "data": {
      "text/plain": [
       "(78.35497835497836,\n",
       " 83.11688311688312,\n",
       " 78.35497835497836,\n",
       " 79.22077922077922,\n",
       " 81.81818181818183,\n",
       " 79.22077922077922,\n",
       " 79.65367965367966)"
      ]
     },
     "execution_count": 1674,
     "metadata": {},
     "output_type": "execute_result"
    }
   ],
   "source": [
    "accuracies2 = naiveBayesAcc2, knnAccuracy2, logisticRegressionAcc2, decisionTreeAcc2, svmAcc2, randomForestAcc2, adaBoostAcc2\n",
    "\n",
    "accuracies2"
   ]
  },
  {
   "cell_type": "code",
   "execution_count": 1408,
   "id": "da7c6204",
   "metadata": {},
   "outputs": [
    {
     "data": {
      "image/png": "[encoded data removed]",
      "text/plain": [
       "<Figure size 630x432 with 1 Axes>"
      ]
     },
     "metadata": {
      "needs_background": "light"
     },
     "output_type": "display_data"
    }
   ],
   "source": [
    "bar_plot_for_comaparison(y_label='Accuracy', performance_metric = accuracies2, x_label=\"Different ML techniques\",  bar_width=0.5, \\\n",
    "                             figsize=(8.75,6), color='orange', title = \"Accuracy Score comparison between best of all the Models\",\\\n",
    "                     models = ['NaiveBayes', 'Knn', 'LogRegression', 'DecTrees', 'SVM', 'RandomForest', 'AdaBoost'])"
   ]
  },
  {
   "cell_type": "code",
   "execution_count": 1409,
   "id": "bc99d7bc",
   "metadata": {},
   "outputs": [
    {
     "data": {
      "text/plain": [
       "[78.35497835497836,\n",
       " 78.35497835497836,\n",
       " 79.22077922077922,\n",
       " 79.22077922077922,\n",
       " 79.65367965367966,\n",
       " 81.81818181818183,\n",
       " 83.11688311688312]"
      ]
     },
     "execution_count": 1409,
     "metadata": {},
     "output_type": "execute_result"
    }
   ],
   "source": [
    "sorted(accuracies2)        "
   ]
  },
  {
   "cell_type": "markdown",
   "id": "ebcd89bd",
   "metadata": {},
   "source": [
    "### Auroc Bar Plot :-"
   ]
  },
  {
   "cell_type": "code",
   "execution_count": 1675,
   "id": "9923d5f1",
   "metadata": {},
   "outputs": [
    {
     "data": {
      "text/plain": [
       "(75.50362610797742,\n",
       " 79.51651893634165,\n",
       " 74.2747784045125,\n",
       " 76.18855761482675,\n",
       " 77.26027397260275,\n",
       " 74.46817082997582,\n",
       " 77.02256244963739)"
      ]
     },
     "execution_count": 1675,
     "metadata": {},
     "output_type": "execute_result"
    }
   ],
   "source": [
    "aurocScores2 = naiveBayesAuroc2, knnAuroc2, logisticRegressionAuroc2, decisionTreeAuroc2, svmAuroc2, randomForestAuroc2, \\\n",
    "              adaBoostAuroc2\n",
    "\n",
    "aurocScores2"
   ]
  },
  {
   "cell_type": "code",
   "execution_count": 1412,
   "id": "a6866a8e",
   "metadata": {},
   "outputs": [
    {
     "data": {
      "image/png": "[encoded data removed]",
      "text/plain": [
       "<Figure size 630x432 with 1 Axes>"
      ]
     },
     "metadata": {
      "needs_background": "light"
     },
     "output_type": "display_data"
    }
   ],
   "source": [
    "bar_plot_for_comaparison(y_label='AurocScores', performance_metric = aurocScores2, x_label=\"Different ML techniques\",  bar_width=0.5, \\\n",
    "                             figsize=(8.75,6), color='skyblue', title = \"Auroc Score comparison between best of all the Models\",\\\n",
    "                     models = ['NaiveBayes', 'Knn', 'LogRegres', 'DecTrees', 'SVM', 'RandomForest', 'AdaBoost'])"
   ]
  },
  {
   "cell_type": "code",
   "execution_count": 1413,
   "id": "71fd4354",
   "metadata": {},
   "outputs": [
    {
     "data": {
      "text/plain": [
       "[74.2747784045125,\n",
       " 74.46817082997582,\n",
       " 75.50362610797742,\n",
       " 76.18855761482675,\n",
       " 77.02256244963739,\n",
       " 77.26027397260275,\n",
       " 79.51651893634165]"
      ]
     },
     "execution_count": 1413,
     "metadata": {},
     "output_type": "execute_result"
    }
   ],
   "source": [
    "sorted(aurocScores2)"
   ]
  },
  {
   "cell_type": "code",
   "execution_count": null,
   "id": "f75601c4",
   "metadata": {},
   "outputs": [],
   "source": []
  },
  {
   "cell_type": "code",
   "execution_count": null,
   "id": "905a8272",
   "metadata": {},
   "outputs": [],
   "source": []
  },
  {
   "cell_type": "markdown",
   "id": "f9882fc7",
   "metadata": {},
   "source": [
    "### Multivariate Imputation (KNN Imputation) :-"
   ]
  },
  {
   "cell_type": "markdown",
   "id": "65d6ae6c",
   "metadata": {},
   "source": [
    "After performing Univariate Imputation (i.e. Mean Imputation), time to perform Multivariate Imputation (i.e. KNN Imputation) & there after scaling the features. We'll use Imputed data for a few Algorithms, especially the DecisionTrees. And, scaled data for KNN and LogisticRegression type of Algorithms."
   ]
  },
  {
   "cell_type": "code",
   "execution_count": 554,
   "id": "732cc8eb",
   "metadata": {},
   "outputs": [],
   "source": [
    "knn_imp = KNNImputer(missing_values=0, n_neighbors=5, weights='uniform')"
   ]
  },
  {
   "cell_type": "code",
   "execution_count": 555,
   "id": "da84c794",
   "metadata": {},
   "outputs": [
    {
     "data": {
      "text/plain": [
       "KNNImputer(missing_values=0)"
      ]
     },
     "execution_count": 555,
     "metadata": {},
     "output_type": "execute_result"
    }
   ],
   "source": [
    "knn_imp.fit(X_train_)"
   ]
  },
  {
   "cell_type": "code",
   "execution_count": 556,
   "id": "22db7dde",
   "metadata": {},
   "outputs": [],
   "source": [
    "X_train_knnimp = knn_imp.transform(X_train_)"
   ]
  },
  {
   "cell_type": "code",
   "execution_count": 557,
   "id": "1bba939b",
   "metadata": {},
   "outputs": [],
   "source": [
    "X_test_knnimp = knn_imp.transform(X_test_)"
   ]
  },
  {
   "cell_type": "code",
   "execution_count": 558,
   "id": "53c59f4d",
   "metadata": {},
   "outputs": [
    {
     "data": {
      "text/plain": [
       "array([[1.36e+02, 7.00e+01, 3.20e+01, ..., 3.71e+01, 1.53e-01, 4.30e+01],\n",
       "       [9.70e+01, 6.40e+01, 3.60e+01, ..., 3.68e+01, 6.00e-01, 2.50e+01],\n",
       "       [1.16e+02, 7.00e+01, 2.80e+01, ..., 2.74e+01, 2.04e-01, 2.10e+01],\n",
       "       ...,\n",
       "       [1.26e+02, 9.00e+01, 3.36e+01, ..., 4.34e+01, 5.83e-01, 4.20e+01],\n",
       "       [1.71e+02, 7.20e+01, 4.10e+01, ..., 4.36e+01, 4.79e-01, 2.60e+01],\n",
       "       [1.02e+02, 7.60e+01, 3.70e+01, ..., 3.29e+01, 6.65e-01, 4.60e+01]])"
      ]
     },
     "execution_count": 558,
     "metadata": {},
     "output_type": "execute_result"
    }
   ],
   "source": [
    "X_train_knnimp"
   ]
  },
  {
   "cell_type": "code",
   "execution_count": 559,
   "id": "f69adf67",
   "metadata": {},
   "outputs": [
    {
     "data": {
      "text/plain": [
       "array([[136.   ,  74.   ,  26.   , ...,  26.   ,   0.647,  51.   ],\n",
       "       [151.   ,  60.   ,  26.   , ...,  26.1  ,   0.179,  22.   ],\n",
       "       [109.   ,  60.   ,  27.   , ...,  25.   ,   0.206,  27.   ],\n",
       "       ...,\n",
       "       [ 91.   ,  54.   ,  25.   , ...,  25.2  ,   0.234,  23.   ],\n",
       "       [168.   ,  74.   ,  27.8  , ...,  38.   ,   0.537,  34.   ],\n",
       "       [112.   ,  82.   ,  32.   , ...,  34.2  ,   0.26 ,  36.   ]])"
      ]
     },
     "execution_count": 559,
     "metadata": {},
     "output_type": "execute_result"
    }
   ],
   "source": [
    "X_test_knnimp"
   ]
  },
  {
   "cell_type": "code",
   "execution_count": 560,
   "id": "6eed7e9e",
   "metadata": {},
   "outputs": [],
   "source": [
    "X_train_knnimp = pd.DataFrame(X_train_knnimp)\n",
    "X_test_knnimp = pd.DataFrame(X_test_knnimp)"
   ]
  },
  {
   "cell_type": "code",
   "execution_count": 561,
   "id": "d5aa59b8",
   "metadata": {},
   "outputs": [
    {
     "data": {
      "text/html": [
       "<div>\n",
       "<style scoped>\n",
       "    .dataframe tbody tr th:only-of-type {\n",
       "        vertical-align: middle;\n",
       "    }\n",
       "\n",
       "    .dataframe tbody tr th {\n",
       "        vertical-align: top;\n",
       "    }\n",
       "\n",
       "    .dataframe thead th {\n",
       "        text-align: right;\n",
       "    }\n",
       "</style>\n",
       "<table border=\"1\" class=\"dataframe\">\n",
       "  <thead>\n",
       "    <tr style=\"text-align: right;\">\n",
       "      <th></th>\n",
       "      <th>0</th>\n",
       "      <th>1</th>\n",
       "      <th>2</th>\n",
       "      <th>3</th>\n",
       "      <th>4</th>\n",
       "      <th>5</th>\n",
       "      <th>6</th>\n",
       "    </tr>\n",
       "  </thead>\n",
       "  <tbody>\n",
       "    <tr>\n",
       "      <th>0</th>\n",
       "      <td>136.0</td>\n",
       "      <td>70.0</td>\n",
       "      <td>32.0</td>\n",
       "      <td>110.0</td>\n",
       "      <td>37.1</td>\n",
       "      <td>0.153</td>\n",
       "      <td>43.0</td>\n",
       "    </tr>\n",
       "    <tr>\n",
       "      <th>1</th>\n",
       "      <td>97.0</td>\n",
       "      <td>64.0</td>\n",
       "      <td>36.0</td>\n",
       "      <td>100.0</td>\n",
       "      <td>36.8</td>\n",
       "      <td>0.600</td>\n",
       "      <td>25.0</td>\n",
       "    </tr>\n",
       "    <tr>\n",
       "      <th>2</th>\n",
       "      <td>116.0</td>\n",
       "      <td>70.0</td>\n",
       "      <td>28.0</td>\n",
       "      <td>99.4</td>\n",
       "      <td>27.4</td>\n",
       "      <td>0.204</td>\n",
       "      <td>21.0</td>\n",
       "    </tr>\n",
       "    <tr>\n",
       "      <th>3</th>\n",
       "      <td>106.0</td>\n",
       "      <td>64.0</td>\n",
       "      <td>35.0</td>\n",
       "      <td>119.0</td>\n",
       "      <td>30.5</td>\n",
       "      <td>1.400</td>\n",
       "      <td>34.0</td>\n",
       "    </tr>\n",
       "    <tr>\n",
       "      <th>4</th>\n",
       "      <td>123.0</td>\n",
       "      <td>88.0</td>\n",
       "      <td>37.0</td>\n",
       "      <td>182.8</td>\n",
       "      <td>35.2</td>\n",
       "      <td>0.197</td>\n",
       "      <td>29.0</td>\n",
       "    </tr>\n",
       "    <tr>\n",
       "      <th>...</th>\n",
       "      <td>...</td>\n",
       "      <td>...</td>\n",
       "      <td>...</td>\n",
       "      <td>...</td>\n",
       "      <td>...</td>\n",
       "      <td>...</td>\n",
       "      <td>...</td>\n",
       "    </tr>\n",
       "    <tr>\n",
       "      <th>532</th>\n",
       "      <td>157.0</td>\n",
       "      <td>74.0</td>\n",
       "      <td>35.0</td>\n",
       "      <td>440.0</td>\n",
       "      <td>39.4</td>\n",
       "      <td>0.134</td>\n",
       "      <td>30.0</td>\n",
       "    </tr>\n",
       "    <tr>\n",
       "      <th>533</th>\n",
       "      <td>187.0</td>\n",
       "      <td>50.0</td>\n",
       "      <td>33.0</td>\n",
       "      <td>392.0</td>\n",
       "      <td>33.9</td>\n",
       "      <td>0.826</td>\n",
       "      <td>34.0</td>\n",
       "    </tr>\n",
       "    <tr>\n",
       "      <th>534</th>\n",
       "      <td>126.0</td>\n",
       "      <td>90.0</td>\n",
       "      <td>33.6</td>\n",
       "      <td>141.6</td>\n",
       "      <td>43.4</td>\n",
       "      <td>0.583</td>\n",
       "      <td>42.0</td>\n",
       "    </tr>\n",
       "    <tr>\n",
       "      <th>535</th>\n",
       "      <td>171.0</td>\n",
       "      <td>72.0</td>\n",
       "      <td>41.0</td>\n",
       "      <td>331.4</td>\n",
       "      <td>43.6</td>\n",
       "      <td>0.479</td>\n",
       "      <td>26.0</td>\n",
       "    </tr>\n",
       "    <tr>\n",
       "      <th>536</th>\n",
       "      <td>102.0</td>\n",
       "      <td>76.0</td>\n",
       "      <td>37.0</td>\n",
       "      <td>149.2</td>\n",
       "      <td>32.9</td>\n",
       "      <td>0.665</td>\n",
       "      <td>46.0</td>\n",
       "    </tr>\n",
       "  </tbody>\n",
       "</table>\n",
       "<p>537 rows × 7 columns</p>\n",
       "</div>"
      ],
      "text/plain": [
       "         0     1     2      3     4      5     6\n",
       "0    136.0  70.0  32.0  110.0  37.1  0.153  43.0\n",
       "1     97.0  64.0  36.0  100.0  36.8  0.600  25.0\n",
       "2    116.0  70.0  28.0   99.4  27.4  0.204  21.0\n",
       "3    106.0  64.0  35.0  119.0  30.5  1.400  34.0\n",
       "4    123.0  88.0  37.0  182.8  35.2  0.197  29.0\n",
       "..     ...   ...   ...    ...   ...    ...   ...\n",
       "532  157.0  74.0  35.0  440.0  39.4  0.134  30.0\n",
       "533  187.0  50.0  33.0  392.0  33.9  0.826  34.0\n",
       "534  126.0  90.0  33.6  141.6  43.4  0.583  42.0\n",
       "535  171.0  72.0  41.0  331.4  43.6  0.479  26.0\n",
       "536  102.0  76.0  37.0  149.2  32.9  0.665  46.0\n",
       "\n",
       "[537 rows x 7 columns]"
      ]
     },
     "execution_count": 561,
     "metadata": {},
     "output_type": "execute_result"
    }
   ],
   "source": [
    "X_train_knnimp"
   ]
  },
  {
   "cell_type": "code",
   "execution_count": 562,
   "id": "e3623930",
   "metadata": {},
   "outputs": [
    {
     "data": {
      "text/html": [
       "<div>\n",
       "<style scoped>\n",
       "    .dataframe tbody tr th:only-of-type {\n",
       "        vertical-align: middle;\n",
       "    }\n",
       "\n",
       "    .dataframe tbody tr th {\n",
       "        vertical-align: top;\n",
       "    }\n",
       "\n",
       "    .dataframe thead th {\n",
       "        text-align: right;\n",
       "    }\n",
       "</style>\n",
       "<table border=\"1\" class=\"dataframe\">\n",
       "  <thead>\n",
       "    <tr style=\"text-align: right;\">\n",
       "      <th></th>\n",
       "      <th>0</th>\n",
       "      <th>1</th>\n",
       "      <th>2</th>\n",
       "      <th>3</th>\n",
       "      <th>4</th>\n",
       "      <th>5</th>\n",
       "      <th>6</th>\n",
       "    </tr>\n",
       "  </thead>\n",
       "  <tbody>\n",
       "    <tr>\n",
       "      <th>0</th>\n",
       "      <td>136.0</td>\n",
       "      <td>74.0</td>\n",
       "      <td>26.0</td>\n",
       "      <td>135.0</td>\n",
       "      <td>26.0</td>\n",
       "      <td>0.647</td>\n",
       "      <td>51.0</td>\n",
       "    </tr>\n",
       "    <tr>\n",
       "      <th>1</th>\n",
       "      <td>151.0</td>\n",
       "      <td>60.0</td>\n",
       "      <td>26.0</td>\n",
       "      <td>247.4</td>\n",
       "      <td>26.1</td>\n",
       "      <td>0.179</td>\n",
       "      <td>22.0</td>\n",
       "    </tr>\n",
       "    <tr>\n",
       "      <th>2</th>\n",
       "      <td>109.0</td>\n",
       "      <td>60.0</td>\n",
       "      <td>27.0</td>\n",
       "      <td>91.2</td>\n",
       "      <td>25.0</td>\n",
       "      <td>0.206</td>\n",
       "      <td>27.0</td>\n",
       "    </tr>\n",
       "    <tr>\n",
       "      <th>3</th>\n",
       "      <td>61.0</td>\n",
       "      <td>82.0</td>\n",
       "      <td>28.0</td>\n",
       "      <td>53.0</td>\n",
       "      <td>34.4</td>\n",
       "      <td>0.243</td>\n",
       "      <td>46.0</td>\n",
       "    </tr>\n",
       "    <tr>\n",
       "      <th>4</th>\n",
       "      <td>116.0</td>\n",
       "      <td>78.0</td>\n",
       "      <td>29.0</td>\n",
       "      <td>180.0</td>\n",
       "      <td>36.1</td>\n",
       "      <td>0.496</td>\n",
       "      <td>25.0</td>\n",
       "    </tr>\n",
       "    <tr>\n",
       "      <th>...</th>\n",
       "      <td>...</td>\n",
       "      <td>...</td>\n",
       "      <td>...</td>\n",
       "      <td>...</td>\n",
       "      <td>...</td>\n",
       "      <td>...</td>\n",
       "      <td>...</td>\n",
       "    </tr>\n",
       "    <tr>\n",
       "      <th>226</th>\n",
       "      <td>91.0</td>\n",
       "      <td>70.0</td>\n",
       "      <td>32.0</td>\n",
       "      <td>88.0</td>\n",
       "      <td>33.1</td>\n",
       "      <td>0.446</td>\n",
       "      <td>22.0</td>\n",
       "    </tr>\n",
       "    <tr>\n",
       "      <th>227</th>\n",
       "      <td>109.0</td>\n",
       "      <td>38.0</td>\n",
       "      <td>18.0</td>\n",
       "      <td>120.0</td>\n",
       "      <td>23.1</td>\n",
       "      <td>0.407</td>\n",
       "      <td>26.0</td>\n",
       "    </tr>\n",
       "    <tr>\n",
       "      <th>228</th>\n",
       "      <td>91.0</td>\n",
       "      <td>54.0</td>\n",
       "      <td>25.0</td>\n",
       "      <td>100.0</td>\n",
       "      <td>25.2</td>\n",
       "      <td>0.234</td>\n",
       "      <td>23.0</td>\n",
       "    </tr>\n",
       "    <tr>\n",
       "      <th>229</th>\n",
       "      <td>168.0</td>\n",
       "      <td>74.0</td>\n",
       "      <td>27.8</td>\n",
       "      <td>232.4</td>\n",
       "      <td>38.0</td>\n",
       "      <td>0.537</td>\n",
       "      <td>34.0</td>\n",
       "    </tr>\n",
       "    <tr>\n",
       "      <th>230</th>\n",
       "      <td>112.0</td>\n",
       "      <td>82.0</td>\n",
       "      <td>32.0</td>\n",
       "      <td>175.0</td>\n",
       "      <td>34.2</td>\n",
       "      <td>0.260</td>\n",
       "      <td>36.0</td>\n",
       "    </tr>\n",
       "  </tbody>\n",
       "</table>\n",
       "<p>231 rows × 7 columns</p>\n",
       "</div>"
      ],
      "text/plain": [
       "         0     1     2      3     4      5     6\n",
       "0    136.0  74.0  26.0  135.0  26.0  0.647  51.0\n",
       "1    151.0  60.0  26.0  247.4  26.1  0.179  22.0\n",
       "2    109.0  60.0  27.0   91.2  25.0  0.206  27.0\n",
       "3     61.0  82.0  28.0   53.0  34.4  0.243  46.0\n",
       "4    116.0  78.0  29.0  180.0  36.1  0.496  25.0\n",
       "..     ...   ...   ...    ...   ...    ...   ...\n",
       "226   91.0  70.0  32.0   88.0  33.1  0.446  22.0\n",
       "227  109.0  38.0  18.0  120.0  23.1  0.407  26.0\n",
       "228   91.0  54.0  25.0  100.0  25.2  0.234  23.0\n",
       "229  168.0  74.0  27.8  232.4  38.0  0.537  34.0\n",
       "230  112.0  82.0  32.0  175.0  34.2  0.260  36.0\n",
       "\n",
       "[231 rows x 7 columns]"
      ]
     },
     "execution_count": 562,
     "metadata": {},
     "output_type": "execute_result"
    }
   ],
   "source": [
    "X_test_knnimp"
   ]
  },
  {
   "cell_type": "markdown",
   "id": "145e514f",
   "metadata": {},
   "source": [
    "##### Time to change the names of columns in X_train_knnimp and X_test_knnimp & also add the 'preg' column in both the dataframes :"
   ]
  },
  {
   "cell_type": "code",
   "execution_count": 563,
   "id": "abba28b3",
   "metadata": {},
   "outputs": [],
   "source": [
    "X_train_knnimp.columns = X_test_knnimp.columns = \\\n",
    "[ 'glu', 'bp', 'skinThickness', 'insulin', 'bmi', 'dpf', 'age']"
   ]
  },
  {
   "cell_type": "code",
   "execution_count": 564,
   "id": "de1d2764",
   "metadata": {},
   "outputs": [
    {
     "data": {
      "text/html": [
       "<div>\n",
       "<style scoped>\n",
       "    .dataframe tbody tr th:only-of-type {\n",
       "        vertical-align: middle;\n",
       "    }\n",
       "\n",
       "    .dataframe tbody tr th {\n",
       "        vertical-align: top;\n",
       "    }\n",
       "\n",
       "    .dataframe thead th {\n",
       "        text-align: right;\n",
       "    }\n",
       "</style>\n",
       "<table border=\"1\" class=\"dataframe\">\n",
       "  <thead>\n",
       "    <tr style=\"text-align: right;\">\n",
       "      <th></th>\n",
       "      <th>preg</th>\n",
       "      <th>glu</th>\n",
       "      <th>bp</th>\n",
       "      <th>skinThickness</th>\n",
       "      <th>insulin</th>\n",
       "      <th>bmi</th>\n",
       "      <th>dpf</th>\n",
       "      <th>age</th>\n",
       "    </tr>\n",
       "  </thead>\n",
       "  <tbody>\n",
       "    <tr>\n",
       "      <th>0</th>\n",
       "      <td>15</td>\n",
       "      <td>136.0</td>\n",
       "      <td>70.0</td>\n",
       "      <td>32.0</td>\n",
       "      <td>110.0</td>\n",
       "      <td>37.1</td>\n",
       "      <td>0.153</td>\n",
       "      <td>43.0</td>\n",
       "    </tr>\n",
       "    <tr>\n",
       "      <th>1</th>\n",
       "      <td>0</td>\n",
       "      <td>97.0</td>\n",
       "      <td>64.0</td>\n",
       "      <td>36.0</td>\n",
       "      <td>100.0</td>\n",
       "      <td>36.8</td>\n",
       "      <td>0.600</td>\n",
       "      <td>25.0</td>\n",
       "    </tr>\n",
       "    <tr>\n",
       "      <th>2</th>\n",
       "      <td>1</td>\n",
       "      <td>116.0</td>\n",
       "      <td>70.0</td>\n",
       "      <td>28.0</td>\n",
       "      <td>99.4</td>\n",
       "      <td>27.4</td>\n",
       "      <td>0.204</td>\n",
       "      <td>21.0</td>\n",
       "    </tr>\n",
       "    <tr>\n",
       "      <th>3</th>\n",
       "      <td>2</td>\n",
       "      <td>106.0</td>\n",
       "      <td>64.0</td>\n",
       "      <td>35.0</td>\n",
       "      <td>119.0</td>\n",
       "      <td>30.5</td>\n",
       "      <td>1.400</td>\n",
       "      <td>34.0</td>\n",
       "    </tr>\n",
       "    <tr>\n",
       "      <th>4</th>\n",
       "      <td>0</td>\n",
       "      <td>123.0</td>\n",
       "      <td>88.0</td>\n",
       "      <td>37.0</td>\n",
       "      <td>182.8</td>\n",
       "      <td>35.2</td>\n",
       "      <td>0.197</td>\n",
       "      <td>29.0</td>\n",
       "    </tr>\n",
       "    <tr>\n",
       "      <th>...</th>\n",
       "      <td>...</td>\n",
       "      <td>...</td>\n",
       "      <td>...</td>\n",
       "      <td>...</td>\n",
       "      <td>...</td>\n",
       "      <td>...</td>\n",
       "      <td>...</td>\n",
       "      <td>...</td>\n",
       "    </tr>\n",
       "    <tr>\n",
       "      <th>532</th>\n",
       "      <td>2</td>\n",
       "      <td>157.0</td>\n",
       "      <td>74.0</td>\n",
       "      <td>35.0</td>\n",
       "      <td>440.0</td>\n",
       "      <td>39.4</td>\n",
       "      <td>0.134</td>\n",
       "      <td>30.0</td>\n",
       "    </tr>\n",
       "    <tr>\n",
       "      <th>533</th>\n",
       "      <td>7</td>\n",
       "      <td>187.0</td>\n",
       "      <td>50.0</td>\n",
       "      <td>33.0</td>\n",
       "      <td>392.0</td>\n",
       "      <td>33.9</td>\n",
       "      <td>0.826</td>\n",
       "      <td>34.0</td>\n",
       "    </tr>\n",
       "    <tr>\n",
       "      <th>534</th>\n",
       "      <td>13</td>\n",
       "      <td>126.0</td>\n",
       "      <td>90.0</td>\n",
       "      <td>33.6</td>\n",
       "      <td>141.6</td>\n",
       "      <td>43.4</td>\n",
       "      <td>0.583</td>\n",
       "      <td>42.0</td>\n",
       "    </tr>\n",
       "    <tr>\n",
       "      <th>535</th>\n",
       "      <td>4</td>\n",
       "      <td>171.0</td>\n",
       "      <td>72.0</td>\n",
       "      <td>41.0</td>\n",
       "      <td>331.4</td>\n",
       "      <td>43.6</td>\n",
       "      <td>0.479</td>\n",
       "      <td>26.0</td>\n",
       "    </tr>\n",
       "    <tr>\n",
       "      <th>536</th>\n",
       "      <td>9</td>\n",
       "      <td>102.0</td>\n",
       "      <td>76.0</td>\n",
       "      <td>37.0</td>\n",
       "      <td>149.2</td>\n",
       "      <td>32.9</td>\n",
       "      <td>0.665</td>\n",
       "      <td>46.0</td>\n",
       "    </tr>\n",
       "  </tbody>\n",
       "</table>\n",
       "<p>537 rows × 8 columns</p>\n",
       "</div>"
      ],
      "text/plain": [
       "     preg    glu    bp  skinThickness  insulin   bmi    dpf   age\n",
       "0      15  136.0  70.0           32.0    110.0  37.1  0.153  43.0\n",
       "1       0   97.0  64.0           36.0    100.0  36.8  0.600  25.0\n",
       "2       1  116.0  70.0           28.0     99.4  27.4  0.204  21.0\n",
       "3       2  106.0  64.0           35.0    119.0  30.5  1.400  34.0\n",
       "4       0  123.0  88.0           37.0    182.8  35.2  0.197  29.0\n",
       "..    ...    ...   ...            ...      ...   ...    ...   ...\n",
       "532     2  157.0  74.0           35.0    440.0  39.4  0.134  30.0\n",
       "533     7  187.0  50.0           33.0    392.0  33.9  0.826  34.0\n",
       "534    13  126.0  90.0           33.6    141.6  43.4  0.583  42.0\n",
       "535     4  171.0  72.0           41.0    331.4  43.6  0.479  26.0\n",
       "536     9  102.0  76.0           37.0    149.2  32.9  0.665  46.0\n",
       "\n",
       "[537 rows x 8 columns]"
      ]
     },
     "execution_count": 564,
     "metadata": {},
     "output_type": "execute_result"
    }
   ],
   "source": [
    "preg = np.array(X_train['preg'])\n",
    "\n",
    "X_train_knnimp.insert(0, \"preg\", preg, True)\n",
    "\n",
    "X_train_knnimp"
   ]
  },
  {
   "cell_type": "code",
   "execution_count": 565,
   "id": "b1b29f9d",
   "metadata": {},
   "outputs": [
    {
     "data": {
      "text/html": [
       "<div>\n",
       "<style scoped>\n",
       "    .dataframe tbody tr th:only-of-type {\n",
       "        vertical-align: middle;\n",
       "    }\n",
       "\n",
       "    .dataframe tbody tr th {\n",
       "        vertical-align: top;\n",
       "    }\n",
       "\n",
       "    .dataframe thead th {\n",
       "        text-align: right;\n",
       "    }\n",
       "</style>\n",
       "<table border=\"1\" class=\"dataframe\">\n",
       "  <thead>\n",
       "    <tr style=\"text-align: right;\">\n",
       "      <th></th>\n",
       "      <th>preg</th>\n",
       "      <th>glu</th>\n",
       "      <th>bp</th>\n",
       "      <th>skinThickness</th>\n",
       "      <th>insulin</th>\n",
       "      <th>bmi</th>\n",
       "      <th>dpf</th>\n",
       "      <th>age</th>\n",
       "    </tr>\n",
       "  </thead>\n",
       "  <tbody>\n",
       "    <tr>\n",
       "      <th>0</th>\n",
       "      <td>7</td>\n",
       "      <td>136.0</td>\n",
       "      <td>74.0</td>\n",
       "      <td>26.0</td>\n",
       "      <td>135.0</td>\n",
       "      <td>26.0</td>\n",
       "      <td>0.647</td>\n",
       "      <td>51.0</td>\n",
       "    </tr>\n",
       "    <tr>\n",
       "      <th>1</th>\n",
       "      <td>1</td>\n",
       "      <td>151.0</td>\n",
       "      <td>60.0</td>\n",
       "      <td>26.0</td>\n",
       "      <td>247.4</td>\n",
       "      <td>26.1</td>\n",
       "      <td>0.179</td>\n",
       "      <td>22.0</td>\n",
       "    </tr>\n",
       "    <tr>\n",
       "      <th>2</th>\n",
       "      <td>6</td>\n",
       "      <td>109.0</td>\n",
       "      <td>60.0</td>\n",
       "      <td>27.0</td>\n",
       "      <td>91.2</td>\n",
       "      <td>25.0</td>\n",
       "      <td>0.206</td>\n",
       "      <td>27.0</td>\n",
       "    </tr>\n",
       "    <tr>\n",
       "      <th>3</th>\n",
       "      <td>3</td>\n",
       "      <td>61.0</td>\n",
       "      <td>82.0</td>\n",
       "      <td>28.0</td>\n",
       "      <td>53.0</td>\n",
       "      <td>34.4</td>\n",
       "      <td>0.243</td>\n",
       "      <td>46.0</td>\n",
       "    </tr>\n",
       "    <tr>\n",
       "      <th>4</th>\n",
       "      <td>1</td>\n",
       "      <td>116.0</td>\n",
       "      <td>78.0</td>\n",
       "      <td>29.0</td>\n",
       "      <td>180.0</td>\n",
       "      <td>36.1</td>\n",
       "      <td>0.496</td>\n",
       "      <td>25.0</td>\n",
       "    </tr>\n",
       "    <tr>\n",
       "      <th>...</th>\n",
       "      <td>...</td>\n",
       "      <td>...</td>\n",
       "      <td>...</td>\n",
       "      <td>...</td>\n",
       "      <td>...</td>\n",
       "      <td>...</td>\n",
       "      <td>...</td>\n",
       "      <td>...</td>\n",
       "    </tr>\n",
       "    <tr>\n",
       "      <th>226</th>\n",
       "      <td>4</td>\n",
       "      <td>91.0</td>\n",
       "      <td>70.0</td>\n",
       "      <td>32.0</td>\n",
       "      <td>88.0</td>\n",
       "      <td>33.1</td>\n",
       "      <td>0.446</td>\n",
       "      <td>22.0</td>\n",
       "    </tr>\n",
       "    <tr>\n",
       "      <th>227</th>\n",
       "      <td>1</td>\n",
       "      <td>109.0</td>\n",
       "      <td>38.0</td>\n",
       "      <td>18.0</td>\n",
       "      <td>120.0</td>\n",
       "      <td>23.1</td>\n",
       "      <td>0.407</td>\n",
       "      <td>26.0</td>\n",
       "    </tr>\n",
       "    <tr>\n",
       "      <th>228</th>\n",
       "      <td>1</td>\n",
       "      <td>91.0</td>\n",
       "      <td>54.0</td>\n",
       "      <td>25.0</td>\n",
       "      <td>100.0</td>\n",
       "      <td>25.2</td>\n",
       "      <td>0.234</td>\n",
       "      <td>23.0</td>\n",
       "    </tr>\n",
       "    <tr>\n",
       "      <th>229</th>\n",
       "      <td>10</td>\n",
       "      <td>168.0</td>\n",
       "      <td>74.0</td>\n",
       "      <td>27.8</td>\n",
       "      <td>232.4</td>\n",
       "      <td>38.0</td>\n",
       "      <td>0.537</td>\n",
       "      <td>34.0</td>\n",
       "    </tr>\n",
       "    <tr>\n",
       "      <th>230</th>\n",
       "      <td>9</td>\n",
       "      <td>112.0</td>\n",
       "      <td>82.0</td>\n",
       "      <td>32.0</td>\n",
       "      <td>175.0</td>\n",
       "      <td>34.2</td>\n",
       "      <td>0.260</td>\n",
       "      <td>36.0</td>\n",
       "    </tr>\n",
       "  </tbody>\n",
       "</table>\n",
       "<p>231 rows × 8 columns</p>\n",
       "</div>"
      ],
      "text/plain": [
       "     preg    glu    bp  skinThickness  insulin   bmi    dpf   age\n",
       "0       7  136.0  74.0           26.0    135.0  26.0  0.647  51.0\n",
       "1       1  151.0  60.0           26.0    247.4  26.1  0.179  22.0\n",
       "2       6  109.0  60.0           27.0     91.2  25.0  0.206  27.0\n",
       "3       3   61.0  82.0           28.0     53.0  34.4  0.243  46.0\n",
       "4       1  116.0  78.0           29.0    180.0  36.1  0.496  25.0\n",
       "..    ...    ...   ...            ...      ...   ...    ...   ...\n",
       "226     4   91.0  70.0           32.0     88.0  33.1  0.446  22.0\n",
       "227     1  109.0  38.0           18.0    120.0  23.1  0.407  26.0\n",
       "228     1   91.0  54.0           25.0    100.0  25.2  0.234  23.0\n",
       "229    10  168.0  74.0           27.8    232.4  38.0  0.537  34.0\n",
       "230     9  112.0  82.0           32.0    175.0  34.2  0.260  36.0\n",
       "\n",
       "[231 rows x 8 columns]"
      ]
     },
     "execution_count": 565,
     "metadata": {},
     "output_type": "execute_result"
    }
   ],
   "source": [
    "preg = np.array(X_test['preg'])\n",
    "\n",
    "X_test_knnimp.insert(0, \"preg\", preg, True)\n",
    "\n",
    "X_test_knnimp"
   ]
  },
  {
   "cell_type": "markdown",
   "id": "e3235e9d",
   "metadata": {},
   "source": [
    "Feature Scaling after KNNImputation in the data :-"
   ]
  },
  {
   "cell_type": "code",
   "execution_count": 566,
   "id": "21579251",
   "metadata": {},
   "outputs": [],
   "source": [
    "norm1 = MinMaxScaler()"
   ]
  },
  {
   "cell_type": "code",
   "execution_count": 567,
   "id": "9a2b1d6b",
   "metadata": {},
   "outputs": [
    {
     "data": {
      "text/plain": [
       "MinMaxScaler()"
      ]
     },
     "execution_count": 567,
     "metadata": {},
     "output_type": "execute_result"
    }
   ],
   "source": [
    "norm1.fit(X_train_knnimp)"
   ]
  },
  {
   "cell_type": "code",
   "execution_count": 568,
   "id": "9830d507",
   "metadata": {},
   "outputs": [],
   "source": [
    "X_train_knnscaled = norm1.transform(X_train_knnimp)\n",
    "\n",
    "X_test_knnscaled = norm1.transform(X_test_knnimp)"
   ]
  },
  {
   "cell_type": "markdown",
   "id": "6fb4a20e",
   "metadata": {},
   "source": [
    "Converting the Numpy array objects into Dataframes :-"
   ]
  },
  {
   "cell_type": "code",
   "execution_count": null,
   "id": "3f46e2a0",
   "metadata": {},
   "outputs": [],
   "source": [
    "X_train_knnscaled = pd.DataFrame(X_train_knnscaled)\n",
    "X_test_knnscaled = pd.DataFrame(X_test_knnscaled)"
   ]
  },
  {
   "cell_type": "markdown",
   "id": "80c41e14",
   "metadata": {},
   "source": [
    "Renaming the columns of Dataframe to the actual names rather than number from 0 to 7 :-"
   ]
  },
  {
   "cell_type": "code",
   "execution_count": null,
   "id": "4fbccd18",
   "metadata": {},
   "outputs": [],
   "source": [
    "X_train_knnscaled.columns = X_test_knnscaled.columns = \\\n",
    "[ 'preg','glu', 'bp', 'skinThickness', 'insulin', 'bmi', 'dpf', 'age']"
   ]
  },
  {
   "cell_type": "markdown",
   "id": "f802bfe0",
   "metadata": {},
   "source": [
    "Now, since we have X_train_knnimp, X_test_knnimp and X_train_knnscaled, X_test_knnscaled; we can go ahead with applying various algorithmic techniques as previously. "
   ]
  },
  {
   "cell_type": "markdown",
   "id": "a0b9749d",
   "metadata": {},
   "source": [
    "### Naive Bayes Classifier :-"
   ]
  },
  {
   "cell_type": "code",
   "execution_count": 1430,
   "id": "44a19d19",
   "metadata": {},
   "outputs": [
    {
     "name": "stdout",
     "output_type": "stream",
     "text": [
      "77.92207792207793% is the accuracy score for the NaiveBayes Classifier\n"
     ]
    }
   ],
   "source": [
    "gnb_classifier = GaussianNB()\n",
    "\n",
    "gnb_classifier.fit(X_train_knnscaled, y_train) # Have used X_train_imputed\n",
    "\n",
    "y_pred = gnb_classifier.predict(X_test_knnscaled)\n",
    "\n",
    "accuracy_nb_normal_3 = accuracy_score(y_test, y_pred)*100\n",
    "\n",
    "auroc_nb_normal_3 = roc_auc_score(y_test, y_pred)*100\n",
    "\n",
    "print(f'{accuracy_nb_normal_3}% is the accuracy score for the NaiveBayes Classifier')"
   ]
  },
  {
   "cell_type": "markdown",
   "id": "ab0fb75e",
   "metadata": {},
   "source": [
    "Below values will be used for plotting a bar-plot for comparison :-"
   ]
  },
  {
   "cell_type": "code",
   "execution_count": 1435,
   "id": "86f9a2f5",
   "metadata": {},
   "outputs": [],
   "source": [
    "naiveBayesAcc3 = accuracy_nb_normal_3\n",
    "\n",
    "naiveBayesAuroc3 = auroc_nb_normal_3"
   ]
  },
  {
   "cell_type": "code",
   "execution_count": null,
   "id": "9d1a931e",
   "metadata": {},
   "outputs": [],
   "source": []
  },
  {
   "cell_type": "code",
   "execution_count": null,
   "id": "1726ef8d",
   "metadata": {},
   "outputs": [],
   "source": []
  },
  {
   "cell_type": "markdown",
   "id": "bd0f7b58",
   "metadata": {},
   "source": [
    "### KNN Technique :-"
   ]
  },
  {
   "cell_type": "code",
   "execution_count": 1795,
   "id": "56b9f810",
   "metadata": {},
   "outputs": [
    {
     "name": "stdout",
     "output_type": "stream",
     "text": [
      "80.95238095238095% is the accuracy score in percentage form with knn.\n"
     ]
    }
   ],
   "source": [
    "neigh = KNeighborsClassifier()\n",
    "\n",
    "neigh.fit(X_train_knnscaled.values, y_train.values)\n",
    "\n",
    "y_pred = neigh.predict(X_test_knnscaled.values)\n",
    "\n",
    "accuracy_knn_normal_3 = accuracy_score(y_test, y_pred)*100\n",
    "\n",
    "auroc_knn_normal_3 = roc_auc_score(y_test, y_pred)*100\n",
    "\n",
    "print(f\"{accuracy_knn_normal_3}% is the accuracy score in percentage form with knn.\")"
   ]
  },
  {
   "cell_type": "code",
   "execution_count": 1796,
   "id": "e7a6ddee",
   "metadata": {},
   "outputs": [
    {
     "data": {
      "text/plain": [
       "78.04995970991135"
      ]
     },
     "execution_count": 1796,
     "metadata": {},
     "output_type": "execute_result"
    }
   ],
   "source": [
    "auroc_knn_normal_3"
   ]
  },
  {
   "cell_type": "code",
   "execution_count": 1797,
   "id": "4a6e46eb",
   "metadata": {},
   "outputs": [
    {
     "data": {
      "text/plain": [
       "{'algorithm': 'auto',\n",
       " 'leaf_size': 30,\n",
       " 'metric': 'minkowski',\n",
       " 'metric_params': None,\n",
       " 'n_jobs': None,\n",
       " 'n_neighbors': 5,\n",
       " 'p': 2,\n",
       " 'weights': 'uniform'}"
      ]
     },
     "execution_count": 1797,
     "metadata": {},
     "output_type": "execute_result"
    }
   ],
   "source": [
    "neigh.get_params()"
   ]
  },
  {
   "cell_type": "code",
   "execution_count": null,
   "id": "83147282",
   "metadata": {},
   "outputs": [],
   "source": []
  },
  {
   "cell_type": "markdown",
   "id": "8650a225",
   "metadata": {},
   "source": [
    "#### GridSearchCV (KNN) :- "
   ]
  },
  {
   "cell_type": "code",
   "execution_count": 1443,
   "id": "1806a977",
   "metadata": {},
   "outputs": [
    {
     "name": "stdout",
     "output_type": "stream",
     "text": [
      "KNeighborsClassifier(n_neighbors=23, weights='distance') is the Best Estimator according to Exhaustive Hyperparameter search.\n",
      "\n",
      "80.95238095238095% is the accuracy score for the KNeighborsClassifier() using the best hyparameters suggested by GridSearchCV.\n",
      "76.82111200644643% is the auroc score for the KNeighborsClassifier() using the best hyparameters suggested by GridSearchCV.\n",
      "82.53968253968253% is the precision score for the KNeighborsClassifier() using the best hyparameters suggested by GridSearchCV.\n",
      "61.1764705882353% is the recall score for the KNeighborsClassifier() using the best hyparameters suggested by GridSearchCV.\n",
      "70.27027027027026% is the f1_score for the KNeighborsClassifier() using the best hyparameters suggested by GridSearchCV.\n"
     ]
    }
   ],
   "source": [
    "params_grid_dict = {\n",
    "    'n_neighbors' : np.array([i for i in range(5,25,2)]),\n",
    "    'weights': ['distance', 'uniform'],\n",
    "    'metric':['minkowski', 'euclidean']\n",
    "}\n",
    "\n",
    "neigh = KNeighborsClassifier()\n",
    "\n",
    "accuracy_knn_grid_3, auroc_knn_grid_3 = grid_search_cv(neigh,params_grid_dict,X_train=X_train_knnscaled, \n",
    "                   y_train=y_train, X_test=X_test_knnscaled, y_test=y_test)"
   ]
  },
  {
   "cell_type": "markdown",
   "id": "2ef95ab2",
   "metadata": {},
   "source": [
    "#### RandomizedSearchCV (KNN):-"
   ]
  },
  {
   "cell_type": "code",
   "execution_count": 1772,
   "id": "102645b8",
   "metadata": {},
   "outputs": [
    {
     "name": "stdout",
     "output_type": "stream",
     "text": [
      "KNeighborsClassifier(n_neighbors=53, weights='distance') is the Best Estimator according to Randomized Hyperparameter search.\n",
      "\n",
      "79.65367965367966% is the accuracy score for KNeighborsClassifier() using the best hyparameters suggested by RandomizedSearchCV.\n",
      "74.56486704270749% is the auroc score for KNeighborsClassifier() using the best hyparameters suggested by RandomizedSearchCV.\n",
      "83.92857142857143% is the precision score for KNeighborsClassifier() using the best hyparameters suggested by RandomizedSearchCV.\n",
      "55.294117647058826% is the recall score for KNeighborsClassifier() using the best hyparameters suggested by RandomizedSearchCV.\n",
      "66.66666666666667% is the f1_score for KNeighborsClassifier() using the best hyparameters suggested by RandomizedSearchCV.\n"
     ]
    }
   ],
   "source": [
    "neigh = KNeighborsClassifier()\n",
    "\n",
    "params_grid_dict = {\n",
    "    # Increasing the range of n_neighbors to maybe find a better set of hyperparameters.\n",
    "    'n_neighbors' : np.array([i for i in range(5,56,2)]), \n",
    "    'weights': ['distance', 'uniform'],\n",
    "    'metric':['minkowski', 'euclidean']\n",
    "}\n",
    "\n",
    "accuracy_knn_random_3, auroc_knn_random_3 = randomized_search_cv(neigh,params_grid_dict,X_train=X_train_knnscaled, \n",
    "                   y_train=y_train, X_test=X_test_knnscaled, y_test=y_test)"
   ]
  },
  {
   "cell_type": "markdown",
   "id": "9eb8a634",
   "metadata": {},
   "source": [
    "Below are the values for Accuracy and Auroc score for KNN, to be used for Bar plot for comparison :-"
   ]
  },
  {
   "cell_type": "code",
   "execution_count": 1798,
   "id": "18394219",
   "metadata": {},
   "outputs": [],
   "source": [
    "knnAccuracy3 = max(accuracy_knn_normal_3, accuracy_knn_grid_3, accuracy_knn_random_3)\n",
    "\n",
    "knnAuroc3 = max(auroc_knn_normal_3, auroc_knn_grid_3, auroc_knn_random_3)"
   ]
  },
  {
   "cell_type": "code",
   "execution_count": null,
   "id": "70261252",
   "metadata": {},
   "outputs": [],
   "source": []
  },
  {
   "cell_type": "code",
   "execution_count": null,
   "id": "c692ff1b",
   "metadata": {},
   "outputs": [],
   "source": []
  },
  {
   "cell_type": "markdown",
   "id": "5a3158a0",
   "metadata": {},
   "source": [
    "#### LogisticRegression :-"
   ]
  },
  {
   "cell_type": "code",
   "execution_count": 1452,
   "id": "d523b583",
   "metadata": {},
   "outputs": [
    {
     "name": "stdout",
     "output_type": "stream",
     "text": [
      "78.35497835497836% is the accuracy score in percentage form with LogisticRegression.\n"
     ]
    }
   ],
   "source": [
    "logistic_regression = LogisticRegression(max_iter=200)\n",
    "\n",
    "logistic_regression.fit(X_train_knnscaled, y_train)\n",
    "\n",
    "# Predicting the X_test datapoints :\n",
    "y_pred = logistic_regression.predict(X_test_knnscaled)\n",
    "\n",
    "accuracy_lr_normal_3 = accuracy_score(y_test, y_pred)*100\n",
    "\n",
    "auroc_lr_normal_3 = roc_auc_score(y_test, y_pred)*100\n",
    "\n",
    "print(f\"{accuracy_lr_normal_3}% is the accuracy score in percentage form with LogisticRegression.\")"
   ]
  },
  {
   "cell_type": "markdown",
   "id": "76fc7da8",
   "metadata": {},
   "source": [
    "#### GridSearchCV (LogisticRegression) :-"
   ]
  },
  {
   "cell_type": "code",
   "execution_count": 1453,
   "id": "9a13c1c0",
   "metadata": {},
   "outputs": [
    {
     "name": "stdout",
     "output_type": "stream",
     "text": [
      "LogisticRegression(C=29.763514416313132, solver='liblinear') is the Best Estimator according to Exhaustive Hyperparameter search.\n",
      "\n",
      "77.92207792207793% is the accuracy score for the LogisticRegression() using the best hyparameters suggested by GridSearchCV.\n",
      "73.68654311039484% is the auroc score for the LogisticRegression() using the best hyparameters suggested by GridSearchCV.\n",
      "76.5625% is the precision score for the LogisticRegression() using the best hyparameters suggested by GridSearchCV.\n",
      "57.647058823529406% is the recall score for the LogisticRegression() using the best hyparameters suggested by GridSearchCV.\n",
      "65.77181208053692% is the f1_score for the LogisticRegression() using the best hyparameters suggested by GridSearchCV.\n"
     ]
    }
   ],
   "source": [
    "logistic_regression = LogisticRegression()\n",
    "\n",
    "params_grid_dict = {\n",
    "    'penalty' : ['l1', 'l2', 'elasticnet', 'none'],\n",
    "    'max_iter' : [100, 1000,2500, 5000],\n",
    "    'C' : np.logspace(-4, 4, 20),\n",
    "    'solver' : ['lbfgs','newton-cg','liblinear','sag','saga'],\n",
    "    \n",
    "}\n",
    "\n",
    "accuracy_lr_grid_3, auroc_lr_grid_3 = grid_search_cv(logistic_regression, params_grid_dict, \n",
    "               X_train=X_train_knnscaled,\n",
    "               y_train = y_train,\n",
    "               X_test = X_test_knnscaled,\n",
    "               y_test = y_test) "
   ]
  },
  {
   "cell_type": "markdown",
   "id": "6f5f8c8e",
   "metadata": {},
   "source": [
    "#### RandomizedSearchCV (LogisticRegression) :-"
   ]
  },
  {
   "cell_type": "code",
   "execution_count": 1455,
   "id": "34e6aa9a",
   "metadata": {},
   "outputs": [
    {
     "name": "stdout",
     "output_type": "stream",
     "text": [
      "LogisticRegression(C=1.8329807108324339, max_iter=5000, solver='newton-cg') is the Best Estimator according to Randomized Hyperparameter search.\n",
      "\n",
      "78.35497835497836% is the accuracy score for LogisticRegression() using the best hyparameters suggested by RandomizedSearchCV.\n",
      "74.0290088638195% is the auroc score for LogisticRegression() using the best hyparameters suggested by RandomizedSearchCV.\n",
      "77.77777777777779% is the precision score for LogisticRegression() using the best hyparameters suggested by RandomizedSearchCV.\n",
      "57.647058823529406% is the recall score for LogisticRegression() using the best hyparameters suggested by RandomizedSearchCV.\n",
      "66.21621621621621% is the f1_score for LogisticRegression() using the best hyparameters suggested by RandomizedSearchCV.\n"
     ]
    }
   ],
   "source": [
    "logistic_regression = LogisticRegression()\n",
    "\n",
    "params_grid_dict = {\n",
    "    'penalty' : ['l1', 'l2', 'elasticnet', 'none'],\n",
    "    'max_iter' : [50,70,80,100,1000,2500,5000, ],\n",
    "    'C' : np.logspace(-5, 5, 20),\n",
    "    'solver' : ['lbfgs','newton-cg','liblinear','sag','saga'],\n",
    "    \n",
    "}\n",
    "\n",
    "accuracy_lr_random_3, auroc_lr_random_3 = randomized_search_cv(logistic_regression,params_grid_dict,X_train=X_train_knnscaled, \n",
    "                   y_train=y_train, X_test=X_test_knnscaled, y_test=y_test)"
   ]
  },
  {
   "cell_type": "markdown",
   "id": "2ba646e1",
   "metadata": {},
   "source": [
    "Below values are to be used for comparison purpose in the bar plot :-"
   ]
  },
  {
   "cell_type": "code",
   "execution_count": 1456,
   "id": "68dfdb1a",
   "metadata": {},
   "outputs": [],
   "source": [
    "logisticRegressionAcc3 = max(accuracy_lr_normal_3, accuracy_lr_grid_3, accuracy_lr_random_3)\n",
    "\n",
    "logisticRegressionAuroc3 = max(auroc_lr_normal_3, auroc_lr_grid_3, auroc_lr_random_3)"
   ]
  },
  {
   "cell_type": "code",
   "execution_count": null,
   "id": "a67b4db4",
   "metadata": {},
   "outputs": [],
   "source": []
  },
  {
   "cell_type": "markdown",
   "id": "10b81519",
   "metadata": {},
   "source": [
    "#### DecisionTreeClassifier :-"
   ]
  },
  {
   "cell_type": "code",
   "execution_count": 1459,
   "id": "96f5ef0b",
   "metadata": {},
   "outputs": [
    {
     "name": "stdout",
     "output_type": "stream",
     "text": [
      "70.995670995671% is the accuracy score in percentage form with DecisionTreesTechnique.\n"
     ]
    }
   ],
   "source": [
    "# Note :- Using the imputed and not scaled data for DecisionTrees:\n",
    "\n",
    "decision_tree = DecisionTreeClassifier(random_state=42)\n",
    "\n",
    "decision_tree.fit(X_train_knnimp, y_train)\n",
    "\n",
    "y_pred = decision_tree.predict(X_test_knnimp)\n",
    "\n",
    "accuracy_dt_normal_3 = accuracy_score(y_test, y_pred)*100\n",
    "\n",
    "auroc_dt_normal_3 = roc_auc_score(y_test, y_pred)*100\n",
    "\n",
    "print(f\"{accuracy_dt_normal_3}% is the accuracy score in percentage form with DecisionTreesTechnique.\")\n"
   ]
  },
  {
   "cell_type": "markdown",
   "id": "200a1ea5",
   "metadata": {},
   "source": [
    "#### GridSearchCV (DecisionTrees) :-"
   ]
  },
  {
   "cell_type": "code",
   "execution_count": 1460,
   "id": "5390d738",
   "metadata": {},
   "outputs": [
    {
     "name": "stdout",
     "output_type": "stream",
     "text": [
      "DecisionTreeClassifier(criterion='entropy', max_depth=5,\n",
      "                       min_impurity_decrease=0.01, min_samples_split=50) is the Best Estimator according to Exhaustive Hyperparameter search.\n",
      "\n",
      "77.05627705627705% is the accuracy score for the DecisionTreeClassifier() using the best hyparameters suggested by GridSearchCV.\n",
      "76.93392425463335% is the auroc score for the DecisionTreeClassifier() using the best hyparameters suggested by GridSearchCV.\n",
      "66.3265306122449% is the precision score for the DecisionTreeClassifier() using the best hyparameters suggested by GridSearchCV.\n",
      "76.47058823529412% is the recall score for the DecisionTreeClassifier() using the best hyparameters suggested by GridSearchCV.\n",
      "71.03825136612022% is the f1_score for the DecisionTreeClassifier() using the best hyparameters suggested by GridSearchCV.\n"
     ]
    }
   ],
   "source": [
    "decision_tree = DecisionTreeClassifier()\n",
    "\n",
    "params_grid_dict = {\n",
    "    'max_depth' : np.array([i for i in range(2,20)]),\n",
    "    'criterion' : np.array(['gini', 'entropy']),\n",
    "    'min_impurity_decrease': np.arange(0.01, 0.06, 0.01),\n",
    "    'min_samples_split': np.arange(10,100,10) \n",
    "}\n",
    "\n",
    "accuracy_dt_grid_3, auroc_dt_grid_3  = grid_search_cv(decision_tree, params_grid_dict, \n",
    "               X_train=X_train_knnimp,\n",
    "               y_train = y_train,\n",
    "               X_test = X_test_knnimp,\n",
    "               y_test = y_test)  "
   ]
  },
  {
   "cell_type": "markdown",
   "id": "ba589182",
   "metadata": {},
   "source": [
    "#### RandomizedSearchCV (DecisionTrees) :-"
   ]
  },
  {
   "cell_type": "code",
   "execution_count": 1475,
   "id": "4d352c7e",
   "metadata": {},
   "outputs": [
    {
     "name": "stdout",
     "output_type": "stream",
     "text": [
      "DecisionTreeClassifier(max_depth=10, min_impurity_decrease=0.01,\n",
      "                       min_samples_split=50) is the Best Estimator according to Randomized Hyperparameter search.\n",
      "\n",
      "78.78787878787878% is the accuracy score for DecisionTreeClassifier() using the best hyparameters suggested by RandomizedSearchCV.\n",
      "77.32070910556004% is the auroc score for DecisionTreeClassifier() using the best hyparameters suggested by RandomizedSearchCV.\n",
      "70.93023255813954% is the precision score for DecisionTreeClassifier() using the best hyparameters suggested by RandomizedSearchCV.\n",
      "71.76470588235294% is the recall score for DecisionTreeClassifier() using the best hyparameters suggested by RandomizedSearchCV.\n",
      "71.34502923976608% is the f1_score for DecisionTreeClassifier() using the best hyparameters suggested by RandomizedSearchCV.\n"
     ]
    }
   ],
   "source": [
    "decision_tree = DecisionTreeClassifier()\n",
    "\n",
    "params_grid_dict = {\n",
    "    'max_depth' : np.array([i for i in range(2,30)]),\n",
    "    'criterion' : np.array(['gini', 'entropy']),\n",
    "    'min_impurity_decrease': np.arange(0.01, 1.05, 0.01),\n",
    "    'min_samples_split': np.arange(10,100,10) \n",
    "}\n",
    "\n",
    "accuracy_dt_random_3, auroc_dt_random_3 = randomized_search_cv(decision_tree,params_grid_dict,X_train=X_train_knnimp, \n",
    "                   y_train=y_train, X_test=X_test_knnimp, y_test=y_test)\n"
   ]
  },
  {
   "cell_type": "markdown",
   "id": "e21c4948",
   "metadata": {},
   "source": [
    "Below values are to be used for comparison purpose in the bar plot :-"
   ]
  },
  {
   "cell_type": "code",
   "execution_count": 1500,
   "id": "edc53f8c",
   "metadata": {},
   "outputs": [],
   "source": [
    "DecisionTreeAcc3 = max(accuracy_dt_normal_3, accuracy_dt_grid_3, accuracy_dt_random_3)\n",
    "\n",
    "DecisionTreeAuroc3 = max(auroc_dt_normal_3, auroc_dt_grid_3, auroc_dt_random_3)"
   ]
  },
  {
   "cell_type": "code",
   "execution_count": null,
   "id": "2f8a125c",
   "metadata": {},
   "outputs": [],
   "source": []
  },
  {
   "cell_type": "markdown",
   "id": "918125ae",
   "metadata": {},
   "source": [
    "### Support Vector Machine :-"
   ]
  },
  {
   "cell_type": "code",
   "execution_count": 1477,
   "id": "4302e0b2",
   "metadata": {},
   "outputs": [
    {
     "name": "stdout",
     "output_type": "stream",
     "text": [
      "80.51948051948052% is the accuracy score in percentage form with SVM technique.\n"
     ]
    }
   ],
   "source": [
    "svc_model = SVC()\n",
    "svc_model.fit(X_train_knnscaled, y_train)\n",
    "\n",
    "# Predicting the X_test :\n",
    "y_pred = svc_model.predict(X_test_knnscaled)\n",
    "\n",
    "accuracy_svm_normal_3 = accuracy_score(y_test, y_pred)*100\n",
    "\n",
    "auroc_svm_normal_3 = roc_auc_score(y_test, y_pred)*100\n",
    "\n",
    "print(f\"{accuracy_svm_normal_3}% is the accuracy score in percentage form with SVM technique.\")"
   ]
  },
  {
   "cell_type": "code",
   "execution_count": 1817,
   "id": "eef712eb",
   "metadata": {},
   "outputs": [
    {
     "data": {
      "text/plain": [
       "75.98710717163578"
      ]
     },
     "execution_count": 1817,
     "metadata": {},
     "output_type": "execute_result"
    }
   ],
   "source": [
    "auroc_svm_normal_3"
   ]
  },
  {
   "cell_type": "markdown",
   "id": "6a4afbb7",
   "metadata": {},
   "source": [
    "#### GridSearchCV (SVM):-"
   ]
  },
  {
   "cell_type": "code",
   "execution_count": 1478,
   "id": "39a7c179",
   "metadata": {},
   "outputs": [
    {
     "name": "stdout",
     "output_type": "stream",
     "text": [
      "SVC(C=0.1, kernel='poly') is the Best Estimator according to Exhaustive Hyperparameter search.\n",
      "\n",
      "80.08658008658008% is the accuracy score for the SVC() using the best hyparameters suggested by GridSearchCV.\n",
      "75.15310233682514% is the auroc score for the SVC() using the best hyparameters suggested by GridSearchCV.\n",
      "84.21052631578947% is the precision score for the SVC() using the best hyparameters suggested by GridSearchCV.\n",
      "56.470588235294116% is the recall score for the SVC() using the best hyparameters suggested by GridSearchCV.\n",
      "67.6056338028169% is the f1_score for the SVC() using the best hyparameters suggested by GridSearchCV.\n"
     ]
    }
   ],
   "source": [
    "svc_model = SVC()\n",
    "\n",
    "param_grid_dict = {\n",
    "    'C':[0.1, 1, 10, 100],\n",
    "   'kernel' : ['rbf', 'poly','sigmoid']\n",
    "}\n",
    "\n",
    "accuracy_svm_grid_3, auroc_svm_grid_3 = grid_search_cv(svc_model, param_grid_dict, \n",
    "               X_train=X_train_knnscaled,\n",
    "               y_train = y_train,\n",
    "               X_test = X_test_knnscaled,\n",
    "               y_test = y_test)"
   ]
  },
  {
   "cell_type": "markdown",
   "id": "eb82ba95",
   "metadata": {},
   "source": [
    "#### RandomizedSearchCV (SVM) :-"
   ]
  },
  {
   "cell_type": "code",
   "execution_count": 1479,
   "id": "6ffc4699",
   "metadata": {},
   "outputs": [
    {
     "name": "stdout",
     "output_type": "stream",
     "text": [
      "SVC(C=1, kernel='linear') is the Best Estimator according to Randomized Hyperparameter search.\n",
      "\n",
      "79.22077922077922% is the accuracy score for SVC() using the best hyparameters suggested by RandomizedSearchCV.\n",
      "74.71394037066881% is the auroc score for SVC() using the best hyparameters suggested by RandomizedSearchCV.\n",
      "80.32786885245902% is the precision score for SVC() using the best hyparameters suggested by RandomizedSearchCV.\n",
      "57.647058823529406% is the recall score for SVC() using the best hyparameters suggested by RandomizedSearchCV.\n",
      "67.12328767123287% is the f1_score for SVC() using the best hyparameters suggested by RandomizedSearchCV.\n"
     ]
    }
   ],
   "source": [
    "svc_model = SVC()\n",
    "\n",
    "param_grid_dict = {\n",
    "    'C':[0.1, 1, 10, 100, 1000],\n",
    "    'kernel' : ['rbf', 'poly','sigmoid', 'linear'],\n",
    "    }\n",
    "\n",
    "accuracy_svm_random_3, auroc_svm_random_3  = randomized_search_cv(svc_model,param_grid_dict,X_train=X_train_knnscaled, \n",
    "                   y_train=y_train, X_test=X_test_knnscaled, y_test=y_test)"
   ]
  },
  {
   "cell_type": "code",
   "execution_count": 1480,
   "id": "343065e0",
   "metadata": {},
   "outputs": [],
   "source": [
    "SvmAcc3 = max(accuracy_svm_normal_3, accuracy_svm_grid_3, accuracy_svm_random_3)\n",
    "\n",
    "SvmAuroc3 = max(auroc_svm_normal_3, auroc_svm_grid_3, auroc_svm_random_3)"
   ]
  },
  {
   "cell_type": "code",
   "execution_count": null,
   "id": "e9db716d",
   "metadata": {},
   "outputs": [],
   "source": []
  },
  {
   "cell_type": "code",
   "execution_count": null,
   "id": "2dbe1a4a",
   "metadata": {},
   "outputs": [],
   "source": []
  },
  {
   "cell_type": "markdown",
   "id": "3f64377e",
   "metadata": {},
   "source": [
    "### RandomForestClassifier :-"
   ]
  },
  {
   "cell_type": "code",
   "execution_count": 1481,
   "id": "b5d49b8e",
   "metadata": {},
   "outputs": [
    {
     "name": "stdout",
     "output_type": "stream",
     "text": [
      "79.65367965367966% is the accuracy score in percentage form with RandomForestClassifier technique.\n"
     ]
    }
   ],
   "source": [
    "random_forest = RandomForestClassifier(random_state=42)\n",
    "\n",
    "random_forest.fit(X_train_knnimp, y_train)\n",
    "\n",
    "y_pred = random_forest.predict(X_test_knnimp)\n",
    "\n",
    "accuracy_rf_normal_3 = accuracy_score(y_test, y_pred)*100\n",
    "\n",
    "auroc_rf_normal_3 = roc_auc_score(y_test, y_pred)*100\n",
    "\n",
    "print(f\"{accuracy_rf_normal_3}% is the accuracy score in percentage form with RandomForestClassifier technique.\")"
   ]
  },
  {
   "cell_type": "markdown",
   "id": "dd8b7734",
   "metadata": {},
   "source": [
    "#### GridSearchCV (RandomForestClassifier) :-"
   ]
  },
  {
   "cell_type": "code",
   "execution_count": 1482,
   "id": "e3be437e",
   "metadata": {},
   "outputs": [
    {
     "name": "stdout",
     "output_type": "stream",
     "text": [
      "RandomForestClassifier(max_depth=6, n_estimators=70) is the Best Estimator according to Exhaustive Hyperparameter search.\n",
      "\n",
      "78.35497835497836% is the accuracy score for the RandomForestClassifier() using the best hyparameters suggested by GridSearchCV.\n",
      "74.76631748589847% is the auroc score for the RandomForestClassifier() using the best hyparameters suggested by GridSearchCV.\n",
      "75.36231884057972% is the precision score for the RandomForestClassifier() using the best hyparameters suggested by GridSearchCV.\n",
      "61.1764705882353% is the recall score for the RandomForestClassifier() using the best hyparameters suggested by GridSearchCV.\n",
      "67.53246753246755% is the f1_score for the RandomForestClassifier() using the best hyparameters suggested by GridSearchCV.\n"
     ]
    }
   ],
   "source": [
    "random_forest = RandomForestClassifier()\n",
    "\n",
    "param_grid_dict = {\n",
    "    'max_depth':[2,3,4,5,6,7],\n",
    "    'n_estimators':[10, 20, 25, 30, 35, 40, 50, 60, 70, 80, 90, 100],\n",
    "}\n",
    "\n",
    "accuracy_rf_grid_3, auroc_rf_grid_3 = grid_search_cv(random_forest, param_grid_dict, \n",
    "               X_train=X_train_knnimp,\n",
    "               y_train = y_train,\n",
    "               X_test = X_test_knnimp,\n",
    "               y_test = y_test)"
   ]
  },
  {
   "cell_type": "markdown",
   "id": "511496fe",
   "metadata": {},
   "source": [
    "#### RandomizedSearchCV (RandomForestClassifier) :-"
   ]
  },
  {
   "cell_type": "code",
   "execution_count": 1490,
   "id": "a2811c28",
   "metadata": {},
   "outputs": [
    {
     "name": "stdout",
     "output_type": "stream",
     "text": [
      "RandomForestClassifier(max_depth=39, min_impurity_decrease=0.01,\n",
      "                       min_samples_split=90, n_estimators=90) is the Best Estimator according to Randomized Hyperparameter search.\n",
      "\n",
      "77.92207792207793% is the accuracy score for RandomForestClassifier() using the best hyparameters suggested by RandomizedSearchCV.\n",
      "72.70346494762288% is the auroc score for RandomForestClassifier() using the best hyparameters suggested by RandomizedSearchCV.\n",
      "80.35714285714286% is the precision score for RandomForestClassifier() using the best hyparameters suggested by RandomizedSearchCV.\n",
      "52.94117647058824% is the recall score for RandomForestClassifier() using the best hyparameters suggested by RandomizedSearchCV.\n",
      "63.829787234042556% is the f1_score for RandomForestClassifier() using the best hyparameters suggested by RandomizedSearchCV.\n"
     ]
    }
   ],
   "source": [
    "random_forest = RandomForestClassifier()\n",
    "\n",
    "params_grid_dict = {\n",
    "    'max_depth':np.arange(1,40),\n",
    "    'n_estimators':np.arange(30,151,20),\n",
    "    'min_impurity_decrease': np.arange(0.01, 0.06, 0.01),\n",
    "    'min_samples_split': np.arange(10,100,10) \n",
    "}\n",
    "\n",
    "accuracy_rf_random_3, auroc_rf_random_3 = randomized_search_cv(random_forest, params_grid_dict, X_train=X_train_knnimp,\n",
    "                    y_train=y_train, X_test=X_test_knnimp, y_test=y_test)"
   ]
  },
  {
   "cell_type": "markdown",
   "id": "11d13bb4",
   "metadata": {},
   "source": [
    "Below values are to be used for comparison purpose in the bar plot :-"
   ]
  },
  {
   "cell_type": "code",
   "execution_count": 1491,
   "id": "cf331c34",
   "metadata": {},
   "outputs": [],
   "source": [
    "RandomForestAcc3 = max(accuracy_rf_normal_3, accuracy_rf_grid_3, accuracy_rf_random_3)\n",
    "\n",
    "RandomForestAuroc3 = max(auroc_rf_normal_3, auroc_rf_grid_3, auroc_rf_random_3)"
   ]
  },
  {
   "cell_type": "code",
   "execution_count": null,
   "id": "b0dd9d65",
   "metadata": {},
   "outputs": [],
   "source": []
  },
  {
   "cell_type": "markdown",
   "id": "dde03d04",
   "metadata": {},
   "source": [
    "### Adaboost Classifier :-"
   ]
  },
  {
   "cell_type": "code",
   "execution_count": 1492,
   "id": "364a532d",
   "metadata": {},
   "outputs": [
    {
     "name": "stdout",
     "output_type": "stream",
     "text": [
      "79.65367965367966% is the accuracy score using AdaboostClassifier.\n"
     ]
    }
   ],
   "source": [
    "adaboost_classifier = AdaBoostClassifier(random_state=42)\n",
    "\n",
    "adaboost_classifier.fit(X_train_knnimp.values, y_train.values)\n",
    "\n",
    "y_pred = adaboost_classifier.predict(X_test_knnimp.values)\n",
    "\n",
    "accuracy_ab_normal_3 = accuracy_score(y_test, y_pred)*100\n",
    "\n",
    "auroc_ab_normal_3 = roc_auc_score(y_test, y_pred)*100\n",
    "\n",
    "print(f'{accuracy_ab_normal_3}% is the accuracy score using AdaboostClassifier.')"
   ]
  },
  {
   "cell_type": "code",
   "execution_count": null,
   "id": "81dec731",
   "metadata": {},
   "outputs": [],
   "source": []
  },
  {
   "cell_type": "markdown",
   "id": "da331d8f",
   "metadata": {},
   "source": [
    "#### GridSearchCV (Adaboost Classifier) :-"
   ]
  },
  {
   "cell_type": "code",
   "execution_count": 1679,
   "id": "2e6a3aa0",
   "metadata": {},
   "outputs": [
    {
     "name": "stdout",
     "output_type": "stream",
     "text": [
      "AdaBoostClassifier() is the Best Estimator according to Exhaustive Hyperparameter search.\n",
      "\n",
      "79.65367965367966% is the accuracy score for the AdaBoostClassifier() using the best hyparameters suggested by GridSearchCV.\n",
      "77.26833199033038% is the auroc score for the AdaBoostClassifier() using the best hyparameters suggested by GridSearchCV.\n",
      "74.35897435897436% is the precision score for the AdaBoostClassifier() using the best hyparameters suggested by GridSearchCV.\n",
      "68.23529411764706% is the recall score for the AdaBoostClassifier() using the best hyparameters suggested by GridSearchCV.\n",
      "71.16564417177914% is the f1_score for the AdaBoostClassifier() using the best hyparameters suggested by GridSearchCV.\n"
     ]
    }
   ],
   "source": [
    "adaboost_classifier = AdaBoostClassifier()\n",
    "\n",
    "param_grid_dict = {\n",
    "    'n_estimators':np.arange(50,100,10),\n",
    "    'learning_rate':np.arange(1.0,10.0,1.0)\n",
    "}\n",
    "\n",
    "accuracy_ab_grid_3, auroc_ab_grid_3 = grid_search_cv(adaboost_classifier, param_grid_dict, \n",
    "               X_train=X_train_knnimp,\n",
    "               y_train = y_train,\n",
    "               X_test = X_test_knnimp,\n",
    "               y_test = y_test)"
   ]
  },
  {
   "cell_type": "code",
   "execution_count": null,
   "id": "27e1f635",
   "metadata": {},
   "outputs": [],
   "source": []
  },
  {
   "cell_type": "markdown",
   "id": "f54aef31",
   "metadata": {},
   "source": [
    "#### RandomizedSearchCV (Adaboost Classifier) :-"
   ]
  },
  {
   "cell_type": "code",
   "execution_count": 1813,
   "id": "e3638f80",
   "metadata": {},
   "outputs": [
    {
     "name": "stdout",
     "output_type": "stream",
     "text": [
      "AdaBoostClassifier(learning_rate=1, n_estimators=90) is the Best Estimator according to Randomized Hyperparameter search.\n",
      "\n",
      "80.51948051948052% is the accuracy score for AdaBoostClassifier() using the best hyparameters suggested by RandomizedSearchCV.\n",
      "77.46172441579371% is the auroc score for AdaBoostClassifier() using the best hyparameters suggested by RandomizedSearchCV.\n",
      "77.77777777777779% is the precision score for AdaBoostClassifier() using the best hyparameters suggested by RandomizedSearchCV.\n",
      "65.88235294117646% is the recall score for AdaBoostClassifier() using the best hyparameters suggested by RandomizedSearchCV.\n",
      "71.3375796178344% is the f1_score for AdaBoostClassifier() using the best hyparameters suggested by RandomizedSearchCV.\n"
     ]
    }
   ],
   "source": [
    "adaboost_classifier = AdaBoostClassifier()\n",
    "\n",
    "param_grid_dict = {\n",
    "    'n_estimators':np.arange(50,110,10),\n",
    "    'learning_rate':np.arange(1,20,1)\n",
    "}\n",
    "\n",
    "accuracy_ab_random_3, auroc_ab_random_3 = randomized_search_cv(adaboost_classifier, param_grid_dict, X_train_knnimp,\n",
    "                    y_train=y_train, X_test=X_test_knnimp, y_test=y_test)"
   ]
  },
  {
   "cell_type": "markdown",
   "id": "c9a53e32",
   "metadata": {},
   "source": [
    "Below values are to be used for comparison purpose in the bar plot :-"
   ]
  },
  {
   "cell_type": "code",
   "execution_count": 1814,
   "id": "b1b19688",
   "metadata": {},
   "outputs": [],
   "source": [
    "AdaBoostAcc3 = max(accuracy_ab_normal_3, accuracy_ab_grid_3, accuracy_ab_random_3)\n",
    "\n",
    "AdaBoostAuroc3 = max(auroc_ab_normal_3, auroc_ab_grid_3, auroc_ab_random_3)"
   ]
  },
  {
   "cell_type": "markdown",
   "id": "f2f42f78",
   "metadata": {},
   "source": [
    "### Accuracy Bar Plot :-"
   ]
  },
  {
   "cell_type": "code",
   "execution_count": 1821,
   "id": "0738347d",
   "metadata": {},
   "outputs": [
    {
     "data": {
      "text/plain": [
       "(77.92207792207793,\n",
       " 80.95238095238095,\n",
       " 78.35497835497836,\n",
       " 78.78787878787878,\n",
       " 80.51948051948052,\n",
       " 79.65367965367966,\n",
       " 80.51948051948052)"
      ]
     },
     "execution_count": 1821,
     "metadata": {},
     "output_type": "execute_result"
    }
   ],
   "source": [
    "accuracies3 = naiveBayesAcc3, knnAccuracy3, logisticRegressionAcc3, DecisionTreeAcc3, SvmAcc3, RandomForestAcc3, AdaBoostAcc3\n",
    "\n",
    "\n",
    "accuracies3"
   ]
  },
  {
   "cell_type": "code",
   "execution_count": 1816,
   "id": "175641be",
   "metadata": {},
   "outputs": [
    {
     "data": {
      "image/png": "[encoded data removed]",
      "text/plain": [
       "<Figure size 630x432 with 1 Axes>"
      ]
     },
     "metadata": {
      "needs_background": "light"
     },
     "output_type": "display_data"
    }
   ],
   "source": [
    "bar_plot_for_comaparison(y_label='Accuracy', performance_metric = accuracies3, x_label=\"Different ML techniques\",  bar_width=0.5, \\\n",
    "                             figsize=(8.75,6), color='orange', title = \"Accuracy Score comparison between best of all the Models\",\\\n",
    "                     models = ['NaiveBayes', 'Knn', 'LogRegression', 'DecTrees', 'SVM', 'RandomForest', 'AdaBoost'])"
   ]
  },
  {
   "cell_type": "code",
   "execution_count": 1801,
   "id": "840b1b01",
   "metadata": {},
   "outputs": [
    {
     "data": {
      "text/plain": [
       "[77.92207792207793,\n",
       " 78.35497835497836,\n",
       " 78.78787878787878,\n",
       " 79.65367965367966,\n",
       " 79.65367965367966,\n",
       " 80.51948051948052,\n",
       " 80.95238095238095]"
      ]
     },
     "execution_count": 1801,
     "metadata": {},
     "output_type": "execute_result"
    }
   ],
   "source": [
    "sorted(accuracies3)"
   ]
  },
  {
   "cell_type": "markdown",
   "id": "770eede7",
   "metadata": {},
   "source": [
    "### Auroc Bar Plot :-"
   ]
  },
  {
   "cell_type": "code",
   "execution_count": 1818,
   "id": "b66ab844",
   "metadata": {},
   "outputs": [
    {
     "data": {
      "text/plain": [
       "(75.89846897663175,\n",
       " 78.04995970991135,\n",
       " 74.0290088638195,\n",
       " 77.32070910556004,\n",
       " 75.98710717163578,\n",
       " 76.03948428686543,\n",
       " 77.46172441579371)"
      ]
     },
     "execution_count": 1818,
     "metadata": {},
     "output_type": "execute_result"
    }
   ],
   "source": [
    "aurocScores3 = naiveBayesAuroc3, knnAuroc3, logisticRegressionAuroc3, DecisionTreeAuroc3, SvmAuroc3, RandomForestAuroc3, \\\n",
    "              AdaBoostAuroc3\n",
    "\n",
    "aurocScores3"
   ]
  },
  {
   "cell_type": "code",
   "execution_count": 1819,
   "id": "99b38003",
   "metadata": {},
   "outputs": [
    {
     "data": {
      "image/png": "[encoded data removed]",
      "text/plain": [
       "<Figure size 630x432 with 1 Axes>"
      ]
     },
     "metadata": {
      "needs_background": "light"
     },
     "output_type": "display_data"
    }
   ],
   "source": [
    "bar_plot_for_comaparison(y_label='AurocScores', performance_metric = aurocScores3, x_label=\"Different ML techniques\",  bar_width=0.5, \\\n",
    "                             figsize=(8.75,6), color='skyblue', title = \"Auroc Score comparison between best of all the Models\",\\\n",
    "                     models = ['NaiveBayes', 'Knn', 'LogRegres', 'DecTrees', 'SVM', 'RandomForest', 'AdaBoost'])"
   ]
  },
  {
   "cell_type": "code",
   "execution_count": 1820,
   "id": "e47b6675",
   "metadata": {},
   "outputs": [
    {
     "data": {
      "text/plain": [
       "[74.0290088638195,\n",
       " 75.89846897663175,\n",
       " 75.98710717163578,\n",
       " 76.03948428686543,\n",
       " 77.32070910556004,\n",
       " 77.46172441579371,\n",
       " 78.04995970991135]"
      ]
     },
     "execution_count": 1820,
     "metadata": {},
     "output_type": "execute_result"
    }
   ],
   "source": [
    "sorted(aurocScores3)"
   ]
  },
  {
   "cell_type": "code",
   "execution_count": null,
   "id": "c3ce049e",
   "metadata": {},
   "outputs": [],
   "source": []
  },
  {
   "cell_type": "code",
   "execution_count": null,
   "id": "322cf966",
   "metadata": {},
   "outputs": [],
   "source": []
  },
  {
   "cell_type": "markdown",
   "id": "b9f9695f",
   "metadata": {},
   "source": [
    "### SMOTE for oversampling the diabetic datapoints :-"
   ]
  },
  {
   "cell_type": "markdown",
   "id": "2a846271",
   "metadata": {},
   "source": [
    "SMOTE(Synthetic Minority Oversampling Technique) is generally used for oversampling the samples of class which are low in number, in a highly imbalanced dataset.\n",
    "In the current dataset of PIMAIndians Diabetes dataset, there isn't a very high imbalance. \n",
    "But, we want to try out SMOTE to see if the accuracy_scores and roc_auc_scores would be going up for testing the test datapoints."
   ]
  },
  {
   "cell_type": "markdown",
   "id": "40fc754e",
   "metadata": {},
   "source": [
    "Currently there are 34.895833333% of diabetic records in the dataset and the rest 65.104166666% are non-diabetic."
   ]
  },
  {
   "cell_type": "markdown",
   "id": "f44357ce",
   "metadata": {},
   "source": [
    "In numbers there are 268 diabetic records and 500 non-diabetic records.\n",
    "\n",
    "- If the SMOTE technique is used, then the number of diabetic records gets oversampled and becomes equal to the number of non_diabetic ones.\n",
    "- This would help in training phase as the model would be better trained for the diabetic_datapoints as well and might classify it well while testing the testing_datapoints.\n",
    "- Let's experiment with the technique to see how it gives the results. Given the fact that, of course there isn't an extreme imbalance in the dataset. "
   ]
  },
  {
   "cell_type": "code",
   "execution_count": 778,
   "id": "558fb0c1",
   "metadata": {},
   "outputs": [],
   "source": [
    "smt = SMOTE()"
   ]
  },
  {
   "cell_type": "markdown",
   "id": "ea44ff60",
   "metadata": {},
   "source": [
    "Let's check the number of minority and majority class samples before synthetic oversampling :-"
   ]
  },
  {
   "cell_type": "code",
   "execution_count": 779,
   "id": "8483056a",
   "metadata": {},
   "outputs": [
    {
     "data": {
      "text/plain": [
       "Counter({1: 183, 0: 354})"
      ]
     },
     "execution_count": 779,
     "metadata": {},
     "output_type": "execute_result"
    }
   ],
   "source": [
    "counter_ = Counter(y_train)\n",
    "counter_"
   ]
  },
  {
   "cell_type": "code",
   "execution_count": 780,
   "id": "89b75ccb",
   "metadata": {},
   "outputs": [
    {
     "data": {
      "image/png": "[encoded data removed]",
      "text/plain": [
       "<Figure size 432x288 with 1 Axes>"
      ]
     },
     "metadata": {
      "needs_background": "light"
     },
     "output_type": "display_data"
    }
   ],
   "source": [
    "fig_2 = plt.figure()\n",
    "ax_2 = fig_2.add_axes([1,1,0.5,1])\n",
    "classes = ['Class-1(Diabetic)', 'Class-2(Non-Diabetic)']\n",
    "samples = [len(y_train[y_train==1]), len(y_train[y_train==0])]\n",
    "ax_2.bar(classes,samples)\n",
    "plt.show()"
   ]
  },
  {
   "cell_type": "code",
   "execution_count": 781,
   "id": "3116e52e",
   "metadata": {},
   "outputs": [],
   "source": [
    "X_res, y_res = smt.fit_resample(X_train_knnimp, y_train)"
   ]
  },
  {
   "cell_type": "markdown",
   "id": "62ffff83",
   "metadata": {},
   "source": [
    "Before, oversampling the minority class had 183 samples and the majority had 354. Now, they both should be equal in y_res :"
   ]
  },
  {
   "cell_type": "code",
   "execution_count": 782,
   "id": "8a661043",
   "metadata": {},
   "outputs": [
    {
     "data": {
      "text/plain": [
       "Counter({1: 354, 0: 354})"
      ]
     },
     "execution_count": 782,
     "metadata": {},
     "output_type": "execute_result"
    }
   ],
   "source": [
    "counter = Counter(y_res)\n",
    "counter"
   ]
  },
  {
   "cell_type": "code",
   "execution_count": 783,
   "id": "7d85c3f4",
   "metadata": {},
   "outputs": [
    {
     "data": {
      "image/png": "[encoded data removed]",
      "text/plain": [
       "<Figure size 432x288 with 1 Axes>"
      ]
     },
     "metadata": {
      "needs_background": "light"
     },
     "output_type": "display_data"
    }
   ],
   "source": [
    "fig_1 = plt.figure()\n",
    "ax_1 = fig_1.add_axes([1,1,0.5,1])\n",
    "classes = ['Class-1(Diabetic)', 'Class-2(Non-Diabetic)']\n",
    "samples = [len(y_res[y_res==1]), len(y_res[y_res==0])]\n",
    "ax_1.bar(classes,samples)\n",
    "plt.show()"
   ]
  },
  {
   "cell_type": "markdown",
   "id": "89625fea",
   "metadata": {},
   "source": [
    "We have oversampled the diabetic and non-diabetic datapoints. Now, is the time to perform feature scaling. Let's use MinMaxScaler() for the same :-"
   ]
  },
  {
   "cell_type": "code",
   "execution_count": 784,
   "id": "a6b4d651",
   "metadata": {},
   "outputs": [],
   "source": [
    "norm_1 = MinMaxScaler()"
   ]
  },
  {
   "cell_type": "code",
   "execution_count": 785,
   "id": "5e237d95",
   "metadata": {},
   "outputs": [
    {
     "data": {
      "text/plain": [
       "MinMaxScaler()"
      ]
     },
     "execution_count": 785,
     "metadata": {},
     "output_type": "execute_result"
    }
   ],
   "source": [
    "norm_1.fit(X_res)"
   ]
  },
  {
   "cell_type": "code",
   "execution_count": 786,
   "id": "920bbb14",
   "metadata": {},
   "outputs": [],
   "source": [
    "X_res_scaled = norm_1.transform(X_res)"
   ]
  },
  {
   "cell_type": "code",
   "execution_count": 787,
   "id": "218b221e",
   "metadata": {},
   "outputs": [],
   "source": [
    "X_test_scaled_res = norm_1.transform(X_test_knnimp)"
   ]
  },
  {
   "cell_type": "code",
   "execution_count": 789,
   "id": "e12fb0c5",
   "metadata": {},
   "outputs": [
    {
     "data": {
      "text/plain": [
       "array([[1.        , 0.5974026 , 0.46938776, ..., 0.38650307, 0.03030303,\n",
       "        0.43137255],\n",
       "       [0.        , 0.34415584, 0.40816327, ..., 0.3803681 , 0.22950089,\n",
       "        0.07843137],\n",
       "       [0.06666667, 0.46753247, 0.46938776, ..., 0.18813906, 0.0530303 ,\n",
       "        0.        ],\n",
       "       ...,\n",
       "       [0.46666667, 0.70421693, 0.58434568, ..., 0.26082538, 0.18645082,\n",
       "        0.63905422],\n",
       "       [0.46666667, 0.37557962, 0.43804684, ..., 0.35540073, 0.13955783,\n",
       "        0.20366495],\n",
       "       [0.13333333, 0.62987013, 0.48660113, ..., 0.2933356 , 0.25041236,\n",
       "        0.12569295]])"
      ]
     },
     "execution_count": 789,
     "metadata": {},
     "output_type": "execute_result"
    }
   ],
   "source": [
    "X_res_scaled"
   ]
  },
  {
   "cell_type": "code",
   "execution_count": 790,
   "id": "c910a8e3",
   "metadata": {},
   "outputs": [
    {
     "data": {
      "text/plain": [
       "array([[0.46666667, 0.5974026 , 0.51020408, ..., 0.1595092 , 0.25044563,\n",
       "        0.58823529],\n",
       "       [0.06666667, 0.69480519, 0.36734694, ..., 0.16155419, 0.04188948,\n",
       "        0.01960784],\n",
       "       [0.4       , 0.42207792, 0.36734694, ..., 0.1390593 , 0.05392157,\n",
       "        0.11764706],\n",
       "       ...,\n",
       "       [0.06666667, 0.30519481, 0.30612245, ..., 0.14314928, 0.06639929,\n",
       "        0.03921569],\n",
       "       [0.66666667, 0.80519481, 0.51020408, ..., 0.40490798, 0.20142602,\n",
       "        0.25490196],\n",
       "       [0.6       , 0.44155844, 0.59183673, ..., 0.32719836, 0.07798574,\n",
       "        0.29411765]])"
      ]
     },
     "execution_count": 790,
     "metadata": {},
     "output_type": "execute_result"
    }
   ],
   "source": [
    "X_test_scaled_res"
   ]
  },
  {
   "cell_type": "markdown",
   "id": "bce023b4",
   "metadata": {},
   "source": [
    "Converting the Numpy Arrays into Pandas' Dataframe Objects :-"
   ]
  },
  {
   "cell_type": "code",
   "execution_count": 793,
   "id": "3bf82fc0",
   "metadata": {},
   "outputs": [],
   "source": [
    "X_res_scaled = pd.DataFrame(X_res_scaled)\n",
    "X_test_scaled_res = pd.DataFrame(X_test_scaled_res)"
   ]
  },
  {
   "cell_type": "code",
   "execution_count": 794,
   "id": "0ce55869",
   "metadata": {},
   "outputs": [
    {
     "data": {
      "text/html": [
       "<div>\n",
       "<style scoped>\n",
       "    .dataframe tbody tr th:only-of-type {\n",
       "        vertical-align: middle;\n",
       "    }\n",
       "\n",
       "    .dataframe tbody tr th {\n",
       "        vertical-align: top;\n",
       "    }\n",
       "\n",
       "    .dataframe thead th {\n",
       "        text-align: right;\n",
       "    }\n",
       "</style>\n",
       "<table border=\"1\" class=\"dataframe\">\n",
       "  <thead>\n",
       "    <tr style=\"text-align: right;\">\n",
       "      <th></th>\n",
       "      <th>0</th>\n",
       "      <th>1</th>\n",
       "      <th>2</th>\n",
       "      <th>3</th>\n",
       "      <th>4</th>\n",
       "      <th>5</th>\n",
       "      <th>6</th>\n",
       "      <th>7</th>\n",
       "    </tr>\n",
       "  </thead>\n",
       "  <tbody>\n",
       "    <tr>\n",
       "      <th>0</th>\n",
       "      <td>1.000000</td>\n",
       "      <td>0.597403</td>\n",
       "      <td>0.469388</td>\n",
       "      <td>0.271739</td>\n",
       "      <td>0.130316</td>\n",
       "      <td>0.386503</td>\n",
       "      <td>0.030303</td>\n",
       "      <td>0.431373</td>\n",
       "    </tr>\n",
       "    <tr>\n",
       "      <th>1</th>\n",
       "      <td>0.000000</td>\n",
       "      <td>0.344156</td>\n",
       "      <td>0.408163</td>\n",
       "      <td>0.315217</td>\n",
       "      <td>0.116598</td>\n",
       "      <td>0.380368</td>\n",
       "      <td>0.229501</td>\n",
       "      <td>0.078431</td>\n",
       "    </tr>\n",
       "    <tr>\n",
       "      <th>2</th>\n",
       "      <td>0.066667</td>\n",
       "      <td>0.467532</td>\n",
       "      <td>0.469388</td>\n",
       "      <td>0.228261</td>\n",
       "      <td>0.115775</td>\n",
       "      <td>0.188139</td>\n",
       "      <td>0.053030</td>\n",
       "      <td>0.000000</td>\n",
       "    </tr>\n",
       "    <tr>\n",
       "      <th>3</th>\n",
       "      <td>0.133333</td>\n",
       "      <td>0.402597</td>\n",
       "      <td>0.408163</td>\n",
       "      <td>0.304348</td>\n",
       "      <td>0.142661</td>\n",
       "      <td>0.251534</td>\n",
       "      <td>0.586007</td>\n",
       "      <td>0.254902</td>\n",
       "    </tr>\n",
       "    <tr>\n",
       "      <th>4</th>\n",
       "      <td>0.000000</td>\n",
       "      <td>0.512987</td>\n",
       "      <td>0.653061</td>\n",
       "      <td>0.326087</td>\n",
       "      <td>0.230178</td>\n",
       "      <td>0.347648</td>\n",
       "      <td>0.049911</td>\n",
       "      <td>0.156863</td>\n",
       "    </tr>\n",
       "    <tr>\n",
       "      <th>...</th>\n",
       "      <td>...</td>\n",
       "      <td>...</td>\n",
       "      <td>...</td>\n",
       "      <td>...</td>\n",
       "      <td>...</td>\n",
       "      <td>...</td>\n",
       "      <td>...</td>\n",
       "      <td>...</td>\n",
       "    </tr>\n",
       "    <tr>\n",
       "      <th>703</th>\n",
       "      <td>0.133333</td>\n",
       "      <td>0.963583</td>\n",
       "      <td>0.469388</td>\n",
       "      <td>0.940090</td>\n",
       "      <td>0.530650</td>\n",
       "      <td>0.325043</td>\n",
       "      <td>0.208777</td>\n",
       "      <td>0.745456</td>\n",
       "    </tr>\n",
       "    <tr>\n",
       "      <th>704</th>\n",
       "      <td>0.466667</td>\n",
       "      <td>0.830435</td>\n",
       "      <td>0.501435</td>\n",
       "      <td>0.284739</td>\n",
       "      <td>0.653628</td>\n",
       "      <td>0.244787</td>\n",
       "      <td>0.185474</td>\n",
       "      <td>0.686817</td>\n",
       "    </tr>\n",
       "    <tr>\n",
       "      <th>705</th>\n",
       "      <td>0.466667</td>\n",
       "      <td>0.704217</td>\n",
       "      <td>0.584346</td>\n",
       "      <td>0.240905</td>\n",
       "      <td>0.149799</td>\n",
       "      <td>0.260825</td>\n",
       "      <td>0.186451</td>\n",
       "      <td>0.639054</td>\n",
       "    </tr>\n",
       "    <tr>\n",
       "      <th>706</th>\n",
       "      <td>0.466667</td>\n",
       "      <td>0.375580</td>\n",
       "      <td>0.438047</td>\n",
       "      <td>0.233889</td>\n",
       "      <td>0.115262</td>\n",
       "      <td>0.355401</td>\n",
       "      <td>0.139558</td>\n",
       "      <td>0.203665</td>\n",
       "    </tr>\n",
       "    <tr>\n",
       "      <th>707</th>\n",
       "      <td>0.133333</td>\n",
       "      <td>0.629870</td>\n",
       "      <td>0.486601</td>\n",
       "      <td>0.243647</td>\n",
       "      <td>0.265640</td>\n",
       "      <td>0.293336</td>\n",
       "      <td>0.250412</td>\n",
       "      <td>0.125693</td>\n",
       "    </tr>\n",
       "  </tbody>\n",
       "</table>\n",
       "<p>708 rows × 8 columns</p>\n",
       "</div>"
      ],
      "text/plain": [
       "            0         1         2         3         4         5         6  \\\n",
       "0    1.000000  0.597403  0.469388  0.271739  0.130316  0.386503  0.030303   \n",
       "1    0.000000  0.344156  0.408163  0.315217  0.116598  0.380368  0.229501   \n",
       "2    0.066667  0.467532  0.469388  0.228261  0.115775  0.188139  0.053030   \n",
       "3    0.133333  0.402597  0.408163  0.304348  0.142661  0.251534  0.586007   \n",
       "4    0.000000  0.512987  0.653061  0.326087  0.230178  0.347648  0.049911   \n",
       "..        ...       ...       ...       ...       ...       ...       ...   \n",
       "703  0.133333  0.963583  0.469388  0.940090  0.530650  0.325043  0.208777   \n",
       "704  0.466667  0.830435  0.501435  0.284739  0.653628  0.244787  0.185474   \n",
       "705  0.466667  0.704217  0.584346  0.240905  0.149799  0.260825  0.186451   \n",
       "706  0.466667  0.375580  0.438047  0.233889  0.115262  0.355401  0.139558   \n",
       "707  0.133333  0.629870  0.486601  0.243647  0.265640  0.293336  0.250412   \n",
       "\n",
       "            7  \n",
       "0    0.431373  \n",
       "1    0.078431  \n",
       "2    0.000000  \n",
       "3    0.254902  \n",
       "4    0.156863  \n",
       "..        ...  \n",
       "703  0.745456  \n",
       "704  0.686817  \n",
       "705  0.639054  \n",
       "706  0.203665  \n",
       "707  0.125693  \n",
       "\n",
       "[708 rows x 8 columns]"
      ]
     },
     "execution_count": 794,
     "metadata": {},
     "output_type": "execute_result"
    }
   ],
   "source": [
    "X_res_scaled"
   ]
  },
  {
   "cell_type": "code",
   "execution_count": 795,
   "id": "e6c817e4",
   "metadata": {},
   "outputs": [
    {
     "data": {
      "text/html": [
       "<div>\n",
       "<style scoped>\n",
       "    .dataframe tbody tr th:only-of-type {\n",
       "        vertical-align: middle;\n",
       "    }\n",
       "\n",
       "    .dataframe tbody tr th {\n",
       "        vertical-align: top;\n",
       "    }\n",
       "\n",
       "    .dataframe thead th {\n",
       "        text-align: right;\n",
       "    }\n",
       "</style>\n",
       "<table border=\"1\" class=\"dataframe\">\n",
       "  <thead>\n",
       "    <tr style=\"text-align: right;\">\n",
       "      <th></th>\n",
       "      <th>0</th>\n",
       "      <th>1</th>\n",
       "      <th>2</th>\n",
       "      <th>3</th>\n",
       "      <th>4</th>\n",
       "      <th>5</th>\n",
       "      <th>6</th>\n",
       "      <th>7</th>\n",
       "    </tr>\n",
       "  </thead>\n",
       "  <tbody>\n",
       "    <tr>\n",
       "      <th>0</th>\n",
       "      <td>0.466667</td>\n",
       "      <td>0.597403</td>\n",
       "      <td>0.510204</td>\n",
       "      <td>0.206522</td>\n",
       "      <td>0.164609</td>\n",
       "      <td>0.159509</td>\n",
       "      <td>0.250446</td>\n",
       "      <td>0.588235</td>\n",
       "    </tr>\n",
       "    <tr>\n",
       "      <th>1</th>\n",
       "      <td>0.066667</td>\n",
       "      <td>0.694805</td>\n",
       "      <td>0.367347</td>\n",
       "      <td>0.206522</td>\n",
       "      <td>0.318793</td>\n",
       "      <td>0.161554</td>\n",
       "      <td>0.041889</td>\n",
       "      <td>0.019608</td>\n",
       "    </tr>\n",
       "    <tr>\n",
       "      <th>2</th>\n",
       "      <td>0.400000</td>\n",
       "      <td>0.422078</td>\n",
       "      <td>0.367347</td>\n",
       "      <td>0.217391</td>\n",
       "      <td>0.104527</td>\n",
       "      <td>0.139059</td>\n",
       "      <td>0.053922</td>\n",
       "      <td>0.117647</td>\n",
       "    </tr>\n",
       "    <tr>\n",
       "      <th>3</th>\n",
       "      <td>0.200000</td>\n",
       "      <td>0.110390</td>\n",
       "      <td>0.591837</td>\n",
       "      <td>0.228261</td>\n",
       "      <td>0.052126</td>\n",
       "      <td>0.331288</td>\n",
       "      <td>0.070410</td>\n",
       "      <td>0.490196</td>\n",
       "    </tr>\n",
       "    <tr>\n",
       "      <th>4</th>\n",
       "      <td>0.066667</td>\n",
       "      <td>0.467532</td>\n",
       "      <td>0.551020</td>\n",
       "      <td>0.239130</td>\n",
       "      <td>0.226337</td>\n",
       "      <td>0.366053</td>\n",
       "      <td>0.183155</td>\n",
       "      <td>0.078431</td>\n",
       "    </tr>\n",
       "    <tr>\n",
       "      <th>...</th>\n",
       "      <td>...</td>\n",
       "      <td>...</td>\n",
       "      <td>...</td>\n",
       "      <td>...</td>\n",
       "      <td>...</td>\n",
       "      <td>...</td>\n",
       "      <td>...</td>\n",
       "      <td>...</td>\n",
       "    </tr>\n",
       "    <tr>\n",
       "      <th>226</th>\n",
       "      <td>0.266667</td>\n",
       "      <td>0.305195</td>\n",
       "      <td>0.469388</td>\n",
       "      <td>0.271739</td>\n",
       "      <td>0.100137</td>\n",
       "      <td>0.304703</td>\n",
       "      <td>0.160873</td>\n",
       "      <td>0.019608</td>\n",
       "    </tr>\n",
       "    <tr>\n",
       "      <th>227</th>\n",
       "      <td>0.066667</td>\n",
       "      <td>0.422078</td>\n",
       "      <td>0.142857</td>\n",
       "      <td>0.119565</td>\n",
       "      <td>0.144033</td>\n",
       "      <td>0.100204</td>\n",
       "      <td>0.143494</td>\n",
       "      <td>0.098039</td>\n",
       "    </tr>\n",
       "    <tr>\n",
       "      <th>228</th>\n",
       "      <td>0.066667</td>\n",
       "      <td>0.305195</td>\n",
       "      <td>0.306122</td>\n",
       "      <td>0.195652</td>\n",
       "      <td>0.116598</td>\n",
       "      <td>0.143149</td>\n",
       "      <td>0.066399</td>\n",
       "      <td>0.039216</td>\n",
       "    </tr>\n",
       "    <tr>\n",
       "      <th>229</th>\n",
       "      <td>0.666667</td>\n",
       "      <td>0.805195</td>\n",
       "      <td>0.510204</td>\n",
       "      <td>0.226087</td>\n",
       "      <td>0.298217</td>\n",
       "      <td>0.404908</td>\n",
       "      <td>0.201426</td>\n",
       "      <td>0.254902</td>\n",
       "    </tr>\n",
       "    <tr>\n",
       "      <th>230</th>\n",
       "      <td>0.600000</td>\n",
       "      <td>0.441558</td>\n",
       "      <td>0.591837</td>\n",
       "      <td>0.271739</td>\n",
       "      <td>0.219479</td>\n",
       "      <td>0.327198</td>\n",
       "      <td>0.077986</td>\n",
       "      <td>0.294118</td>\n",
       "    </tr>\n",
       "  </tbody>\n",
       "</table>\n",
       "<p>231 rows × 8 columns</p>\n",
       "</div>"
      ],
      "text/plain": [
       "            0         1         2         3         4         5         6  \\\n",
       "0    0.466667  0.597403  0.510204  0.206522  0.164609  0.159509  0.250446   \n",
       "1    0.066667  0.694805  0.367347  0.206522  0.318793  0.161554  0.041889   \n",
       "2    0.400000  0.422078  0.367347  0.217391  0.104527  0.139059  0.053922   \n",
       "3    0.200000  0.110390  0.591837  0.228261  0.052126  0.331288  0.070410   \n",
       "4    0.066667  0.467532  0.551020  0.239130  0.226337  0.366053  0.183155   \n",
       "..        ...       ...       ...       ...       ...       ...       ...   \n",
       "226  0.266667  0.305195  0.469388  0.271739  0.100137  0.304703  0.160873   \n",
       "227  0.066667  0.422078  0.142857  0.119565  0.144033  0.100204  0.143494   \n",
       "228  0.066667  0.305195  0.306122  0.195652  0.116598  0.143149  0.066399   \n",
       "229  0.666667  0.805195  0.510204  0.226087  0.298217  0.404908  0.201426   \n",
       "230  0.600000  0.441558  0.591837  0.271739  0.219479  0.327198  0.077986   \n",
       "\n",
       "            7  \n",
       "0    0.588235  \n",
       "1    0.019608  \n",
       "2    0.117647  \n",
       "3    0.490196  \n",
       "4    0.078431  \n",
       "..        ...  \n",
       "226  0.019608  \n",
       "227  0.098039  \n",
       "228  0.039216  \n",
       "229  0.254902  \n",
       "230  0.294118  \n",
       "\n",
       "[231 rows x 8 columns]"
      ]
     },
     "execution_count": 795,
     "metadata": {},
     "output_type": "execute_result"
    }
   ],
   "source": [
    "X_test_scaled_res"
   ]
  },
  {
   "cell_type": "markdown",
   "id": "cf125b55",
   "metadata": {},
   "source": [
    "Now, is the time to rename the columns of X_res & X_test_scaled_res :-"
   ]
  },
  {
   "cell_type": "code",
   "execution_count": 796,
   "id": "76e59a3e",
   "metadata": {},
   "outputs": [],
   "source": [
    "X_res_scaled.columns = X_test_scaled_res.columns = \\\n",
    "[ 'preg','glu', 'bp', 'skinThickness', 'insulin', 'bmi', 'dpf', 'age']"
   ]
  },
  {
   "cell_type": "code",
   "execution_count": 797,
   "id": "93359412",
   "metadata": {},
   "outputs": [
    {
     "data": {
      "text/html": [
       "<div>\n",
       "<style scoped>\n",
       "    .dataframe tbody tr th:only-of-type {\n",
       "        vertical-align: middle;\n",
       "    }\n",
       "\n",
       "    .dataframe tbody tr th {\n",
       "        vertical-align: top;\n",
       "    }\n",
       "\n",
       "    .dataframe thead th {\n",
       "        text-align: right;\n",
       "    }\n",
       "</style>\n",
       "<table border=\"1\" class=\"dataframe\">\n",
       "  <thead>\n",
       "    <tr style=\"text-align: right;\">\n",
       "      <th></th>\n",
       "      <th>preg</th>\n",
       "      <th>glu</th>\n",
       "      <th>bp</th>\n",
       "      <th>skinThickness</th>\n",
       "      <th>insulin</th>\n",
       "      <th>bmi</th>\n",
       "      <th>dpf</th>\n",
       "      <th>age</th>\n",
       "    </tr>\n",
       "  </thead>\n",
       "  <tbody>\n",
       "    <tr>\n",
       "      <th>0</th>\n",
       "      <td>1.000000</td>\n",
       "      <td>0.597403</td>\n",
       "      <td>0.469388</td>\n",
       "      <td>0.271739</td>\n",
       "      <td>0.130316</td>\n",
       "      <td>0.386503</td>\n",
       "      <td>0.030303</td>\n",
       "      <td>0.431373</td>\n",
       "    </tr>\n",
       "    <tr>\n",
       "      <th>1</th>\n",
       "      <td>0.000000</td>\n",
       "      <td>0.344156</td>\n",
       "      <td>0.408163</td>\n",
       "      <td>0.315217</td>\n",
       "      <td>0.116598</td>\n",
       "      <td>0.380368</td>\n",
       "      <td>0.229501</td>\n",
       "      <td>0.078431</td>\n",
       "    </tr>\n",
       "    <tr>\n",
       "      <th>2</th>\n",
       "      <td>0.066667</td>\n",
       "      <td>0.467532</td>\n",
       "      <td>0.469388</td>\n",
       "      <td>0.228261</td>\n",
       "      <td>0.115775</td>\n",
       "      <td>0.188139</td>\n",
       "      <td>0.053030</td>\n",
       "      <td>0.000000</td>\n",
       "    </tr>\n",
       "    <tr>\n",
       "      <th>3</th>\n",
       "      <td>0.133333</td>\n",
       "      <td>0.402597</td>\n",
       "      <td>0.408163</td>\n",
       "      <td>0.304348</td>\n",
       "      <td>0.142661</td>\n",
       "      <td>0.251534</td>\n",
       "      <td>0.586007</td>\n",
       "      <td>0.254902</td>\n",
       "    </tr>\n",
       "    <tr>\n",
       "      <th>4</th>\n",
       "      <td>0.000000</td>\n",
       "      <td>0.512987</td>\n",
       "      <td>0.653061</td>\n",
       "      <td>0.326087</td>\n",
       "      <td>0.230178</td>\n",
       "      <td>0.347648</td>\n",
       "      <td>0.049911</td>\n",
       "      <td>0.156863</td>\n",
       "    </tr>\n",
       "    <tr>\n",
       "      <th>...</th>\n",
       "      <td>...</td>\n",
       "      <td>...</td>\n",
       "      <td>...</td>\n",
       "      <td>...</td>\n",
       "      <td>...</td>\n",
       "      <td>...</td>\n",
       "      <td>...</td>\n",
       "      <td>...</td>\n",
       "    </tr>\n",
       "    <tr>\n",
       "      <th>703</th>\n",
       "      <td>0.133333</td>\n",
       "      <td>0.963583</td>\n",
       "      <td>0.469388</td>\n",
       "      <td>0.940090</td>\n",
       "      <td>0.530650</td>\n",
       "      <td>0.325043</td>\n",
       "      <td>0.208777</td>\n",
       "      <td>0.745456</td>\n",
       "    </tr>\n",
       "    <tr>\n",
       "      <th>704</th>\n",
       "      <td>0.466667</td>\n",
       "      <td>0.830435</td>\n",
       "      <td>0.501435</td>\n",
       "      <td>0.284739</td>\n",
       "      <td>0.653628</td>\n",
       "      <td>0.244787</td>\n",
       "      <td>0.185474</td>\n",
       "      <td>0.686817</td>\n",
       "    </tr>\n",
       "    <tr>\n",
       "      <th>705</th>\n",
       "      <td>0.466667</td>\n",
       "      <td>0.704217</td>\n",
       "      <td>0.584346</td>\n",
       "      <td>0.240905</td>\n",
       "      <td>0.149799</td>\n",
       "      <td>0.260825</td>\n",
       "      <td>0.186451</td>\n",
       "      <td>0.639054</td>\n",
       "    </tr>\n",
       "    <tr>\n",
       "      <th>706</th>\n",
       "      <td>0.466667</td>\n",
       "      <td>0.375580</td>\n",
       "      <td>0.438047</td>\n",
       "      <td>0.233889</td>\n",
       "      <td>0.115262</td>\n",
       "      <td>0.355401</td>\n",
       "      <td>0.139558</td>\n",
       "      <td>0.203665</td>\n",
       "    </tr>\n",
       "    <tr>\n",
       "      <th>707</th>\n",
       "      <td>0.133333</td>\n",
       "      <td>0.629870</td>\n",
       "      <td>0.486601</td>\n",
       "      <td>0.243647</td>\n",
       "      <td>0.265640</td>\n",
       "      <td>0.293336</td>\n",
       "      <td>0.250412</td>\n",
       "      <td>0.125693</td>\n",
       "    </tr>\n",
       "  </tbody>\n",
       "</table>\n",
       "<p>708 rows × 8 columns</p>\n",
       "</div>"
      ],
      "text/plain": [
       "         preg       glu        bp  skinThickness   insulin       bmi  \\\n",
       "0    1.000000  0.597403  0.469388       0.271739  0.130316  0.386503   \n",
       "1    0.000000  0.344156  0.408163       0.315217  0.116598  0.380368   \n",
       "2    0.066667  0.467532  0.469388       0.228261  0.115775  0.188139   \n",
       "3    0.133333  0.402597  0.408163       0.304348  0.142661  0.251534   \n",
       "4    0.000000  0.512987  0.653061       0.326087  0.230178  0.347648   \n",
       "..        ...       ...       ...            ...       ...       ...   \n",
       "703  0.133333  0.963583  0.469388       0.940090  0.530650  0.325043   \n",
       "704  0.466667  0.830435  0.501435       0.284739  0.653628  0.244787   \n",
       "705  0.466667  0.704217  0.584346       0.240905  0.149799  0.260825   \n",
       "706  0.466667  0.375580  0.438047       0.233889  0.115262  0.355401   \n",
       "707  0.133333  0.629870  0.486601       0.243647  0.265640  0.293336   \n",
       "\n",
       "          dpf       age  \n",
       "0    0.030303  0.431373  \n",
       "1    0.229501  0.078431  \n",
       "2    0.053030  0.000000  \n",
       "3    0.586007  0.254902  \n",
       "4    0.049911  0.156863  \n",
       "..        ...       ...  \n",
       "703  0.208777  0.745456  \n",
       "704  0.185474  0.686817  \n",
       "705  0.186451  0.639054  \n",
       "706  0.139558  0.203665  \n",
       "707  0.250412  0.125693  \n",
       "\n",
       "[708 rows x 8 columns]"
      ]
     },
     "execution_count": 797,
     "metadata": {},
     "output_type": "execute_result"
    }
   ],
   "source": [
    "X_res_scaled"
   ]
  },
  {
   "cell_type": "code",
   "execution_count": 798,
   "id": "8c88cef3",
   "metadata": {},
   "outputs": [
    {
     "data": {
      "text/html": [
       "<div>\n",
       "<style scoped>\n",
       "    .dataframe tbody tr th:only-of-type {\n",
       "        vertical-align: middle;\n",
       "    }\n",
       "\n",
       "    .dataframe tbody tr th {\n",
       "        vertical-align: top;\n",
       "    }\n",
       "\n",
       "    .dataframe thead th {\n",
       "        text-align: right;\n",
       "    }\n",
       "</style>\n",
       "<table border=\"1\" class=\"dataframe\">\n",
       "  <thead>\n",
       "    <tr style=\"text-align: right;\">\n",
       "      <th></th>\n",
       "      <th>preg</th>\n",
       "      <th>glu</th>\n",
       "      <th>bp</th>\n",
       "      <th>skinThickness</th>\n",
       "      <th>insulin</th>\n",
       "      <th>bmi</th>\n",
       "      <th>dpf</th>\n",
       "      <th>age</th>\n",
       "    </tr>\n",
       "  </thead>\n",
       "  <tbody>\n",
       "    <tr>\n",
       "      <th>0</th>\n",
       "      <td>0.466667</td>\n",
       "      <td>0.597403</td>\n",
       "      <td>0.510204</td>\n",
       "      <td>0.206522</td>\n",
       "      <td>0.164609</td>\n",
       "      <td>0.159509</td>\n",
       "      <td>0.250446</td>\n",
       "      <td>0.588235</td>\n",
       "    </tr>\n",
       "    <tr>\n",
       "      <th>1</th>\n",
       "      <td>0.066667</td>\n",
       "      <td>0.694805</td>\n",
       "      <td>0.367347</td>\n",
       "      <td>0.206522</td>\n",
       "      <td>0.318793</td>\n",
       "      <td>0.161554</td>\n",
       "      <td>0.041889</td>\n",
       "      <td>0.019608</td>\n",
       "    </tr>\n",
       "    <tr>\n",
       "      <th>2</th>\n",
       "      <td>0.400000</td>\n",
       "      <td>0.422078</td>\n",
       "      <td>0.367347</td>\n",
       "      <td>0.217391</td>\n",
       "      <td>0.104527</td>\n",
       "      <td>0.139059</td>\n",
       "      <td>0.053922</td>\n",
       "      <td>0.117647</td>\n",
       "    </tr>\n",
       "    <tr>\n",
       "      <th>3</th>\n",
       "      <td>0.200000</td>\n",
       "      <td>0.110390</td>\n",
       "      <td>0.591837</td>\n",
       "      <td>0.228261</td>\n",
       "      <td>0.052126</td>\n",
       "      <td>0.331288</td>\n",
       "      <td>0.070410</td>\n",
       "      <td>0.490196</td>\n",
       "    </tr>\n",
       "    <tr>\n",
       "      <th>4</th>\n",
       "      <td>0.066667</td>\n",
       "      <td>0.467532</td>\n",
       "      <td>0.551020</td>\n",
       "      <td>0.239130</td>\n",
       "      <td>0.226337</td>\n",
       "      <td>0.366053</td>\n",
       "      <td>0.183155</td>\n",
       "      <td>0.078431</td>\n",
       "    </tr>\n",
       "    <tr>\n",
       "      <th>...</th>\n",
       "      <td>...</td>\n",
       "      <td>...</td>\n",
       "      <td>...</td>\n",
       "      <td>...</td>\n",
       "      <td>...</td>\n",
       "      <td>...</td>\n",
       "      <td>...</td>\n",
       "      <td>...</td>\n",
       "    </tr>\n",
       "    <tr>\n",
       "      <th>226</th>\n",
       "      <td>0.266667</td>\n",
       "      <td>0.305195</td>\n",
       "      <td>0.469388</td>\n",
       "      <td>0.271739</td>\n",
       "      <td>0.100137</td>\n",
       "      <td>0.304703</td>\n",
       "      <td>0.160873</td>\n",
       "      <td>0.019608</td>\n",
       "    </tr>\n",
       "    <tr>\n",
       "      <th>227</th>\n",
       "      <td>0.066667</td>\n",
       "      <td>0.422078</td>\n",
       "      <td>0.142857</td>\n",
       "      <td>0.119565</td>\n",
       "      <td>0.144033</td>\n",
       "      <td>0.100204</td>\n",
       "      <td>0.143494</td>\n",
       "      <td>0.098039</td>\n",
       "    </tr>\n",
       "    <tr>\n",
       "      <th>228</th>\n",
       "      <td>0.066667</td>\n",
       "      <td>0.305195</td>\n",
       "      <td>0.306122</td>\n",
       "      <td>0.195652</td>\n",
       "      <td>0.116598</td>\n",
       "      <td>0.143149</td>\n",
       "      <td>0.066399</td>\n",
       "      <td>0.039216</td>\n",
       "    </tr>\n",
       "    <tr>\n",
       "      <th>229</th>\n",
       "      <td>0.666667</td>\n",
       "      <td>0.805195</td>\n",
       "      <td>0.510204</td>\n",
       "      <td>0.226087</td>\n",
       "      <td>0.298217</td>\n",
       "      <td>0.404908</td>\n",
       "      <td>0.201426</td>\n",
       "      <td>0.254902</td>\n",
       "    </tr>\n",
       "    <tr>\n",
       "      <th>230</th>\n",
       "      <td>0.600000</td>\n",
       "      <td>0.441558</td>\n",
       "      <td>0.591837</td>\n",
       "      <td>0.271739</td>\n",
       "      <td>0.219479</td>\n",
       "      <td>0.327198</td>\n",
       "      <td>0.077986</td>\n",
       "      <td>0.294118</td>\n",
       "    </tr>\n",
       "  </tbody>\n",
       "</table>\n",
       "<p>231 rows × 8 columns</p>\n",
       "</div>"
      ],
      "text/plain": [
       "         preg       glu        bp  skinThickness   insulin       bmi  \\\n",
       "0    0.466667  0.597403  0.510204       0.206522  0.164609  0.159509   \n",
       "1    0.066667  0.694805  0.367347       0.206522  0.318793  0.161554   \n",
       "2    0.400000  0.422078  0.367347       0.217391  0.104527  0.139059   \n",
       "3    0.200000  0.110390  0.591837       0.228261  0.052126  0.331288   \n",
       "4    0.066667  0.467532  0.551020       0.239130  0.226337  0.366053   \n",
       "..        ...       ...       ...            ...       ...       ...   \n",
       "226  0.266667  0.305195  0.469388       0.271739  0.100137  0.304703   \n",
       "227  0.066667  0.422078  0.142857       0.119565  0.144033  0.100204   \n",
       "228  0.066667  0.305195  0.306122       0.195652  0.116598  0.143149   \n",
       "229  0.666667  0.805195  0.510204       0.226087  0.298217  0.404908   \n",
       "230  0.600000  0.441558  0.591837       0.271739  0.219479  0.327198   \n",
       "\n",
       "          dpf       age  \n",
       "0    0.250446  0.588235  \n",
       "1    0.041889  0.019608  \n",
       "2    0.053922  0.117647  \n",
       "3    0.070410  0.490196  \n",
       "4    0.183155  0.078431  \n",
       "..        ...       ...  \n",
       "226  0.160873  0.019608  \n",
       "227  0.143494  0.098039  \n",
       "228  0.066399  0.039216  \n",
       "229  0.201426  0.254902  \n",
       "230  0.077986  0.294118  \n",
       "\n",
       "[231 rows x 8 columns]"
      ]
     },
     "execution_count": 798,
     "metadata": {},
     "output_type": "execute_result"
    }
   ],
   "source": [
    "X_test_scaled_res"
   ]
  },
  {
   "cell_type": "markdown",
   "id": "f980141f",
   "metadata": {},
   "source": [
    "### Naive Bayes Classifier :-"
   ]
  },
  {
   "cell_type": "code",
   "execution_count": 1517,
   "id": "7d1bc739",
   "metadata": {},
   "outputs": [
    {
     "data": {
      "text/plain": [
       "77.05627705627705"
      ]
     },
     "execution_count": 1517,
     "metadata": {},
     "output_type": "execute_result"
    }
   ],
   "source": [
    "gnb_classifier = GaussianNB()\n",
    "\n",
    "gnb_classifier.fit(X_res_scaled, y_res) # Have used X_train_imputed\n",
    "\n",
    "y_pred = gnb_classifier.predict(X_test_scaled_res)\n",
    "\n",
    "accuracy_nb_normal_4 = accuracy_score(y_test, y_pred)*100\n",
    "auroc_nb_normal_4 = roc_auc_score(y_test, y_pred)*100\n",
    "\n",
    "accuracy_nb_normal_4"
   ]
  },
  {
   "cell_type": "markdown",
   "id": "afae6c79",
   "metadata": {},
   "source": [
    "Below values will be used for plotting a bar-plot for comparison :-"
   ]
  },
  {
   "cell_type": "code",
   "execution_count": 1518,
   "id": "87f44d31",
   "metadata": {},
   "outputs": [],
   "source": [
    "naiveBayesAcc4 = accuracy_nb_normal_4\n",
    "\n",
    "naiveBayesAuroc4 = auroc_nb_normal_4"
   ]
  },
  {
   "cell_type": "code",
   "execution_count": null,
   "id": "25fc250c",
   "metadata": {},
   "outputs": [],
   "source": []
  },
  {
   "cell_type": "markdown",
   "id": "3ddcbe27",
   "metadata": {},
   "source": [
    "### KNN Technique :-"
   ]
  },
  {
   "cell_type": "code",
   "execution_count": 1527,
   "id": "971ba234",
   "metadata": {},
   "outputs": [
    {
     "name": "stdout",
     "output_type": "stream",
     "text": [
      "79.65367965367966% is the accuracy score in percentage form with knn.\n"
     ]
    }
   ],
   "source": [
    "neigh = KNeighborsClassifier(n_neighbors=17)\n",
    "\n",
    "neigh.fit(X_res_scaled.values, y_res.values)\n",
    "\n",
    "y_pred = neigh.predict(X_test_scaled_res.values)\n",
    "\n",
    "accuracy_knn_normal_4 = accuracy_score(y_test, y_pred)*100\n",
    "\n",
    "auroc_knn_normal_4 = roc_auc_score(y_test, y_pred)*100\n",
    "\n",
    "print(f\"{accuracy_knn_normal_4}% is the accuracy score in percentage form with knn.\")"
   ]
  },
  {
   "cell_type": "code",
   "execution_count": 1524,
   "id": "1cb138e7",
   "metadata": {},
   "outputs": [],
   "source": []
  },
  {
   "cell_type": "markdown",
   "id": "fcd43b0c",
   "metadata": {},
   "source": [
    " #### GridSearchCV (KNN) :-"
   ]
  },
  {
   "cell_type": "code",
   "execution_count": 1528,
   "id": "08dd4104",
   "metadata": {},
   "outputs": [
    {
     "name": "stdout",
     "output_type": "stream",
     "text": [
      "KNeighborsClassifier(n_neighbors=9, weights='distance') is the Best Estimator according to Exhaustive Hyperparameter search.\n",
      "\n",
      "78.35497835497836% is the accuracy score for the KNeighborsClassifier() using the best hyparameters suggested by GridSearchCV.\n",
      "79.92747784045126% is the auroc score for the KNeighborsClassifier() using the best hyparameters suggested by GridSearchCV.\n",
      "65.76576576576578% is the precision score for the KNeighborsClassifier() using the best hyparameters suggested by GridSearchCV.\n",
      "85.88235294117646% is the recall score for the KNeighborsClassifier() using the best hyparameters suggested by GridSearchCV.\n",
      "74.48979591836735% is the f1_score for the KNeighborsClassifier() using the best hyparameters suggested by GridSearchCV.\n"
     ]
    }
   ],
   "source": [
    "params_grid_dict = {\n",
    "    'n_neighbors' : np.array([i for i in range(5,25,2)]),\n",
    "    'weights': ['distance', 'uniform'],\n",
    "    'metric':['minkowski', 'euclidean']\n",
    "}\n",
    "\n",
    "neigh = KNeighborsClassifier()\n",
    "\n",
    "accuracy_knn_grid_4, auroc_knn_grid_4 = grid_search_cv(neigh,params_grid_dict,X_train=X_res_scaled, \n",
    "                   y_train=y_res, X_test=X_test_scaled_res, y_test=y_test)"
   ]
  },
  {
   "cell_type": "markdown",
   "id": "e5e56284",
   "metadata": {},
   "source": [
    "#### RandomizedSearchCV (KNN)"
   ]
  },
  {
   "cell_type": "code",
   "execution_count": 1574,
   "id": "b1282e55",
   "metadata": {},
   "outputs": [
    {
     "name": "stdout",
     "output_type": "stream",
     "text": [
      "KNeighborsClassifier(metric='euclidean', n_neighbors=7, weights='distance') is the Best Estimator according to Randomized Hyperparameter search.\n",
      "\n",
      "81.38528138528139% is the accuracy score for KNeighborsClassifier() using the best hyparameters suggested by RandomizedSearchCV.\n",
      "82.57050765511684% is the auroc score for KNeighborsClassifier() using the best hyparameters suggested by RandomizedSearchCV.\n",
      "69.81132075471697% is the precision score for KNeighborsClassifier() using the best hyparameters suggested by RandomizedSearchCV.\n",
      "87.05882352941177% is the recall score for KNeighborsClassifier() using the best hyparameters suggested by RandomizedSearchCV.\n",
      "77.48691099476439% is the f1_score for KNeighborsClassifier() using the best hyparameters suggested by RandomizedSearchCV.\n"
     ]
    }
   ],
   "source": [
    "neigh = KNeighborsClassifier()\n",
    "\n",
    "params_grid_dict = {\n",
    "    # Increasing the range of n_neighbors to maybe find a better set of hyperparameters.\n",
    "    'n_neighbors' : np.array([i for i in range(5,50,2)]), \n",
    "    'weights': ['distance', 'uniform'],\n",
    "    'metric':['minkowski', 'euclidean']\n",
    "}\n",
    "\n",
    "accuracy_knn_random_4, auroc_knn_random_4 = randomized_search_cv(neigh,params_grid_dict,X_train=X_res_scaled, \n",
    "                   y_train=y_res, X_test=X_test_scaled_res, y_test=y_test, n_iter=50)"
   ]
  },
  {
   "cell_type": "markdown",
   "id": "8c22317a",
   "metadata": {},
   "source": [
    "Below are the values for Accuracy and Auroc score for KNN, to be used for Bar plot for comparison :-"
   ]
  },
  {
   "cell_type": "code",
   "execution_count": 1575,
   "id": "fbd0ea26",
   "metadata": {},
   "outputs": [],
   "source": [
    "knnAccuracy4 = max(accuracy_knn_normal_4, accuracy_knn_grid_4, accuracy_knn_random_4)\n",
    "\n",
    "knnAuroc4 = max(auroc_knn_normal_4, auroc_knn_grid_4, auroc_knn_random_4)"
   ]
  },
  {
   "cell_type": "code",
   "execution_count": null,
   "id": "ed1366f5",
   "metadata": {},
   "outputs": [],
   "source": []
  },
  {
   "cell_type": "markdown",
   "id": "4d3b2d37",
   "metadata": {},
   "source": [
    "### Logistic Regression :-"
   ]
  },
  {
   "cell_type": "code",
   "execution_count": 1578,
   "id": "cee41e26",
   "metadata": {},
   "outputs": [
    {
     "name": "stdout",
     "output_type": "stream",
     "text": [
      "80.51948051948052% is the accuracy score in percentage form with LogisticRegression.\n"
     ]
    }
   ],
   "source": [
    "logistic_regression = LogisticRegression(max_iter=200)\n",
    "\n",
    "logistic_regression.fit(X_res_scaled, y_res)\n",
    "\n",
    "# Predicting the X_test_scaled_res datapoints :\n",
    "y_pred = logistic_regression.predict(X_test_scaled_res)\n",
    "\n",
    "accuracy_lr_normal_4 = accuracy_score(y_test, y_pred)*100\n",
    "\n",
    "auroc_lr_normal_4 = roc_auc_score(y_test, y_pred)*100\n",
    "\n",
    "print(f\"{accuracy_lr_normal_4}% is the accuracy score in percentage form with LogisticRegression.\")\n"
   ]
  },
  {
   "cell_type": "code",
   "execution_count": null,
   "id": "780d1ca7",
   "metadata": {},
   "outputs": [],
   "source": []
  },
  {
   "cell_type": "markdown",
   "id": "d6350463",
   "metadata": {},
   "source": [
    "#### GridSearchCV (LogisticRegression) :-"
   ]
  },
  {
   "cell_type": "code",
   "execution_count": 1579,
   "id": "1fd4d4e5",
   "metadata": {},
   "outputs": [
    {
     "name": "stdout",
     "output_type": "stream",
     "text": [
      "LogisticRegression(C=11.288378916846883, max_iter=5000, solver='sag') is the Best Estimator according to Exhaustive Hyperparameter search.\n",
      "\n",
      "79.22077922077922% is the accuracy score for the LogisticRegression() using the best hyparameters suggested by GridSearchCV.\n",
      "79.38356164383562% is the auroc score for the LogisticRegression() using the best hyparameters suggested by GridSearchCV.\n",
      "68.68686868686868% is the precision score for the LogisticRegression() using the best hyparameters suggested by GridSearchCV.\n",
      "80.0% is the recall score for the LogisticRegression() using the best hyparameters suggested by GridSearchCV.\n",
      "73.91304347826086% is the f1_score for the LogisticRegression() using the best hyparameters suggested by GridSearchCV.\n"
     ]
    }
   ],
   "source": [
    "logistic_regression = LogisticRegression()\n",
    "\n",
    "params_grid_dict = {\n",
    "    'penalty' : ['l1', 'l2', 'elasticnet', 'none'],\n",
    "    'max_iter' : [100, 1000,2500, 5000],\n",
    "    'C' : np.logspace(-4, 4, 20),\n",
    "    'solver' : ['lbfgs','newton-cg','liblinear','sag','saga'],\n",
    "    \n",
    "}\n",
    "\n",
    "accuracy_lr_grid_4, auroc_lr_grid_4 = grid_search_cv(logistic_regression, params_grid_dict, \n",
    "               X_train=X_res_scaled,\n",
    "               y_train = y_res,\n",
    "               X_test = X_test_scaled_res,\n",
    "               y_test = y_test) "
   ]
  },
  {
   "cell_type": "code",
   "execution_count": null,
   "id": "c0b22c9e",
   "metadata": {},
   "outputs": [],
   "source": []
  },
  {
   "cell_type": "markdown",
   "id": "726fd9c2",
   "metadata": {},
   "source": [
    "#### RandomizedSearchCV (LogisticRegression) :-"
   ]
  },
  {
   "cell_type": "code",
   "execution_count": 1611,
   "id": "0ca8ed26",
   "metadata": {},
   "outputs": [
    {
     "name": "stdout",
     "output_type": "stream",
     "text": [
      "LogisticRegression(C=3.359818286283774, max_iter=1000, solver='liblinear') is the Best Estimator according to Randomized Hyperparameter search.\n",
      "\n",
      "79.65367965367966% is the accuracy score for LogisticRegression() using the best hyparameters suggested by RandomizedSearchCV.\n",
      "79.97179693795327% is the auroc score for LogisticRegression() using the best hyparameters suggested by RandomizedSearchCV.\n",
      "69.0% is the precision score for LogisticRegression() using the best hyparameters suggested by RandomizedSearchCV.\n",
      "81.17647058823529% is the recall score for LogisticRegression() using the best hyparameters suggested by RandomizedSearchCV.\n",
      "74.59459459459458% is the f1_score for LogisticRegression() using the best hyparameters suggested by RandomizedSearchCV.\n"
     ]
    }
   ],
   "source": [
    "logistic_regression = LogisticRegression()\n",
    "\n",
    "params_grid_dict = {\n",
    "    'penalty' : ['l1', 'l2', 'elasticnet', 'none'],\n",
    "    'max_iter' : [50,70,80,100,1000,2500,5000, ],\n",
    "    'C' : np.logspace(-10, 10, 20),\n",
    "    'solver' : ['lbfgs','newton-cg','liblinear','sag','saga'],\n",
    "    \n",
    "}\n",
    "\n",
    "accuracy_lr_random_4, auroc_lr_random_4 = randomized_search_cv(logistic_regression,params_grid_dict,X_train=X_res_scaled, \n",
    "                   y_train=y_res, X_test=X_test_scaled_res, y_test=y_test, n_iter=50)"
   ]
  },
  {
   "cell_type": "markdown",
   "id": "c48e5389",
   "metadata": {},
   "source": [
    "Below values are to be used for comparison purpose in the bar plot :-"
   ]
  },
  {
   "cell_type": "code",
   "execution_count": 1612,
   "id": "0bec7865",
   "metadata": {},
   "outputs": [],
   "source": [
    "logisticRegressionAcc4 = max(accuracy_lr_normal_4, accuracy_lr_grid_4, accuracy_lr_random_4)\n",
    "\n",
    "logisticRegressionAuroc4 = max(auroc_lr_normal_4, auroc_lr_grid_4, auroc_lr_random_4)"
   ]
  },
  {
   "cell_type": "code",
   "execution_count": null,
   "id": "2320bbc7",
   "metadata": {},
   "outputs": [],
   "source": []
  },
  {
   "cell_type": "markdown",
   "id": "e2194763",
   "metadata": {},
   "source": [
    "### Decision Tree Classifier :-"
   ]
  },
  {
   "cell_type": "code",
   "execution_count": 1613,
   "id": "48feac36",
   "metadata": {},
   "outputs": [
    {
     "name": "stdout",
     "output_type": "stream",
     "text": [
      "74.89177489177489% is the accuracy score in percentage form with DecisionTreesTechnique.\n"
     ]
    }
   ],
   "source": [
    "# Note :- Using the imputed and not scaled data for DecisionTrees:\n",
    "\n",
    "decision_tree = DecisionTreeClassifier(random_state=42)\n",
    "\n",
    "decision_tree.fit(X_res, y_res)\n",
    "\n",
    "y_pred = decision_tree.predict(X_test_knnimp)\n",
    "\n",
    "accuracy_dt_normal_4 = accuracy_score(y_test, y_pred)*100\n",
    "\n",
    "auroc_dt_normal_4 = roc_auc_score(y_test, y_pred)*100\n",
    "\n",
    "print(f\"{accuracy_dt_normal_4}% is the accuracy score in percentage form with DecisionTreesTechnique.\")"
   ]
  },
  {
   "cell_type": "code",
   "execution_count": null,
   "id": "cd0c7dac",
   "metadata": {},
   "outputs": [],
   "source": []
  },
  {
   "cell_type": "markdown",
   "id": "1fde02d4",
   "metadata": {},
   "source": [
    "#### GridSearchCV (DecisionTrees) :-"
   ]
  },
  {
   "cell_type": "code",
   "execution_count": 1614,
   "id": "c8088c84",
   "metadata": {},
   "outputs": [
    {
     "name": "stdout",
     "output_type": "stream",
     "text": [
      "DecisionTreeClassifier(max_depth=4, min_impurity_decrease=0.01,\n",
      "                       min_samples_split=10) is the Best Estimator according to Exhaustive Hyperparameter search.\n",
      "\n",
      "77.92207792207793% is the accuracy score for the DecisionTreeClassifier() using the best hyparameters suggested by GridSearchCV.\n",
      "75.65269943593876% is the auroc score for the DecisionTreeClassifier() using the best hyparameters suggested by GridSearchCV.\n",
      "71.25% is the precision score for the DecisionTreeClassifier() using the best hyparameters suggested by GridSearchCV.\n",
      "67.05882352941175% is the recall score for the DecisionTreeClassifier() using the best hyparameters suggested by GridSearchCV.\n",
      "69.0909090909091% is the f1_score for the DecisionTreeClassifier() using the best hyparameters suggested by GridSearchCV.\n"
     ]
    }
   ],
   "source": [
    "decision_tree = DecisionTreeClassifier()\n",
    "\n",
    "params_grid_dict = {\n",
    "    'max_depth' : np.array([i for i in range(2,20)]),\n",
    "    'criterion' : np.array(['gini', 'entropy']),\n",
    "    'min_impurity_decrease': np.arange(0.01, 0.06, 0.01),\n",
    "    'min_samples_split': np.arange(10,100,10) \n",
    "}\n",
    "\n",
    "accuracy_dt_grid_4, auroc_dt_grid_4  = grid_search_cv(decision_tree, params_grid_dict, \n",
    "               X_train=X_res,\n",
    "               y_train = y_res,\n",
    "               X_test = X_test_knnimp,\n",
    "               y_test = y_test)  "
   ]
  },
  {
   "cell_type": "markdown",
   "id": "649754a9",
   "metadata": {},
   "source": [
    "#### RandomizedSearchCV (DecisionTrees) :-"
   ]
  },
  {
   "cell_type": "code",
   "execution_count": 1638,
   "id": "ab92703a",
   "metadata": {},
   "outputs": [
    {
     "name": "stdout",
     "output_type": "stream",
     "text": [
      "DecisionTreeClassifier(criterion='entropy', max_depth=24,\n",
      "                       min_impurity_decrease=0.02, min_samples_split=30) is the Best Estimator according to Randomized Hyperparameter search.\n",
      "\n",
      "77.92207792207793% is the accuracy score for DecisionTreeClassifier() using the best hyparameters suggested by RandomizedSearchCV.\n",
      "75.65269943593876% is the auroc score for DecisionTreeClassifier() using the best hyparameters suggested by RandomizedSearchCV.\n",
      "71.25% is the precision score for DecisionTreeClassifier() using the best hyparameters suggested by RandomizedSearchCV.\n",
      "67.05882352941175% is the recall score for DecisionTreeClassifier() using the best hyparameters suggested by RandomizedSearchCV.\n",
      "69.0909090909091% is the f1_score for DecisionTreeClassifier() using the best hyparameters suggested by RandomizedSearchCV.\n"
     ]
    }
   ],
   "source": [
    "decision_tree = DecisionTreeClassifier()\n",
    "\n",
    "params_grid_dict = {\n",
    "    'max_depth' : np.array([i for i in range(2,30)]),\n",
    "    'criterion' : np.array(['gini', 'entropy']),\n",
    "    'min_impurity_decrease': np.arange(0.01, 1.10, 0.01),\n",
    "    'min_samples_split': np.arange(10,100,10) \n",
    "}\n",
    "\n",
    "accuracy_dt_random_4, auroc_dt_random_4 = randomized_search_cv(decision_tree,params_grid_dict,X_train=X_res, \n",
    "                   y_train=y_res, X_test=X_test_knnimp, y_test=y_test, n_iter=50)"
   ]
  },
  {
   "cell_type": "markdown",
   "id": "0a1e0e16",
   "metadata": {},
   "source": [
    "Below values are to be used for comparison purpose in the bar plot :-"
   ]
  },
  {
   "cell_type": "code",
   "execution_count": 1639,
   "id": "b0ed836b",
   "metadata": {},
   "outputs": [],
   "source": [
    "decisionTreeAcc4 = max(accuracy_dt_normal_4, accuracy_dt_grid_4, accuracy_dt_random_4)\n",
    "\n",
    "decisionTreeAuroc4 = max(auroc_dt_normal_4, auroc_dt_grid_4, auroc_dt_random_4)"
   ]
  },
  {
   "cell_type": "code",
   "execution_count": null,
   "id": "4d5b464c",
   "metadata": {},
   "outputs": [],
   "source": []
  },
  {
   "cell_type": "markdown",
   "id": "7e17c4cf",
   "metadata": {},
   "source": [
    "### Support Vector Machine :-"
   ]
  },
  {
   "cell_type": "code",
   "execution_count": 1640,
   "id": "e1287713",
   "metadata": {},
   "outputs": [
    {
     "name": "stdout",
     "output_type": "stream",
     "text": [
      "80.08658008658008% is the accuracy score in percentage form with SVM technique.\n"
     ]
    }
   ],
   "source": [
    "svc_model = SVC()\n",
    "svc_model.fit(X_res_scaled, y_res)\n",
    "\n",
    "# Predicting the X_test :\n",
    "y_pred = svc_model.predict(X_test_scaled_res)\n",
    "\n",
    "accuracy_svm_normal_4 = accuracy_score(y_test, y_pred)*100\n",
    "\n",
    "auroc_svm_normal_4 = roc_auc_score(y_test, y_pred)*100\n",
    "\n",
    "print(f\"{accuracy_svm_normal_4}% is the accuracy score in percentage form with SVM technique.\")"
   ]
  },
  {
   "cell_type": "code",
   "execution_count": null,
   "id": "30a510cd",
   "metadata": {},
   "outputs": [],
   "source": []
  },
  {
   "cell_type": "markdown",
   "id": "e38e75e9",
   "metadata": {},
   "source": [
    "#### GridSearchCV (SVM):-"
   ]
  },
  {
   "cell_type": "code",
   "execution_count": 1641,
   "id": "6cd76f42",
   "metadata": {},
   "outputs": [
    {
     "name": "stdout",
     "output_type": "stream",
     "text": [
      "SVC(C=1) is the Best Estimator according to Exhaustive Hyperparameter search.\n",
      "\n",
      "80.08658008658008% is the accuracy score for the SVC() using the best hyparameters suggested by GridSearchCV.\n",
      "80.31426269137792% is the auroc score for the SVC() using the best hyparameters suggested by GridSearchCV.\n",
      "69.6969696969697% is the precision score for the SVC() using the best hyparameters suggested by GridSearchCV.\n",
      "81.17647058823529% is the recall score for the SVC() using the best hyparameters suggested by GridSearchCV.\n",
      "75.0% is the f1_score for the SVC() using the best hyparameters suggested by GridSearchCV.\n"
     ]
    }
   ],
   "source": [
    "svc_model = SVC()\n",
    "\n",
    "param_grid_dict = {\n",
    "    'C':[0.1, 1, 10, 100],\n",
    "   'kernel' : ['rbf', 'poly','sigmoid']\n",
    "}\n",
    "\n",
    "accuracy_svm_grid_4, auroc_svm_grid_4 = grid_search_cv(svc_model, param_grid_dict, \n",
    "               X_train=X_res_scaled,\n",
    "               y_train = y_res,\n",
    "               X_test = X_test_scaled_res,\n",
    "               y_test = y_test)"
   ]
  },
  {
   "cell_type": "code",
   "execution_count": null,
   "id": "075b06f4",
   "metadata": {},
   "outputs": [],
   "source": []
  },
  {
   "cell_type": "markdown",
   "id": "531f2049",
   "metadata": {},
   "source": [
    "#### RandomizedSearchCV (SVM) :-"
   ]
  },
  {
   "cell_type": "code",
   "execution_count": 1642,
   "id": "a61dc4ad",
   "metadata": {},
   "outputs": [
    {
     "name": "stdout",
     "output_type": "stream",
     "text": [
      "SVC(C=1000) is the Best Estimator according to Randomized Hyperparameter search.\n",
      "\n",
      "76.62337662337663% is the accuracy score for SVC() using the best hyparameters suggested by RandomizedSearchCV.\n",
      "75.11684125705077% is the auroc score for SVC() using the best hyparameters suggested by RandomizedSearchCV.\n",
      "67.81609195402298% is the precision score for SVC() using the best hyparameters suggested by RandomizedSearchCV.\n",
      "69.41176470588235% is the recall score for SVC() using the best hyparameters suggested by RandomizedSearchCV.\n",
      "68.60465116279069% is the f1_score for SVC() using the best hyparameters suggested by RandomizedSearchCV.\n"
     ]
    }
   ],
   "source": [
    "svc_model = SVC()\n",
    "\n",
    "param_grid_dict = {\n",
    "    'C':[0.1, 1, 10, 100, 1000],\n",
    "    'kernel' : ['rbf', 'poly','sigmoid', 'linear'],\n",
    "    }\n",
    "\n",
    "accuracy_svm_random_4, auroc_svm_random_4  = randomized_search_cv(svc_model,param_grid_dict,X_train=X_res_scaled, \n",
    "                   y_train=y_res, X_test=X_test_scaled_res, y_test=y_test)"
   ]
  },
  {
   "cell_type": "code",
   "execution_count": 1643,
   "id": "920b497a",
   "metadata": {},
   "outputs": [],
   "source": [
    "svmAcc4 = max(accuracy_svm_normal_4, accuracy_svm_grid_4, accuracy_svm_random_4)\n",
    "\n",
    "svmAuroc4 = max(auroc_svm_normal_4, auroc_svm_grid_4, auroc_svm_random_4)"
   ]
  },
  {
   "cell_type": "code",
   "execution_count": null,
   "id": "68ac78e8",
   "metadata": {},
   "outputs": [],
   "source": []
  },
  {
   "cell_type": "markdown",
   "id": "531fa63d",
   "metadata": {},
   "source": [
    "### RandomForestClassifier :-"
   ]
  },
  {
   "cell_type": "code",
   "execution_count": 1644,
   "id": "686ffba9",
   "metadata": {},
   "outputs": [
    {
     "name": "stdout",
     "output_type": "stream",
     "text": [
      "80.95238095238095% is the accuracy score in percentage form with RandomForestClassifier technique.\n"
     ]
    }
   ],
   "source": [
    "random_forest = RandomForestClassifier(random_state=42)\n",
    "\n",
    "random_forest.fit(X_res, y_res)\n",
    "\n",
    "y_pred = random_forest.predict(X_test_knnimp)\n",
    "\n",
    "accuracy_rf_normal_4 = accuracy_score(y_test, y_pred)*100\n",
    "\n",
    "auroc_rf_normal_4 = roc_auc_score(y_test, y_pred)*100\n",
    "\n",
    "print(f\"{accuracy_rf_normal_4}% is the accuracy score in percentage form with RandomForestClassifier technique.\")"
   ]
  },
  {
   "cell_type": "code",
   "execution_count": null,
   "id": "3ea25d93",
   "metadata": {},
   "outputs": [],
   "source": []
  },
  {
   "cell_type": "markdown",
   "id": "55b4dbc6",
   "metadata": {},
   "source": [
    "#### GridSearchCV (RandomForestClassifier) :-"
   ]
  },
  {
   "cell_type": "code",
   "execution_count": 1645,
   "id": "56fbeb0d",
   "metadata": {},
   "outputs": [
    {
     "name": "stdout",
     "output_type": "stream",
     "text": [
      "RandomForestClassifier(max_depth=7, n_estimators=50) is the Best Estimator according to Exhaustive Hyperparameter search.\n",
      "\n",
      "80.08658008658008% is the accuracy score for the RandomForestClassifier() using the best hyparameters suggested by GridSearchCV.\n",
      "80.31426269137792% is the auroc score for the RandomForestClassifier() using the best hyparameters suggested by GridSearchCV.\n",
      "69.6969696969697% is the precision score for the RandomForestClassifier() using the best hyparameters suggested by GridSearchCV.\n",
      "81.17647058823529% is the recall score for the RandomForestClassifier() using the best hyparameters suggested by GridSearchCV.\n",
      "75.0% is the f1_score for the RandomForestClassifier() using the best hyparameters suggested by GridSearchCV.\n"
     ]
    }
   ],
   "source": [
    "random_forest = RandomForestClassifier()\n",
    "\n",
    "param_grid_dict = {\n",
    "    'max_depth':[2,3,4,5,6,7],\n",
    "    'n_estimators':[10, 20, 25, 30, 35, 40, 50, 60, 70, 80, 90, 100],\n",
    "}\n",
    "\n",
    "accuracy_rf_grid_4, auroc_rf_grid_4 = grid_search_cv(random_forest, param_grid_dict, \n",
    "               X_train=X_res,\n",
    "               y_train = y_res,\n",
    "               X_test = X_test_knnimp,\n",
    "               y_test = y_test)\n"
   ]
  },
  {
   "cell_type": "code",
   "execution_count": null,
   "id": "0b005372",
   "metadata": {},
   "outputs": [],
   "source": []
  },
  {
   "cell_type": "markdown",
   "id": "aab3d012",
   "metadata": {},
   "source": [
    "#### RandomizedSearchCV (RandomForestClassifier) :-"
   ]
  },
  {
   "cell_type": "code",
   "execution_count": 1647,
   "id": "a8051771",
   "metadata": {},
   "outputs": [
    {
     "name": "stdout",
     "output_type": "stream",
     "text": [
      "RandomForestClassifier(max_depth=12, min_impurity_decrease=0.01,\n",
      "                       min_samples_split=20, n_estimators=110) is the Best Estimator according to Randomized Hyperparameter search.\n",
      "\n",
      "80.08658008658008% is the accuracy score for RandomForestClassifier() using the best hyparameters suggested by RandomizedSearchCV.\n",
      "80.31426269137792% is the auroc score for RandomForestClassifier() using the best hyparameters suggested by RandomizedSearchCV.\n",
      "69.6969696969697% is the precision score for RandomForestClassifier() using the best hyparameters suggested by RandomizedSearchCV.\n",
      "81.17647058823529% is the recall score for RandomForestClassifier() using the best hyparameters suggested by RandomizedSearchCV.\n",
      "75.0% is the f1_score for RandomForestClassifier() using the best hyparameters suggested by RandomizedSearchCV.\n"
     ]
    }
   ],
   "source": [
    "random_forest = RandomForestClassifier()\n",
    "\n",
    "params_grid_dict = {\n",
    "    'max_depth':np.arange(1,40),\n",
    "    'n_estimators':np.arange(30,151,20),\n",
    "    'min_impurity_decrease': np.arange(0.01, 0.06, 0.01),\n",
    "    'min_samples_split': np.arange(10,100,10) \n",
    "}\n",
    "\n",
    "accuracy_rf_random_4, auroc_rf_random_4 = randomized_search_cv(random_forest, params_grid_dict, X_train=X_res,\n",
    "                    y_train=y_res, X_test=X_test_knnimp, y_test=y_test)"
   ]
  },
  {
   "cell_type": "markdown",
   "id": "a007970b",
   "metadata": {},
   "source": [
    "Below values are to be used for comparison purpose in the bar plot :-"
   ]
  },
  {
   "cell_type": "code",
   "execution_count": 1648,
   "id": "6d6e9bfc",
   "metadata": {},
   "outputs": [],
   "source": [
    "randomForestAcc4 = max(accuracy_rf_normal_4, accuracy_rf_grid_4, accuracy_rf_random_4)\n",
    "\n",
    "randomForestAuroc4 = max(auroc_rf_normal_4, auroc_rf_grid_4, auroc_rf_random_4)"
   ]
  },
  {
   "cell_type": "code",
   "execution_count": null,
   "id": "9bc3363e",
   "metadata": {},
   "outputs": [],
   "source": []
  },
  {
   "cell_type": "code",
   "execution_count": null,
   "id": "e65f4c16",
   "metadata": {},
   "outputs": [],
   "source": []
  },
  {
   "cell_type": "markdown",
   "id": "1755e48c",
   "metadata": {},
   "source": [
    "### Adaboost Classifier :-"
   ]
  },
  {
   "cell_type": "code",
   "execution_count": 1650,
   "id": "2a533edd",
   "metadata": {},
   "outputs": [
    {
     "name": "stdout",
     "output_type": "stream",
     "text": [
      "79.65367965367966% is the accuracy score using AdaboostClassifier.\n"
     ]
    }
   ],
   "source": [
    "adaboost_classifier = AdaBoostClassifier(random_state=42)\n",
    "\n",
    "adaboost_classifier.fit(X_res.values, y_res.values)\n",
    "\n",
    "y_pred = adaboost_classifier.predict(X_test_knnimp.values)\n",
    "\n",
    "accuracy_ab_normal_4 = accuracy_score(y_test, y_pred)*100\n",
    "\n",
    "auroc_ab_normal_4 = roc_auc_score(y_test, y_pred)*100\n",
    "\n",
    "print(f'{accuracy_ab_normal_4}% is the accuracy score using AdaboostClassifier.')"
   ]
  },
  {
   "cell_type": "code",
   "execution_count": null,
   "id": "8a88657d",
   "metadata": {},
   "outputs": [],
   "source": []
  },
  {
   "cell_type": "markdown",
   "id": "ce6560c7",
   "metadata": {},
   "source": [
    "#### GridSearchCV (Adaboost Classifier) :-"
   ]
  },
  {
   "cell_type": "code",
   "execution_count": 1651,
   "id": "1b551801",
   "metadata": {},
   "outputs": [
    {
     "name": "stdout",
     "output_type": "stream",
     "text": [
      "AdaBoostClassifier(n_estimators=80) is the Best Estimator according to Exhaustive Hyperparameter search.\n",
      "\n",
      "78.78787878787878% is the accuracy score for the AdaBoostClassifier() using the best hyparameters suggested by GridSearchCV.\n",
      "79.04109589041096% is the auroc score for the AdaBoostClassifier() using the best hyparameters suggested by GridSearchCV.\n",
      "68.0% is the precision score for the AdaBoostClassifier() using the best hyparameters suggested by GridSearchCV.\n",
      "80.0% is the recall score for the AdaBoostClassifier() using the best hyparameters suggested by GridSearchCV.\n",
      "73.51351351351352% is the f1_score for the AdaBoostClassifier() using the best hyparameters suggested by GridSearchCV.\n"
     ]
    }
   ],
   "source": [
    "adaboost_classifier = AdaBoostClassifier()\n",
    "\n",
    "param_grid_dict = {\n",
    "    'n_estimators':np.arange(50,100,10),\n",
    "    'learning_rate':np.arange(1.0,10.0,1.0)\n",
    "}\n",
    "\n",
    "accuracy_ab_grid_4, auroc_ab_grid_4 = grid_search_cv(adaboost_classifier, param_grid_dict, \n",
    "               X_train=X_res,\n",
    "               y_train = y_res,\n",
    "               X_test = X_test_knnimp,\n",
    "               y_test = y_test)"
   ]
  },
  {
   "cell_type": "code",
   "execution_count": null,
   "id": "5f61dab1",
   "metadata": {},
   "outputs": [],
   "source": []
  },
  {
   "cell_type": "markdown",
   "id": "c877085c",
   "metadata": {},
   "source": [
    "#### RandomizedSearchCV (Adaboost Classifier) :-"
   ]
  },
  {
   "cell_type": "code",
   "execution_count": 1656,
   "id": "739df6cf",
   "metadata": {},
   "outputs": [
    {
     "name": "stdout",
     "output_type": "stream",
     "text": [
      "AdaBoostClassifier(learning_rate=1) is the Best Estimator according to Randomized Hyperparameter search.\n",
      "\n",
      "80.08658008658008% is the accuracy score for AdaBoostClassifier() using the best hyparameters suggested by RandomizedSearchCV.\n",
      "80.06849315068493% is the auroc score for AdaBoostClassifier() using the best hyparameters suggested by RandomizedSearchCV.\n",
      "70.10309278350515% is the precision score for AdaBoostClassifier() using the best hyparameters suggested by RandomizedSearchCV.\n",
      "80.0% is the recall score for AdaBoostClassifier() using the best hyparameters suggested by RandomizedSearchCV.\n",
      "74.72527472527473% is the f1_score for AdaBoostClassifier() using the best hyparameters suggested by RandomizedSearchCV.\n"
     ]
    }
   ],
   "source": [
    "adaboost_classifier = AdaBoostClassifier()\n",
    "\n",
    "param_grid_dict = {\n",
    "    'n_estimators':np.arange(50,130,10),\n",
    "    'learning_rate':np.arange(1,20,1)\n",
    "}\n",
    "\n",
    "accuracy_ab_random_4, auroc_ab_random_4 = randomized_search_cv(adaboost_classifier, param_grid_dict, X_res,\n",
    "                    y_train=y_res, X_test=X_test_knnimp, y_test=y_test)"
   ]
  },
  {
   "cell_type": "markdown",
   "id": "03758854",
   "metadata": {},
   "source": [
    "Below values are to be used for comparison purpose in the bar plot :-"
   ]
  },
  {
   "cell_type": "code",
   "execution_count": 1657,
   "id": "2de6390c",
   "metadata": {},
   "outputs": [],
   "source": [
    "adaBoostAcc4 = max(accuracy_ab_normal_4, accuracy_ab_grid_4, accuracy_ab_random_4)\n",
    "\n",
    "adaBoostAuroc4 = max(auroc_ab_normal_4, auroc_ab_grid_4, auroc_ab_random_4)"
   ]
  },
  {
   "cell_type": "markdown",
   "id": "348092e7",
   "metadata": {},
   "source": [
    "### Accuracy Bar Plot :-"
   ]
  },
  {
   "cell_type": "code",
   "execution_count": 1659,
   "id": "2380e021",
   "metadata": {},
   "outputs": [],
   "source": [
    "accuracies4 = naiveBayesAcc4, knnAccuracy4, logisticRegressionAcc4, decisionTreeAcc4, svmAcc4, randomForestAcc4, \\\n",
    "              adaBoostAcc4"
   ]
  },
  {
   "cell_type": "code",
   "execution_count": 1660,
   "id": "5667a732",
   "metadata": {},
   "outputs": [
    {
     "data": {
      "image/png": "[encoded data removed]",
      "text/plain": [
       "<Figure size 630x432 with 1 Axes>"
      ]
     },
     "metadata": {
      "needs_background": "light"
     },
     "output_type": "display_data"
    }
   ],
   "source": [
    "bar_plot_for_comaparison(y_label='Accuracy', performance_metric = accuracies4, x_label=\"Different ML techniques\",  bar_width=0.5, \\\n",
    "                             figsize=(8.75,6), color='orange', title = \"Accuracy Score comparison between best of all the Models\",\\\n",
    "                     models = ['NaiveBayes', 'Knn', 'LogRegression', 'DecTrees', 'SVM', 'RandomForest', 'AdaBoost'])"
   ]
  },
  {
   "cell_type": "code",
   "execution_count": 1661,
   "id": "c6fdddbf",
   "metadata": {},
   "outputs": [
    {
     "data": {
      "text/plain": [
       "[77.05627705627705,\n",
       " 77.92207792207793,\n",
       " 80.08658008658008,\n",
       " 80.08658008658008,\n",
       " 80.51948051948052,\n",
       " 80.95238095238095,\n",
       " 81.38528138528139]"
      ]
     },
     "execution_count": 1661,
     "metadata": {},
     "output_type": "execute_result"
    }
   ],
   "source": [
    "sorted(accuracies4)"
   ]
  },
  {
   "cell_type": "markdown",
   "id": "955cec3a",
   "metadata": {},
   "source": [
    "### Auroc Bar Plot :-"
   ]
  },
  {
   "cell_type": "code",
   "execution_count": 1663,
   "id": "e593db49",
   "metadata": {},
   "outputs": [],
   "source": [
    "aurocScores4 = naiveBayesAuroc4, knnAuroc4, logisticRegressionAuroc4, decisionTreeAuroc4, svmAuroc4, randomForestAuroc4, \\\n",
    "              adaBoostAuroc4"
   ]
  },
  {
   "cell_type": "code",
   "execution_count": 1666,
   "id": "7b847820",
   "metadata": {},
   "outputs": [
    {
     "data": {
      "image/png": "[encoded data removed]",
      "text/plain": [
       "<Figure size 630x432 with 1 Axes>"
      ]
     },
     "metadata": {
      "needs_background": "light"
     },
     "output_type": "display_data"
    }
   ],
   "source": [
    "bar_plot_for_comaparison(y_label='AurocScores', performance_metric = aurocScores4, x_label=\"Different ML techniques\",  bar_width=0.5, \\\n",
    "                             figsize=(8.75,6), color='skyblue', title = \"Auroc Score comparison between best of all the Models\",\\\n",
    "                     models = ['NaiveBayes', 'Knn', 'LogRegres', 'DecTrees', 'SVM', 'RandomForest', 'AdaBoost'])"
   ]
  },
  {
   "cell_type": "code",
   "execution_count": 1665,
   "id": "4ae2f008",
   "metadata": {},
   "outputs": [
    {
     "data": {
      "text/plain": [
       "[75.65269943593876,\n",
       " 77.42546333601933,\n",
       " 80.06849315068493,\n",
       " 80.31426269137792,\n",
       " 80.31426269137792,\n",
       " 80.90249798549557,\n",
       " 82.57050765511684]"
      ]
     },
     "execution_count": 1665,
     "metadata": {},
     "output_type": "execute_result"
    }
   ],
   "source": [
    "sorted(aurocScores4)"
   ]
  },
  {
   "cell_type": "code",
   "execution_count": null,
   "id": "38455e6b",
   "metadata": {},
   "outputs": [],
   "source": []
  },
  {
   "cell_type": "code",
   "execution_count": null,
   "id": "af63434c",
   "metadata": {},
   "outputs": [],
   "source": []
  },
  {
   "cell_type": "code",
   "execution_count": null,
   "id": "a0acfa9a",
   "metadata": {},
   "outputs": [],
   "source": []
  },
  {
   "cell_type": "markdown",
   "id": "a70d4bcc",
   "metadata": {},
   "source": [
    "### SMOTE(oversampling) the Mean Imputed Data and Analysing :-"
   ]
  },
  {
   "cell_type": "markdown",
   "id": "509e516c",
   "metadata": {},
   "source": [
    "   Step 1 :- First thing that I have to do is Oversampling the Mean Imputed training data. \n",
    "   Step 2 :- Feature Scale Mean Imputed oversamplied training data and X_test_imputed.\n",
    "   \n",
    "   Note :- To remember that, For decision trees and etc. have to use X_train_oversampled_imputed and X_test_imputed.\n",
    "   For the rest use, X_train_scaled_oversampled_imputed and X_test_scaled_imputed."
   ]
  },
  {
   "cell_type": "code",
   "execution_count": 1851,
   "id": "c5c9df15",
   "metadata": {},
   "outputs": [],
   "source": [
    "smt_1 = SMOTE()"
   ]
  },
  {
   "cell_type": "code",
   "execution_count": 1853,
   "id": "798bb724",
   "metadata": {},
   "outputs": [],
   "source": [
    "X_res_imputed, y_res_imputed = smt.fit_resample(X_train_imputed, y_train)"
   ]
  },
  {
   "cell_type": "markdown",
   "id": "b91783b2",
   "metadata": {},
   "source": [
    "Now, we have X_res_imputed, y_res_imputed, X_test_imputed, y_test..which will be used for algorithms such as Decision Trees, Random Forest, Adaboost Classifier etc.\n",
    "\n",
    "For, Logistic Regression, KNN, Support Vector Machine, it is more suitable to scale the X_res_imputed & X_test_imputed"
   ]
  },
  {
   "cell_type": "code",
   "execution_count": 1856,
   "id": "ca9de0e6",
   "metadata": {},
   "outputs": [],
   "source": [
    "norm_2 = MinMaxScaler()"
   ]
  },
  {
   "cell_type": "code",
   "execution_count": 1857,
   "id": "1b508092",
   "metadata": {},
   "outputs": [
    {
     "data": {
      "text/plain": [
       "MinMaxScaler()"
      ]
     },
     "execution_count": 1857,
     "metadata": {},
     "output_type": "execute_result"
    }
   ],
   "source": [
    "norm_2.fit(X_res_imputed)"
   ]
  },
  {
   "cell_type": "code",
   "execution_count": 1858,
   "id": "d4a27324",
   "metadata": {},
   "outputs": [],
   "source": [
    "X_res_scaled_trmeanimp = norm_2.transform(X_res_imputed)\n",
    "\n",
    "X_res_scaled_temeanimp = norm_2.transform(X_test_imputed)"
   ]
  },
  {
   "cell_type": "code",
   "execution_count": 1860,
   "id": "120f24fa",
   "metadata": {},
   "outputs": [],
   "source": [
    "X_res_scaled_trmeanimp = pd.DataFrame(X_res_scaled_trmeanimp)\n",
    "\n",
    "X_res_scaled_temeanimp = pd.DataFrame(X_res_scaled_temeanimp)"
   ]
  },
  {
   "cell_type": "code",
   "execution_count": 1863,
   "id": "0221ca5b",
   "metadata": {},
   "outputs": [
    {
     "data": {
      "text/html": [
       "<div>\n",
       "<style scoped>\n",
       "    .dataframe tbody tr th:only-of-type {\n",
       "        vertical-align: middle;\n",
       "    }\n",
       "\n",
       "    .dataframe tbody tr th {\n",
       "        vertical-align: top;\n",
       "    }\n",
       "\n",
       "    .dataframe thead th {\n",
       "        text-align: right;\n",
       "    }\n",
       "</style>\n",
       "<table border=\"1\" class=\"dataframe\">\n",
       "  <thead>\n",
       "    <tr style=\"text-align: right;\">\n",
       "      <th></th>\n",
       "      <th>0</th>\n",
       "      <th>1</th>\n",
       "      <th>2</th>\n",
       "      <th>3</th>\n",
       "      <th>4</th>\n",
       "      <th>5</th>\n",
       "      <th>6</th>\n",
       "      <th>7</th>\n",
       "    </tr>\n",
       "  </thead>\n",
       "  <tbody>\n",
       "    <tr>\n",
       "      <th>0</th>\n",
       "      <td>1.000000</td>\n",
       "      <td>0.597403</td>\n",
       "      <td>0.469388</td>\n",
       "      <td>0.271739</td>\n",
       "      <td>0.130316</td>\n",
       "      <td>0.386503</td>\n",
       "      <td>0.030303</td>\n",
       "      <td>0.431373</td>\n",
       "    </tr>\n",
       "    <tr>\n",
       "      <th>1</th>\n",
       "      <td>0.000000</td>\n",
       "      <td>0.344156</td>\n",
       "      <td>0.408163</td>\n",
       "      <td>0.315217</td>\n",
       "      <td>0.116598</td>\n",
       "      <td>0.380368</td>\n",
       "      <td>0.229501</td>\n",
       "      <td>0.078431</td>\n",
       "    </tr>\n",
       "    <tr>\n",
       "      <th>2</th>\n",
       "      <td>0.066667</td>\n",
       "      <td>0.467532</td>\n",
       "      <td>0.469388</td>\n",
       "      <td>0.228261</td>\n",
       "      <td>0.196493</td>\n",
       "      <td>0.188139</td>\n",
       "      <td>0.053030</td>\n",
       "      <td>0.000000</td>\n",
       "    </tr>\n",
       "    <tr>\n",
       "      <th>3</th>\n",
       "      <td>0.133333</td>\n",
       "      <td>0.402597</td>\n",
       "      <td>0.408163</td>\n",
       "      <td>0.304348</td>\n",
       "      <td>0.142661</td>\n",
       "      <td>0.251534</td>\n",
       "      <td>0.586007</td>\n",
       "      <td>0.254902</td>\n",
       "    </tr>\n",
       "    <tr>\n",
       "      <th>4</th>\n",
       "      <td>0.000000</td>\n",
       "      <td>0.512987</td>\n",
       "      <td>0.653061</td>\n",
       "      <td>0.326087</td>\n",
       "      <td>0.196493</td>\n",
       "      <td>0.347648</td>\n",
       "      <td>0.049911</td>\n",
       "      <td>0.156863</td>\n",
       "    </tr>\n",
       "    <tr>\n",
       "      <th>...</th>\n",
       "      <td>...</td>\n",
       "      <td>...</td>\n",
       "      <td>...</td>\n",
       "      <td>...</td>\n",
       "      <td>...</td>\n",
       "      <td>...</td>\n",
       "      <td>...</td>\n",
       "      <td>...</td>\n",
       "    </tr>\n",
       "    <tr>\n",
       "      <th>703</th>\n",
       "      <td>0.200000</td>\n",
       "      <td>0.898132</td>\n",
       "      <td>0.496721</td>\n",
       "      <td>0.224916</td>\n",
       "      <td>0.246883</td>\n",
       "      <td>0.354385</td>\n",
       "      <td>0.227798</td>\n",
       "      <td>0.261290</td>\n",
       "    </tr>\n",
       "    <tr>\n",
       "      <th>704</th>\n",
       "      <td>0.666667</td>\n",
       "      <td>0.733665</td>\n",
       "      <td>0.773292</td>\n",
       "      <td>0.231857</td>\n",
       "      <td>0.194234</td>\n",
       "      <td>0.409773</td>\n",
       "      <td>0.287538</td>\n",
       "      <td>0.431068</td>\n",
       "    </tr>\n",
       "    <tr>\n",
       "      <th>705</th>\n",
       "      <td>0.466667</td>\n",
       "      <td>0.409336</td>\n",
       "      <td>0.420290</td>\n",
       "      <td>0.211132</td>\n",
       "      <td>0.196493</td>\n",
       "      <td>0.212175</td>\n",
       "      <td>0.246399</td>\n",
       "      <td>0.197556</td>\n",
       "    </tr>\n",
       "    <tr>\n",
       "      <th>706</th>\n",
       "      <td>0.400000</td>\n",
       "      <td>0.971310</td>\n",
       "      <td>0.462152</td>\n",
       "      <td>0.235567</td>\n",
       "      <td>0.196493</td>\n",
       "      <td>0.241345</td>\n",
       "      <td>0.126407</td>\n",
       "      <td>0.198396</td>\n",
       "    </tr>\n",
       "    <tr>\n",
       "      <th>707</th>\n",
       "      <td>0.133333</td>\n",
       "      <td>0.767453</td>\n",
       "      <td>0.477363</td>\n",
       "      <td>0.235567</td>\n",
       "      <td>0.196493</td>\n",
       "      <td>0.389645</td>\n",
       "      <td>0.430762</td>\n",
       "      <td>0.247239</td>\n",
       "    </tr>\n",
       "  </tbody>\n",
       "</table>\n",
       "<p>708 rows × 8 columns</p>\n",
       "</div>"
      ],
      "text/plain": [
       "            0         1         2         3         4         5         6  \\\n",
       "0    1.000000  0.597403  0.469388  0.271739  0.130316  0.386503  0.030303   \n",
       "1    0.000000  0.344156  0.408163  0.315217  0.116598  0.380368  0.229501   \n",
       "2    0.066667  0.467532  0.469388  0.228261  0.196493  0.188139  0.053030   \n",
       "3    0.133333  0.402597  0.408163  0.304348  0.142661  0.251534  0.586007   \n",
       "4    0.000000  0.512987  0.653061  0.326087  0.196493  0.347648  0.049911   \n",
       "..        ...       ...       ...       ...       ...       ...       ...   \n",
       "703  0.200000  0.898132  0.496721  0.224916  0.246883  0.354385  0.227798   \n",
       "704  0.666667  0.733665  0.773292  0.231857  0.194234  0.409773  0.287538   \n",
       "705  0.466667  0.409336  0.420290  0.211132  0.196493  0.212175  0.246399   \n",
       "706  0.400000  0.971310  0.462152  0.235567  0.196493  0.241345  0.126407   \n",
       "707  0.133333  0.767453  0.477363  0.235567  0.196493  0.389645  0.430762   \n",
       "\n",
       "            7  \n",
       "0    0.431373  \n",
       "1    0.078431  \n",
       "2    0.000000  \n",
       "3    0.254902  \n",
       "4    0.156863  \n",
       "..        ...  \n",
       "703  0.261290  \n",
       "704  0.431068  \n",
       "705  0.197556  \n",
       "706  0.198396  \n",
       "707  0.247239  \n",
       "\n",
       "[708 rows x 8 columns]"
      ]
     },
     "execution_count": 1863,
     "metadata": {},
     "output_type": "execute_result"
    }
   ],
   "source": [
    "X_res_scaled_trmeanimp"
   ]
  },
  {
   "cell_type": "code",
   "execution_count": 1864,
   "id": "89c65097",
   "metadata": {},
   "outputs": [
    {
     "data": {
      "text/html": [
       "<div>\n",
       "<style scoped>\n",
       "    .dataframe tbody tr th:only-of-type {\n",
       "        vertical-align: middle;\n",
       "    }\n",
       "\n",
       "    .dataframe tbody tr th {\n",
       "        vertical-align: top;\n",
       "    }\n",
       "\n",
       "    .dataframe thead th {\n",
       "        text-align: right;\n",
       "    }\n",
       "</style>\n",
       "<table border=\"1\" class=\"dataframe\">\n",
       "  <thead>\n",
       "    <tr style=\"text-align: right;\">\n",
       "      <th></th>\n",
       "      <th>0</th>\n",
       "      <th>1</th>\n",
       "      <th>2</th>\n",
       "      <th>3</th>\n",
       "      <th>4</th>\n",
       "      <th>5</th>\n",
       "      <th>6</th>\n",
       "      <th>7</th>\n",
       "    </tr>\n",
       "  </thead>\n",
       "  <tbody>\n",
       "    <tr>\n",
       "      <th>0</th>\n",
       "      <td>0.466667</td>\n",
       "      <td>0.597403</td>\n",
       "      <td>0.510204</td>\n",
       "      <td>0.206522</td>\n",
       "      <td>0.164609</td>\n",
       "      <td>0.159509</td>\n",
       "      <td>0.250446</td>\n",
       "      <td>0.588235</td>\n",
       "    </tr>\n",
       "    <tr>\n",
       "      <th>1</th>\n",
       "      <td>0.066667</td>\n",
       "      <td>0.694805</td>\n",
       "      <td>0.367347</td>\n",
       "      <td>0.235567</td>\n",
       "      <td>0.196493</td>\n",
       "      <td>0.161554</td>\n",
       "      <td>0.041889</td>\n",
       "      <td>0.019608</td>\n",
       "    </tr>\n",
       "    <tr>\n",
       "      <th>2</th>\n",
       "      <td>0.400000</td>\n",
       "      <td>0.422078</td>\n",
       "      <td>0.367347</td>\n",
       "      <td>0.217391</td>\n",
       "      <td>0.196493</td>\n",
       "      <td>0.139059</td>\n",
       "      <td>0.053922</td>\n",
       "      <td>0.117647</td>\n",
       "    </tr>\n",
       "    <tr>\n",
       "      <th>3</th>\n",
       "      <td>0.200000</td>\n",
       "      <td>0.110390</td>\n",
       "      <td>0.591837</td>\n",
       "      <td>0.228261</td>\n",
       "      <td>0.196493</td>\n",
       "      <td>0.331288</td>\n",
       "      <td>0.070410</td>\n",
       "      <td>0.490196</td>\n",
       "    </tr>\n",
       "    <tr>\n",
       "      <th>4</th>\n",
       "      <td>0.066667</td>\n",
       "      <td>0.467532</td>\n",
       "      <td>0.551020</td>\n",
       "      <td>0.239130</td>\n",
       "      <td>0.226337</td>\n",
       "      <td>0.366053</td>\n",
       "      <td>0.183155</td>\n",
       "      <td>0.078431</td>\n",
       "    </tr>\n",
       "    <tr>\n",
       "      <th>...</th>\n",
       "      <td>...</td>\n",
       "      <td>...</td>\n",
       "      <td>...</td>\n",
       "      <td>...</td>\n",
       "      <td>...</td>\n",
       "      <td>...</td>\n",
       "      <td>...</td>\n",
       "      <td>...</td>\n",
       "    </tr>\n",
       "    <tr>\n",
       "      <th>226</th>\n",
       "      <td>0.266667</td>\n",
       "      <td>0.305195</td>\n",
       "      <td>0.469388</td>\n",
       "      <td>0.271739</td>\n",
       "      <td>0.100137</td>\n",
       "      <td>0.304703</td>\n",
       "      <td>0.160873</td>\n",
       "      <td>0.019608</td>\n",
       "    </tr>\n",
       "    <tr>\n",
       "      <th>227</th>\n",
       "      <td>0.066667</td>\n",
       "      <td>0.422078</td>\n",
       "      <td>0.142857</td>\n",
       "      <td>0.119565</td>\n",
       "      <td>0.144033</td>\n",
       "      <td>0.100204</td>\n",
       "      <td>0.143494</td>\n",
       "      <td>0.098039</td>\n",
       "    </tr>\n",
       "    <tr>\n",
       "      <th>228</th>\n",
       "      <td>0.066667</td>\n",
       "      <td>0.305195</td>\n",
       "      <td>0.306122</td>\n",
       "      <td>0.195652</td>\n",
       "      <td>0.116598</td>\n",
       "      <td>0.143149</td>\n",
       "      <td>0.066399</td>\n",
       "      <td>0.039216</td>\n",
       "    </tr>\n",
       "    <tr>\n",
       "      <th>229</th>\n",
       "      <td>0.666667</td>\n",
       "      <td>0.805195</td>\n",
       "      <td>0.510204</td>\n",
       "      <td>0.235567</td>\n",
       "      <td>0.196493</td>\n",
       "      <td>0.404908</td>\n",
       "      <td>0.201426</td>\n",
       "      <td>0.254902</td>\n",
       "    </tr>\n",
       "    <tr>\n",
       "      <th>230</th>\n",
       "      <td>0.600000</td>\n",
       "      <td>0.441558</td>\n",
       "      <td>0.591837</td>\n",
       "      <td>0.271739</td>\n",
       "      <td>0.219479</td>\n",
       "      <td>0.327198</td>\n",
       "      <td>0.077986</td>\n",
       "      <td>0.294118</td>\n",
       "    </tr>\n",
       "  </tbody>\n",
       "</table>\n",
       "<p>231 rows × 8 columns</p>\n",
       "</div>"
      ],
      "text/plain": [
       "            0         1         2         3         4         5         6  \\\n",
       "0    0.466667  0.597403  0.510204  0.206522  0.164609  0.159509  0.250446   \n",
       "1    0.066667  0.694805  0.367347  0.235567  0.196493  0.161554  0.041889   \n",
       "2    0.400000  0.422078  0.367347  0.217391  0.196493  0.139059  0.053922   \n",
       "3    0.200000  0.110390  0.591837  0.228261  0.196493  0.331288  0.070410   \n",
       "4    0.066667  0.467532  0.551020  0.239130  0.226337  0.366053  0.183155   \n",
       "..        ...       ...       ...       ...       ...       ...       ...   \n",
       "226  0.266667  0.305195  0.469388  0.271739  0.100137  0.304703  0.160873   \n",
       "227  0.066667  0.422078  0.142857  0.119565  0.144033  0.100204  0.143494   \n",
       "228  0.066667  0.305195  0.306122  0.195652  0.116598  0.143149  0.066399   \n",
       "229  0.666667  0.805195  0.510204  0.235567  0.196493  0.404908  0.201426   \n",
       "230  0.600000  0.441558  0.591837  0.271739  0.219479  0.327198  0.077986   \n",
       "\n",
       "            7  \n",
       "0    0.588235  \n",
       "1    0.019608  \n",
       "2    0.117647  \n",
       "3    0.490196  \n",
       "4    0.078431  \n",
       "..        ...  \n",
       "226  0.019608  \n",
       "227  0.098039  \n",
       "228  0.039216  \n",
       "229  0.254902  \n",
       "230  0.294118  \n",
       "\n",
       "[231 rows x 8 columns]"
      ]
     },
     "execution_count": 1864,
     "metadata": {},
     "output_type": "execute_result"
    }
   ],
   "source": [
    "X_res_scaled_temeanimp"
   ]
  },
  {
   "cell_type": "markdown",
   "id": "15f9fbc7",
   "metadata": {},
   "source": [
    "Time to rename the columns :-"
   ]
  },
  {
   "cell_type": "code",
   "execution_count": 1865,
   "id": "6a6e0a5d",
   "metadata": {},
   "outputs": [],
   "source": [
    "X_res_scaled_trmeanimp.columns = X_res_scaled_temeanimp.columns =\\\n",
    "[ 'preg','glu', 'bp', 'skinThickness', 'insulin', 'bmi', 'dpf', 'age']"
   ]
  },
  {
   "cell_type": "markdown",
   "id": "91a66a45",
   "metadata": {},
   "source": [
    "Now, we have the data preprocessed for applying various data mining techniques for prediction. So, let's apply different algorithms :"
   ]
  },
  {
   "cell_type": "markdown",
   "id": "747c7a7d",
   "metadata": {},
   "source": [
    "#### Naive Bayes Classifier :-"
   ]
  },
  {
   "cell_type": "code",
   "execution_count": 1875,
   "id": "16b59424",
   "metadata": {},
   "outputs": [
    {
     "data": {
      "text/plain": [
       "(77.05627705627705, 77.17969379532634)"
      ]
     },
     "execution_count": 1875,
     "metadata": {},
     "output_type": "execute_result"
    }
   ],
   "source": [
    "gnb_classifier = GaussianNB()\n",
    "\n",
    "gnb_classifier.fit(X_res_scaled_trmeanimp, y_res_imputed) \n",
    "\n",
    "y_pred = gnb_classifier.predict(X_res_scaled_temeanimp)\n",
    "\n",
    "accuracy_nb_normal_5 = accuracy_score(y_test, y_pred)*100\n",
    "auroc_nb_normal_5 = roc_auc_score(y_test, y_pred)*100\n",
    "\n",
    "accuracy_nb_normal_5, auroc_nb_normal_5"
   ]
  },
  {
   "cell_type": "markdown",
   "id": "2e8a8822",
   "metadata": {},
   "source": [
    "Below values will be used for plotting a bar-plot for comparison :-"
   ]
  },
  {
   "cell_type": "code",
   "execution_count": 1879,
   "id": "de33596a",
   "metadata": {},
   "outputs": [],
   "source": [
    "naiveBayesAcc5 = accuracy_nb_normal_5\n",
    "\n",
    "naiveBayesAuroc5 = auroc_nb_normal_5"
   ]
  },
  {
   "cell_type": "code",
   "execution_count": null,
   "id": "0e052588",
   "metadata": {},
   "outputs": [],
   "source": []
  },
  {
   "cell_type": "markdown",
   "id": "b8c8b086",
   "metadata": {},
   "source": [
    "#### KNN Technique :-"
   ]
  },
  {
   "cell_type": "code",
   "execution_count": 1884,
   "id": "52b3e733",
   "metadata": {},
   "outputs": [
    {
     "name": "stdout",
     "output_type": "stream",
     "text": [
      "77.92207792207793% is the accuracy score in percentage form with knn.\n"
     ]
    }
   ],
   "source": [
    "neigh = KNeighborsClassifier()\n",
    "\n",
    "neigh.fit(X_res_scaled_trmeanimp.values, y_res_imputed.values)\n",
    "\n",
    "y_pred = neigh.predict(X_res_scaled_temeanimp.values)\n",
    "\n",
    "accuracy_knn_normal_5 = accuracy_score(y_test, y_pred)*100\n",
    "\n",
    "auroc_knn_normal_5 = roc_auc_score(y_test, y_pred)*100\n",
    "\n",
    "print(f\"{accuracy_knn_normal_5}% is the accuracy score in percentage form with knn.\")"
   ]
  },
  {
   "cell_type": "code",
   "execution_count": 1885,
   "id": "13a915c6",
   "metadata": {},
   "outputs": [
    {
     "data": {
      "text/plain": [
       "78.60193392425462"
      ]
     },
     "execution_count": 1885,
     "metadata": {},
     "output_type": "execute_result"
    }
   ],
   "source": [
    "auroc_knn_normal_5"
   ]
  },
  {
   "cell_type": "code",
   "execution_count": null,
   "id": "fd3dd0c3",
   "metadata": {},
   "outputs": [],
   "source": []
  },
  {
   "cell_type": "markdown",
   "id": "260b548b",
   "metadata": {},
   "source": [
    "#### GridSearchCV (KNN) :-\n"
   ]
  },
  {
   "cell_type": "code",
   "execution_count": 1890,
   "id": "77430429",
   "metadata": {},
   "outputs": [
    {
     "name": "stdout",
     "output_type": "stream",
     "text": [
      "KNeighborsClassifier(n_neighbors=15, weights='distance') is the Best Estimator according to Exhaustive Hyperparameter search.\n",
      "\n",
      "80.08658008658008% is the accuracy score for the KNeighborsClassifier() using the best hyparameters suggested by GridSearchCV.\n",
      "81.29734085414988% is the auroc score for the KNeighborsClassifier() using the best hyparameters suggested by GridSearchCV.\n",
      "68.22429906542055% is the precision score for the KNeighborsClassifier() using the best hyparameters suggested by GridSearchCV.\n",
      "85.88235294117646% is the recall score for the KNeighborsClassifier() using the best hyparameters suggested by GridSearchCV.\n",
      "76.04166666666666% is the f1_score for the KNeighborsClassifier() using the best hyparameters suggested by GridSearchCV.\n"
     ]
    }
   ],
   "source": [
    "params_grid_dict = {\n",
    "    'n_neighbors' : np.array([i for i in range(5,35,2)]),\n",
    "    'weights': ['distance', 'uniform'],\n",
    "    'metric':['minkowski', 'euclidean']\n",
    "}\n",
    "\n",
    "neigh = KNeighborsClassifier()\n",
    "\n",
    "accuracy_knn_grid_5, auroc_knn_grid_5 = grid_search_cv(neigh,params_grid_dict,X_train=X_res_scaled_trmeanimp, \n",
    "                   y_train=y_res_imputed, X_test=X_res_scaled_temeanimp, y_test=y_test)"
   ]
  },
  {
   "cell_type": "markdown",
   "id": "0048e96b",
   "metadata": {},
   "source": [
    "#### RandomizedSearchCV (KNN)"
   ]
  },
  {
   "cell_type": "code",
   "execution_count": 1905,
   "id": "57badcb2",
   "metadata": {},
   "outputs": [
    {
     "name": "stdout",
     "output_type": "stream",
     "text": [
      "KNeighborsClassifier(metric='euclidean', n_neighbors=15, weights='distance') is the Best Estimator according to Randomized Hyperparameter search.\n",
      "\n",
      "80.08658008658008% is the accuracy score for KNeighborsClassifier() using the best hyparameters suggested by RandomizedSearchCV.\n",
      "81.29734085414988% is the auroc score for KNeighborsClassifier() using the best hyparameters suggested by RandomizedSearchCV.\n",
      "68.22429906542055% is the precision score for KNeighborsClassifier() using the best hyparameters suggested by RandomizedSearchCV.\n",
      "85.88235294117646% is the recall score for KNeighborsClassifier() using the best hyparameters suggested by RandomizedSearchCV.\n",
      "76.04166666666666% is the f1_score for KNeighborsClassifier() using the best hyparameters suggested by RandomizedSearchCV.\n"
     ]
    }
   ],
   "source": [
    "neigh = KNeighborsClassifier()\n",
    "\n",
    "params_grid_dict = {\n",
    "    # Increasing the range of n_neighbors to maybe find a better set of hyperparameters.\n",
    "    'n_neighbors' : np.array([i for i in range(5,50,2)]), \n",
    "    'weights': ['distance', 'uniform'],\n",
    "    'metric':['minkowski', 'euclidean']\n",
    "}\n",
    "\n",
    "accuracy_knn_random_5, auroc_knn_random_5 = randomized_search_cv(neigh,params_grid_dict,X_train=X_res_scaled_trmeanimp, \n",
    "                   y_train=y_res_imputed, X_test=X_res_scaled_temeanimp, y_test=y_test, n_iter=50)"
   ]
  },
  {
   "cell_type": "markdown",
   "id": "a3700d28",
   "metadata": {},
   "source": [
    "Below are the values for Accuracy and Auroc score for KNN, to be used for Bar plot for comparison :-"
   ]
  },
  {
   "cell_type": "code",
   "execution_count": 1906,
   "id": "68111d3c",
   "metadata": {},
   "outputs": [],
   "source": [
    "knnAccuracy5 = max(accuracy_knn_normal_5, accuracy_knn_grid_5, accuracy_knn_random_5)\n",
    "\n",
    "knnAuroc5 = max(auroc_knn_normal_5, auroc_knn_grid_5, auroc_knn_random_5)"
   ]
  },
  {
   "cell_type": "code",
   "execution_count": null,
   "id": "e37c13bc",
   "metadata": {},
   "outputs": [],
   "source": []
  },
  {
   "cell_type": "markdown",
   "id": "98f1b70d",
   "metadata": {},
   "source": [
    "### Logistic Regression :-\n"
   ]
  },
  {
   "cell_type": "code",
   "execution_count": 1908,
   "id": "de7554f5",
   "metadata": {},
   "outputs": [
    {
     "name": "stdout",
     "output_type": "stream",
     "text": [
      "80.08658008658008% is the accuracy score in percentage form with LogisticRegression.\n"
     ]
    }
   ],
   "source": [
    "logistic_regression = LogisticRegression(max_iter=200)\n",
    "\n",
    "logistic_regression.fit(X_res_scaled_trmeanimp, y_res_imputed)\n",
    "\n",
    "# Predicting the X_test_scaled_res datapoints :\n",
    "y_pred = logistic_regression.predict(X_res_scaled_temeanimp)\n",
    "\n",
    "accuracy_lr_normal_5 = accuracy_score(y_test, y_pred)*100\n",
    "\n",
    "auroc_lr_normal_5 = roc_auc_score(y_test, y_pred)*100\n",
    "\n",
    "print(f\"{accuracy_lr_normal_5}% is the accuracy score in percentage form with LogisticRegression.\")"
   ]
  },
  {
   "cell_type": "code",
   "execution_count": null,
   "id": "18674ca7",
   "metadata": {},
   "outputs": [],
   "source": []
  },
  {
   "cell_type": "markdown",
   "id": "9419d5ca",
   "metadata": {},
   "source": [
    "#### GridSearchCV (LogisticRegression) :-"
   ]
  },
  {
   "cell_type": "code",
   "execution_count": 1909,
   "id": "3da5558f",
   "metadata": {},
   "outputs": [
    {
     "name": "stdout",
     "output_type": "stream",
     "text": [
      "LogisticRegression(C=0.615848211066026, penalty='l1', solver='saga') is the Best Estimator according to Exhaustive Hyperparameter search.\n",
      "\n",
      "79.65367965367966% is the accuracy score for the LogisticRegression() using the best hyparameters suggested by GridSearchCV.\n",
      "79.48025785656728% is the auroc score for the LogisticRegression() using the best hyparameters suggested by GridSearchCV.\n",
      "69.79166666666666% is the precision score for the LogisticRegression() using the best hyparameters suggested by GridSearchCV.\n",
      "78.82352941176471% is the recall score for the LogisticRegression() using the best hyparameters suggested by GridSearchCV.\n",
      "74.03314917127071% is the f1_score for the LogisticRegression() using the best hyparameters suggested by GridSearchCV.\n"
     ]
    }
   ],
   "source": [
    "logistic_regression = LogisticRegression()\n",
    "\n",
    "params_grid_dict = {\n",
    "    'penalty' : ['l1', 'l2', 'elasticnet', 'none'],\n",
    "    'max_iter' : [100, 1000,2500, 5000],\n",
    "    'C' : np.logspace(-4, 4, 20),\n",
    "    'solver' : ['lbfgs','newton-cg','liblinear','sag','saga'],\n",
    "    \n",
    "}\n",
    "\n",
    "accuracy_lr_grid_5, auroc_lr_grid_5 = grid_search_cv(logistic_regression, params_grid_dict, \n",
    "               X_train=X_res_scaled_trmeanimp,\n",
    "               y_train = y_res_imputed,\n",
    "               X_test = X_res_scaled_temeanimp,\n",
    "               y_test = y_test) \n"
   ]
  },
  {
   "cell_type": "markdown",
   "id": "85a4eaaa",
   "metadata": {},
   "source": [
    "#### RandomizedSearchCV (LogisticRegression) :-"
   ]
  },
  {
   "cell_type": "code",
   "execution_count": 1931,
   "id": "daf03a5c",
   "metadata": {},
   "outputs": [
    {
     "name": "stdout",
     "output_type": "stream",
     "text": [
      "LogisticRegression(C=37.92690190732238, max_iter=1000, solver='newton-cg') is the Best Estimator according to Randomized Hyperparameter search.\n",
      "\n",
      "79.22077922077922% is the accuracy score for LogisticRegression() using the best hyparameters suggested by RandomizedSearchCV.\n",
      "78.89202256244964% is the auroc score for LogisticRegression() using the best hyparameters suggested by RandomizedSearchCV.\n",
      "69.47368421052632% is the precision score for LogisticRegression() using the best hyparameters suggested by RandomizedSearchCV.\n",
      "77.64705882352942% is the recall score for LogisticRegression() using the best hyparameters suggested by RandomizedSearchCV.\n",
      "73.33333333333334% is the f1_score for LogisticRegression() using the best hyparameters suggested by RandomizedSearchCV.\n"
     ]
    }
   ],
   "source": [
    "logistic_regression = LogisticRegression()\n",
    "\n",
    "params_grid_dict = {\n",
    "    'penalty' : ['l1', 'l2', 'elasticnet', 'none'],\n",
    "    'max_iter' : [50,70,80,100,1000,2500,5000, ],\n",
    "    'C' : np.logspace(-10, 10, 20),\n",
    "    'solver' : ['lbfgs','newton-cg','liblinear','sag','saga'],\n",
    "    \n",
    "}\n",
    "\n",
    "accuracy_lr_random_5, auroc_lr_random_5 = randomized_search_cv(logistic_regression,params_grid_dict,X_train=X_res_scaled_trmeanimp, \n",
    "                   y_train=y_res_imputed, X_test=X_res_scaled_temeanimp, y_test=y_test, n_iter=50)"
   ]
  },
  {
   "cell_type": "markdown",
   "id": "52bc00ea",
   "metadata": {},
   "source": [
    "Below values are to be used for comparison purpose in the bar plot :-"
   ]
  },
  {
   "cell_type": "code",
   "execution_count": 1932,
   "id": "e01288a8",
   "metadata": {},
   "outputs": [],
   "source": [
    "logisticRegressionAcc5 = max(accuracy_lr_normal_5, accuracy_lr_grid_5, accuracy_lr_random_5)\n",
    "\n",
    "logisticRegressionAuroc5 = max(auroc_lr_normal_5, auroc_lr_grid_5, auroc_lr_random_5)"
   ]
  },
  {
   "cell_type": "code",
   "execution_count": null,
   "id": "0180fc1f",
   "metadata": {},
   "outputs": [],
   "source": []
  },
  {
   "cell_type": "markdown",
   "id": "0a18c7ef",
   "metadata": {},
   "source": [
    "#### Decision Tree Classifier :-"
   ]
  },
  {
   "cell_type": "code",
   "execution_count": 1934,
   "id": "cb39d291",
   "metadata": {},
   "outputs": [
    {
     "name": "stdout",
     "output_type": "stream",
     "text": [
      "68.83116883116884% is the accuracy score in percentage form with DecisionTreesTechnique.\n"
     ]
    }
   ],
   "source": [
    "decision_tree = DecisionTreeClassifier(random_state=42)\n",
    "\n",
    "decision_tree.fit(X_res_imputed, y_res_imputed)\n",
    "\n",
    "y_pred = decision_tree.predict(X_test_imputed)\n",
    "\n",
    "accuracy_dt_normal_5 = accuracy_score(y_test, y_pred)*100\n",
    "\n",
    "auroc_dt_normal_5 = roc_auc_score(y_test, y_pred)*100\n",
    "\n",
    "print(f\"{accuracy_dt_normal_5}% is the accuracy score in percentage form with DecisionTreesTechnique.\")"
   ]
  },
  {
   "cell_type": "code",
   "execution_count": null,
   "id": "33cc9889",
   "metadata": {},
   "outputs": [],
   "source": []
  },
  {
   "cell_type": "markdown",
   "id": "0ec95eb1",
   "metadata": {},
   "source": [
    "#### GridSearchCV (DecisionTrees) :-"
   ]
  },
  {
   "cell_type": "code",
   "execution_count": 1935,
   "id": "e5b4ad8c",
   "metadata": {},
   "outputs": [
    {
     "name": "stdout",
     "output_type": "stream",
     "text": [
      "DecisionTreeClassifier(criterion='entropy', max_depth=8,\n",
      "                       min_impurity_decrease=0.01, min_samples_split=80) is the Best Estimator according to Exhaustive Hyperparameter search.\n",
      "\n",
      "76.62337662337663% is the accuracy score for the DecisionTreeClassifier() using the best hyparameters suggested by GridSearchCV.\n",
      "78.06607574536665% is the auroc score for the DecisionTreeClassifier() using the best hyparameters suggested by GridSearchCV.\n",
      "63.96396396396396% is the precision score for the DecisionTreeClassifier() using the best hyparameters suggested by GridSearchCV.\n",
      "83.52941176470588% is the recall score for the DecisionTreeClassifier() using the best hyparameters suggested by GridSearchCV.\n",
      "72.44897959183673% is the f1_score for the DecisionTreeClassifier() using the best hyparameters suggested by GridSearchCV.\n"
     ]
    }
   ],
   "source": [
    "decision_tree = DecisionTreeClassifier()\n",
    "\n",
    "params_grid_dict = {\n",
    "    'max_depth' : np.array([i for i in range(2,20)]),\n",
    "    'criterion' : np.array(['gini', 'entropy']),\n",
    "    'min_impurity_decrease': np.arange(0.01, 0.06, 0.01),\n",
    "    'min_samples_split': np.arange(10,100,10) \n",
    "}\n",
    "\n",
    "accuracy_dt_grid_5, auroc_dt_grid_5  = grid_search_cv(decision_tree, params_grid_dict, \n",
    "               X_train=X_res_imputed,\n",
    "               y_train = y_res_imputed,\n",
    "               X_test = X_test_imputed,\n",
    "               y_test = y_test)  "
   ]
  },
  {
   "cell_type": "code",
   "execution_count": null,
   "id": "3eacba87",
   "metadata": {},
   "outputs": [],
   "source": []
  },
  {
   "cell_type": "markdown",
   "id": "431ab639",
   "metadata": {},
   "source": [
    "#### RandomizedSearchCV (DecisionTrees) :-"
   ]
  },
  {
   "cell_type": "code",
   "execution_count": 1950,
   "id": "bed8b171",
   "metadata": {},
   "outputs": [
    {
     "name": "stdout",
     "output_type": "stream",
     "text": [
      "DecisionTreeClassifier(criterion='entropy', max_depth=21,\n",
      "                       min_impurity_decrease=0.01, min_samples_split=70) is the Best Estimator according to Randomized Hyperparameter search.\n",
      "\n",
      "76.62337662337663% is the accuracy score for DecisionTreeClassifier() using the best hyparameters suggested by RandomizedSearchCV.\n",
      "78.06607574536665% is the auroc score for DecisionTreeClassifier() using the best hyparameters suggested by RandomizedSearchCV.\n",
      "63.96396396396396% is the precision score for DecisionTreeClassifier() using the best hyparameters suggested by RandomizedSearchCV.\n",
      "83.52941176470588% is the recall score for DecisionTreeClassifier() using the best hyparameters suggested by RandomizedSearchCV.\n",
      "72.44897959183673% is the f1_score for DecisionTreeClassifier() using the best hyparameters suggested by RandomizedSearchCV.\n"
     ]
    }
   ],
   "source": [
    "decision_tree = DecisionTreeClassifier()\n",
    "\n",
    "params_grid_dict = {\n",
    "    'max_depth' : np.array([i for i in range(2,30)]),\n",
    "    'criterion' : np.array(['gini', 'entropy']),\n",
    "    'min_impurity_decrease': np.arange(0.01, 1.10, 0.01),\n",
    "    'min_samples_split': np.arange(10,100,10) \n",
    "}\n",
    "\n",
    "accuracy_dt_random_5, auroc_dt_random_5 = randomized_search_cv(decision_tree,params_grid_dict,X_train=X_res_imputed, \n",
    "                   y_train=y_res_imputed, X_test=X_test_imputed, y_test=y_test, n_iter=50)"
   ]
  },
  {
   "cell_type": "markdown",
   "id": "4eef6d23",
   "metadata": {},
   "source": [
    "Below values are to be used for comparison purpose in the bar plot :-"
   ]
  },
  {
   "cell_type": "code",
   "execution_count": 1951,
   "id": "38c60ce3",
   "metadata": {},
   "outputs": [],
   "source": [
    "decisionTreeAcc5 = max(accuracy_dt_normal_5, accuracy_dt_grid_5, accuracy_dt_random_5)\n",
    "\n",
    "decisionTreeAuroc5 = max(auroc_dt_normal_5, auroc_dt_grid_5, auroc_dt_random_5)"
   ]
  },
  {
   "cell_type": "code",
   "execution_count": null,
   "id": "f5bb5c22",
   "metadata": {},
   "outputs": [],
   "source": []
  },
  {
   "cell_type": "markdown",
   "id": "e0c897c0",
   "metadata": {},
   "source": [
    "### Support Vector Machine :-"
   ]
  },
  {
   "cell_type": "code",
   "execution_count": 1952,
   "id": "05a2bff2",
   "metadata": {},
   "outputs": [
    {
     "name": "stdout",
     "output_type": "stream",
     "text": [
      "80.95238095238095% is the accuracy score in percentage form with SVM technique.\n"
     ]
    }
   ],
   "source": [
    "svc_model = SVC()\n",
    "svc_model.fit(X_res_scaled_trmeanimp, y_res_imputed)\n",
    "\n",
    "# Predicting the X_test :\n",
    "y_pred = svc_model.predict(X_res_scaled_temeanimp)\n",
    "\n",
    "accuracy_svm_normal_5 = accuracy_score(y_test, y_pred)*100\n",
    "\n",
    "auroc_svm_normal_5 = roc_auc_score(y_test, y_pred)*100\n",
    "\n",
    "print(f\"{accuracy_svm_normal_5}% is the accuracy score in percentage form with SVM technique.\")"
   ]
  },
  {
   "cell_type": "code",
   "execution_count": 1953,
   "id": "3ebffcb6",
   "metadata": {},
   "outputs": [
    {
     "data": {
      "text/plain": [
       "80.26188557614826"
      ]
     },
     "execution_count": 1953,
     "metadata": {},
     "output_type": "execute_result"
    }
   ],
   "source": [
    "auroc_svm_normal_5"
   ]
  },
  {
   "cell_type": "code",
   "execution_count": null,
   "id": "5ae50164",
   "metadata": {},
   "outputs": [],
   "source": []
  },
  {
   "cell_type": "markdown",
   "id": "cd3b1d37",
   "metadata": {},
   "source": [
    "#### GridSearchCV (SVM):-"
   ]
  },
  {
   "cell_type": "code",
   "execution_count": 1954,
   "id": "04886c2c",
   "metadata": {},
   "outputs": [
    {
     "name": "stdout",
     "output_type": "stream",
     "text": [
      "SVC(C=0.1, kernel='poly') is the Best Estimator according to Exhaustive Hyperparameter search.\n",
      "\n",
      "81.81818181818183% is the accuracy score for the SVC() using the best hyparameters suggested by GridSearchCV.\n",
      "79.96373892022562% is the auroc score for the SVC() using the best hyparameters suggested by GridSearchCV.\n",
      "76.5432098765432% is the precision score for the SVC() using the best hyparameters suggested by GridSearchCV.\n",
      "72.94117647058823% is the recall score for the SVC() using the best hyparameters suggested by GridSearchCV.\n",
      "74.69879518072288% is the f1_score for the SVC() using the best hyparameters suggested by GridSearchCV.\n"
     ]
    }
   ],
   "source": [
    "svc_model = SVC()\n",
    "\n",
    "param_grid_dict = {\n",
    "    'C':[0.1, 1, 10, 100],\n",
    "   'kernel' : ['rbf', 'poly','sigmoid']\n",
    "}\n",
    "\n",
    "accuracy_svm_grid_5, auroc_svm_grid_5 = grid_search_cv(svc_model, param_grid_dict, \n",
    "               X_train=X_res_scaled_trmeanimp,\n",
    "               y_train = y_res_imputed,\n",
    "               X_test = X_res_scaled_temeanimp,\n",
    "               y_test = y_test)"
   ]
  },
  {
   "cell_type": "code",
   "execution_count": null,
   "id": "ccafc10c",
   "metadata": {},
   "outputs": [],
   "source": []
  },
  {
   "cell_type": "markdown",
   "id": "ea6d4ebb",
   "metadata": {},
   "source": [
    "#### RandomizedSearchCV (SVM) :-"
   ]
  },
  {
   "cell_type": "code",
   "execution_count": 1955,
   "id": "45c89b60",
   "metadata": {},
   "outputs": [
    {
     "name": "stdout",
     "output_type": "stream",
     "text": [
      "SVC(C=0.1, kernel='poly') is the Best Estimator according to Randomized Hyperparameter search.\n",
      "\n",
      "81.81818181818183% is the accuracy score for SVC() using the best hyparameters suggested by RandomizedSearchCV.\n",
      "79.96373892022562% is the auroc score for SVC() using the best hyparameters suggested by RandomizedSearchCV.\n",
      "76.5432098765432% is the precision score for SVC() using the best hyparameters suggested by RandomizedSearchCV.\n",
      "72.94117647058823% is the recall score for SVC() using the best hyparameters suggested by RandomizedSearchCV.\n",
      "74.69879518072288% is the f1_score for SVC() using the best hyparameters suggested by RandomizedSearchCV.\n"
     ]
    }
   ],
   "source": [
    "svc_model = SVC()\n",
    "\n",
    "param_grid_dict = {\n",
    "    'C':[0.1, 1, 10, 100, 1000],\n",
    "    'kernel' : ['rbf', 'poly','sigmoid', 'linear'],\n",
    "    }\n",
    "\n",
    "accuracy_svm_random_5, auroc_svm_random_5  = randomized_search_cv(svc_model,param_grid_dict,X_train=X_res_scaled_trmeanimp, \n",
    "                   y_train=y_res_imputed, X_test=X_res_scaled_temeanimp, y_test=y_test)"
   ]
  },
  {
   "cell_type": "code",
   "execution_count": 1957,
   "id": "e3286a37",
   "metadata": {},
   "outputs": [],
   "source": [
    "svmAcc5 = max(accuracy_svm_normal_5, accuracy_svm_grid_5, accuracy_svm_random_5)\n",
    "\n",
    "svmAuroc5 = max(auroc_svm_normal_5, auroc_svm_grid_5, auroc_svm_random_5)"
   ]
  },
  {
   "cell_type": "code",
   "execution_count": null,
   "id": "8b34283d",
   "metadata": {},
   "outputs": [],
   "source": []
  },
  {
   "cell_type": "markdown",
   "id": "d39ac1e6",
   "metadata": {},
   "source": [
    "### RandomForestClassifier :-"
   ]
  },
  {
   "cell_type": "code",
   "execution_count": 1958,
   "id": "fae811d9",
   "metadata": {},
   "outputs": [
    {
     "name": "stdout",
     "output_type": "stream",
     "text": [
      "80.95238095238095% is the accuracy score in percentage form with RandomForestClassifier technique.\n"
     ]
    }
   ],
   "source": [
    "random_forest = RandomForestClassifier(random_state=42)\n",
    "\n",
    "random_forest.fit(X_res_imputed, y_res_imputed)\n",
    "\n",
    "y_pred = random_forest.predict(X_test_imputed)\n",
    "\n",
    "accuracy_rf_normal_5 = accuracy_score(y_test, y_pred)*100\n",
    "\n",
    "auroc_rf_normal_5 = roc_auc_score(y_test, y_pred)*100\n",
    "\n",
    "print(f\"{accuracy_rf_normal_5}% is the accuracy score in percentage form with RandomForestClassifier technique.\")"
   ]
  },
  {
   "cell_type": "code",
   "execution_count": 1959,
   "id": "0a36623b",
   "metadata": {},
   "outputs": [
    {
     "data": {
      "text/plain": [
       "80.26188557614826"
      ]
     },
     "execution_count": 1959,
     "metadata": {},
     "output_type": "execute_result"
    }
   ],
   "source": [
    "auroc_rf_normal_5"
   ]
  },
  {
   "cell_type": "code",
   "execution_count": null,
   "id": "895f9cd9",
   "metadata": {},
   "outputs": [],
   "source": []
  },
  {
   "cell_type": "markdown",
   "id": "8836264a",
   "metadata": {},
   "source": [
    "#### GridSearchCV (RandomForestClassifier) :-"
   ]
  },
  {
   "cell_type": "code",
   "execution_count": 1960,
   "id": "1ed3fb3a",
   "metadata": {},
   "outputs": [
    {
     "name": "stdout",
     "output_type": "stream",
     "text": [
      "RandomForestClassifier(max_depth=7, n_estimators=70) is the Best Estimator according to Exhaustive Hyperparameter search.\n",
      "\n",
      "79.65367965367966% is the accuracy score for the RandomForestClassifier() using the best hyparameters suggested by GridSearchCV.\n",
      "79.48025785656728% is the auroc score for the RandomForestClassifier() using the best hyparameters suggested by GridSearchCV.\n",
      "69.79166666666666% is the precision score for the RandomForestClassifier() using the best hyparameters suggested by GridSearchCV.\n",
      "78.82352941176471% is the recall score for the RandomForestClassifier() using the best hyparameters suggested by GridSearchCV.\n",
      "74.03314917127071% is the f1_score for the RandomForestClassifier() using the best hyparameters suggested by GridSearchCV.\n"
     ]
    }
   ],
   "source": [
    "random_forest = RandomForestClassifier()\n",
    "\n",
    "param_grid_dict = {\n",
    "    'max_depth':[2,3,4,5,6,7],\n",
    "    'n_estimators':[10, 20, 25, 30, 35, 40, 50, 60, 70, 80, 90, 100],\n",
    "}\n",
    "\n",
    "accuracy_rf_grid_5, auroc_rf_grid_5 = grid_search_cv(random_forest, param_grid_dict, \n",
    "               X_train=X_res_imputed,\n",
    "               y_train = y_res_imputed,\n",
    "               X_test = X_test_imputed,\n",
    "               y_test = y_test)"
   ]
  },
  {
   "cell_type": "code",
   "execution_count": null,
   "id": "4a45803f",
   "metadata": {},
   "outputs": [],
   "source": []
  },
  {
   "cell_type": "markdown",
   "id": "4fab3c6f",
   "metadata": {},
   "source": [
    "#### RandomizedSearchCV (RandomForestClassifier) :-"
   ]
  },
  {
   "cell_type": "code",
   "execution_count": 1967,
   "id": "91d9b9bc",
   "metadata": {},
   "outputs": [
    {
     "name": "stdout",
     "output_type": "stream",
     "text": [
      "RandomForestClassifier(max_depth=15, min_impurity_decrease=0.01,\n",
      "                       min_samples_split=30, n_estimators=30) is the Best Estimator according to Randomized Hyperparameter search.\n",
      "\n",
      "82.68398268398268% is the accuracy score for RandomForestClassifier() using the best hyparameters suggested by RandomizedSearchCV.\n",
      "83.35213537469784% is the auroc score for RandomForestClassifier() using the best hyparameters suggested by RandomizedSearchCV.\n",
      "72.27722772277228% is the precision score for RandomForestClassifier() using the best hyparameters suggested by RandomizedSearchCV.\n",
      "85.88235294117646% is the recall score for RandomForestClassifier() using the best hyparameters suggested by RandomizedSearchCV.\n",
      "78.49462365591398% is the f1_score for RandomForestClassifier() using the best hyparameters suggested by RandomizedSearchCV.\n"
     ]
    }
   ],
   "source": [
    "random_forest = RandomForestClassifier()\n",
    "\n",
    "params_grid_dict = {\n",
    "    'max_depth':np.arange(1,40),\n",
    "    'n_estimators':np.arange(30,161,20),\n",
    "    'min_impurity_decrease': np.arange(0.01, 0.06, 0.01),\n",
    "    'min_samples_split': np.arange(10,100,10) \n",
    "}\n",
    "\n",
    "accuracy_rf_random_5, auroc_rf_random_5 = randomized_search_cv(random_forest, params_grid_dict, X_train=X_res_imputed,\n",
    "                    y_train=y_res_imputed, X_test=X_test_imputed, y_test=y_test, n_iter=50)"
   ]
  },
  {
   "cell_type": "code",
   "execution_count": 1979,
   "id": "37996ce5",
   "metadata": {},
   "outputs": [
    {
     "name": "stdout",
     "output_type": "stream",
     "text": [
      "RandomForestClassifier(max_depth=34, min_impurity_decrease=0.01,\n",
      "                       min_samples_split=30, n_estimators=150) is the Best Estimator according to Randomized Hyperparameter search.\n",
      "\n",
      "83.11688311688312% is the accuracy score for RandomForestClassifier() using the best hyparameters suggested by RandomizedSearchCV.\n",
      "83.4488315874295% is the auroc score for RandomForestClassifier() using the best hyparameters suggested by RandomizedSearchCV.\n",
      "73.46938775510205% is the precision score for RandomForestClassifier() using the best hyparameters suggested by RandomizedSearchCV.\n",
      "84.70588235294117% is the recall score for RandomForestClassifier() using the best hyparameters suggested by RandomizedSearchCV.\n",
      "78.68852459016394% is the f1_score for RandomForestClassifier() using the best hyparameters suggested by RandomizedSearchCV.\n"
     ]
    }
   ],
   "source": [
    "random_forest = RandomForestClassifier()\n",
    "\n",
    "params_grid_dict = {\n",
    "    'max_depth':np.arange(1,40),\n",
    "    'n_estimators':np.arange(30,161,20),\n",
    "    'min_impurity_decrease': np.arange(0.01, 0.06, 0.01),\n",
    "    'min_samples_split': np.arange(10,100,10) \n",
    "}\n",
    "\n",
    "accuracy_rf_random_6, auroc_rf_random_6 = randomized_search_cv(random_forest, params_grid_dict, X_train=X_res_imputed,\n",
    "                    y_train=y_res_imputed, X_test=X_test_imputed, y_test=y_test, n_iter=50)"
   ]
  },
  {
   "cell_type": "code",
   "execution_count": 1995,
   "id": "eee1d1d1",
   "metadata": {},
   "outputs": [
    {
     "name": "stdout",
     "output_type": "stream",
     "text": [
      "RandomForestClassifier(max_depth=21, min_impurity_decrease=0.01,\n",
      "                       min_samples_split=20, n_estimators=50) is the Best Estimator according to Randomized Hyperparameter search.\n",
      "\n",
      "83.11688311688312% is the accuracy score for RandomForestClassifier() using the best hyparameters suggested by RandomizedSearchCV.\n",
      "82.95729250604352% is the auroc score for RandomForestClassifier() using the best hyparameters suggested by RandomizedSearchCV.\n",
      "74.46808510638297% is the precision score for RandomForestClassifier() using the best hyparameters suggested by RandomizedSearchCV.\n",
      "82.35294117647058% is the recall score for RandomForestClassifier() using the best hyparameters suggested by RandomizedSearchCV.\n",
      "78.21229050279331% is the f1_score for RandomForestClassifier() using the best hyparameters suggested by RandomizedSearchCV.\n"
     ]
    }
   ],
   "source": [
    "random_forest = RandomForestClassifier()\n",
    "\n",
    "params_grid_dict = {\n",
    "    'max_depth':np.arange(1,40),\n",
    "    'n_estimators':np.arange(30,161,20),\n",
    "    'min_impurity_decrease': np.arange(0.01, 0.06, 0.01),\n",
    "    'min_samples_split': np.arange(10,100,10) \n",
    "}\n",
    "\n",
    "accuracy_rf_random_7, auroc_rf_random_7 = randomized_search_cv(random_forest, params_grid_dict, X_train=X_res_imputed,\n",
    "                    y_train=y_res_imputed, X_test=X_test_imputed, y_test=y_test, n_iter=75)"
   ]
  },
  {
   "cell_type": "code",
   "execution_count": 2004,
   "id": "55a0cfba",
   "metadata": {},
   "outputs": [
    {
     "name": "stdout",
     "output_type": "stream",
     "text": [
      "RandomForestClassifier(max_depth=37, min_impurity_decrease=0.01,\n",
      "                       min_samples_split=40, n_estimators=50) is the Best Estimator according to Randomized Hyperparameter search.\n",
      "\n",
      "83.11688311688312% is the accuracy score for RandomForestClassifier() using the best hyparameters suggested by RandomizedSearchCV.\n",
      "83.69460112812249% is the auroc score for RandomForestClassifier() using the best hyparameters suggested by RandomizedSearchCV.\n",
      "73.0% is the precision score for RandomForestClassifier() using the best hyparameters suggested by RandomizedSearchCV.\n",
      "85.88235294117646% is the recall score for RandomForestClassifier() using the best hyparameters suggested by RandomizedSearchCV.\n",
      "78.9189189189189% is the f1_score for RandomForestClassifier() using the best hyparameters suggested by RandomizedSearchCV.\n"
     ]
    }
   ],
   "source": [
    "random_forest = RandomForestClassifier()\n",
    "\n",
    "params_grid_dict = {\n",
    "    'max_depth':np.arange(1,40),\n",
    "    'n_estimators':np.arange(30,161,20),\n",
    "    'min_impurity_decrease': np.arange(0.01, 0.06, 0.01),\n",
    "    'min_samples_split': np.arange(10,100,10) \n",
    "}\n",
    "\n",
    "accuracy_rf_random_8, auroc_rf_random_8 = randomized_search_cv(random_forest, params_grid_dict, X_train=X_res_imputed,\n",
    "                    y_train=y_res_imputed, X_test=X_test_imputed, y_test=y_test, n_iter=85)"
   ]
  },
  {
   "cell_type": "code",
   "execution_count": 2015,
   "id": "ef3d4d19",
   "metadata": {},
   "outputs": [
    {
     "name": "stdout",
     "output_type": "stream",
     "text": [
      "RandomForestClassifier(max_depth=13, min_impurity_decrease=0.01,\n",
      "                       min_samples_split=40, n_estimators=90) is the Best Estimator according to Randomized Hyperparameter search.\n",
      "\n",
      "83.54978354978356% is the accuracy score for RandomForestClassifier() using the best hyparameters suggested by RandomizedSearchCV.\n",
      "83.79129734085414% is the auroc score for RandomForestClassifier() using the best hyparameters suggested by RandomizedSearchCV.\n",
      "74.22680412371135% is the precision score for RandomForestClassifier() using the best hyparameters suggested by RandomizedSearchCV.\n",
      "84.70588235294117% is the recall score for RandomForestClassifier() using the best hyparameters suggested by RandomizedSearchCV.\n",
      "79.12087912087912% is the f1_score for RandomForestClassifier() using the best hyparameters suggested by RandomizedSearchCV.\n"
     ]
    }
   ],
   "source": [
    "random_forest = RandomForestClassifier()\n",
    "\n",
    "params_grid_dict = {\n",
    "    'max_depth':np.arange(1,40),\n",
    "    'n_estimators':np.arange(30,161,20),\n",
    "    'min_impurity_decrease': np.arange(0.01, 0.06, 0.01),\n",
    "    'min_samples_split': np.arange(10,100,10) \n",
    "}\n",
    "\n",
    "accuracy_rf_random_9, auroc_rf_random_9 = randomized_search_cv(random_forest, params_grid_dict, X_train=X_res_imputed,\n",
    "                    y_train=y_res_imputed, X_test=X_test_imputed, y_test=y_test, n_iter=100)"
   ]
  },
  {
   "cell_type": "code",
   "execution_count": null,
   "id": "bf7ac2df",
   "metadata": {},
   "outputs": [],
   "source": []
  },
  {
   "cell_type": "code",
   "execution_count": null,
   "id": "4d9c6921",
   "metadata": {},
   "outputs": [],
   "source": []
  },
  {
   "cell_type": "code",
   "execution_count": null,
   "id": "b78cc466",
   "metadata": {},
   "outputs": [],
   "source": []
  },
  {
   "cell_type": "code",
   "execution_count": null,
   "id": "c3e330e1",
   "metadata": {},
   "outputs": [],
   "source": []
  },
  {
   "cell_type": "code",
   "execution_count": null,
   "id": "08067e00",
   "metadata": {},
   "outputs": [],
   "source": []
  }
 ],
 "metadata": {
  "kernelspec": {
   "display_name": "Python 3 (ipykernel)",
   "language": "python",
   "name": "python3"
  },
  "language_info": {
   "codemirror_mode": {
    "name": "ipython",
    "version": 3
   },
   "file_extension": ".py",
   "mimetype": "text/x-python",
   "name": "python",
   "nbconvert_exporter": "python",
   "pygments_lexer": "ipython3",
   "version": "3.9.6"
  }
 },
 "nbformat": 4,
 "nbformat_minor": 5
}
