{
 "cells": [
  {
   "cell_type": "markdown",
   "id": "13c1e29b",
   "metadata": {},
   "source": [
    "## Imports :"
   ]
  },
  {
   "cell_type": "code",
   "execution_count": 93,
   "id": "adccb82a",
   "metadata": {},
   "outputs": [],
   "source": [
    "import numpy as np\n",
    "import pandas as pd\n",
    "import seaborn as sns\n",
    "import warnings as ws\n",
    "import matplotlib.pyplot as plt\n",
    "from scipy.stats import randint, expon\n",
    "from sklearn.model_selection import train_test_split\n",
    "from sklearn.naive_bayes import GaussianNB\n",
    "from sklearn.linear_model import LogisticRegression\n",
    "from sklearn.neighbors import KNeighborsClassifier\n",
    "from sklearn.tree import DecisionTreeClassifier\n",
    "from sklearn.ensemble import RandomForestClassifier,AdaBoostClassifier\n",
    "from sklearn.svm import SVC\n",
    "from sklearn.impute import SimpleImputer\n",
    "from sklearn.preprocessing import Normalizer,MinMaxScaler\n",
    "from sklearn.compose import ColumnTransformer\n",
    "from sklearn.model_selection import GridSearchCV, RandomizedSearchCV\n",
    "from sklearn.metrics import accuracy_score, f1_score, precision_score, recall_score"
   ]
  },
  {
   "cell_type": "markdown",
   "id": "26a94af7",
   "metadata": {},
   "source": [
    "## Loading the data :"
   ]
  },
  {
   "cell_type": "code",
   "execution_count": 2,
   "id": "9cfefd37",
   "metadata": {},
   "outputs": [],
   "source": [
    "df = pd.read_csv('Dataset Folder/diabetes.csv')"
   ]
  },
  {
   "cell_type": "code",
   "execution_count": 3,
   "id": "cb4e6fa4",
   "metadata": {},
   "outputs": [
    {
     "data": {
      "text/html": [
       "<div>\n",
       "<style scoped>\n",
       "    .dataframe tbody tr th:only-of-type {\n",
       "        vertical-align: middle;\n",
       "    }\n",
       "\n",
       "    .dataframe tbody tr th {\n",
       "        vertical-align: top;\n",
       "    }\n",
       "\n",
       "    .dataframe thead th {\n",
       "        text-align: right;\n",
       "    }\n",
       "</style>\n",
       "<table border=\"1\" class=\"dataframe\">\n",
       "  <thead>\n",
       "    <tr style=\"text-align: right;\">\n",
       "      <th></th>\n",
       "      <th>Pregnancies</th>\n",
       "      <th>Glucose</th>\n",
       "      <th>BloodPressure</th>\n",
       "      <th>SkinThickness</th>\n",
       "      <th>Insulin</th>\n",
       "      <th>BMI</th>\n",
       "      <th>DiabetesPedigreeFunction</th>\n",
       "      <th>Age</th>\n",
       "      <th>Outcome</th>\n",
       "    </tr>\n",
       "  </thead>\n",
       "  <tbody>\n",
       "    <tr>\n",
       "      <th>0</th>\n",
       "      <td>6</td>\n",
       "      <td>148</td>\n",
       "      <td>72</td>\n",
       "      <td>35</td>\n",
       "      <td>0</td>\n",
       "      <td>33.6</td>\n",
       "      <td>0.627</td>\n",
       "      <td>50</td>\n",
       "      <td>1</td>\n",
       "    </tr>\n",
       "    <tr>\n",
       "      <th>1</th>\n",
       "      <td>1</td>\n",
       "      <td>85</td>\n",
       "      <td>66</td>\n",
       "      <td>29</td>\n",
       "      <td>0</td>\n",
       "      <td>26.6</td>\n",
       "      <td>0.351</td>\n",
       "      <td>31</td>\n",
       "      <td>0</td>\n",
       "    </tr>\n",
       "    <tr>\n",
       "      <th>2</th>\n",
       "      <td>8</td>\n",
       "      <td>183</td>\n",
       "      <td>64</td>\n",
       "      <td>0</td>\n",
       "      <td>0</td>\n",
       "      <td>23.3</td>\n",
       "      <td>0.672</td>\n",
       "      <td>32</td>\n",
       "      <td>1</td>\n",
       "    </tr>\n",
       "    <tr>\n",
       "      <th>3</th>\n",
       "      <td>1</td>\n",
       "      <td>89</td>\n",
       "      <td>66</td>\n",
       "      <td>23</td>\n",
       "      <td>94</td>\n",
       "      <td>28.1</td>\n",
       "      <td>0.167</td>\n",
       "      <td>21</td>\n",
       "      <td>0</td>\n",
       "    </tr>\n",
       "    <tr>\n",
       "      <th>4</th>\n",
       "      <td>0</td>\n",
       "      <td>137</td>\n",
       "      <td>40</td>\n",
       "      <td>35</td>\n",
       "      <td>168</td>\n",
       "      <td>43.1</td>\n",
       "      <td>2.288</td>\n",
       "      <td>33</td>\n",
       "      <td>1</td>\n",
       "    </tr>\n",
       "    <tr>\n",
       "      <th>...</th>\n",
       "      <td>...</td>\n",
       "      <td>...</td>\n",
       "      <td>...</td>\n",
       "      <td>...</td>\n",
       "      <td>...</td>\n",
       "      <td>...</td>\n",
       "      <td>...</td>\n",
       "      <td>...</td>\n",
       "      <td>...</td>\n",
       "    </tr>\n",
       "    <tr>\n",
       "      <th>763</th>\n",
       "      <td>10</td>\n",
       "      <td>101</td>\n",
       "      <td>76</td>\n",
       "      <td>48</td>\n",
       "      <td>180</td>\n",
       "      <td>32.9</td>\n",
       "      <td>0.171</td>\n",
       "      <td>63</td>\n",
       "      <td>0</td>\n",
       "    </tr>\n",
       "    <tr>\n",
       "      <th>764</th>\n",
       "      <td>2</td>\n",
       "      <td>122</td>\n",
       "      <td>70</td>\n",
       "      <td>27</td>\n",
       "      <td>0</td>\n",
       "      <td>36.8</td>\n",
       "      <td>0.340</td>\n",
       "      <td>27</td>\n",
       "      <td>0</td>\n",
       "    </tr>\n",
       "    <tr>\n",
       "      <th>765</th>\n",
       "      <td>5</td>\n",
       "      <td>121</td>\n",
       "      <td>72</td>\n",
       "      <td>23</td>\n",
       "      <td>112</td>\n",
       "      <td>26.2</td>\n",
       "      <td>0.245</td>\n",
       "      <td>30</td>\n",
       "      <td>0</td>\n",
       "    </tr>\n",
       "    <tr>\n",
       "      <th>766</th>\n",
       "      <td>1</td>\n",
       "      <td>126</td>\n",
       "      <td>60</td>\n",
       "      <td>0</td>\n",
       "      <td>0</td>\n",
       "      <td>30.1</td>\n",
       "      <td>0.349</td>\n",
       "      <td>47</td>\n",
       "      <td>1</td>\n",
       "    </tr>\n",
       "    <tr>\n",
       "      <th>767</th>\n",
       "      <td>1</td>\n",
       "      <td>93</td>\n",
       "      <td>70</td>\n",
       "      <td>31</td>\n",
       "      <td>0</td>\n",
       "      <td>30.4</td>\n",
       "      <td>0.315</td>\n",
       "      <td>23</td>\n",
       "      <td>0</td>\n",
       "    </tr>\n",
       "  </tbody>\n",
       "</table>\n",
       "<p>768 rows × 9 columns</p>\n",
       "</div>"
      ],
      "text/plain": [
       "     Pregnancies  Glucose  BloodPressure  SkinThickness  Insulin   BMI  \\\n",
       "0              6      148             72             35        0  33.6   \n",
       "1              1       85             66             29        0  26.6   \n",
       "2              8      183             64              0        0  23.3   \n",
       "3              1       89             66             23       94  28.1   \n",
       "4              0      137             40             35      168  43.1   \n",
       "..           ...      ...            ...            ...      ...   ...   \n",
       "763           10      101             76             48      180  32.9   \n",
       "764            2      122             70             27        0  36.8   \n",
       "765            5      121             72             23      112  26.2   \n",
       "766            1      126             60              0        0  30.1   \n",
       "767            1       93             70             31        0  30.4   \n",
       "\n",
       "     DiabetesPedigreeFunction  Age  Outcome  \n",
       "0                       0.627   50        1  \n",
       "1                       0.351   31        0  \n",
       "2                       0.672   32        1  \n",
       "3                       0.167   21        0  \n",
       "4                       2.288   33        1  \n",
       "..                        ...  ...      ...  \n",
       "763                     0.171   63        0  \n",
       "764                     0.340   27        0  \n",
       "765                     0.245   30        0  \n",
       "766                     0.349   47        1  \n",
       "767                     0.315   23        0  \n",
       "\n",
       "[768 rows x 9 columns]"
      ]
     },
     "execution_count": 3,
     "metadata": {},
     "output_type": "execute_result"
    }
   ],
   "source": [
    "df"
   ]
  },
  {
   "cell_type": "markdown",
   "id": "fa8e8d91",
   "metadata": {},
   "source": [
    "## Data Exploration :"
   ]
  },
  {
   "cell_type": "code",
   "execution_count": 4,
   "id": "59f07e48",
   "metadata": {},
   "outputs": [
    {
     "name": "stdout",
     "output_type": "stream",
     "text": [
      "Number of Diabetic datapoints/rows in the dataset are : 268\n",
      "Number of Non-Diabetic datapoints/rows in the dataset are : 500\n"
     ]
    }
   ],
   "source": [
    "# Number of Diabetic datapoints and Non-diabetic datapoints :-\n",
    "\n",
    "diabetic_dataframe = df[df['Outcome']==1]\n",
    "\n",
    "non_diabetic_dataframe = df[df['Outcome']==0]\n",
    "\n",
    "print(f'Number of Diabetic datapoints/rows in the dataset are : {diabetic_dataframe.shape[0]}')\n",
    "print(f'Number of Non-Diabetic datapoints/rows in the dataset are : {non_diabetic_dataframe.shape[0]}')"
   ]
  },
  {
   "cell_type": "code",
   "execution_count": 5,
   "id": "61e90561",
   "metadata": {},
   "outputs": [
    {
     "data": {
      "text/html": [
       "<div>\n",
       "<style scoped>\n",
       "    .dataframe tbody tr th:only-of-type {\n",
       "        vertical-align: middle;\n",
       "    }\n",
       "\n",
       "    .dataframe tbody tr th {\n",
       "        vertical-align: top;\n",
       "    }\n",
       "\n",
       "    .dataframe thead th {\n",
       "        text-align: right;\n",
       "    }\n",
       "</style>\n",
       "<table border=\"1\" class=\"dataframe\">\n",
       "  <thead>\n",
       "    <tr style=\"text-align: right;\">\n",
       "      <th></th>\n",
       "      <th>preg</th>\n",
       "      <th>glu</th>\n",
       "      <th>bp</th>\n",
       "      <th>skinThickness</th>\n",
       "      <th>insulin</th>\n",
       "      <th>bmi</th>\n",
       "      <th>dpf</th>\n",
       "      <th>age</th>\n",
       "      <th>outcome</th>\n",
       "    </tr>\n",
       "  </thead>\n",
       "  <tbody>\n",
       "    <tr>\n",
       "      <th>0</th>\n",
       "      <td>6</td>\n",
       "      <td>148</td>\n",
       "      <td>72</td>\n",
       "      <td>35</td>\n",
       "      <td>0</td>\n",
       "      <td>33.6</td>\n",
       "      <td>0.627</td>\n",
       "      <td>50</td>\n",
       "      <td>1</td>\n",
       "    </tr>\n",
       "    <tr>\n",
       "      <th>1</th>\n",
       "      <td>1</td>\n",
       "      <td>85</td>\n",
       "      <td>66</td>\n",
       "      <td>29</td>\n",
       "      <td>0</td>\n",
       "      <td>26.6</td>\n",
       "      <td>0.351</td>\n",
       "      <td>31</td>\n",
       "      <td>0</td>\n",
       "    </tr>\n",
       "    <tr>\n",
       "      <th>2</th>\n",
       "      <td>8</td>\n",
       "      <td>183</td>\n",
       "      <td>64</td>\n",
       "      <td>0</td>\n",
       "      <td>0</td>\n",
       "      <td>23.3</td>\n",
       "      <td>0.672</td>\n",
       "      <td>32</td>\n",
       "      <td>1</td>\n",
       "    </tr>\n",
       "    <tr>\n",
       "      <th>3</th>\n",
       "      <td>1</td>\n",
       "      <td>89</td>\n",
       "      <td>66</td>\n",
       "      <td>23</td>\n",
       "      <td>94</td>\n",
       "      <td>28.1</td>\n",
       "      <td>0.167</td>\n",
       "      <td>21</td>\n",
       "      <td>0</td>\n",
       "    </tr>\n",
       "    <tr>\n",
       "      <th>4</th>\n",
       "      <td>0</td>\n",
       "      <td>137</td>\n",
       "      <td>40</td>\n",
       "      <td>35</td>\n",
       "      <td>168</td>\n",
       "      <td>43.1</td>\n",
       "      <td>2.288</td>\n",
       "      <td>33</td>\n",
       "      <td>1</td>\n",
       "    </tr>\n",
       "    <tr>\n",
       "      <th>...</th>\n",
       "      <td>...</td>\n",
       "      <td>...</td>\n",
       "      <td>...</td>\n",
       "      <td>...</td>\n",
       "      <td>...</td>\n",
       "      <td>...</td>\n",
       "      <td>...</td>\n",
       "      <td>...</td>\n",
       "      <td>...</td>\n",
       "    </tr>\n",
       "    <tr>\n",
       "      <th>763</th>\n",
       "      <td>10</td>\n",
       "      <td>101</td>\n",
       "      <td>76</td>\n",
       "      <td>48</td>\n",
       "      <td>180</td>\n",
       "      <td>32.9</td>\n",
       "      <td>0.171</td>\n",
       "      <td>63</td>\n",
       "      <td>0</td>\n",
       "    </tr>\n",
       "    <tr>\n",
       "      <th>764</th>\n",
       "      <td>2</td>\n",
       "      <td>122</td>\n",
       "      <td>70</td>\n",
       "      <td>27</td>\n",
       "      <td>0</td>\n",
       "      <td>36.8</td>\n",
       "      <td>0.340</td>\n",
       "      <td>27</td>\n",
       "      <td>0</td>\n",
       "    </tr>\n",
       "    <tr>\n",
       "      <th>765</th>\n",
       "      <td>5</td>\n",
       "      <td>121</td>\n",
       "      <td>72</td>\n",
       "      <td>23</td>\n",
       "      <td>112</td>\n",
       "      <td>26.2</td>\n",
       "      <td>0.245</td>\n",
       "      <td>30</td>\n",
       "      <td>0</td>\n",
       "    </tr>\n",
       "    <tr>\n",
       "      <th>766</th>\n",
       "      <td>1</td>\n",
       "      <td>126</td>\n",
       "      <td>60</td>\n",
       "      <td>0</td>\n",
       "      <td>0</td>\n",
       "      <td>30.1</td>\n",
       "      <td>0.349</td>\n",
       "      <td>47</td>\n",
       "      <td>1</td>\n",
       "    </tr>\n",
       "    <tr>\n",
       "      <th>767</th>\n",
       "      <td>1</td>\n",
       "      <td>93</td>\n",
       "      <td>70</td>\n",
       "      <td>31</td>\n",
       "      <td>0</td>\n",
       "      <td>30.4</td>\n",
       "      <td>0.315</td>\n",
       "      <td>23</td>\n",
       "      <td>0</td>\n",
       "    </tr>\n",
       "  </tbody>\n",
       "</table>\n",
       "<p>768 rows × 9 columns</p>\n",
       "</div>"
      ],
      "text/plain": [
       "     preg  glu  bp  skinThickness  insulin   bmi    dpf  age  outcome\n",
       "0       6  148  72             35        0  33.6  0.627   50        1\n",
       "1       1   85  66             29        0  26.6  0.351   31        0\n",
       "2       8  183  64              0        0  23.3  0.672   32        1\n",
       "3       1   89  66             23       94  28.1  0.167   21        0\n",
       "4       0  137  40             35      168  43.1  2.288   33        1\n",
       "..    ...  ...  ..            ...      ...   ...    ...  ...      ...\n",
       "763    10  101  76             48      180  32.9  0.171   63        0\n",
       "764     2  122  70             27        0  36.8  0.340   27        0\n",
       "765     5  121  72             23      112  26.2  0.245   30        0\n",
       "766     1  126  60              0        0  30.1  0.349   47        1\n",
       "767     1   93  70             31        0  30.4  0.315   23        0\n",
       "\n",
       "[768 rows x 9 columns]"
      ]
     },
     "execution_count": 5,
     "metadata": {},
     "output_type": "execute_result"
    }
   ],
   "source": [
    "# Renaming the column names for convenience, dealing with the dataframe :-\n",
    "\n",
    "df.rename(columns={\n",
    "                                     \"Pregnancies\": \"preg\", \n",
    "                                     \"Glucose\": \"glu\", \n",
    "                                     \"BloodPressure\":\"bp\", \n",
    "                                     \"SkinThickness\":\"skinThickness\",\n",
    "                                     \"Insulin\":\"insulin\", \n",
    "                                     \"BMI\":\"bmi\",\n",
    "                                     \"DiabetesPedigreeFunction\":\"dpf\",\n",
    "                                     \"Age\":\"age\", \n",
    "                                     \"Outcome\":\"outcome\"}, inplace=True\n",
    "                           )\n",
    "\n",
    "\n",
    "df"
   ]
  },
  {
   "cell_type": "code",
   "execution_count": 6,
   "id": "0f40b812",
   "metadata": {},
   "outputs": [
    {
     "data": {
      "text/html": [
       "<div>\n",
       "<style scoped>\n",
       "    .dataframe tbody tr th:only-of-type {\n",
       "        vertical-align: middle;\n",
       "    }\n",
       "\n",
       "    .dataframe tbody tr th {\n",
       "        vertical-align: top;\n",
       "    }\n",
       "\n",
       "    .dataframe thead th {\n",
       "        text-align: right;\n",
       "    }\n",
       "</style>\n",
       "<table border=\"1\" class=\"dataframe\">\n",
       "  <thead>\n",
       "    <tr style=\"text-align: right;\">\n",
       "      <th></th>\n",
       "      <th>preg</th>\n",
       "      <th>glu</th>\n",
       "      <th>bp</th>\n",
       "      <th>skinThickness</th>\n",
       "      <th>insulin</th>\n",
       "      <th>bmi</th>\n",
       "      <th>dpf</th>\n",
       "      <th>age</th>\n",
       "      <th>outcome</th>\n",
       "    </tr>\n",
       "  </thead>\n",
       "  <tbody>\n",
       "    <tr>\n",
       "      <th>count</th>\n",
       "      <td>768.000000</td>\n",
       "      <td>768.000000</td>\n",
       "      <td>768.000000</td>\n",
       "      <td>768.000000</td>\n",
       "      <td>768.000000</td>\n",
       "      <td>768.000000</td>\n",
       "      <td>768.000000</td>\n",
       "      <td>768.000000</td>\n",
       "      <td>768.000000</td>\n",
       "    </tr>\n",
       "    <tr>\n",
       "      <th>mean</th>\n",
       "      <td>3.845052</td>\n",
       "      <td>120.894531</td>\n",
       "      <td>69.105469</td>\n",
       "      <td>20.536458</td>\n",
       "      <td>79.799479</td>\n",
       "      <td>31.992578</td>\n",
       "      <td>0.471876</td>\n",
       "      <td>33.240885</td>\n",
       "      <td>0.348958</td>\n",
       "    </tr>\n",
       "    <tr>\n",
       "      <th>std</th>\n",
       "      <td>3.369578</td>\n",
       "      <td>31.972618</td>\n",
       "      <td>19.355807</td>\n",
       "      <td>15.952218</td>\n",
       "      <td>115.244002</td>\n",
       "      <td>7.884160</td>\n",
       "      <td>0.331329</td>\n",
       "      <td>11.760232</td>\n",
       "      <td>0.476951</td>\n",
       "    </tr>\n",
       "    <tr>\n",
       "      <th>min</th>\n",
       "      <td>0.000000</td>\n",
       "      <td>0.000000</td>\n",
       "      <td>0.000000</td>\n",
       "      <td>0.000000</td>\n",
       "      <td>0.000000</td>\n",
       "      <td>0.000000</td>\n",
       "      <td>0.078000</td>\n",
       "      <td>21.000000</td>\n",
       "      <td>0.000000</td>\n",
       "    </tr>\n",
       "    <tr>\n",
       "      <th>25%</th>\n",
       "      <td>1.000000</td>\n",
       "      <td>99.000000</td>\n",
       "      <td>62.000000</td>\n",
       "      <td>0.000000</td>\n",
       "      <td>0.000000</td>\n",
       "      <td>27.300000</td>\n",
       "      <td>0.243750</td>\n",
       "      <td>24.000000</td>\n",
       "      <td>0.000000</td>\n",
       "    </tr>\n",
       "    <tr>\n",
       "      <th>50%</th>\n",
       "      <td>3.000000</td>\n",
       "      <td>117.000000</td>\n",
       "      <td>72.000000</td>\n",
       "      <td>23.000000</td>\n",
       "      <td>30.500000</td>\n",
       "      <td>32.000000</td>\n",
       "      <td>0.372500</td>\n",
       "      <td>29.000000</td>\n",
       "      <td>0.000000</td>\n",
       "    </tr>\n",
       "    <tr>\n",
       "      <th>75%</th>\n",
       "      <td>6.000000</td>\n",
       "      <td>140.250000</td>\n",
       "      <td>80.000000</td>\n",
       "      <td>32.000000</td>\n",
       "      <td>127.250000</td>\n",
       "      <td>36.600000</td>\n",
       "      <td>0.626250</td>\n",
       "      <td>41.000000</td>\n",
       "      <td>1.000000</td>\n",
       "    </tr>\n",
       "    <tr>\n",
       "      <th>max</th>\n",
       "      <td>17.000000</td>\n",
       "      <td>199.000000</td>\n",
       "      <td>122.000000</td>\n",
       "      <td>99.000000</td>\n",
       "      <td>846.000000</td>\n",
       "      <td>67.100000</td>\n",
       "      <td>2.420000</td>\n",
       "      <td>81.000000</td>\n",
       "      <td>1.000000</td>\n",
       "    </tr>\n",
       "  </tbody>\n",
       "</table>\n",
       "</div>"
      ],
      "text/plain": [
       "             preg         glu          bp  skinThickness     insulin  \\\n",
       "count  768.000000  768.000000  768.000000     768.000000  768.000000   \n",
       "mean     3.845052  120.894531   69.105469      20.536458   79.799479   \n",
       "std      3.369578   31.972618   19.355807      15.952218  115.244002   \n",
       "min      0.000000    0.000000    0.000000       0.000000    0.000000   \n",
       "25%      1.000000   99.000000   62.000000       0.000000    0.000000   \n",
       "50%      3.000000  117.000000   72.000000      23.000000   30.500000   \n",
       "75%      6.000000  140.250000   80.000000      32.000000  127.250000   \n",
       "max     17.000000  199.000000  122.000000      99.000000  846.000000   \n",
       "\n",
       "              bmi         dpf         age     outcome  \n",
       "count  768.000000  768.000000  768.000000  768.000000  \n",
       "mean    31.992578    0.471876   33.240885    0.348958  \n",
       "std      7.884160    0.331329   11.760232    0.476951  \n",
       "min      0.000000    0.078000   21.000000    0.000000  \n",
       "25%     27.300000    0.243750   24.000000    0.000000  \n",
       "50%     32.000000    0.372500   29.000000    0.000000  \n",
       "75%     36.600000    0.626250   41.000000    1.000000  \n",
       "max     67.100000    2.420000   81.000000    1.000000  "
      ]
     },
     "execution_count": 6,
     "metadata": {},
     "output_type": "execute_result"
    }
   ],
   "source": [
    "# Description of the dataset :-\n",
    "\n",
    "df.describe() "
   ]
  },
  {
   "cell_type": "markdown",
   "id": "4c0c2b69",
   "metadata": {},
   "source": [
    "From the above description we know that, there are more than half of the columns with zero as a value in them. We'll evaluate below the number of zeroes that they have. And, also use different techniques of imputation to make the prediction performance better."
   ]
  },
  {
   "cell_type": "code",
   "execution_count": 7,
   "id": "2cf9ee77",
   "metadata": {},
   "outputs": [
    {
     "name": "stdout",
     "output_type": "stream",
     "text": [
      "Number of NaN(null) values in 'preg' column are :     0\n",
      "Number of NaN(null) values in 'glu' column are :     0\n",
      "Number of NaN(null) values in 'bp' column are :     0\n",
      "Number of NaN(null) values in 'skinThickness' column are :     0\n",
      "Number of NaN(null) values in 'insulin' column are :     0\n",
      "Number of NaN(null) values in 'bmi' column are :     0\n",
      "Number of NaN(null) values in 'dpf' column are :     0\n",
      "Number of NaN(null) values in 'age' column are :     0\n",
      "Number of NaN(null) values in 'outcome' column are :     0\n"
     ]
    }
   ],
   "source": [
    "# Let's have a look at the null('NaN') values in the dataframe :-\n",
    "\n",
    "for column in df.columns:\n",
    "    print(f'Number of NaN(null) values in \\'{column}\\' column are : \\\n",
    "    {df[column].isnull().sum()}')"
   ]
  },
  {
   "cell_type": "markdown",
   "id": "5fd5e197",
   "metadata": {},
   "source": [
    "Now, we know there are no 'null' values in the entire dataframe. But, there are '0' values in the dataset and that value of '0' in columns apart from just 'preg' and 'outcome' are subject to performance change of the algorithm.(Since, that's missing information). Hence, we should find out the missing data in columns.\n",
    "\n",
    "If, 'preg' and 'outcome' are having '0' values, then it is not missing information as there can be '0' pregnancies and non-diabetic patients which is indicated by '0'."
   ]
  },
  {
   "cell_type": "code",
   "execution_count": 8,
   "id": "56e49686",
   "metadata": {},
   "outputs": [
    {
     "name": "stdout",
     "output_type": "stream",
     "text": [
      "Number of missing values in glu are : 5\n",
      "Number of missing values in bp are : 35\n",
      "Number of missing values in skinThickness are : 227\n",
      "Number of missing values in insulin are : 374\n",
      "Number of missing values in bmi are : 11\n",
      "Number of missing values in dpf are : 0\n"
     ]
    }
   ],
   "source": [
    "# Let's have a look at the number of  missing values in the dataframe\n",
    "\n",
    "columns_missing_values = ['glu', 'bp', 'skinThickness', 'insulin', 'bmi', 'dpf']\n",
    "\n",
    "def zeroes_in_columns(columns, dataframe):\n",
    "    for missing_values_column in columns:\n",
    "        print(f'Number of missing values in {missing_values_column} are : {len(dataframe[dataframe[missing_values_column]==0])}')\n",
    "                \n",
    "\n",
    "zeroes_in_columns(columns_missing_values, df)"
   ]
  },
  {
   "cell_type": "markdown",
   "id": "9244ee0c",
   "metadata": {},
   "source": [
    "### Let's find out correlation between every pairs of features in the dataset :"
   ]
  },
  {
   "cell_type": "code",
   "execution_count": 9,
   "id": "30845668",
   "metadata": {},
   "outputs": [
    {
     "data": {
      "text/html": [
       "<div>\n",
       "<style scoped>\n",
       "    .dataframe tbody tr th:only-of-type {\n",
       "        vertical-align: middle;\n",
       "    }\n",
       "\n",
       "    .dataframe tbody tr th {\n",
       "        vertical-align: top;\n",
       "    }\n",
       "\n",
       "    .dataframe thead th {\n",
       "        text-align: right;\n",
       "    }\n",
       "</style>\n",
       "<table border=\"1\" class=\"dataframe\">\n",
       "  <thead>\n",
       "    <tr style=\"text-align: right;\">\n",
       "      <th></th>\n",
       "      <th>preg</th>\n",
       "      <th>glu</th>\n",
       "      <th>bp</th>\n",
       "      <th>skinThickness</th>\n",
       "      <th>insulin</th>\n",
       "      <th>bmi</th>\n",
       "      <th>dpf</th>\n",
       "      <th>age</th>\n",
       "      <th>outcome</th>\n",
       "    </tr>\n",
       "  </thead>\n",
       "  <tbody>\n",
       "    <tr>\n",
       "      <th>preg</th>\n",
       "      <td>1.000000</td>\n",
       "      <td>0.129459</td>\n",
       "      <td>0.141282</td>\n",
       "      <td>-0.081672</td>\n",
       "      <td>-0.073535</td>\n",
       "      <td>0.017683</td>\n",
       "      <td>-0.033523</td>\n",
       "      <td>0.544341</td>\n",
       "      <td>0.221898</td>\n",
       "    </tr>\n",
       "    <tr>\n",
       "      <th>glu</th>\n",
       "      <td>0.129459</td>\n",
       "      <td>1.000000</td>\n",
       "      <td>0.152590</td>\n",
       "      <td>0.057328</td>\n",
       "      <td>0.331357</td>\n",
       "      <td>0.221071</td>\n",
       "      <td>0.137337</td>\n",
       "      <td>0.263514</td>\n",
       "      <td>0.466581</td>\n",
       "    </tr>\n",
       "    <tr>\n",
       "      <th>bp</th>\n",
       "      <td>0.141282</td>\n",
       "      <td>0.152590</td>\n",
       "      <td>1.000000</td>\n",
       "      <td>0.207371</td>\n",
       "      <td>0.088933</td>\n",
       "      <td>0.281805</td>\n",
       "      <td>0.041265</td>\n",
       "      <td>0.239528</td>\n",
       "      <td>0.065068</td>\n",
       "    </tr>\n",
       "    <tr>\n",
       "      <th>skinThickness</th>\n",
       "      <td>-0.081672</td>\n",
       "      <td>0.057328</td>\n",
       "      <td>0.207371</td>\n",
       "      <td>1.000000</td>\n",
       "      <td>0.436783</td>\n",
       "      <td>0.392573</td>\n",
       "      <td>0.183928</td>\n",
       "      <td>-0.113970</td>\n",
       "      <td>0.074752</td>\n",
       "    </tr>\n",
       "    <tr>\n",
       "      <th>insulin</th>\n",
       "      <td>-0.073535</td>\n",
       "      <td>0.331357</td>\n",
       "      <td>0.088933</td>\n",
       "      <td>0.436783</td>\n",
       "      <td>1.000000</td>\n",
       "      <td>0.197859</td>\n",
       "      <td>0.185071</td>\n",
       "      <td>-0.042163</td>\n",
       "      <td>0.130548</td>\n",
       "    </tr>\n",
       "    <tr>\n",
       "      <th>bmi</th>\n",
       "      <td>0.017683</td>\n",
       "      <td>0.221071</td>\n",
       "      <td>0.281805</td>\n",
       "      <td>0.392573</td>\n",
       "      <td>0.197859</td>\n",
       "      <td>1.000000</td>\n",
       "      <td>0.140647</td>\n",
       "      <td>0.036242</td>\n",
       "      <td>0.292695</td>\n",
       "    </tr>\n",
       "    <tr>\n",
       "      <th>dpf</th>\n",
       "      <td>-0.033523</td>\n",
       "      <td>0.137337</td>\n",
       "      <td>0.041265</td>\n",
       "      <td>0.183928</td>\n",
       "      <td>0.185071</td>\n",
       "      <td>0.140647</td>\n",
       "      <td>1.000000</td>\n",
       "      <td>0.033561</td>\n",
       "      <td>0.173844</td>\n",
       "    </tr>\n",
       "    <tr>\n",
       "      <th>age</th>\n",
       "      <td>0.544341</td>\n",
       "      <td>0.263514</td>\n",
       "      <td>0.239528</td>\n",
       "      <td>-0.113970</td>\n",
       "      <td>-0.042163</td>\n",
       "      <td>0.036242</td>\n",
       "      <td>0.033561</td>\n",
       "      <td>1.000000</td>\n",
       "      <td>0.238356</td>\n",
       "    </tr>\n",
       "    <tr>\n",
       "      <th>outcome</th>\n",
       "      <td>0.221898</td>\n",
       "      <td>0.466581</td>\n",
       "      <td>0.065068</td>\n",
       "      <td>0.074752</td>\n",
       "      <td>0.130548</td>\n",
       "      <td>0.292695</td>\n",
       "      <td>0.173844</td>\n",
       "      <td>0.238356</td>\n",
       "      <td>1.000000</td>\n",
       "    </tr>\n",
       "  </tbody>\n",
       "</table>\n",
       "</div>"
      ],
      "text/plain": [
       "                   preg       glu        bp  skinThickness   insulin  \\\n",
       "preg           1.000000  0.129459  0.141282      -0.081672 -0.073535   \n",
       "glu            0.129459  1.000000  0.152590       0.057328  0.331357   \n",
       "bp             0.141282  0.152590  1.000000       0.207371  0.088933   \n",
       "skinThickness -0.081672  0.057328  0.207371       1.000000  0.436783   \n",
       "insulin       -0.073535  0.331357  0.088933       0.436783  1.000000   \n",
       "bmi            0.017683  0.221071  0.281805       0.392573  0.197859   \n",
       "dpf           -0.033523  0.137337  0.041265       0.183928  0.185071   \n",
       "age            0.544341  0.263514  0.239528      -0.113970 -0.042163   \n",
       "outcome        0.221898  0.466581  0.065068       0.074752  0.130548   \n",
       "\n",
       "                    bmi       dpf       age   outcome  \n",
       "preg           0.017683 -0.033523  0.544341  0.221898  \n",
       "glu            0.221071  0.137337  0.263514  0.466581  \n",
       "bp             0.281805  0.041265  0.239528  0.065068  \n",
       "skinThickness  0.392573  0.183928 -0.113970  0.074752  \n",
       "insulin        0.197859  0.185071 -0.042163  0.130548  \n",
       "bmi            1.000000  0.140647  0.036242  0.292695  \n",
       "dpf            0.140647  1.000000  0.033561  0.173844  \n",
       "age            0.036242  0.033561  1.000000  0.238356  \n",
       "outcome        0.292695  0.173844  0.238356  1.000000  "
      ]
     },
     "execution_count": 9,
     "metadata": {},
     "output_type": "execute_result"
    }
   ],
   "source": [
    "corr = df.corr()\n",
    "corr"
   ]
  },
  {
   "cell_type": "code",
   "execution_count": 10,
   "id": "66f73d43",
   "metadata": {},
   "outputs": [
    {
     "data": {
      "image/png": "[encoded data removed]",
      "text/plain": [
       "<Figure size 1224x792 with 2 Axes>"
      ]
     },
     "metadata": {
      "needs_background": "light"
     },
     "output_type": "display_data"
    }
   ],
   "source": [
    "# Representing the above using heatmap :-\n",
    "\n",
    "plt.figure(figsize = (17,11))\n",
    "\n",
    "p = sns.heatmap(df.corr(), annot=True, cmap ='RdYlGn')"
   ]
  },
  {
   "cell_type": "markdown",
   "id": "054d838d",
   "metadata": {},
   "source": [
    "### Looking at the distributions of all the features :-"
   ]
  },
  {
   "cell_type": "code",
   "execution_count": 11,
   "id": "ef9e9b1a",
   "metadata": {},
   "outputs": [
    {
     "data": {
      "text/plain": [
       "array([[<AxesSubplot:title={'center':'preg'}>,\n",
       "        <AxesSubplot:title={'center':'glu'}>,\n",
       "        <AxesSubplot:title={'center':'bp'}>],\n",
       "       [<AxesSubplot:title={'center':'skinThickness'}>,\n",
       "        <AxesSubplot:title={'center':'insulin'}>,\n",
       "        <AxesSubplot:title={'center':'bmi'}>],\n",
       "       [<AxesSubplot:title={'center':'dpf'}>,\n",
       "        <AxesSubplot:title={'center':'age'}>,\n",
       "        <AxesSubplot:title={'center':'outcome'}>]], dtype=object)"
      ]
     },
     "execution_count": 11,
     "metadata": {},
     "output_type": "execute_result"
    },
    {
     "data": {
      "image/png": "[encoded data removed]",
      "text/plain": [
       "<Figure size 720x720 with 9 Axes>"
      ]
     },
     "metadata": {
      "needs_background": "light"
     },
     "output_type": "display_data"
    }
   ],
   "source": [
    "df.hist(figsize=(10,10))"
   ]
  },
  {
   "cell_type": "markdown",
   "id": "b3315375",
   "metadata": {},
   "source": []
  },
  {
   "cell_type": "code",
   "execution_count": null,
   "id": "32ddd580",
   "metadata": {},
   "outputs": [],
   "source": []
  },
  {
   "cell_type": "code",
   "execution_count": 12,
   "id": "5b379a86",
   "metadata": {},
   "outputs": [],
   "source": [
    "ws.filterwarnings('ignore')"
   ]
  },
  {
   "cell_type": "markdown",
   "id": "ca1c3a5c",
   "metadata": {},
   "source": [
    "## Before any sort of manipulation of the missing data, let's apply the techniques and find out how well they help prediction."
   ]
  },
  {
   "cell_type": "code",
   "execution_count": 13,
   "id": "148f4992",
   "metadata": {},
   "outputs": [],
   "source": [
    "# First of all splitting the dataset into training and testing :\n",
    "\n",
    "X = df.iloc[:, :-1]\n",
    "\n",
    "y = df.iloc[:, -1]\n",
    "\n",
    "X_train, X_test, y_train, y_test = train_test_split(X, y, test_size=0.30, random_state=1)"
   ]
  },
  {
   "cell_type": "code",
   "execution_count": 14,
   "id": "55c5dfc9",
   "metadata": {},
   "outputs": [
    {
     "name": "stdout",
     "output_type": "stream",
     "text": [
      "There are 85 diabetic & 146 non-diabetic records in the test dataset.\n"
     ]
    }
   ],
   "source": [
    "print(f'There are {len(y_test[y_test==1])} diabetic & {len(y_test[y_test==0])} \\\n",
    "non-diabetic records in the test dataset.')"
   ]
  },
  {
   "cell_type": "markdown",
   "id": "7c7fce82",
   "metadata": {},
   "source": [
    "### We'll use the optimized hyperparameters for all the algorithms despite not manipulating the dataset in any manner. And, for that purpose, some functions defined below would become immensely useful :"
   ]
  },
  {
   "cell_type": "markdown",
   "id": "a8eb0183",
   "metadata": {},
   "source": [
    "Below is the function for GridSearchCV :-"
   ]
  },
  {
   "cell_type": "code",
   "execution_count": 15,
   "id": "d6231b7e",
   "metadata": {},
   "outputs": [],
   "source": [
    "def grid_search_cv(estimator,param_grid,X_train=X_train, \n",
    "                   y_train=y_train, X_test=X_test, y_test=y_test):\n",
    "    \n",
    "    '''\n",
    "    This function upon rendering a list with the estimator and its parameters for hypertuning,\n",
    "    along with the X_train, y_train, X_test and y_test; performs GridSearchCV for selecting best set\n",
    "    of parameters, thereafter fits X_train, y_train with the suggested set of best hyperparameters\n",
    "    and prints the performance metrics.\n",
    "    '''        \n",
    "        \n",
    "    grid_search = GridSearchCV(estimator=estimator, param_grid=param_grid, cv=5,\n",
    "                                   scoring='accuracy')\n",
    "        \n",
    "    grid_search.fit(X_train, y_train)\n",
    "        \n",
    "    grid_search_best_estimator = grid_search.best_estimator_\n",
    "        \n",
    "    # Printing the best set of hyperparameters as per GridSearchCV.\n",
    "    print(f'{grid_search_best_estimator} is the Best Estimator according to Exhaustive Hyperparameter search.')\n",
    "        \n",
    "        \n",
    "    # Fitting the X_train with the best_estimator obtained and then testing X_test\n",
    "    # to see how the performance is:\n",
    "    grid_search_best_estimator.fit(X_train, y_train)\n",
    "        \n",
    "        \n",
    "    y_pred = grid_search_best_estimator.predict(X_test)\n",
    "        \n",
    "    # Evaluating performance metrics :\n",
    "    accuracy_score_ = accuracy_score(y_test, y_pred)\n",
    "        \n",
    "    precision_score_ = precision_score(y_test, y_pred)\n",
    "        \n",
    "    recall_score_ = recall_score(y_test, y_pred)\n",
    "        \n",
    "    f1_score_ = f1_score(y_test, y_pred)\n",
    "    \n",
    "    print()\n",
    "        \n",
    "    # Printing the performance metrics' results:\n",
    "    print(f'{accuracy_score_*100}% is the accuracy score for the {estimator} using the best hyparameters suggested by GridSearchCV.')\n",
    "        \n",
    "    print(f'{precision_score_*100}% is the precision score for the {estimator} using the best hyparameters suggested by GridSearchCV.')\n",
    "        \n",
    "    print(f'{recall_score_*100}% is the recall score for the {estimator} using the best hyparameters suggested by GridSearchCV.')\n",
    "\n",
    "    print(f'{f1_score_*100}% is the f1_score for the {estimator} using the best hyparameters suggested by GridSearchCV.')\n"
   ]
  },
  {
   "cell_type": "markdown",
   "id": "10fd689c",
   "metadata": {},
   "source": [
    "Below is the function for RandimizedSearchCV :"
   ]
  },
  {
   "cell_type": "code",
   "execution_count": 16,
   "id": "1cb6c1d7",
   "metadata": {},
   "outputs": [],
   "source": [
    "def randomized_search_cv(estimator,param_grid,X_train=X_train, \n",
    "                   y_train=y_train, X_test=X_test, y_test=y_test):\n",
    "    \n",
    "    '''\n",
    "    This function upon rendering a list with the estimator and its parameters for hypertuning,\n",
    "    along with the X_train, y_train, X_test and y_test; performs RandomizearchCV for selecting best set\n",
    "    of parameters, thereafter fits X_train, y_train with the suggested set of best hyperparameters\n",
    "    and prints the performance metrics.\n",
    "    '''        \n",
    "        \n",
    "    randomized_search = RandomizedSearchCV(estimator=estimator, param_distributions=param_grid, cv=5,\n",
    "                                   scoring='accuracy', n_iter=20)\n",
    "        \n",
    "    randomized_search.fit(X_train, y_train)\n",
    "        \n",
    "    randomized_search_best_estimator = randomized_search.best_estimator_\n",
    "        \n",
    "    # Printing the best set of hyperparameters as per GridSearchCV.\n",
    "    print(f'{randomized_search_best_estimator} is the Best Estimator according to Randomized Hyperparameter search.')\n",
    "        \n",
    "        \n",
    "    # Fitting the X_train with the best_estimator obtained and then testing X_test\n",
    "    # to see how the performance is:\n",
    "    randomized_search_best_estimator.fit(X_train, y_train)\n",
    "        \n",
    "        \n",
    "    y_pred = randomized_search_best_estimator.predict(X_test)\n",
    "        \n",
    "    # Evaluating performance metrics :\n",
    "    accuracy_score_ = accuracy_score(y_test, y_pred)\n",
    "        \n",
    "    precision_score_ = precision_score(y_test, y_pred)\n",
    "        \n",
    "    recall_score_ = recall_score(y_test, y_pred)\n",
    "        \n",
    "    f1_score_ = f1_score(y_test, y_pred)\n",
    "    \n",
    "    print()\n",
    "        \n",
    "    # Printing the performance metrics' results:\n",
    "    print(f'{accuracy_score_*100}% is the accuracy score for {estimator} using the best hyparameters suggested by RandomizedSearchCV.')\n",
    "        \n",
    "    print(f'{precision_score_*100}% is the precision score for {estimator} using the best hyparameters suggested by RandomizedSearchCV.')\n",
    "        \n",
    "    print(f'{recall_score_*100}% is the recall score for {estimator} using the best hyparameters suggested by RandomizedSearchCV.')\n",
    "\n",
    "    print(f'{f1_score_*100}% is the f1_score for {estimator} using the best hyparameters suggested by RandomizedSearchCV.')\n"
   ]
  },
  {
   "cell_type": "markdown",
   "id": "d0acf13f",
   "metadata": {},
   "source": [
    "## i.e. Before Anything :"
   ]
  },
  {
   "cell_type": "markdown",
   "id": "b33ce573",
   "metadata": {},
   "source": [
    "### Naive-Bayes Classifier :-"
   ]
  },
  {
   "cell_type": "code",
   "execution_count": 17,
   "id": "511ab290",
   "metadata": {},
   "outputs": [
    {
     "data": {
      "text/plain": [
       "78.35497835497836"
      ]
     },
     "execution_count": 17,
     "metadata": {},
     "output_type": "execute_result"
    }
   ],
   "source": [
    "gnb_classifier = GaussianNB()\n",
    "\n",
    "gnb_classifier.fit(X_train, y_train)\n",
    "\n",
    "y_pred = gnb_classifier.predict(X_test)\n",
    "\n",
    "accuracy_score_gnb = accuracy_score(y_test, y_pred)\n",
    "\n",
    "accuracy_score_gnb*100"
   ]
  },
  {
   "cell_type": "code",
   "execution_count": 18,
   "id": "705da2ef",
   "metadata": {},
   "outputs": [
    {
     "data": {
      "text/plain": [
       "{'priors': None, 'var_smoothing': 1e-09}"
      ]
     },
     "execution_count": 18,
     "metadata": {},
     "output_type": "execute_result"
    }
   ],
   "source": [
    "gnb_classifier.get_params()"
   ]
  },
  {
   "cell_type": "markdown",
   "id": "8eba09a6",
   "metadata": {},
   "source": [
    "###  KNN Technique :-"
   ]
  },
  {
   "cell_type": "code",
   "execution_count": 19,
   "id": "09129a92",
   "metadata": {},
   "outputs": [
    {
     "name": "stdout",
     "output_type": "stream",
     "text": [
      "78.78787878787878% is the accuracy score in percentage form with knn.\n"
     ]
    }
   ],
   "source": [
    "neigh = KNeighborsClassifier(n_neighbors=17)\n",
    "\n",
    "neigh.fit(X_train.values, y_train.values)\n",
    "\n",
    "y_pred = neigh.predict(X_test.values)\n",
    "\n",
    "knn_accuracy_score = accuracy_score(y_test, y_pred)*100\n",
    "\n",
    "print(f\"{knn_accuracy_score}% is the accuracy score in percentage form with knn.\")"
   ]
  },
  {
   "cell_type": "code",
   "execution_count": 20,
   "id": "3356f6d2",
   "metadata": {},
   "outputs": [
    {
     "data": {
      "text/plain": [
       "{'algorithm': 'auto',\n",
       " 'leaf_size': 30,\n",
       " 'metric': 'minkowski',\n",
       " 'metric_params': None,\n",
       " 'n_jobs': None,\n",
       " 'n_neighbors': 17,\n",
       " 'p': 2,\n",
       " 'weights': 'uniform'}"
      ]
     },
     "execution_count": 20,
     "metadata": {},
     "output_type": "execute_result"
    }
   ],
   "source": [
    "neigh.get_params()"
   ]
  },
  {
   "cell_type": "markdown",
   "id": "783ea753",
   "metadata": {},
   "source": [
    "#### Hyperparameter tuning for KNN :-"
   ]
  },
  {
   "cell_type": "markdown",
   "id": "baffad2f",
   "metadata": {},
   "source": [
    "##### GridSearchCV (KNN)"
   ]
  },
  {
   "cell_type": "code",
   "execution_count": 21,
   "id": "566863cd",
   "metadata": {},
   "outputs": [
    {
     "name": "stdout",
     "output_type": "stream",
     "text": [
      "KNeighborsClassifier(n_neighbors=13) is the Best Estimator according to Exhaustive Hyperparameter search.\n",
      "\n",
      "77.48917748917748% is the accuracy score for the estimator using the best hyparameters suggested by GridSearchCV.\n",
      "77.04918032786885% is the precision score for the estimator using the best hyparameters suggested by GridSearchCV.\n",
      "55.294117647058826% is the recall score for the estimator using the best hyparameters suggested by GridSearchCV.\n",
      "64.38356164383562% is the f1_score for the estimator using the best hyparameters suggested by GridSearchCV.\n"
     ]
    }
   ],
   "source": [
    "params_grid_dict = {\n",
    "    'n_neighbors' : np.array([i for i in range(5,25,2)]),\n",
    "    'weights': ['distance', 'uniform'],\n",
    "    'metric':['minkowski', 'euclidean']\n",
    "}\n",
    "\n",
    "neigh = KNeighborsClassifier()\n",
    "\n",
    "grid_search_cv(neigh,params_grid_dict,X_train=X_train, \n",
    "                   y_train=y_train, X_test=X_test, y_test=y_test)"
   ]
  },
  {
   "cell_type": "markdown",
   "id": "0db16f2b",
   "metadata": {},
   "source": [
    "#### RandomizedSearchCV (KNN) :-"
   ]
  },
  {
   "cell_type": "code",
   "execution_count": 22,
   "id": "2148af25",
   "metadata": {},
   "outputs": [
    {
     "name": "stdout",
     "output_type": "stream",
     "text": [
      "KNeighborsClassifier(metric='euclidean', n_neighbors=31, weights='distance') is the Best Estimator according to Randomized Hyperparameter search.\n",
      "\n",
      "76.62337662337663% is the accuracy score for KNeighborsClassifier() using the best hyparameters suggested by RandomizedSearchCV.\n",
      "78.18181818181819% is the precision score for KNeighborsClassifier() using the best hyparameters suggested by RandomizedSearchCV.\n",
      "50.588235294117645% is the recall score for KNeighborsClassifier() using the best hyparameters suggested by RandomizedSearchCV.\n",
      "61.42857142857143% is the f1_score for KNeighborsClassifier() using the best hyparameters suggested by RandomizedSearchCV.\n"
     ]
    }
   ],
   "source": [
    "neigh = KNeighborsClassifier()\n",
    "\n",
    "params_grid_dict = {\n",
    "    # Increasing the range of n_neighbors to maybe find a better set of hyperparameters.\n",
    "    'n_neighbors' : np.array([i for i in range(5,40,2)]), \n",
    "    'weights': ['distance', 'uniform'],\n",
    "    'metric':['minkowski', 'euclidean']\n",
    "}\n",
    "\n",
    "randomized_search_cv(neigh,params_grid_dict,X_train=X_train, \n",
    "                   y_train=y_train, X_test=X_test, y_test=y_test)"
   ]
  },
  {
   "cell_type": "code",
   "execution_count": null,
   "id": "99d2881a",
   "metadata": {},
   "outputs": [],
   "source": []
  },
  {
   "cell_type": "markdown",
   "id": "789499c9",
   "metadata": {},
   "source": [
    "### Logistic Regression :-"
   ]
  },
  {
   "cell_type": "code",
   "execution_count": 23,
   "id": "082db871",
   "metadata": {},
   "outputs": [
    {
     "name": "stdout",
     "output_type": "stream",
     "text": [
      "78.35497835497836% is the accuracy score in percentage form with LogisticRegression.\n"
     ]
    }
   ],
   "source": [
    "logistic_regression = LogisticRegression(max_iter=200)\n",
    "\n",
    "logistic_regression.fit(X_train, y_train)\n",
    "\n",
    "# Predicting the X_test datapoints :\n",
    "y_pred = logistic_regression.predict(X_test)\n",
    "\n",
    "logistic_accuracy_score = accuracy_score(y_test, y_pred)*100\n",
    "\n",
    "print(f\"{logistic_accuracy_score}% is the accuracy score in percentage form with LogisticRegression.\")"
   ]
  },
  {
   "cell_type": "code",
   "execution_count": 24,
   "id": "2849dcc7",
   "metadata": {},
   "outputs": [
    {
     "data": {
      "text/plain": [
       "{'C': 1.0,\n",
       " 'class_weight': None,\n",
       " 'dual': False,\n",
       " 'fit_intercept': True,\n",
       " 'intercept_scaling': 1,\n",
       " 'l1_ratio': None,\n",
       " 'max_iter': 200,\n",
       " 'multi_class': 'auto',\n",
       " 'n_jobs': None,\n",
       " 'penalty': 'l2',\n",
       " 'random_state': None,\n",
       " 'solver': 'lbfgs',\n",
       " 'tol': 0.0001,\n",
       " 'verbose': 0,\n",
       " 'warm_start': False}"
      ]
     },
     "execution_count": 24,
     "metadata": {},
     "output_type": "execute_result"
    }
   ],
   "source": [
    "logistic_regression.get_params()"
   ]
  },
  {
   "cell_type": "markdown",
   "id": "5b445f40",
   "metadata": {},
   "source": [
    "#### Hyperparameter tuning for LogisticRegression :-"
   ]
  },
  {
   "cell_type": "markdown",
   "id": "a3ea69a5",
   "metadata": {},
   "source": [
    "##### GridSearchCV (LogisticRegression)"
   ]
  },
  {
   "cell_type": "code",
   "execution_count": 25,
   "id": "318f100c",
   "metadata": {},
   "outputs": [
    {
     "name": "stdout",
     "output_type": "stream",
     "text": [
      "LogisticRegression(C=1.623776739188721, solver='newton-cg') is the Best Estimator according to Exhaustive Hyperparameter search.\n",
      "\n",
      "78.35497835497836% is the accuracy score for the estimator using the best hyparameters suggested by GridSearchCV.\n",
      "77.77777777777779% is the precision score for the estimator using the best hyparameters suggested by GridSearchCV.\n",
      "57.647058823529406% is the recall score for the estimator using the best hyparameters suggested by GridSearchCV.\n",
      "66.21621621621621% is the f1_score for the estimator using the best hyparameters suggested by GridSearchCV.\n"
     ]
    }
   ],
   "source": [
    "logistic_regression = LogisticRegression()\n",
    "\n",
    "params_grid_dict = {\n",
    "    'penalty' : ['l1', 'l2', 'elasticnet', 'none'],\n",
    "    'max_iter' : [100, 1000,2500, 5000],\n",
    "    'C' : np.logspace(-4, 4, 20),\n",
    "    'solver' : ['lbfgs','newton-cg','liblinear','sag','saga'],\n",
    "    \n",
    "}\n",
    "\n",
    "grid_search_cv(logistic_regression, params_grid_dict, \n",
    "               X_train=X_train,\n",
    "               y_train = y_train,\n",
    "               X_test = X_test,\n",
    "               y_test = y_test)     "
   ]
  },
  {
   "cell_type": "markdown",
   "id": "c0492285",
   "metadata": {},
   "source": [
    "#### RandomizedSearchCV (LogisticRegression)"
   ]
  },
  {
   "cell_type": "code",
   "execution_count": 26,
   "id": "0065da76",
   "metadata": {},
   "outputs": [
    {
     "name": "stdout",
     "output_type": "stream",
     "text": [
      "LogisticRegression(C=784.7599703514607, max_iter=40, solver='liblinear') is the Best Estimator according to Randomized Hyperparameter search.\n",
      "\n",
      "78.35497835497836% is the accuracy score for LogisticRegression() using the best hyparameters suggested by RandomizedSearchCV.\n",
      "77.77777777777779% is the precision score for LogisticRegression() using the best hyparameters suggested by RandomizedSearchCV.\n",
      "57.647058823529406% is the recall score for LogisticRegression() using the best hyparameters suggested by RandomizedSearchCV.\n",
      "66.21621621621621% is the f1_score for LogisticRegression() using the best hyparameters suggested by RandomizedSearchCV.\n"
     ]
    }
   ],
   "source": [
    "logistic_regression = LogisticRegression()\n",
    "\n",
    "params_grid_dict = {\n",
    "    'penalty' : ['l1', 'l2', 'elasticnet', 'none'],\n",
    "    'max_iter' : [40,50,70,80,100,1000,2500,5000, ],\n",
    "    'C' : np.logspace(-5, 5, 20),\n",
    "    'solver' : ['lbfgs','newton-cg','liblinear','sag','saga'],\n",
    "    \n",
    "}\n",
    "\n",
    "randomized_search_cv(logistic_regression,params_grid_dict,X_train=X_train, \n",
    "                   y_train=y_train, X_test=X_test, y_test=y_test)"
   ]
  },
  {
   "cell_type": "code",
   "execution_count": null,
   "id": "0640007a",
   "metadata": {},
   "outputs": [],
   "source": []
  },
  {
   "cell_type": "markdown",
   "id": "ddff052f",
   "metadata": {},
   "source": [
    "### Decision Trees :-"
   ]
  },
  {
   "cell_type": "code",
   "execution_count": 27,
   "id": "de78be8e",
   "metadata": {},
   "outputs": [
    {
     "name": "stdout",
     "output_type": "stream",
     "text": [
      "70.995670995671% is the accuracy score in percentage form with DecisionTreesTechnique.\n"
     ]
    }
   ],
   "source": [
    "decision_tree = DecisionTreeClassifier(random_state=42)\n",
    "\n",
    "decision_tree.fit(X_train, y_train)\n",
    "\n",
    "y_pred = decision_tree.predict(X_test)\n",
    "\n",
    "accuracy_score_dt = accuracy_score(y_test, y_pred)*100\n",
    "\n",
    "print(f\"{accuracy_score_dt}% is the accuracy score in percentage form with DecisionTreesTechnique.\")"
   ]
  },
  {
   "cell_type": "code",
   "execution_count": 28,
   "id": "3210339a",
   "metadata": {},
   "outputs": [
    {
     "data": {
      "text/plain": [
       "{'ccp_alpha': 0.0,\n",
       " 'class_weight': None,\n",
       " 'criterion': 'gini',\n",
       " 'max_depth': None,\n",
       " 'max_features': None,\n",
       " 'max_leaf_nodes': None,\n",
       " 'min_impurity_decrease': 0.0,\n",
       " 'min_samples_leaf': 1,\n",
       " 'min_samples_split': 2,\n",
       " 'min_weight_fraction_leaf': 0.0,\n",
       " 'random_state': 42,\n",
       " 'splitter': 'best'}"
      ]
     },
     "execution_count": 28,
     "metadata": {},
     "output_type": "execute_result"
    }
   ],
   "source": [
    "decision_tree.get_params()"
   ]
  },
  {
   "cell_type": "markdown",
   "id": "ffd70b3f",
   "metadata": {},
   "source": [
    "### Hyperparameter tunning for DecisionTreeClassifier :-"
   ]
  },
  {
   "cell_type": "markdown",
   "id": "6b8efe6f",
   "metadata": {},
   "source": [
    "#### GridSearchCV (DecisionTreesClassifier)"
   ]
  },
  {
   "cell_type": "code",
   "execution_count": 29,
   "id": "66d8efc5",
   "metadata": {},
   "outputs": [
    {
     "name": "stdout",
     "output_type": "stream",
     "text": [
      "DecisionTreeClassifier(criterion='entropy', max_depth=5,\n",
      "                       min_impurity_decrease=0.01, min_samples_split=90) is the Best Estimator according to Exhaustive Hyperparameter search.\n",
      "\n",
      "77.92207792207793% is the accuracy score for the estimator using the best hyparameters suggested by GridSearchCV.\n",
      "73.61111111111111% is the precision score for the estimator using the best hyparameters suggested by GridSearchCV.\n",
      "62.35294117647059% is the recall score for the estimator using the best hyparameters suggested by GridSearchCV.\n",
      "67.51592356687898% is the f1_score for the estimator using the best hyparameters suggested by GridSearchCV.\n"
     ]
    }
   ],
   "source": [
    "decision_tree = DecisionTreeClassifier()\n",
    "\n",
    "params_grid_dict = {\n",
    "    'max_depth' : np.array([i for i in range(2,20)]),\n",
    "    'criterion' : np.array(['gini', 'entropy']),\n",
    "    'min_impurity_decrease': np.arange(0.01, 0.06, 0.01),\n",
    "    'min_samples_split': np.arange(10,100,10) \n",
    "}\n",
    "\n",
    "grid_search_cv(decision_tree, params_grid_dict, \n",
    "               X_train=X_train,\n",
    "               y_train = y_train,\n",
    "               X_test = X_test,\n",
    "               y_test = y_test)  "
   ]
  },
  {
   "cell_type": "markdown",
   "id": "5c8ff358",
   "metadata": {},
   "source": [
    "#### RandomizedSearchCV (DecisionTrees):-"
   ]
  },
  {
   "cell_type": "code",
   "execution_count": 30,
   "id": "12723305",
   "metadata": {
    "scrolled": true
   },
   "outputs": [
    {
     "name": "stdout",
     "output_type": "stream",
     "text": [
      "DecisionTreeClassifier(criterion='entropy', max_depth=12,\n",
      "                       min_impurity_decrease=0.5700000000000001,\n",
      "                       min_samples_split=70) is the Best Estimator according to Randomized Hyperparameter search.\n",
      "\n",
      "63.20346320346321% is the accuracy score for DecisionTreeClassifier() using the best hyparameters suggested by RandomizedSearchCV.\n",
      "0.0% is the precision score for DecisionTreeClassifier() using the best hyparameters suggested by RandomizedSearchCV.\n",
      "0.0% is the recall score for DecisionTreeClassifier() using the best hyparameters suggested by RandomizedSearchCV.\n",
      "0.0% is the f1_score for DecisionTreeClassifier() using the best hyparameters suggested by RandomizedSearchCV.\n"
     ]
    }
   ],
   "source": [
    "decision_tree = DecisionTreeClassifier()\n",
    "\n",
    "params_grid_dict = {\n",
    "    'max_depth' : np.array([i for i in range(2,30)]),\n",
    "    'criterion' : np.array(['gini', 'entropy']),\n",
    "    'min_impurity_decrease': np.arange(0.01, 1.05, 0.01),\n",
    "    'min_samples_split': np.arange(10,100,10) \n",
    "}\n",
    "\n",
    "randomized_search_cv(decision_tree,params_grid_dict,X_train=X_train, \n",
    "                   y_train=y_train, X_test=X_test, y_test=y_test)"
   ]
  },
  {
   "cell_type": "code",
   "execution_count": null,
   "id": "456955b6",
   "metadata": {},
   "outputs": [],
   "source": []
  },
  {
   "cell_type": "markdown",
   "id": "a0402324",
   "metadata": {},
   "source": [
    "### Support Vector Machine :-"
   ]
  },
  {
   "cell_type": "code",
   "execution_count": 31,
   "id": "ba5fa37c",
   "metadata": {},
   "outputs": [
    {
     "name": "stdout",
     "output_type": "stream",
     "text": [
      "77.05627705627705% is the accuracy score in percentage form with SVM technique.\n"
     ]
    }
   ],
   "source": [
    "svc_model = SVC()\n",
    "svc_model.fit(X_train, y_train)\n",
    "\n",
    "# Predicting the X_test :\n",
    "y_pred = svc_model.predict(X_test)\n",
    "\n",
    "svc_accuracy_score = accuracy_score(y_test, y_pred)*100\n",
    "\n",
    "print(f\"{svc_accuracy_score}% is the accuracy score in percentage form with SVM technique.\")"
   ]
  },
  {
   "cell_type": "code",
   "execution_count": 32,
   "id": "3796ae48",
   "metadata": {},
   "outputs": [
    {
     "data": {
      "text/plain": [
       "{'C': 1.0,\n",
       " 'break_ties': False,\n",
       " 'cache_size': 200,\n",
       " 'class_weight': None,\n",
       " 'coef0': 0.0,\n",
       " 'decision_function_shape': 'ovr',\n",
       " 'degree': 3,\n",
       " 'gamma': 'scale',\n",
       " 'kernel': 'rbf',\n",
       " 'max_iter': -1,\n",
       " 'probability': False,\n",
       " 'random_state': None,\n",
       " 'shrinking': True,\n",
       " 'tol': 0.001,\n",
       " 'verbose': False}"
      ]
     },
     "execution_count": 32,
     "metadata": {},
     "output_type": "execute_result"
    }
   ],
   "source": [
    "svc_model.get_params()"
   ]
  },
  {
   "cell_type": "markdown",
   "id": "5d0057c5",
   "metadata": {},
   "source": [
    "#### Hyperparameter tuning of the above model of SVM :-"
   ]
  },
  {
   "cell_type": "markdown",
   "id": "3e74ce11",
   "metadata": {},
   "source": [
    "#### GridSearchCV (SVM) :-"
   ]
  },
  {
   "cell_type": "code",
   "execution_count": 33,
   "id": "dd103182",
   "metadata": {},
   "outputs": [
    {
     "name": "stdout",
     "output_type": "stream",
     "text": [
      "SVC(C=10, kernel='poly') is the Best Estimator according to Exhaustive Hyperparameter search.\n",
      "\n",
      "79.22077922077922% is the accuracy score for the estimator using the best hyparameters suggested by GridSearchCV.\n",
      "84.90566037735849% is the precision score for the estimator using the best hyparameters suggested by GridSearchCV.\n",
      "52.94117647058824% is the recall score for the estimator using the best hyparameters suggested by GridSearchCV.\n",
      "65.21739130434784% is the f1_score for the estimator using the best hyparameters suggested by GridSearchCV.\n"
     ]
    }
   ],
   "source": [
    "svc_model = SVC()\n",
    "\n",
    "param_grid_dict = {\n",
    "    'C':[0.1, 1, 10, 100],\n",
    "   'kernel' : ['rbf', 'poly','sigmoid']\n",
    "}\n",
    "\n",
    "grid_search_cv(svc_model, param_grid_dict, \n",
    "               X_train=X_train,\n",
    "               y_train = y_train,\n",
    "               X_test = X_test,\n",
    "               y_test = y_test)"
   ]
  },
  {
   "cell_type": "code",
   "execution_count": null,
   "id": "24391331",
   "metadata": {},
   "outputs": [],
   "source": []
  },
  {
   "cell_type": "markdown",
   "id": "587aef72",
   "metadata": {},
   "source": [
    "#### RandomizedSearchCV (SVM) :-"
   ]
  },
  {
   "cell_type": "code",
   "execution_count": 34,
   "id": "ab40fe30",
   "metadata": {},
   "outputs": [],
   "source": [
    "#svc_model = SVC()\n",
    "\n",
    "#param_grid_dict = {\n",
    "#    'C':[0.1, 1, 10, 100, 1000],\n",
    "#    'kernel' : ['rbf', 'poly','sigmoid', 'linear'],\n",
    "#    'gamma': ['scale', 'auto']\n",
    "#    }\n",
    "\n",
    "#randomized_search_cv(svc_model,param_grid_dict,X_train=X_train, \n",
    "#                   y_train=y_train, X_test=X_test, y_test=y_test)"
   ]
  },
  {
   "cell_type": "code",
   "execution_count": 35,
   "id": "86d47fb9",
   "metadata": {},
   "outputs": [],
   "source": [
    "#param_grid_dict = {\n",
    "#    'C':[0.1, 1, 10, 100, 1000],\n",
    "#    'kernel' : ['rbf', 'poly','sigmoid', 'linear'],\n",
    "#    'gamma': ['scale', 'auto']\n",
    "#    }\n",
    "\n",
    "\n",
    "#randomized_search = RandomizedSearchCV(estimator = svc_model, param_distributions = param_grid_dict, cv=5, \\\n",
    "#                         scoring='accuracy', n_iter=3) \n",
    "#\n",
    "#randomized_search.fit(X_train, y_train)"
   ]
  },
  {
   "cell_type": "code",
   "execution_count": 36,
   "id": "c6752cb4",
   "metadata": {},
   "outputs": [],
   "source": [
    "#randomized_search.best_estimator_"
   ]
  },
  {
   "cell_type": "code",
   "execution_count": 37,
   "id": "8fd32ca8",
   "metadata": {},
   "outputs": [],
   "source": [
    "#randomized_search.best_score_"
   ]
  },
  {
   "cell_type": "code",
   "execution_count": 38,
   "id": "c90bb039",
   "metadata": {},
   "outputs": [],
   "source": [
    "# Training the SVM classifier with the best hyperparameters available from GridSearchCV and RandomizedSearchCV :-\n",
    "\n",
    "#svm_model = SVC(C=100, kernel='poly', gamma='scale')\n",
    "\n",
    "#svm_model.fit(X_train, y_train)\n",
    "\n",
    "#y_pred = svm_model.predict(X_test)\n",
    "#\n",
    "#accuracy_score_svm = accuracy_score(y_test, y_pred)\n",
    "\n",
    "#accuracy_score_svm*100"
   ]
  },
  {
   "cell_type": "code",
   "execution_count": null,
   "id": "330397b0",
   "metadata": {},
   "outputs": [],
   "source": []
  },
  {
   "cell_type": "code",
   "execution_count": null,
   "id": "5b68bafe",
   "metadata": {},
   "outputs": [],
   "source": []
  },
  {
   "cell_type": "code",
   "execution_count": null,
   "id": "70ad0934",
   "metadata": {},
   "outputs": [],
   "source": []
  },
  {
   "cell_type": "markdown",
   "id": "305ad892",
   "metadata": {},
   "source": [
    "### RandomForestClassifier :-"
   ]
  },
  {
   "cell_type": "code",
   "execution_count": 39,
   "id": "15f57e64",
   "metadata": {},
   "outputs": [
    {
     "name": "stdout",
     "output_type": "stream",
     "text": [
      "81.38528138528139% is the accuracy score in percentage form with RandomForestClassifier technique.\n"
     ]
    }
   ],
   "source": [
    "random_forest = RandomForestClassifier(random_state=42)\n",
    "\n",
    "random_forest.fit(X_train, y_train)\n",
    "\n",
    "y_pred = random_forest.predict(X_test)\n",
    "\n",
    "accuracy_score_rf = accuracy_score(y_test, y_pred)*100\n",
    "\n",
    "print(f\"{accuracy_score_rf}% is the accuracy score in percentage form with RandomForestClassifier technique.\")"
   ]
  },
  {
   "cell_type": "code",
   "execution_count": 40,
   "id": "61872108",
   "metadata": {},
   "outputs": [
    {
     "data": {
      "text/plain": [
       "{'bootstrap': True,\n",
       " 'ccp_alpha': 0.0,\n",
       " 'class_weight': None,\n",
       " 'criterion': 'gini',\n",
       " 'max_depth': None,\n",
       " 'max_features': 'auto',\n",
       " 'max_leaf_nodes': None,\n",
       " 'max_samples': None,\n",
       " 'min_impurity_decrease': 0.0,\n",
       " 'min_samples_leaf': 1,\n",
       " 'min_samples_split': 2,\n",
       " 'min_weight_fraction_leaf': 0.0,\n",
       " 'n_estimators': 100,\n",
       " 'n_jobs': None,\n",
       " 'oob_score': False,\n",
       " 'random_state': 42,\n",
       " 'verbose': 0,\n",
       " 'warm_start': False}"
      ]
     },
     "execution_count": 40,
     "metadata": {},
     "output_type": "execute_result"
    }
   ],
   "source": [
    "random_forest.get_params()"
   ]
  },
  {
   "cell_type": "markdown",
   "id": "7d0cc1e9",
   "metadata": {},
   "source": [
    "#### Hyperparameter tuning for the above model of \"RandomForestClassifier\" :-"
   ]
  },
  {
   "cell_type": "markdown",
   "id": "4012f355",
   "metadata": {},
   "source": [
    "#### GridSearchCV  (RandomForestClassifier):-"
   ]
  },
  {
   "cell_type": "code",
   "execution_count": 41,
   "id": "40d6f46e",
   "metadata": {},
   "outputs": [
    {
     "name": "stdout",
     "output_type": "stream",
     "text": [
      "RandomForestClassifier(max_depth=7, n_estimators=60) is the Best Estimator according to Exhaustive Hyperparameter search.\n",
      "\n",
      "77.05627705627705% is the accuracy score for the estimator using the best hyparameters suggested by GridSearchCV.\n",
      "75.0% is the precision score for the estimator using the best hyparameters suggested by GridSearchCV.\n",
      "56.470588235294116% is the recall score for the estimator using the best hyparameters suggested by GridSearchCV.\n",
      "64.42953020134227% is the f1_score for the estimator using the best hyparameters suggested by GridSearchCV.\n"
     ]
    }
   ],
   "source": [
    "random_forest = RandomForestClassifier()\n",
    "\n",
    "param_grid_dict = {\n",
    "    'max_depth':[2,3,4,5,6,7],\n",
    "    'n_estimators':[10, 20, 25, 30, 35, 40, 50, 60, 70, 80, 90, 100],\n",
    "}\n",
    "\n",
    "grid_search_cv(random_forest, param_grid_dict, \n",
    "               X_train=X_train,\n",
    "               y_train = y_train,\n",
    "               X_test = X_test,\n",
    "               y_test = y_test)"
   ]
  },
  {
   "cell_type": "markdown",
   "id": "d432642b",
   "metadata": {},
   "source": [
    "##### RandomizedSearchCV (RandomForestClassifier) :-"
   ]
  },
  {
   "cell_type": "code",
   "execution_count": 42,
   "id": "be934652",
   "metadata": {},
   "outputs": [
    {
     "name": "stdout",
     "output_type": "stream",
     "text": [
      "RandomForestClassifier(max_depth=8, min_impurity_decrease=0.01,\n",
      "                       min_samples_split=40, n_estimators=70) is the Best Estimator according to Randomized Hyperparameter search.\n",
      "\n",
      "76.62337662337663% is the accuracy score for RandomForestClassifier() using the best hyparameters suggested by RandomizedSearchCV.\n",
      "78.18181818181819% is the precision score for RandomForestClassifier() using the best hyparameters suggested by RandomizedSearchCV.\n",
      "50.588235294117645% is the recall score for RandomForestClassifier() using the best hyparameters suggested by RandomizedSearchCV.\n",
      "61.42857142857143% is the f1_score for RandomForestClassifier() using the best hyparameters suggested by RandomizedSearchCV.\n"
     ]
    }
   ],
   "source": [
    "random_forest = RandomForestClassifier()\n",
    "\n",
    "params_grid_dict = {\n",
    "    'max_depth':np.arange(1,40),\n",
    "    'n_estimators':np.arange(30,151,20),\n",
    "    'min_impurity_decrease': np.arange(0.01, 0.06, 0.01),\n",
    "    'min_samples_split': np.arange(10,100,10) \n",
    "}\n",
    "\n",
    "randomized_search_cv(random_forest, params_grid_dict, X_train=X_train,\n",
    "                    y_train=y_train, X_test=X_test, y_test=y_test)"
   ]
  },
  {
   "cell_type": "code",
   "execution_count": null,
   "id": "163b71ae",
   "metadata": {},
   "outputs": [],
   "source": []
  },
  {
   "cell_type": "markdown",
   "id": "174413d7",
   "metadata": {},
   "source": [
    "### Adaboost Classifier :-"
   ]
  },
  {
   "cell_type": "code",
   "execution_count": 44,
   "id": "3b291edc",
   "metadata": {},
   "outputs": [
    {
     "name": "stdout",
     "output_type": "stream",
     "text": [
      "78.35497835497836% is the accuracy score using AdaboostClassifier.\n"
     ]
    }
   ],
   "source": [
    "adaboost_classifier = AdaBoostClassifier(random_state=42)\n",
    "\n",
    "adaboost_classifier.fit(X_train.values, y_train.values)\n",
    "\n",
    "y_pred = adaboost_classifier.predict(X_test.values)\n",
    "\n",
    "accuracy_score_ab = accuracy_score(y_test, y_pred)\n",
    "\n",
    "print(f'{accuracy_score_ab*100}% is the accuracy score using AdaboostClassifier.')"
   ]
  },
  {
   "cell_type": "code",
   "execution_count": 45,
   "id": "b8d98e1c",
   "metadata": {},
   "outputs": [
    {
     "data": {
      "text/plain": [
       "{'algorithm': 'SAMME.R',\n",
       " 'base_estimator': None,\n",
       " 'learning_rate': 1.0,\n",
       " 'n_estimators': 50,\n",
       " 'random_state': 42}"
      ]
     },
     "execution_count": 45,
     "metadata": {},
     "output_type": "execute_result"
    }
   ],
   "source": [
    "adaboost_classifier.get_params()"
   ]
  },
  {
   "cell_type": "markdown",
   "id": "23b8cada",
   "metadata": {},
   "source": [
    "### Hyperparameter Tuning for Adaboost Classifier :-"
   ]
  },
  {
   "cell_type": "markdown",
   "id": "5c848fe1",
   "metadata": {},
   "source": [
    "#### GridSearchCV (AdaBoost Classifier) :-"
   ]
  },
  {
   "cell_type": "code",
   "execution_count": 46,
   "id": "151cb7d0",
   "metadata": {},
   "outputs": [
    {
     "name": "stdout",
     "output_type": "stream",
     "text": [
      "AdaBoostClassifier(n_estimators=90) is the Best Estimator according to Exhaustive Hyperparameter search.\n",
      "\n",
      "80.08658008658008% is the accuracy score for the estimator using the best hyparameters suggested by GridSearchCV.\n",
      "76.71232876712328% is the precision score for the estimator using the best hyparameters suggested by GridSearchCV.\n",
      "65.88235294117646% is the recall score for the estimator using the best hyparameters suggested by GridSearchCV.\n",
      "70.88607594936708% is the f1_score for the estimator using the best hyparameters suggested by GridSearchCV.\n"
     ]
    }
   ],
   "source": [
    "adaboost_classifier = AdaBoostClassifier()\n",
    "\n",
    "param_grid_dict = {\n",
    "    'n_estimators':np.arange(50,100,10),\n",
    "    'learning_rate':np.arange(1.0,10.0,1.0)\n",
    "}\n",
    "\n",
    "grid_search_cv(adaboost_classifier, param_grid_dict, \n",
    "               X_train=X_train,\n",
    "               y_train = y_train,\n",
    "               X_test = X_test,\n",
    "               y_test = y_test)"
   ]
  },
  {
   "cell_type": "markdown",
   "id": "d7880a9e",
   "metadata": {},
   "source": [
    "#### RandomizedSearchCV (AdaBoost Classifier) :-"
   ]
  },
  {
   "cell_type": "code",
   "execution_count": 51,
   "id": "7e6deb44",
   "metadata": {},
   "outputs": [
    {
     "name": "stdout",
     "output_type": "stream",
     "text": [
      "AdaBoostClassifier(learning_rate=2, n_estimators=80) is the Best Estimator according to Randomized Hyperparameter search.\n",
      "\n",
      "75.32467532467533% is the accuracy score for AdaBoostClassifier() using the best hyparameters suggested by RandomizedSearchCV.\n",
      "67.94871794871796% is the precision score for AdaBoostClassifier() using the best hyparameters suggested by RandomizedSearchCV.\n",
      "62.35294117647059% is the recall score for AdaBoostClassifier() using the best hyparameters suggested by RandomizedSearchCV.\n",
      "65.03067484662577% is the f1_score for AdaBoostClassifier() using the best hyparameters suggested by RandomizedSearchCV.\n"
     ]
    }
   ],
   "source": [
    "adaboost_classifier = AdaBoostClassifier()\n",
    "\n",
    "param_grid_dict = {\n",
    "    'n_estimators':np.arange(50,110,10),\n",
    "    'learning_rate':np.arange(1,20,1)\n",
    "}\n",
    "\n",
    "randomized_search_cv(adaboost_classifier, param_grid_dict, X_train,\n",
    "                    y_train=y_train, X_test=X_test, y_test=y_test)"
   ]
  },
  {
   "cell_type": "code",
   "execution_count": null,
   "id": "8912a788",
   "metadata": {},
   "outputs": [],
   "source": []
  },
  {
   "cell_type": "code",
   "execution_count": null,
   "id": "87caa860",
   "metadata": {},
   "outputs": [],
   "source": []
  },
  {
   "cell_type": "code",
   "execution_count": null,
   "id": "b72c8c4f",
   "metadata": {},
   "outputs": [],
   "source": []
  },
  {
   "cell_type": "markdown",
   "id": "23a36ce6",
   "metadata": {},
   "source": [
    "## Mean Imputation & Feature Scaling :-"
   ]
  },
  {
   "cell_type": "code",
   "execution_count": null,
   "id": "7552a3cb",
   "metadata": {},
   "outputs": [],
   "source": []
  },
  {
   "cell_type": "code",
   "execution_count": 52,
   "id": "bd0954e6",
   "metadata": {},
   "outputs": [],
   "source": [
    "imp = SimpleImputer(missing_values=0, strategy='mean')"
   ]
  },
  {
   "cell_type": "code",
   "execution_count": 53,
   "id": "d10e678e",
   "metadata": {},
   "outputs": [
    {
     "data": {
      "text/html": [
       "<div>\n",
       "<style scoped>\n",
       "    .dataframe tbody tr th:only-of-type {\n",
       "        vertical-align: middle;\n",
       "    }\n",
       "\n",
       "    .dataframe tbody tr th {\n",
       "        vertical-align: top;\n",
       "    }\n",
       "\n",
       "    .dataframe thead th {\n",
       "        text-align: right;\n",
       "    }\n",
       "</style>\n",
       "<table border=\"1\" class=\"dataframe\">\n",
       "  <thead>\n",
       "    <tr style=\"text-align: right;\">\n",
       "      <th></th>\n",
       "      <th>preg</th>\n",
       "      <th>glu</th>\n",
       "      <th>bp</th>\n",
       "      <th>skinThickness</th>\n",
       "      <th>insulin</th>\n",
       "      <th>bmi</th>\n",
       "      <th>dpf</th>\n",
       "      <th>age</th>\n",
       "    </tr>\n",
       "  </thead>\n",
       "  <tbody>\n",
       "    <tr>\n",
       "      <th>88</th>\n",
       "      <td>15</td>\n",
       "      <td>136</td>\n",
       "      <td>70</td>\n",
       "      <td>32</td>\n",
       "      <td>110</td>\n",
       "      <td>37.1</td>\n",
       "      <td>0.153</td>\n",
       "      <td>43</td>\n",
       "    </tr>\n",
       "    <tr>\n",
       "      <th>467</th>\n",
       "      <td>0</td>\n",
       "      <td>97</td>\n",
       "      <td>64</td>\n",
       "      <td>36</td>\n",
       "      <td>100</td>\n",
       "      <td>36.8</td>\n",
       "      <td>0.600</td>\n",
       "      <td>25</td>\n",
       "    </tr>\n",
       "    <tr>\n",
       "      <th>550</th>\n",
       "      <td>1</td>\n",
       "      <td>116</td>\n",
       "      <td>70</td>\n",
       "      <td>28</td>\n",
       "      <td>0</td>\n",
       "      <td>27.4</td>\n",
       "      <td>0.204</td>\n",
       "      <td>21</td>\n",
       "    </tr>\n",
       "    <tr>\n",
       "      <th>147</th>\n",
       "      <td>2</td>\n",
       "      <td>106</td>\n",
       "      <td>64</td>\n",
       "      <td>35</td>\n",
       "      <td>119</td>\n",
       "      <td>30.5</td>\n",
       "      <td>1.400</td>\n",
       "      <td>34</td>\n",
       "    </tr>\n",
       "    <tr>\n",
       "      <th>481</th>\n",
       "      <td>0</td>\n",
       "      <td>123</td>\n",
       "      <td>88</td>\n",
       "      <td>37</td>\n",
       "      <td>0</td>\n",
       "      <td>35.2</td>\n",
       "      <td>0.197</td>\n",
       "      <td>29</td>\n",
       "    </tr>\n",
       "    <tr>\n",
       "      <th>...</th>\n",
       "      <td>...</td>\n",
       "      <td>...</td>\n",
       "      <td>...</td>\n",
       "      <td>...</td>\n",
       "      <td>...</td>\n",
       "      <td>...</td>\n",
       "      <td>...</td>\n",
       "      <td>...</td>\n",
       "    </tr>\n",
       "    <tr>\n",
       "      <th>645</th>\n",
       "      <td>2</td>\n",
       "      <td>157</td>\n",
       "      <td>74</td>\n",
       "      <td>35</td>\n",
       "      <td>440</td>\n",
       "      <td>39.4</td>\n",
       "      <td>0.134</td>\n",
       "      <td>30</td>\n",
       "    </tr>\n",
       "    <tr>\n",
       "      <th>715</th>\n",
       "      <td>7</td>\n",
       "      <td>187</td>\n",
       "      <td>50</td>\n",
       "      <td>33</td>\n",
       "      <td>392</td>\n",
       "      <td>33.9</td>\n",
       "      <td>0.826</td>\n",
       "      <td>34</td>\n",
       "    </tr>\n",
       "    <tr>\n",
       "      <th>72</th>\n",
       "      <td>13</td>\n",
       "      <td>126</td>\n",
       "      <td>90</td>\n",
       "      <td>0</td>\n",
       "      <td>0</td>\n",
       "      <td>43.4</td>\n",
       "      <td>0.583</td>\n",
       "      <td>42</td>\n",
       "    </tr>\n",
       "    <tr>\n",
       "      <th>235</th>\n",
       "      <td>4</td>\n",
       "      <td>171</td>\n",
       "      <td>72</td>\n",
       "      <td>0</td>\n",
       "      <td>0</td>\n",
       "      <td>43.6</td>\n",
       "      <td>0.479</td>\n",
       "      <td>26</td>\n",
       "    </tr>\n",
       "    <tr>\n",
       "      <th>37</th>\n",
       "      <td>9</td>\n",
       "      <td>102</td>\n",
       "      <td>76</td>\n",
       "      <td>37</td>\n",
       "      <td>0</td>\n",
       "      <td>32.9</td>\n",
       "      <td>0.665</td>\n",
       "      <td>46</td>\n",
       "    </tr>\n",
       "  </tbody>\n",
       "</table>\n",
       "<p>537 rows × 8 columns</p>\n",
       "</div>"
      ],
      "text/plain": [
       "     preg  glu  bp  skinThickness  insulin   bmi    dpf  age\n",
       "88     15  136  70             32      110  37.1  0.153   43\n",
       "467     0   97  64             36      100  36.8  0.600   25\n",
       "550     1  116  70             28        0  27.4  0.204   21\n",
       "147     2  106  64             35      119  30.5  1.400   34\n",
       "481     0  123  88             37        0  35.2  0.197   29\n",
       "..    ...  ...  ..            ...      ...   ...    ...  ...\n",
       "645     2  157  74             35      440  39.4  0.134   30\n",
       "715     7  187  50             33      392  33.9  0.826   34\n",
       "72     13  126  90              0        0  43.4  0.583   42\n",
       "235     4  171  72              0        0  43.6  0.479   26\n",
       "37      9  102  76             37        0  32.9  0.665   46\n",
       "\n",
       "[537 rows x 8 columns]"
      ]
     },
     "execution_count": 53,
     "metadata": {},
     "output_type": "execute_result"
    }
   ],
   "source": [
    "X_train"
   ]
  },
  {
   "cell_type": "code",
   "execution_count": 54,
   "id": "677d482d",
   "metadata": {},
   "outputs": [
    {
     "data": {
      "text/html": [
       "<div>\n",
       "<style scoped>\n",
       "    .dataframe tbody tr th:only-of-type {\n",
       "        vertical-align: middle;\n",
       "    }\n",
       "\n",
       "    .dataframe tbody tr th {\n",
       "        vertical-align: top;\n",
       "    }\n",
       "\n",
       "    .dataframe thead th {\n",
       "        text-align: right;\n",
       "    }\n",
       "</style>\n",
       "<table border=\"1\" class=\"dataframe\">\n",
       "  <thead>\n",
       "    <tr style=\"text-align: right;\">\n",
       "      <th></th>\n",
       "      <th>preg</th>\n",
       "      <th>glu</th>\n",
       "      <th>bp</th>\n",
       "      <th>skinThickness</th>\n",
       "      <th>insulin</th>\n",
       "      <th>bmi</th>\n",
       "      <th>dpf</th>\n",
       "      <th>age</th>\n",
       "    </tr>\n",
       "  </thead>\n",
       "  <tbody>\n",
       "    <tr>\n",
       "      <th>285</th>\n",
       "      <td>7</td>\n",
       "      <td>136</td>\n",
       "      <td>74</td>\n",
       "      <td>26</td>\n",
       "      <td>135</td>\n",
       "      <td>26.0</td>\n",
       "      <td>0.647</td>\n",
       "      <td>51</td>\n",
       "    </tr>\n",
       "    <tr>\n",
       "      <th>101</th>\n",
       "      <td>1</td>\n",
       "      <td>151</td>\n",
       "      <td>60</td>\n",
       "      <td>0</td>\n",
       "      <td>0</td>\n",
       "      <td>26.1</td>\n",
       "      <td>0.179</td>\n",
       "      <td>22</td>\n",
       "    </tr>\n",
       "    <tr>\n",
       "      <th>581</th>\n",
       "      <td>6</td>\n",
       "      <td>109</td>\n",
       "      <td>60</td>\n",
       "      <td>27</td>\n",
       "      <td>0</td>\n",
       "      <td>25.0</td>\n",
       "      <td>0.206</td>\n",
       "      <td>27</td>\n",
       "    </tr>\n",
       "    <tr>\n",
       "      <th>352</th>\n",
       "      <td>3</td>\n",
       "      <td>61</td>\n",
       "      <td>82</td>\n",
       "      <td>28</td>\n",
       "      <td>0</td>\n",
       "      <td>34.4</td>\n",
       "      <td>0.243</td>\n",
       "      <td>46</td>\n",
       "    </tr>\n",
       "    <tr>\n",
       "      <th>726</th>\n",
       "      <td>1</td>\n",
       "      <td>116</td>\n",
       "      <td>78</td>\n",
       "      <td>29</td>\n",
       "      <td>180</td>\n",
       "      <td>36.1</td>\n",
       "      <td>0.496</td>\n",
       "      <td>25</td>\n",
       "    </tr>\n",
       "    <tr>\n",
       "      <th>...</th>\n",
       "      <td>...</td>\n",
       "      <td>...</td>\n",
       "      <td>...</td>\n",
       "      <td>...</td>\n",
       "      <td>...</td>\n",
       "      <td>...</td>\n",
       "      <td>...</td>\n",
       "      <td>...</td>\n",
       "    </tr>\n",
       "    <tr>\n",
       "      <th>241</th>\n",
       "      <td>4</td>\n",
       "      <td>91</td>\n",
       "      <td>70</td>\n",
       "      <td>32</td>\n",
       "      <td>88</td>\n",
       "      <td>33.1</td>\n",
       "      <td>0.446</td>\n",
       "      <td>22</td>\n",
       "    </tr>\n",
       "    <tr>\n",
       "      <th>599</th>\n",
       "      <td>1</td>\n",
       "      <td>109</td>\n",
       "      <td>38</td>\n",
       "      <td>18</td>\n",
       "      <td>120</td>\n",
       "      <td>23.1</td>\n",
       "      <td>0.407</td>\n",
       "      <td>26</td>\n",
       "    </tr>\n",
       "    <tr>\n",
       "      <th>650</th>\n",
       "      <td>1</td>\n",
       "      <td>91</td>\n",
       "      <td>54</td>\n",
       "      <td>25</td>\n",
       "      <td>100</td>\n",
       "      <td>25.2</td>\n",
       "      <td>0.234</td>\n",
       "      <td>23</td>\n",
       "    </tr>\n",
       "    <tr>\n",
       "      <th>11</th>\n",
       "      <td>10</td>\n",
       "      <td>168</td>\n",
       "      <td>74</td>\n",
       "      <td>0</td>\n",
       "      <td>0</td>\n",
       "      <td>38.0</td>\n",
       "      <td>0.537</td>\n",
       "      <td>34</td>\n",
       "    </tr>\n",
       "    <tr>\n",
       "      <th>214</th>\n",
       "      <td>9</td>\n",
       "      <td>112</td>\n",
       "      <td>82</td>\n",
       "      <td>32</td>\n",
       "      <td>175</td>\n",
       "      <td>34.2</td>\n",
       "      <td>0.260</td>\n",
       "      <td>36</td>\n",
       "    </tr>\n",
       "  </tbody>\n",
       "</table>\n",
       "<p>231 rows × 8 columns</p>\n",
       "</div>"
      ],
      "text/plain": [
       "     preg  glu  bp  skinThickness  insulin   bmi    dpf  age\n",
       "285     7  136  74             26      135  26.0  0.647   51\n",
       "101     1  151  60              0        0  26.1  0.179   22\n",
       "581     6  109  60             27        0  25.0  0.206   27\n",
       "352     3   61  82             28        0  34.4  0.243   46\n",
       "726     1  116  78             29      180  36.1  0.496   25\n",
       "..    ...  ...  ..            ...      ...   ...    ...  ...\n",
       "241     4   91  70             32       88  33.1  0.446   22\n",
       "599     1  109  38             18      120  23.1  0.407   26\n",
       "650     1   91  54             25      100  25.2  0.234   23\n",
       "11     10  168  74              0        0  38.0  0.537   34\n",
       "214     9  112  82             32      175  34.2  0.260   36\n",
       "\n",
       "[231 rows x 8 columns]"
      ]
     },
     "execution_count": 54,
     "metadata": {},
     "output_type": "execute_result"
    }
   ],
   "source": [
    "X_test"
   ]
  },
  {
   "cell_type": "code",
   "execution_count": 55,
   "id": "006fdabc",
   "metadata": {},
   "outputs": [
    {
     "data": {
      "text/html": [
       "<div>\n",
       "<style scoped>\n",
       "    .dataframe tbody tr th:only-of-type {\n",
       "        vertical-align: middle;\n",
       "    }\n",
       "\n",
       "    .dataframe tbody tr th {\n",
       "        vertical-align: top;\n",
       "    }\n",
       "\n",
       "    .dataframe thead th {\n",
       "        text-align: right;\n",
       "    }\n",
       "</style>\n",
       "<table border=\"1\" class=\"dataframe\">\n",
       "  <thead>\n",
       "    <tr style=\"text-align: right;\">\n",
       "      <th></th>\n",
       "      <th>glu</th>\n",
       "      <th>bp</th>\n",
       "      <th>skinThickness</th>\n",
       "      <th>insulin</th>\n",
       "      <th>bmi</th>\n",
       "      <th>dpf</th>\n",
       "      <th>age</th>\n",
       "    </tr>\n",
       "  </thead>\n",
       "  <tbody>\n",
       "    <tr>\n",
       "      <th>88</th>\n",
       "      <td>136</td>\n",
       "      <td>70</td>\n",
       "      <td>32</td>\n",
       "      <td>110</td>\n",
       "      <td>37.1</td>\n",
       "      <td>0.153</td>\n",
       "      <td>43</td>\n",
       "    </tr>\n",
       "    <tr>\n",
       "      <th>467</th>\n",
       "      <td>97</td>\n",
       "      <td>64</td>\n",
       "      <td>36</td>\n",
       "      <td>100</td>\n",
       "      <td>36.8</td>\n",
       "      <td>0.600</td>\n",
       "      <td>25</td>\n",
       "    </tr>\n",
       "    <tr>\n",
       "      <th>550</th>\n",
       "      <td>116</td>\n",
       "      <td>70</td>\n",
       "      <td>28</td>\n",
       "      <td>0</td>\n",
       "      <td>27.4</td>\n",
       "      <td>0.204</td>\n",
       "      <td>21</td>\n",
       "    </tr>\n",
       "    <tr>\n",
       "      <th>147</th>\n",
       "      <td>106</td>\n",
       "      <td>64</td>\n",
       "      <td>35</td>\n",
       "      <td>119</td>\n",
       "      <td>30.5</td>\n",
       "      <td>1.400</td>\n",
       "      <td>34</td>\n",
       "    </tr>\n",
       "    <tr>\n",
       "      <th>481</th>\n",
       "      <td>123</td>\n",
       "      <td>88</td>\n",
       "      <td>37</td>\n",
       "      <td>0</td>\n",
       "      <td>35.2</td>\n",
       "      <td>0.197</td>\n",
       "      <td>29</td>\n",
       "    </tr>\n",
       "    <tr>\n",
       "      <th>...</th>\n",
       "      <td>...</td>\n",
       "      <td>...</td>\n",
       "      <td>...</td>\n",
       "      <td>...</td>\n",
       "      <td>...</td>\n",
       "      <td>...</td>\n",
       "      <td>...</td>\n",
       "    </tr>\n",
       "    <tr>\n",
       "      <th>645</th>\n",
       "      <td>157</td>\n",
       "      <td>74</td>\n",
       "      <td>35</td>\n",
       "      <td>440</td>\n",
       "      <td>39.4</td>\n",
       "      <td>0.134</td>\n",
       "      <td>30</td>\n",
       "    </tr>\n",
       "    <tr>\n",
       "      <th>715</th>\n",
       "      <td>187</td>\n",
       "      <td>50</td>\n",
       "      <td>33</td>\n",
       "      <td>392</td>\n",
       "      <td>33.9</td>\n",
       "      <td>0.826</td>\n",
       "      <td>34</td>\n",
       "    </tr>\n",
       "    <tr>\n",
       "      <th>72</th>\n",
       "      <td>126</td>\n",
       "      <td>90</td>\n",
       "      <td>0</td>\n",
       "      <td>0</td>\n",
       "      <td>43.4</td>\n",
       "      <td>0.583</td>\n",
       "      <td>42</td>\n",
       "    </tr>\n",
       "    <tr>\n",
       "      <th>235</th>\n",
       "      <td>171</td>\n",
       "      <td>72</td>\n",
       "      <td>0</td>\n",
       "      <td>0</td>\n",
       "      <td>43.6</td>\n",
       "      <td>0.479</td>\n",
       "      <td>26</td>\n",
       "    </tr>\n",
       "    <tr>\n",
       "      <th>37</th>\n",
       "      <td>102</td>\n",
       "      <td>76</td>\n",
       "      <td>37</td>\n",
       "      <td>0</td>\n",
       "      <td>32.9</td>\n",
       "      <td>0.665</td>\n",
       "      <td>46</td>\n",
       "    </tr>\n",
       "  </tbody>\n",
       "</table>\n",
       "<p>537 rows × 7 columns</p>\n",
       "</div>"
      ],
      "text/plain": [
       "     glu  bp  skinThickness  insulin   bmi    dpf  age\n",
       "88   136  70             32      110  37.1  0.153   43\n",
       "467   97  64             36      100  36.8  0.600   25\n",
       "550  116  70             28        0  27.4  0.204   21\n",
       "147  106  64             35      119  30.5  1.400   34\n",
       "481  123  88             37        0  35.2  0.197   29\n",
       "..   ...  ..            ...      ...   ...    ...  ...\n",
       "645  157  74             35      440  39.4  0.134   30\n",
       "715  187  50             33      392  33.9  0.826   34\n",
       "72   126  90              0        0  43.4  0.583   42\n",
       "235  171  72              0        0  43.6  0.479   26\n",
       "37   102  76             37        0  32.9  0.665   46\n",
       "\n",
       "[537 rows x 7 columns]"
      ]
     },
     "execution_count": 55,
     "metadata": {},
     "output_type": "execute_result"
    }
   ],
   "source": [
    "X_train_ = X_train.drop(columns=['preg'])\n",
    "\n",
    "X_train_"
   ]
  },
  {
   "cell_type": "markdown",
   "id": "345e58ea",
   "metadata": {},
   "source": [
    "\n",
    "\n",
    "\n",
    "The reason behind droping 'preg' below is so that, it does not get transformed where it has zero values. As, pregnancy can be zero in any case."
   ]
  },
  {
   "cell_type": "code",
   "execution_count": 56,
   "id": "652d5cd9",
   "metadata": {},
   "outputs": [
    {
     "data": {
      "text/html": [
       "<div>\n",
       "<style scoped>\n",
       "    .dataframe tbody tr th:only-of-type {\n",
       "        vertical-align: middle;\n",
       "    }\n",
       "\n",
       "    .dataframe tbody tr th {\n",
       "        vertical-align: top;\n",
       "    }\n",
       "\n",
       "    .dataframe thead th {\n",
       "        text-align: right;\n",
       "    }\n",
       "</style>\n",
       "<table border=\"1\" class=\"dataframe\">\n",
       "  <thead>\n",
       "    <tr style=\"text-align: right;\">\n",
       "      <th></th>\n",
       "      <th>glu</th>\n",
       "      <th>bp</th>\n",
       "      <th>skinThickness</th>\n",
       "      <th>insulin</th>\n",
       "      <th>bmi</th>\n",
       "      <th>dpf</th>\n",
       "      <th>age</th>\n",
       "    </tr>\n",
       "  </thead>\n",
       "  <tbody>\n",
       "    <tr>\n",
       "      <th>285</th>\n",
       "      <td>136</td>\n",
       "      <td>74</td>\n",
       "      <td>26</td>\n",
       "      <td>135</td>\n",
       "      <td>26.0</td>\n",
       "      <td>0.647</td>\n",
       "      <td>51</td>\n",
       "    </tr>\n",
       "    <tr>\n",
       "      <th>101</th>\n",
       "      <td>151</td>\n",
       "      <td>60</td>\n",
       "      <td>0</td>\n",
       "      <td>0</td>\n",
       "      <td>26.1</td>\n",
       "      <td>0.179</td>\n",
       "      <td>22</td>\n",
       "    </tr>\n",
       "    <tr>\n",
       "      <th>581</th>\n",
       "      <td>109</td>\n",
       "      <td>60</td>\n",
       "      <td>27</td>\n",
       "      <td>0</td>\n",
       "      <td>25.0</td>\n",
       "      <td>0.206</td>\n",
       "      <td>27</td>\n",
       "    </tr>\n",
       "    <tr>\n",
       "      <th>352</th>\n",
       "      <td>61</td>\n",
       "      <td>82</td>\n",
       "      <td>28</td>\n",
       "      <td>0</td>\n",
       "      <td>34.4</td>\n",
       "      <td>0.243</td>\n",
       "      <td>46</td>\n",
       "    </tr>\n",
       "    <tr>\n",
       "      <th>726</th>\n",
       "      <td>116</td>\n",
       "      <td>78</td>\n",
       "      <td>29</td>\n",
       "      <td>180</td>\n",
       "      <td>36.1</td>\n",
       "      <td>0.496</td>\n",
       "      <td>25</td>\n",
       "    </tr>\n",
       "    <tr>\n",
       "      <th>...</th>\n",
       "      <td>...</td>\n",
       "      <td>...</td>\n",
       "      <td>...</td>\n",
       "      <td>...</td>\n",
       "      <td>...</td>\n",
       "      <td>...</td>\n",
       "      <td>...</td>\n",
       "    </tr>\n",
       "    <tr>\n",
       "      <th>241</th>\n",
       "      <td>91</td>\n",
       "      <td>70</td>\n",
       "      <td>32</td>\n",
       "      <td>88</td>\n",
       "      <td>33.1</td>\n",
       "      <td>0.446</td>\n",
       "      <td>22</td>\n",
       "    </tr>\n",
       "    <tr>\n",
       "      <th>599</th>\n",
       "      <td>109</td>\n",
       "      <td>38</td>\n",
       "      <td>18</td>\n",
       "      <td>120</td>\n",
       "      <td>23.1</td>\n",
       "      <td>0.407</td>\n",
       "      <td>26</td>\n",
       "    </tr>\n",
       "    <tr>\n",
       "      <th>650</th>\n",
       "      <td>91</td>\n",
       "      <td>54</td>\n",
       "      <td>25</td>\n",
       "      <td>100</td>\n",
       "      <td>25.2</td>\n",
       "      <td>0.234</td>\n",
       "      <td>23</td>\n",
       "    </tr>\n",
       "    <tr>\n",
       "      <th>11</th>\n",
       "      <td>168</td>\n",
       "      <td>74</td>\n",
       "      <td>0</td>\n",
       "      <td>0</td>\n",
       "      <td>38.0</td>\n",
       "      <td>0.537</td>\n",
       "      <td>34</td>\n",
       "    </tr>\n",
       "    <tr>\n",
       "      <th>214</th>\n",
       "      <td>112</td>\n",
       "      <td>82</td>\n",
       "      <td>32</td>\n",
       "      <td>175</td>\n",
       "      <td>34.2</td>\n",
       "      <td>0.260</td>\n",
       "      <td>36</td>\n",
       "    </tr>\n",
       "  </tbody>\n",
       "</table>\n",
       "<p>231 rows × 7 columns</p>\n",
       "</div>"
      ],
      "text/plain": [
       "     glu  bp  skinThickness  insulin   bmi    dpf  age\n",
       "285  136  74             26      135  26.0  0.647   51\n",
       "101  151  60              0        0  26.1  0.179   22\n",
       "581  109  60             27        0  25.0  0.206   27\n",
       "352   61  82             28        0  34.4  0.243   46\n",
       "726  116  78             29      180  36.1  0.496   25\n",
       "..   ...  ..            ...      ...   ...    ...  ...\n",
       "241   91  70             32       88  33.1  0.446   22\n",
       "599  109  38             18      120  23.1  0.407   26\n",
       "650   91  54             25      100  25.2  0.234   23\n",
       "11   168  74              0        0  38.0  0.537   34\n",
       "214  112  82             32      175  34.2  0.260   36\n",
       "\n",
       "[231 rows x 7 columns]"
      ]
     },
     "execution_count": 56,
     "metadata": {},
     "output_type": "execute_result"
    }
   ],
   "source": [
    "X_test_ = X_test.drop(columns=['preg'])\n",
    "\n",
    "X_test_"
   ]
  },
  {
   "cell_type": "code",
   "execution_count": null,
   "id": "6d67e7b0",
   "metadata": {},
   "outputs": [],
   "source": []
  },
  {
   "cell_type": "code",
   "execution_count": 57,
   "id": "1c5970dd",
   "metadata": {},
   "outputs": [
    {
     "data": {
      "text/plain": [
       "SimpleImputer(missing_values=0)"
      ]
     },
     "execution_count": 57,
     "metadata": {},
     "output_type": "execute_result"
    }
   ],
   "source": [
    "imp.fit(X_train_)"
   ]
  },
  {
   "cell_type": "code",
   "execution_count": null,
   "id": "6ad7de37",
   "metadata": {},
   "outputs": [],
   "source": []
  },
  {
   "cell_type": "code",
   "execution_count": 58,
   "id": "6d855ebc",
   "metadata": {},
   "outputs": [],
   "source": [
    "X_train_imputed = imp.transform(X_train_)\n",
    "\n",
    "X_test_imputed = imp.transform(X_test_)"
   ]
  },
  {
   "cell_type": "code",
   "execution_count": 59,
   "id": "1e2dabe2",
   "metadata": {},
   "outputs": [
    {
     "data": {
      "text/plain": [
       "array([[1.36000000e+02, 7.00000000e+01, 3.20000000e+01, ...,\n",
       "        3.71000000e+01, 1.53000000e-01, 4.30000000e+01],\n",
       "       [9.70000000e+01, 6.40000000e+01, 3.60000000e+01, ...,\n",
       "        3.68000000e+01, 6.00000000e-01, 2.50000000e+01],\n",
       "       [1.16000000e+02, 7.00000000e+01, 2.80000000e+01, ...,\n",
       "        2.74000000e+01, 2.04000000e-01, 2.10000000e+01],\n",
       "       ...,\n",
       "       [1.26000000e+02, 9.00000000e+01, 2.86721311e+01, ...,\n",
       "        4.34000000e+01, 5.83000000e-01, 4.20000000e+01],\n",
       "       [1.71000000e+02, 7.20000000e+01, 2.86721311e+01, ...,\n",
       "        4.36000000e+01, 4.79000000e-01, 2.60000000e+01],\n",
       "       [1.02000000e+02, 7.60000000e+01, 3.70000000e+01, ...,\n",
       "        3.29000000e+01, 6.65000000e-01, 4.60000000e+01]])"
      ]
     },
     "execution_count": 59,
     "metadata": {},
     "output_type": "execute_result"
    }
   ],
   "source": [
    "X_train_imputed"
   ]
  },
  {
   "cell_type": "code",
   "execution_count": 60,
   "id": "2c5156ec",
   "metadata": {},
   "outputs": [
    {
     "data": {
      "text/plain": [
       "array([[136.        ,  74.        ,  26.        , ...,  26.        ,\n",
       "          0.647     ,  51.        ],\n",
       "       [151.        ,  60.        ,  28.67213115, ...,  26.1       ,\n",
       "          0.179     ,  22.        ],\n",
       "       [109.        ,  60.        ,  27.        , ...,  25.        ,\n",
       "          0.206     ,  27.        ],\n",
       "       ...,\n",
       "       [ 91.        ,  54.        ,  25.        , ...,  25.2       ,\n",
       "          0.234     ,  23.        ],\n",
       "       [168.        ,  74.        ,  28.67213115, ...,  38.        ,\n",
       "          0.537     ,  34.        ],\n",
       "       [112.        ,  82.        ,  32.        , ...,  34.2       ,\n",
       "          0.26      ,  36.        ]])"
      ]
     },
     "execution_count": 60,
     "metadata": {},
     "output_type": "execute_result"
    }
   ],
   "source": [
    "X_test_imputed"
   ]
  },
  {
   "cell_type": "code",
   "execution_count": 61,
   "id": "9a464ab3",
   "metadata": {},
   "outputs": [],
   "source": [
    "X_train_imputed = pd.DataFrame(X_train_imputed)\n",
    "X_test_imputed = pd.DataFrame(X_test_imputed)"
   ]
  },
  {
   "cell_type": "code",
   "execution_count": 62,
   "id": "df8c4076",
   "metadata": {},
   "outputs": [
    {
     "data": {
      "text/html": [
       "<div>\n",
       "<style scoped>\n",
       "    .dataframe tbody tr th:only-of-type {\n",
       "        vertical-align: middle;\n",
       "    }\n",
       "\n",
       "    .dataframe tbody tr th {\n",
       "        vertical-align: top;\n",
       "    }\n",
       "\n",
       "    .dataframe thead th {\n",
       "        text-align: right;\n",
       "    }\n",
       "</style>\n",
       "<table border=\"1\" class=\"dataframe\">\n",
       "  <thead>\n",
       "    <tr style=\"text-align: right;\">\n",
       "      <th></th>\n",
       "      <th>0</th>\n",
       "      <th>1</th>\n",
       "      <th>2</th>\n",
       "      <th>3</th>\n",
       "      <th>4</th>\n",
       "      <th>5</th>\n",
       "      <th>6</th>\n",
       "    </tr>\n",
       "  </thead>\n",
       "  <tbody>\n",
       "    <tr>\n",
       "      <th>0</th>\n",
       "      <td>136.0</td>\n",
       "      <td>70.0</td>\n",
       "      <td>32.000000</td>\n",
       "      <td>110.000000</td>\n",
       "      <td>37.1</td>\n",
       "      <td>0.153</td>\n",
       "      <td>43.0</td>\n",
       "    </tr>\n",
       "    <tr>\n",
       "      <th>1</th>\n",
       "      <td>97.0</td>\n",
       "      <td>64.0</td>\n",
       "      <td>36.000000</td>\n",
       "      <td>100.000000</td>\n",
       "      <td>36.8</td>\n",
       "      <td>0.600</td>\n",
       "      <td>25.0</td>\n",
       "    </tr>\n",
       "    <tr>\n",
       "      <th>2</th>\n",
       "      <td>116.0</td>\n",
       "      <td>70.0</td>\n",
       "      <td>28.000000</td>\n",
       "      <td>158.243346</td>\n",
       "      <td>27.4</td>\n",
       "      <td>0.204</td>\n",
       "      <td>21.0</td>\n",
       "    </tr>\n",
       "    <tr>\n",
       "      <th>3</th>\n",
       "      <td>106.0</td>\n",
       "      <td>64.0</td>\n",
       "      <td>35.000000</td>\n",
       "      <td>119.000000</td>\n",
       "      <td>30.5</td>\n",
       "      <td>1.400</td>\n",
       "      <td>34.0</td>\n",
       "    </tr>\n",
       "    <tr>\n",
       "      <th>4</th>\n",
       "      <td>123.0</td>\n",
       "      <td>88.0</td>\n",
       "      <td>37.000000</td>\n",
       "      <td>158.243346</td>\n",
       "      <td>35.2</td>\n",
       "      <td>0.197</td>\n",
       "      <td>29.0</td>\n",
       "    </tr>\n",
       "    <tr>\n",
       "      <th>...</th>\n",
       "      <td>...</td>\n",
       "      <td>...</td>\n",
       "      <td>...</td>\n",
       "      <td>...</td>\n",
       "      <td>...</td>\n",
       "      <td>...</td>\n",
       "      <td>...</td>\n",
       "    </tr>\n",
       "    <tr>\n",
       "      <th>532</th>\n",
       "      <td>157.0</td>\n",
       "      <td>74.0</td>\n",
       "      <td>35.000000</td>\n",
       "      <td>440.000000</td>\n",
       "      <td>39.4</td>\n",
       "      <td>0.134</td>\n",
       "      <td>30.0</td>\n",
       "    </tr>\n",
       "    <tr>\n",
       "      <th>533</th>\n",
       "      <td>187.0</td>\n",
       "      <td>50.0</td>\n",
       "      <td>33.000000</td>\n",
       "      <td>392.000000</td>\n",
       "      <td>33.9</td>\n",
       "      <td>0.826</td>\n",
       "      <td>34.0</td>\n",
       "    </tr>\n",
       "    <tr>\n",
       "      <th>534</th>\n",
       "      <td>126.0</td>\n",
       "      <td>90.0</td>\n",
       "      <td>28.672131</td>\n",
       "      <td>158.243346</td>\n",
       "      <td>43.4</td>\n",
       "      <td>0.583</td>\n",
       "      <td>42.0</td>\n",
       "    </tr>\n",
       "    <tr>\n",
       "      <th>535</th>\n",
       "      <td>171.0</td>\n",
       "      <td>72.0</td>\n",
       "      <td>28.672131</td>\n",
       "      <td>158.243346</td>\n",
       "      <td>43.6</td>\n",
       "      <td>0.479</td>\n",
       "      <td>26.0</td>\n",
       "    </tr>\n",
       "    <tr>\n",
       "      <th>536</th>\n",
       "      <td>102.0</td>\n",
       "      <td>76.0</td>\n",
       "      <td>37.000000</td>\n",
       "      <td>158.243346</td>\n",
       "      <td>32.9</td>\n",
       "      <td>0.665</td>\n",
       "      <td>46.0</td>\n",
       "    </tr>\n",
       "  </tbody>\n",
       "</table>\n",
       "<p>537 rows × 7 columns</p>\n",
       "</div>"
      ],
      "text/plain": [
       "         0     1          2           3     4      5     6\n",
       "0    136.0  70.0  32.000000  110.000000  37.1  0.153  43.0\n",
       "1     97.0  64.0  36.000000  100.000000  36.8  0.600  25.0\n",
       "2    116.0  70.0  28.000000  158.243346  27.4  0.204  21.0\n",
       "3    106.0  64.0  35.000000  119.000000  30.5  1.400  34.0\n",
       "4    123.0  88.0  37.000000  158.243346  35.2  0.197  29.0\n",
       "..     ...   ...        ...         ...   ...    ...   ...\n",
       "532  157.0  74.0  35.000000  440.000000  39.4  0.134  30.0\n",
       "533  187.0  50.0  33.000000  392.000000  33.9  0.826  34.0\n",
       "534  126.0  90.0  28.672131  158.243346  43.4  0.583  42.0\n",
       "535  171.0  72.0  28.672131  158.243346  43.6  0.479  26.0\n",
       "536  102.0  76.0  37.000000  158.243346  32.9  0.665  46.0\n",
       "\n",
       "[537 rows x 7 columns]"
      ]
     },
     "execution_count": 62,
     "metadata": {},
     "output_type": "execute_result"
    }
   ],
   "source": [
    "X_train_imputed"
   ]
  },
  {
   "cell_type": "code",
   "execution_count": 63,
   "id": "77382325",
   "metadata": {},
   "outputs": [
    {
     "data": {
      "text/html": [
       "<div>\n",
       "<style scoped>\n",
       "    .dataframe tbody tr th:only-of-type {\n",
       "        vertical-align: middle;\n",
       "    }\n",
       "\n",
       "    .dataframe tbody tr th {\n",
       "        vertical-align: top;\n",
       "    }\n",
       "\n",
       "    .dataframe thead th {\n",
       "        text-align: right;\n",
       "    }\n",
       "</style>\n",
       "<table border=\"1\" class=\"dataframe\">\n",
       "  <thead>\n",
       "    <tr style=\"text-align: right;\">\n",
       "      <th></th>\n",
       "      <th>0</th>\n",
       "      <th>1</th>\n",
       "      <th>2</th>\n",
       "      <th>3</th>\n",
       "      <th>4</th>\n",
       "      <th>5</th>\n",
       "      <th>6</th>\n",
       "    </tr>\n",
       "  </thead>\n",
       "  <tbody>\n",
       "    <tr>\n",
       "      <th>0</th>\n",
       "      <td>136.0</td>\n",
       "      <td>74.0</td>\n",
       "      <td>26.000000</td>\n",
       "      <td>135.000000</td>\n",
       "      <td>26.0</td>\n",
       "      <td>0.647</td>\n",
       "      <td>51.0</td>\n",
       "    </tr>\n",
       "    <tr>\n",
       "      <th>1</th>\n",
       "      <td>151.0</td>\n",
       "      <td>60.0</td>\n",
       "      <td>28.672131</td>\n",
       "      <td>158.243346</td>\n",
       "      <td>26.1</td>\n",
       "      <td>0.179</td>\n",
       "      <td>22.0</td>\n",
       "    </tr>\n",
       "    <tr>\n",
       "      <th>2</th>\n",
       "      <td>109.0</td>\n",
       "      <td>60.0</td>\n",
       "      <td>27.000000</td>\n",
       "      <td>158.243346</td>\n",
       "      <td>25.0</td>\n",
       "      <td>0.206</td>\n",
       "      <td>27.0</td>\n",
       "    </tr>\n",
       "    <tr>\n",
       "      <th>3</th>\n",
       "      <td>61.0</td>\n",
       "      <td>82.0</td>\n",
       "      <td>28.000000</td>\n",
       "      <td>158.243346</td>\n",
       "      <td>34.4</td>\n",
       "      <td>0.243</td>\n",
       "      <td>46.0</td>\n",
       "    </tr>\n",
       "    <tr>\n",
       "      <th>4</th>\n",
       "      <td>116.0</td>\n",
       "      <td>78.0</td>\n",
       "      <td>29.000000</td>\n",
       "      <td>180.000000</td>\n",
       "      <td>36.1</td>\n",
       "      <td>0.496</td>\n",
       "      <td>25.0</td>\n",
       "    </tr>\n",
       "    <tr>\n",
       "      <th>...</th>\n",
       "      <td>...</td>\n",
       "      <td>...</td>\n",
       "      <td>...</td>\n",
       "      <td>...</td>\n",
       "      <td>...</td>\n",
       "      <td>...</td>\n",
       "      <td>...</td>\n",
       "    </tr>\n",
       "    <tr>\n",
       "      <th>226</th>\n",
       "      <td>91.0</td>\n",
       "      <td>70.0</td>\n",
       "      <td>32.000000</td>\n",
       "      <td>88.000000</td>\n",
       "      <td>33.1</td>\n",
       "      <td>0.446</td>\n",
       "      <td>22.0</td>\n",
       "    </tr>\n",
       "    <tr>\n",
       "      <th>227</th>\n",
       "      <td>109.0</td>\n",
       "      <td>38.0</td>\n",
       "      <td>18.000000</td>\n",
       "      <td>120.000000</td>\n",
       "      <td>23.1</td>\n",
       "      <td>0.407</td>\n",
       "      <td>26.0</td>\n",
       "    </tr>\n",
       "    <tr>\n",
       "      <th>228</th>\n",
       "      <td>91.0</td>\n",
       "      <td>54.0</td>\n",
       "      <td>25.000000</td>\n",
       "      <td>100.000000</td>\n",
       "      <td>25.2</td>\n",
       "      <td>0.234</td>\n",
       "      <td>23.0</td>\n",
       "    </tr>\n",
       "    <tr>\n",
       "      <th>229</th>\n",
       "      <td>168.0</td>\n",
       "      <td>74.0</td>\n",
       "      <td>28.672131</td>\n",
       "      <td>158.243346</td>\n",
       "      <td>38.0</td>\n",
       "      <td>0.537</td>\n",
       "      <td>34.0</td>\n",
       "    </tr>\n",
       "    <tr>\n",
       "      <th>230</th>\n",
       "      <td>112.0</td>\n",
       "      <td>82.0</td>\n",
       "      <td>32.000000</td>\n",
       "      <td>175.000000</td>\n",
       "      <td>34.2</td>\n",
       "      <td>0.260</td>\n",
       "      <td>36.0</td>\n",
       "    </tr>\n",
       "  </tbody>\n",
       "</table>\n",
       "<p>231 rows × 7 columns</p>\n",
       "</div>"
      ],
      "text/plain": [
       "         0     1          2           3     4      5     6\n",
       "0    136.0  74.0  26.000000  135.000000  26.0  0.647  51.0\n",
       "1    151.0  60.0  28.672131  158.243346  26.1  0.179  22.0\n",
       "2    109.0  60.0  27.000000  158.243346  25.0  0.206  27.0\n",
       "3     61.0  82.0  28.000000  158.243346  34.4  0.243  46.0\n",
       "4    116.0  78.0  29.000000  180.000000  36.1  0.496  25.0\n",
       "..     ...   ...        ...         ...   ...    ...   ...\n",
       "226   91.0  70.0  32.000000   88.000000  33.1  0.446  22.0\n",
       "227  109.0  38.0  18.000000  120.000000  23.1  0.407  26.0\n",
       "228   91.0  54.0  25.000000  100.000000  25.2  0.234  23.0\n",
       "229  168.0  74.0  28.672131  158.243346  38.0  0.537  34.0\n",
       "230  112.0  82.0  32.000000  175.000000  34.2  0.260  36.0\n",
       "\n",
       "[231 rows x 7 columns]"
      ]
     },
     "execution_count": 63,
     "metadata": {},
     "output_type": "execute_result"
    }
   ],
   "source": [
    "X_test_imputed"
   ]
  },
  {
   "cell_type": "markdown",
   "id": "2e28d5dd",
   "metadata": {},
   "source": [
    "Renaming the column names from [0,1,2,3,4,5,6] to the original names in X_train_imputed and X_test_imputed :-"
   ]
  },
  {
   "cell_type": "code",
   "execution_count": 64,
   "id": "e6cfa0e5",
   "metadata": {},
   "outputs": [],
   "source": [
    "X_train_imputed.columns = X_test_imputed.columns = \\\n",
    "[ 'glu', 'bp', 'skinThickness', 'insulin', 'bmi', 'dpf', 'age']"
   ]
  },
  {
   "cell_type": "markdown",
   "id": "223e783c",
   "metadata": {},
   "source": [
    "The number of missing values (i.e. zeroes) now in the X_train_imputed and X_test_imputed :-"
   ]
  },
  {
   "cell_type": "code",
   "execution_count": 65,
   "id": "3a16ef36",
   "metadata": {},
   "outputs": [
    {
     "name": "stdout",
     "output_type": "stream",
     "text": [
      "Number of missing values in glu are : 0\n",
      "Number of missing values in bp are : 0\n",
      "Number of missing values in skinThickness are : 0\n",
      "Number of missing values in insulin are : 0\n",
      "Number of missing values in bmi are : 0\n",
      "Number of missing values in dpf are : 0\n",
      "Number of missing values in age are : 0\n"
     ]
    }
   ],
   "source": [
    "# Using the function defined above in the notebook to find out the zeroes in columns of any given dataframe :\n",
    "\n",
    "columns_zero_verification = ['glu', 'bp', 'skinThickness', 'insulin', 'bmi', 'dpf', 'age']\n",
    "\n",
    "# X_train_imputed results :\n",
    "zeroes_in_columns(columns_zero_verification, X_train_imputed)"
   ]
  },
  {
   "cell_type": "code",
   "execution_count": 66,
   "id": "5188a400",
   "metadata": {},
   "outputs": [
    {
     "name": "stdout",
     "output_type": "stream",
     "text": [
      "Number of missing values in glu are : 0\n",
      "Number of missing values in bp are : 0\n",
      "Number of missing values in skinThickness are : 0\n",
      "Number of missing values in insulin are : 0\n",
      "Number of missing values in bmi are : 0\n",
      "Number of missing values in dpf are : 0\n",
      "Number of missing values in age are : 0\n"
     ]
    }
   ],
   "source": [
    "# X_test_imputed results :\n",
    "zeroes_in_columns(columns_zero_verification, X_test_imputed)"
   ]
  },
  {
   "cell_type": "markdown",
   "id": "a8918d86",
   "metadata": {},
   "source": [
    "Getting the 'preg' column in 'X_train_imputed' and 'X_test_imputed':-"
   ]
  },
  {
   "cell_type": "code",
   "execution_count": 67,
   "id": "f68811a4",
   "metadata": {},
   "outputs": [
    {
     "data": {
      "text/html": [
       "<div>\n",
       "<style scoped>\n",
       "    .dataframe tbody tr th:only-of-type {\n",
       "        vertical-align: middle;\n",
       "    }\n",
       "\n",
       "    .dataframe tbody tr th {\n",
       "        vertical-align: top;\n",
       "    }\n",
       "\n",
       "    .dataframe thead th {\n",
       "        text-align: right;\n",
       "    }\n",
       "</style>\n",
       "<table border=\"1\" class=\"dataframe\">\n",
       "  <thead>\n",
       "    <tr style=\"text-align: right;\">\n",
       "      <th></th>\n",
       "      <th>preg</th>\n",
       "      <th>glu</th>\n",
       "      <th>bp</th>\n",
       "      <th>skinThickness</th>\n",
       "      <th>insulin</th>\n",
       "      <th>bmi</th>\n",
       "      <th>dpf</th>\n",
       "      <th>age</th>\n",
       "    </tr>\n",
       "  </thead>\n",
       "  <tbody>\n",
       "    <tr>\n",
       "      <th>0</th>\n",
       "      <td>15</td>\n",
       "      <td>136.0</td>\n",
       "      <td>70.0</td>\n",
       "      <td>32.000000</td>\n",
       "      <td>110.000000</td>\n",
       "      <td>37.1</td>\n",
       "      <td>0.153</td>\n",
       "      <td>43.0</td>\n",
       "    </tr>\n",
       "    <tr>\n",
       "      <th>1</th>\n",
       "      <td>0</td>\n",
       "      <td>97.0</td>\n",
       "      <td>64.0</td>\n",
       "      <td>36.000000</td>\n",
       "      <td>100.000000</td>\n",
       "      <td>36.8</td>\n",
       "      <td>0.600</td>\n",
       "      <td>25.0</td>\n",
       "    </tr>\n",
       "    <tr>\n",
       "      <th>2</th>\n",
       "      <td>1</td>\n",
       "      <td>116.0</td>\n",
       "      <td>70.0</td>\n",
       "      <td>28.000000</td>\n",
       "      <td>158.243346</td>\n",
       "      <td>27.4</td>\n",
       "      <td>0.204</td>\n",
       "      <td>21.0</td>\n",
       "    </tr>\n",
       "    <tr>\n",
       "      <th>3</th>\n",
       "      <td>2</td>\n",
       "      <td>106.0</td>\n",
       "      <td>64.0</td>\n",
       "      <td>35.000000</td>\n",
       "      <td>119.000000</td>\n",
       "      <td>30.5</td>\n",
       "      <td>1.400</td>\n",
       "      <td>34.0</td>\n",
       "    </tr>\n",
       "    <tr>\n",
       "      <th>4</th>\n",
       "      <td>0</td>\n",
       "      <td>123.0</td>\n",
       "      <td>88.0</td>\n",
       "      <td>37.000000</td>\n",
       "      <td>158.243346</td>\n",
       "      <td>35.2</td>\n",
       "      <td>0.197</td>\n",
       "      <td>29.0</td>\n",
       "    </tr>\n",
       "    <tr>\n",
       "      <th>...</th>\n",
       "      <td>...</td>\n",
       "      <td>...</td>\n",
       "      <td>...</td>\n",
       "      <td>...</td>\n",
       "      <td>...</td>\n",
       "      <td>...</td>\n",
       "      <td>...</td>\n",
       "      <td>...</td>\n",
       "    </tr>\n",
       "    <tr>\n",
       "      <th>532</th>\n",
       "      <td>2</td>\n",
       "      <td>157.0</td>\n",
       "      <td>74.0</td>\n",
       "      <td>35.000000</td>\n",
       "      <td>440.000000</td>\n",
       "      <td>39.4</td>\n",
       "      <td>0.134</td>\n",
       "      <td>30.0</td>\n",
       "    </tr>\n",
       "    <tr>\n",
       "      <th>533</th>\n",
       "      <td>7</td>\n",
       "      <td>187.0</td>\n",
       "      <td>50.0</td>\n",
       "      <td>33.000000</td>\n",
       "      <td>392.000000</td>\n",
       "      <td>33.9</td>\n",
       "      <td>0.826</td>\n",
       "      <td>34.0</td>\n",
       "    </tr>\n",
       "    <tr>\n",
       "      <th>534</th>\n",
       "      <td>13</td>\n",
       "      <td>126.0</td>\n",
       "      <td>90.0</td>\n",
       "      <td>28.672131</td>\n",
       "      <td>158.243346</td>\n",
       "      <td>43.4</td>\n",
       "      <td>0.583</td>\n",
       "      <td>42.0</td>\n",
       "    </tr>\n",
       "    <tr>\n",
       "      <th>535</th>\n",
       "      <td>4</td>\n",
       "      <td>171.0</td>\n",
       "      <td>72.0</td>\n",
       "      <td>28.672131</td>\n",
       "      <td>158.243346</td>\n",
       "      <td>43.6</td>\n",
       "      <td>0.479</td>\n",
       "      <td>26.0</td>\n",
       "    </tr>\n",
       "    <tr>\n",
       "      <th>536</th>\n",
       "      <td>9</td>\n",
       "      <td>102.0</td>\n",
       "      <td>76.0</td>\n",
       "      <td>37.000000</td>\n",
       "      <td>158.243346</td>\n",
       "      <td>32.9</td>\n",
       "      <td>0.665</td>\n",
       "      <td>46.0</td>\n",
       "    </tr>\n",
       "  </tbody>\n",
       "</table>\n",
       "<p>537 rows × 8 columns</p>\n",
       "</div>"
      ],
      "text/plain": [
       "     preg    glu    bp  skinThickness     insulin   bmi    dpf   age\n",
       "0      15  136.0  70.0      32.000000  110.000000  37.1  0.153  43.0\n",
       "1       0   97.0  64.0      36.000000  100.000000  36.8  0.600  25.0\n",
       "2       1  116.0  70.0      28.000000  158.243346  27.4  0.204  21.0\n",
       "3       2  106.0  64.0      35.000000  119.000000  30.5  1.400  34.0\n",
       "4       0  123.0  88.0      37.000000  158.243346  35.2  0.197  29.0\n",
       "..    ...    ...   ...            ...         ...   ...    ...   ...\n",
       "532     2  157.0  74.0      35.000000  440.000000  39.4  0.134  30.0\n",
       "533     7  187.0  50.0      33.000000  392.000000  33.9  0.826  34.0\n",
       "534    13  126.0  90.0      28.672131  158.243346  43.4  0.583  42.0\n",
       "535     4  171.0  72.0      28.672131  158.243346  43.6  0.479  26.0\n",
       "536     9  102.0  76.0      37.000000  158.243346  32.9  0.665  46.0\n",
       "\n",
       "[537 rows x 8 columns]"
      ]
     },
     "execution_count": 67,
     "metadata": {},
     "output_type": "execute_result"
    }
   ],
   "source": [
    "preg = np.array(X_train['preg'])\n",
    "\n",
    "X_train_imputed.insert(0, \"preg\", preg, True)\n",
    "\n",
    "X_train_imputed"
   ]
  },
  {
   "cell_type": "code",
   "execution_count": 68,
   "id": "4ea9b3b5",
   "metadata": {},
   "outputs": [
    {
     "data": {
      "text/html": [
       "<div>\n",
       "<style scoped>\n",
       "    .dataframe tbody tr th:only-of-type {\n",
       "        vertical-align: middle;\n",
       "    }\n",
       "\n",
       "    .dataframe tbody tr th {\n",
       "        vertical-align: top;\n",
       "    }\n",
       "\n",
       "    .dataframe thead th {\n",
       "        text-align: right;\n",
       "    }\n",
       "</style>\n",
       "<table border=\"1\" class=\"dataframe\">\n",
       "  <thead>\n",
       "    <tr style=\"text-align: right;\">\n",
       "      <th></th>\n",
       "      <th>preg</th>\n",
       "      <th>glu</th>\n",
       "      <th>bp</th>\n",
       "      <th>skinThickness</th>\n",
       "      <th>insulin</th>\n",
       "      <th>bmi</th>\n",
       "      <th>dpf</th>\n",
       "      <th>age</th>\n",
       "    </tr>\n",
       "  </thead>\n",
       "  <tbody>\n",
       "    <tr>\n",
       "      <th>0</th>\n",
       "      <td>7</td>\n",
       "      <td>136.0</td>\n",
       "      <td>74.0</td>\n",
       "      <td>26.000000</td>\n",
       "      <td>135.000000</td>\n",
       "      <td>26.0</td>\n",
       "      <td>0.647</td>\n",
       "      <td>51.0</td>\n",
       "    </tr>\n",
       "    <tr>\n",
       "      <th>1</th>\n",
       "      <td>1</td>\n",
       "      <td>151.0</td>\n",
       "      <td>60.0</td>\n",
       "      <td>28.672131</td>\n",
       "      <td>158.243346</td>\n",
       "      <td>26.1</td>\n",
       "      <td>0.179</td>\n",
       "      <td>22.0</td>\n",
       "    </tr>\n",
       "    <tr>\n",
       "      <th>2</th>\n",
       "      <td>6</td>\n",
       "      <td>109.0</td>\n",
       "      <td>60.0</td>\n",
       "      <td>27.000000</td>\n",
       "      <td>158.243346</td>\n",
       "      <td>25.0</td>\n",
       "      <td>0.206</td>\n",
       "      <td>27.0</td>\n",
       "    </tr>\n",
       "    <tr>\n",
       "      <th>3</th>\n",
       "      <td>3</td>\n",
       "      <td>61.0</td>\n",
       "      <td>82.0</td>\n",
       "      <td>28.000000</td>\n",
       "      <td>158.243346</td>\n",
       "      <td>34.4</td>\n",
       "      <td>0.243</td>\n",
       "      <td>46.0</td>\n",
       "    </tr>\n",
       "    <tr>\n",
       "      <th>4</th>\n",
       "      <td>1</td>\n",
       "      <td>116.0</td>\n",
       "      <td>78.0</td>\n",
       "      <td>29.000000</td>\n",
       "      <td>180.000000</td>\n",
       "      <td>36.1</td>\n",
       "      <td>0.496</td>\n",
       "      <td>25.0</td>\n",
       "    </tr>\n",
       "    <tr>\n",
       "      <th>...</th>\n",
       "      <td>...</td>\n",
       "      <td>...</td>\n",
       "      <td>...</td>\n",
       "      <td>...</td>\n",
       "      <td>...</td>\n",
       "      <td>...</td>\n",
       "      <td>...</td>\n",
       "      <td>...</td>\n",
       "    </tr>\n",
       "    <tr>\n",
       "      <th>226</th>\n",
       "      <td>4</td>\n",
       "      <td>91.0</td>\n",
       "      <td>70.0</td>\n",
       "      <td>32.000000</td>\n",
       "      <td>88.000000</td>\n",
       "      <td>33.1</td>\n",
       "      <td>0.446</td>\n",
       "      <td>22.0</td>\n",
       "    </tr>\n",
       "    <tr>\n",
       "      <th>227</th>\n",
       "      <td>1</td>\n",
       "      <td>109.0</td>\n",
       "      <td>38.0</td>\n",
       "      <td>18.000000</td>\n",
       "      <td>120.000000</td>\n",
       "      <td>23.1</td>\n",
       "      <td>0.407</td>\n",
       "      <td>26.0</td>\n",
       "    </tr>\n",
       "    <tr>\n",
       "      <th>228</th>\n",
       "      <td>1</td>\n",
       "      <td>91.0</td>\n",
       "      <td>54.0</td>\n",
       "      <td>25.000000</td>\n",
       "      <td>100.000000</td>\n",
       "      <td>25.2</td>\n",
       "      <td>0.234</td>\n",
       "      <td>23.0</td>\n",
       "    </tr>\n",
       "    <tr>\n",
       "      <th>229</th>\n",
       "      <td>10</td>\n",
       "      <td>168.0</td>\n",
       "      <td>74.0</td>\n",
       "      <td>28.672131</td>\n",
       "      <td>158.243346</td>\n",
       "      <td>38.0</td>\n",
       "      <td>0.537</td>\n",
       "      <td>34.0</td>\n",
       "    </tr>\n",
       "    <tr>\n",
       "      <th>230</th>\n",
       "      <td>9</td>\n",
       "      <td>112.0</td>\n",
       "      <td>82.0</td>\n",
       "      <td>32.000000</td>\n",
       "      <td>175.000000</td>\n",
       "      <td>34.2</td>\n",
       "      <td>0.260</td>\n",
       "      <td>36.0</td>\n",
       "    </tr>\n",
       "  </tbody>\n",
       "</table>\n",
       "<p>231 rows × 8 columns</p>\n",
       "</div>"
      ],
      "text/plain": [
       "     preg    glu    bp  skinThickness     insulin   bmi    dpf   age\n",
       "0       7  136.0  74.0      26.000000  135.000000  26.0  0.647  51.0\n",
       "1       1  151.0  60.0      28.672131  158.243346  26.1  0.179  22.0\n",
       "2       6  109.0  60.0      27.000000  158.243346  25.0  0.206  27.0\n",
       "3       3   61.0  82.0      28.000000  158.243346  34.4  0.243  46.0\n",
       "4       1  116.0  78.0      29.000000  180.000000  36.1  0.496  25.0\n",
       "..    ...    ...   ...            ...         ...   ...    ...   ...\n",
       "226     4   91.0  70.0      32.000000   88.000000  33.1  0.446  22.0\n",
       "227     1  109.0  38.0      18.000000  120.000000  23.1  0.407  26.0\n",
       "228     1   91.0  54.0      25.000000  100.000000  25.2  0.234  23.0\n",
       "229    10  168.0  74.0      28.672131  158.243346  38.0  0.537  34.0\n",
       "230     9  112.0  82.0      32.000000  175.000000  34.2  0.260  36.0\n",
       "\n",
       "[231 rows x 8 columns]"
      ]
     },
     "execution_count": 68,
     "metadata": {},
     "output_type": "execute_result"
    }
   ],
   "source": [
    "preg = np.array(X_test['preg'])\n",
    "\n",
    "X_test_imputed.insert(0, \"preg\", preg, True)\n",
    "\n",
    "X_test_imputed"
   ]
  },
  {
   "cell_type": "markdown",
   "id": "895dd047",
   "metadata": {},
   "source": [
    "Now, we also want to get a hint of how much the distribution of the columns have changed where we've applied mean imputation. Intuitively it seems, that there would have been significant narrowing towards the mean in distributions. :-"
   ]
  },
  {
   "cell_type": "markdown",
   "id": "c3bf4a0f",
   "metadata": {},
   "source": [
    "### Feature Scaling :-"
   ]
  },
  {
   "cell_type": "code",
   "execution_count": 94,
   "id": "047e467a",
   "metadata": {},
   "outputs": [],
   "source": [
    "norm = MinMaxScaler()"
   ]
  },
  {
   "cell_type": "code",
   "execution_count": 95,
   "id": "a9e63bc8",
   "metadata": {},
   "outputs": [
    {
     "data": {
      "text/plain": [
       "MinMaxScaler()"
      ]
     },
     "execution_count": 95,
     "metadata": {},
     "output_type": "execute_result"
    }
   ],
   "source": [
    "norm.fit(X_train_imputed)"
   ]
  },
  {
   "cell_type": "code",
   "execution_count": 96,
   "id": "9a15fba4",
   "metadata": {},
   "outputs": [
    {
     "data": {
      "text/html": [
       "<div>\n",
       "<style scoped>\n",
       "    .dataframe tbody tr th:only-of-type {\n",
       "        vertical-align: middle;\n",
       "    }\n",
       "\n",
       "    .dataframe tbody tr th {\n",
       "        vertical-align: top;\n",
       "    }\n",
       "\n",
       "    .dataframe thead th {\n",
       "        text-align: right;\n",
       "    }\n",
       "</style>\n",
       "<table border=\"1\" class=\"dataframe\">\n",
       "  <thead>\n",
       "    <tr style=\"text-align: right;\">\n",
       "      <th></th>\n",
       "      <th>0</th>\n",
       "      <th>1</th>\n",
       "      <th>2</th>\n",
       "      <th>3</th>\n",
       "      <th>4</th>\n",
       "      <th>5</th>\n",
       "      <th>6</th>\n",
       "      <th>7</th>\n",
       "    </tr>\n",
       "  </thead>\n",
       "  <tbody>\n",
       "    <tr>\n",
       "      <th>0</th>\n",
       "      <td>1.000000</td>\n",
       "      <td>0.597403</td>\n",
       "      <td>0.469388</td>\n",
       "      <td>0.271739</td>\n",
       "      <td>0.130316</td>\n",
       "      <td>0.386503</td>\n",
       "      <td>0.030303</td>\n",
       "      <td>0.431373</td>\n",
       "    </tr>\n",
       "    <tr>\n",
       "      <th>1</th>\n",
       "      <td>0.000000</td>\n",
       "      <td>0.344156</td>\n",
       "      <td>0.408163</td>\n",
       "      <td>0.315217</td>\n",
       "      <td>0.116598</td>\n",
       "      <td>0.380368</td>\n",
       "      <td>0.229501</td>\n",
       "      <td>0.078431</td>\n",
       "    </tr>\n",
       "    <tr>\n",
       "      <th>2</th>\n",
       "      <td>0.066667</td>\n",
       "      <td>0.467532</td>\n",
       "      <td>0.469388</td>\n",
       "      <td>0.228261</td>\n",
       "      <td>0.196493</td>\n",
       "      <td>0.188139</td>\n",
       "      <td>0.053030</td>\n",
       "      <td>0.000000</td>\n",
       "    </tr>\n",
       "    <tr>\n",
       "      <th>3</th>\n",
       "      <td>0.133333</td>\n",
       "      <td>0.402597</td>\n",
       "      <td>0.408163</td>\n",
       "      <td>0.304348</td>\n",
       "      <td>0.142661</td>\n",
       "      <td>0.251534</td>\n",
       "      <td>0.586007</td>\n",
       "      <td>0.254902</td>\n",
       "    </tr>\n",
       "    <tr>\n",
       "      <th>4</th>\n",
       "      <td>0.000000</td>\n",
       "      <td>0.512987</td>\n",
       "      <td>0.653061</td>\n",
       "      <td>0.326087</td>\n",
       "      <td>0.196493</td>\n",
       "      <td>0.347648</td>\n",
       "      <td>0.049911</td>\n",
       "      <td>0.156863</td>\n",
       "    </tr>\n",
       "    <tr>\n",
       "      <th>...</th>\n",
       "      <td>...</td>\n",
       "      <td>...</td>\n",
       "      <td>...</td>\n",
       "      <td>...</td>\n",
       "      <td>...</td>\n",
       "      <td>...</td>\n",
       "      <td>...</td>\n",
       "      <td>...</td>\n",
       "    </tr>\n",
       "    <tr>\n",
       "      <th>532</th>\n",
       "      <td>0.133333</td>\n",
       "      <td>0.733766</td>\n",
       "      <td>0.510204</td>\n",
       "      <td>0.304348</td>\n",
       "      <td>0.582990</td>\n",
       "      <td>0.433538</td>\n",
       "      <td>0.021836</td>\n",
       "      <td>0.176471</td>\n",
       "    </tr>\n",
       "    <tr>\n",
       "      <th>533</th>\n",
       "      <td>0.466667</td>\n",
       "      <td>0.928571</td>\n",
       "      <td>0.265306</td>\n",
       "      <td>0.282609</td>\n",
       "      <td>0.517147</td>\n",
       "      <td>0.321063</td>\n",
       "      <td>0.330214</td>\n",
       "      <td>0.254902</td>\n",
       "    </tr>\n",
       "    <tr>\n",
       "      <th>534</th>\n",
       "      <td>0.866667</td>\n",
       "      <td>0.532468</td>\n",
       "      <td>0.673469</td>\n",
       "      <td>0.235567</td>\n",
       "      <td>0.196493</td>\n",
       "      <td>0.515337</td>\n",
       "      <td>0.221925</td>\n",
       "      <td>0.411765</td>\n",
       "    </tr>\n",
       "    <tr>\n",
       "      <th>535</th>\n",
       "      <td>0.266667</td>\n",
       "      <td>0.824675</td>\n",
       "      <td>0.489796</td>\n",
       "      <td>0.235567</td>\n",
       "      <td>0.196493</td>\n",
       "      <td>0.519427</td>\n",
       "      <td>0.175579</td>\n",
       "      <td>0.098039</td>\n",
       "    </tr>\n",
       "    <tr>\n",
       "      <th>536</th>\n",
       "      <td>0.600000</td>\n",
       "      <td>0.376623</td>\n",
       "      <td>0.530612</td>\n",
       "      <td>0.326087</td>\n",
       "      <td>0.196493</td>\n",
       "      <td>0.300613</td>\n",
       "      <td>0.258467</td>\n",
       "      <td>0.490196</td>\n",
       "    </tr>\n",
       "  </tbody>\n",
       "</table>\n",
       "<p>537 rows × 8 columns</p>\n",
       "</div>"
      ],
      "text/plain": [
       "            0         1         2         3         4         5         6  \\\n",
       "0    1.000000  0.597403  0.469388  0.271739  0.130316  0.386503  0.030303   \n",
       "1    0.000000  0.344156  0.408163  0.315217  0.116598  0.380368  0.229501   \n",
       "2    0.066667  0.467532  0.469388  0.228261  0.196493  0.188139  0.053030   \n",
       "3    0.133333  0.402597  0.408163  0.304348  0.142661  0.251534  0.586007   \n",
       "4    0.000000  0.512987  0.653061  0.326087  0.196493  0.347648  0.049911   \n",
       "..        ...       ...       ...       ...       ...       ...       ...   \n",
       "532  0.133333  0.733766  0.510204  0.304348  0.582990  0.433538  0.021836   \n",
       "533  0.466667  0.928571  0.265306  0.282609  0.517147  0.321063  0.330214   \n",
       "534  0.866667  0.532468  0.673469  0.235567  0.196493  0.515337  0.221925   \n",
       "535  0.266667  0.824675  0.489796  0.235567  0.196493  0.519427  0.175579   \n",
       "536  0.600000  0.376623  0.530612  0.326087  0.196493  0.300613  0.258467   \n",
       "\n",
       "            7  \n",
       "0    0.431373  \n",
       "1    0.078431  \n",
       "2    0.000000  \n",
       "3    0.254902  \n",
       "4    0.156863  \n",
       "..        ...  \n",
       "532  0.176471  \n",
       "533  0.254902  \n",
       "534  0.411765  \n",
       "535  0.098039  \n",
       "536  0.490196  \n",
       "\n",
       "[537 rows x 8 columns]"
      ]
     },
     "execution_count": 96,
     "metadata": {},
     "output_type": "execute_result"
    }
   ],
   "source": [
    "X_train_scaled = norm.transform(X_train_imputed)\n",
    "\n",
    "X_train_scaled = pd.DataFrame(X_train_scaled)\n",
    "\n",
    "X_train_scaled"
   ]
  },
  {
   "cell_type": "code",
   "execution_count": 97,
   "id": "b7ffae88",
   "metadata": {},
   "outputs": [
    {
     "data": {
      "text/html": [
       "<div>\n",
       "<style scoped>\n",
       "    .dataframe tbody tr th:only-of-type {\n",
       "        vertical-align: middle;\n",
       "    }\n",
       "\n",
       "    .dataframe tbody tr th {\n",
       "        vertical-align: top;\n",
       "    }\n",
       "\n",
       "    .dataframe thead th {\n",
       "        text-align: right;\n",
       "    }\n",
       "</style>\n",
       "<table border=\"1\" class=\"dataframe\">\n",
       "  <thead>\n",
       "    <tr style=\"text-align: right;\">\n",
       "      <th></th>\n",
       "      <th>0</th>\n",
       "      <th>1</th>\n",
       "      <th>2</th>\n",
       "      <th>3</th>\n",
       "      <th>4</th>\n",
       "      <th>5</th>\n",
       "      <th>6</th>\n",
       "      <th>7</th>\n",
       "    </tr>\n",
       "  </thead>\n",
       "  <tbody>\n",
       "    <tr>\n",
       "      <th>0</th>\n",
       "      <td>0.466667</td>\n",
       "      <td>0.597403</td>\n",
       "      <td>0.510204</td>\n",
       "      <td>0.206522</td>\n",
       "      <td>0.164609</td>\n",
       "      <td>0.159509</td>\n",
       "      <td>0.250446</td>\n",
       "      <td>0.588235</td>\n",
       "    </tr>\n",
       "    <tr>\n",
       "      <th>1</th>\n",
       "      <td>0.066667</td>\n",
       "      <td>0.694805</td>\n",
       "      <td>0.367347</td>\n",
       "      <td>0.235567</td>\n",
       "      <td>0.196493</td>\n",
       "      <td>0.161554</td>\n",
       "      <td>0.041889</td>\n",
       "      <td>0.019608</td>\n",
       "    </tr>\n",
       "    <tr>\n",
       "      <th>2</th>\n",
       "      <td>0.400000</td>\n",
       "      <td>0.422078</td>\n",
       "      <td>0.367347</td>\n",
       "      <td>0.217391</td>\n",
       "      <td>0.196493</td>\n",
       "      <td>0.139059</td>\n",
       "      <td>0.053922</td>\n",
       "      <td>0.117647</td>\n",
       "    </tr>\n",
       "    <tr>\n",
       "      <th>3</th>\n",
       "      <td>0.200000</td>\n",
       "      <td>0.110390</td>\n",
       "      <td>0.591837</td>\n",
       "      <td>0.228261</td>\n",
       "      <td>0.196493</td>\n",
       "      <td>0.331288</td>\n",
       "      <td>0.070410</td>\n",
       "      <td>0.490196</td>\n",
       "    </tr>\n",
       "    <tr>\n",
       "      <th>4</th>\n",
       "      <td>0.066667</td>\n",
       "      <td>0.467532</td>\n",
       "      <td>0.551020</td>\n",
       "      <td>0.239130</td>\n",
       "      <td>0.226337</td>\n",
       "      <td>0.366053</td>\n",
       "      <td>0.183155</td>\n",
       "      <td>0.078431</td>\n",
       "    </tr>\n",
       "    <tr>\n",
       "      <th>...</th>\n",
       "      <td>...</td>\n",
       "      <td>...</td>\n",
       "      <td>...</td>\n",
       "      <td>...</td>\n",
       "      <td>...</td>\n",
       "      <td>...</td>\n",
       "      <td>...</td>\n",
       "      <td>...</td>\n",
       "    </tr>\n",
       "    <tr>\n",
       "      <th>226</th>\n",
       "      <td>0.266667</td>\n",
       "      <td>0.305195</td>\n",
       "      <td>0.469388</td>\n",
       "      <td>0.271739</td>\n",
       "      <td>0.100137</td>\n",
       "      <td>0.304703</td>\n",
       "      <td>0.160873</td>\n",
       "      <td>0.019608</td>\n",
       "    </tr>\n",
       "    <tr>\n",
       "      <th>227</th>\n",
       "      <td>0.066667</td>\n",
       "      <td>0.422078</td>\n",
       "      <td>0.142857</td>\n",
       "      <td>0.119565</td>\n",
       "      <td>0.144033</td>\n",
       "      <td>0.100204</td>\n",
       "      <td>0.143494</td>\n",
       "      <td>0.098039</td>\n",
       "    </tr>\n",
       "    <tr>\n",
       "      <th>228</th>\n",
       "      <td>0.066667</td>\n",
       "      <td>0.305195</td>\n",
       "      <td>0.306122</td>\n",
       "      <td>0.195652</td>\n",
       "      <td>0.116598</td>\n",
       "      <td>0.143149</td>\n",
       "      <td>0.066399</td>\n",
       "      <td>0.039216</td>\n",
       "    </tr>\n",
       "    <tr>\n",
       "      <th>229</th>\n",
       "      <td>0.666667</td>\n",
       "      <td>0.805195</td>\n",
       "      <td>0.510204</td>\n",
       "      <td>0.235567</td>\n",
       "      <td>0.196493</td>\n",
       "      <td>0.404908</td>\n",
       "      <td>0.201426</td>\n",
       "      <td>0.254902</td>\n",
       "    </tr>\n",
       "    <tr>\n",
       "      <th>230</th>\n",
       "      <td>0.600000</td>\n",
       "      <td>0.441558</td>\n",
       "      <td>0.591837</td>\n",
       "      <td>0.271739</td>\n",
       "      <td>0.219479</td>\n",
       "      <td>0.327198</td>\n",
       "      <td>0.077986</td>\n",
       "      <td>0.294118</td>\n",
       "    </tr>\n",
       "  </tbody>\n",
       "</table>\n",
       "<p>231 rows × 8 columns</p>\n",
       "</div>"
      ],
      "text/plain": [
       "            0         1         2         3         4         5         6  \\\n",
       "0    0.466667  0.597403  0.510204  0.206522  0.164609  0.159509  0.250446   \n",
       "1    0.066667  0.694805  0.367347  0.235567  0.196493  0.161554  0.041889   \n",
       "2    0.400000  0.422078  0.367347  0.217391  0.196493  0.139059  0.053922   \n",
       "3    0.200000  0.110390  0.591837  0.228261  0.196493  0.331288  0.070410   \n",
       "4    0.066667  0.467532  0.551020  0.239130  0.226337  0.366053  0.183155   \n",
       "..        ...       ...       ...       ...       ...       ...       ...   \n",
       "226  0.266667  0.305195  0.469388  0.271739  0.100137  0.304703  0.160873   \n",
       "227  0.066667  0.422078  0.142857  0.119565  0.144033  0.100204  0.143494   \n",
       "228  0.066667  0.305195  0.306122  0.195652  0.116598  0.143149  0.066399   \n",
       "229  0.666667  0.805195  0.510204  0.235567  0.196493  0.404908  0.201426   \n",
       "230  0.600000  0.441558  0.591837  0.271739  0.219479  0.327198  0.077986   \n",
       "\n",
       "            7  \n",
       "0    0.588235  \n",
       "1    0.019608  \n",
       "2    0.117647  \n",
       "3    0.490196  \n",
       "4    0.078431  \n",
       "..        ...  \n",
       "226  0.019608  \n",
       "227  0.098039  \n",
       "228  0.039216  \n",
       "229  0.254902  \n",
       "230  0.294118  \n",
       "\n",
       "[231 rows x 8 columns]"
      ]
     },
     "execution_count": 97,
     "metadata": {},
     "output_type": "execute_result"
    }
   ],
   "source": [
    "X_test_scaled = norm.transform(X_test_imputed)\n",
    "\n",
    "X_test_scaled = pd.DataFrame(X_test_scaled)\n",
    "\n",
    "X_test_scaled"
   ]
  },
  {
   "cell_type": "code",
   "execution_count": 98,
   "id": "7841be51",
   "metadata": {},
   "outputs": [],
   "source": [
    "X_train_scaled.columns = X_test_scaled.columns = \\\n",
    "[ 'preg','glu', 'bp', 'skinThickness', 'insulin', 'bmi', 'dpf', 'age']"
   ]
  },
  {
   "cell_type": "markdown",
   "id": "8f50796d",
   "metadata": {},
   "source": [
    "### Mean Imputation and Feature Scaling have been performed on the data. Now, the time is to notice the performance of algorithms after having done this :-"
   ]
  },
  {
   "cell_type": "markdown",
   "id": "71a3594a",
   "metadata": {},
   "source": [
    "### Naive Bayes Classifier :"
   ]
  },
  {
   "cell_type": "code",
   "execution_count": 99,
   "id": "4d5d2946",
   "metadata": {},
   "outputs": [
    {
     "data": {
      "text/plain": [
       "78.35497835497836"
      ]
     },
     "execution_count": 99,
     "metadata": {},
     "output_type": "execute_result"
    }
   ],
   "source": [
    "gnb_classifier = GaussianNB()\n",
    "\n",
    "gnb_classifier.fit(X_train_scaled, y_train) # Have used X_train_imputed\n",
    "\n",
    "y_pred = gnb_classifier.predict(X_test_scaled)\n",
    "\n",
    "accuracy_score_gnb = accuracy_score(y_test, y_pred)\n",
    "\n",
    "accuracy_score_gnb*100"
   ]
  },
  {
   "cell_type": "code",
   "execution_count": 100,
   "id": "16d4f129",
   "metadata": {},
   "outputs": [
    {
     "data": {
      "text/plain": [
       "78.35497835497836"
      ]
     },
     "execution_count": 100,
     "metadata": {},
     "output_type": "execute_result"
    }
   ],
   "source": [
    "gnb_classifier = GaussianNB()\n",
    "\n",
    "gnb_classifier.fit(X_train_imputed, y_train) # Have used X_train_imputed\n",
    "\n",
    "y_pred = gnb_classifier.predict(X_test_imputed)\n",
    "\n",
    "accuracy_score_gnb = accuracy_score(y_test, y_pred)\n",
    "\n",
    "accuracy_score_gnb*100"
   ]
  },
  {
   "cell_type": "markdown",
   "id": "454d4517",
   "metadata": {},
   "source": [
    "### KNN Technique :-"
   ]
  },
  {
   "cell_type": "code",
   "execution_count": null,
   "id": "363ff716",
   "metadata": {},
   "outputs": [],
   "source": []
  },
  {
   "cell_type": "code",
   "execution_count": 101,
   "id": "1c8ed838",
   "metadata": {},
   "outputs": [
    {
     "name": "stdout",
     "output_type": "stream",
     "text": [
      "81.38528138528139% is the accuracy score in percentage form with knn.\n"
     ]
    }
   ],
   "source": [
    "neigh = KNeighborsClassifier(n_neighbors=17)\n",
    "\n",
    "neigh.fit(X_train_scaled.values, y_train.values)\n",
    "\n",
    "y_pred = neigh.predict(X_test_scaled.values)\n",
    "\n",
    "knn_accuracy_score = accuracy_score(y_test, y_pred)*100\n",
    "\n",
    "print(f\"{knn_accuracy_score}% is the accuracy score in percentage form with knn.\")"
   ]
  },
  {
   "cell_type": "code",
   "execution_count": 102,
   "id": "a1e90134",
   "metadata": {},
   "outputs": [
    {
     "name": "stdout",
     "output_type": "stream",
     "text": [
      "77.48917748917748% is the accuracy score in percentage form with knn.\n"
     ]
    }
   ],
   "source": [
    "neigh = KNeighborsClassifier(n_neighbors=17)\n",
    "\n",
    "neigh.fit(X_train_imputed.values, y_train.values)\n",
    "\n",
    "y_pred = neigh.predict(X_test_imputed.values)\n",
    "\n",
    "knn_accuracy_score = accuracy_score(y_test, y_pred)*100\n",
    "\n",
    "print(f\"{knn_accuracy_score}% is the accuracy score in percentage form with knn.\")"
   ]
  },
  {
   "cell_type": "markdown",
   "id": "80ed4588",
   "metadata": {},
   "source": [
    "####  GridSearchCV (KNN) :-"
   ]
  },
  {
   "cell_type": "code",
   "execution_count": null,
   "id": "955f0967",
   "metadata": {},
   "outputs": [],
   "source": []
  },
  {
   "cell_type": "code",
   "execution_count": 103,
   "id": "254c0065",
   "metadata": {},
   "outputs": [
    {
     "name": "stdout",
     "output_type": "stream",
     "text": [
      "KNeighborsClassifier(n_neighbors=23) is the Best Estimator according to Exhaustive Hyperparameter search.\n",
      "\n",
      "83.11688311688312% is the accuracy score for the estimator using the best hyparameters suggested by GridSearchCV.\n",
      "85.9375% is the precision score for the estimator using the best hyparameters suggested by GridSearchCV.\n",
      "64.70588235294117% is the recall score for the estimator using the best hyparameters suggested by GridSearchCV.\n",
      "73.82550335570471% is the f1_score for the estimator using the best hyparameters suggested by GridSearchCV.\n"
     ]
    }
   ],
   "source": [
    "params_grid_dict = {\n",
    "    'n_neighbors' : np.array([i for i in range(5,25,2)]),\n",
    "    'weights': ['distance', 'uniform'],\n",
    "    'metric':['minkowski', 'euclidean']\n",
    "}\n",
    "\n",
    "neigh = KNeighborsClassifier()\n",
    "\n",
    "grid_search_cv(neigh,params_grid_dict,X_train=X_train_scaled, \n",
    "                   y_train=y_train, X_test=X_test_scaled, y_test=y_test)"
   ]
  },
  {
   "cell_type": "code",
   "execution_count": null,
   "id": "04ba4f7d",
   "metadata": {},
   "outputs": [],
   "source": []
  },
  {
   "cell_type": "code",
   "execution_count": 104,
   "id": "e958ac98",
   "metadata": {},
   "outputs": [
    {
     "name": "stdout",
     "output_type": "stream",
     "text": [
      "KNeighborsClassifier(n_neighbors=13) is the Best Estimator according to Exhaustive Hyperparameter search.\n",
      "\n",
      "74.45887445887446% is the accuracy score for the estimator using the best hyparameters suggested by GridSearchCV.\n",
      "68.57142857142857% is the precision score for the estimator using the best hyparameters suggested by GridSearchCV.\n",
      "56.470588235294116% is the recall score for the estimator using the best hyparameters suggested by GridSearchCV.\n",
      "61.935483870967744% is the f1_score for the estimator using the best hyparameters suggested by GridSearchCV.\n"
     ]
    }
   ],
   "source": [
    "params_grid_dict = {\n",
    "    'n_neighbors' : np.array([i for i in range(5,25,2)]),\n",
    "    'weights': ['distance', 'uniform'],\n",
    "    'metric':['minkowski', 'euclidean']\n",
    "}\n",
    "\n",
    "neigh = KNeighborsClassifier()\n",
    "\n",
    "grid_search_cv(neigh,params_grid_dict,X_train=X_train_imputed, \n",
    "                   y_train=y_train, X_test=X_test_imputed, y_test=y_test)"
   ]
  },
  {
   "cell_type": "code",
   "execution_count": null,
   "id": "8cfac18a",
   "metadata": {},
   "outputs": [],
   "source": []
  },
  {
   "cell_type": "markdown",
   "id": "beeb5c83",
   "metadata": {},
   "source": [
    "### Logistic Regression :-"
   ]
  },
  {
   "cell_type": "code",
   "execution_count": 105,
   "id": "0ed0aefb",
   "metadata": {},
   "outputs": [
    {
     "name": "stdout",
     "output_type": "stream",
     "text": [
      "77.92207792207793% is the accuracy score in percentage form with LogisticRegression.\n"
     ]
    }
   ],
   "source": [
    "logistic_regression = LogisticRegression(max_iter=200)\n",
    "\n",
    "logistic_regression.fit(X_train_scaled, y_train)\n",
    "\n",
    "# Predicting the X_test datapoints :\n",
    "y_pred = logistic_regression.predict(X_test_scaled)\n",
    "\n",
    "logistic_accuracy_score = accuracy_score(y_test, y_pred)*100\n",
    "\n",
    "print(f\"{logistic_accuracy_score}% is the accuracy score in percentage form with LogisticRegression.\")"
   ]
  },
  {
   "cell_type": "markdown",
   "id": "010e67a3",
   "metadata": {},
   "source": [
    "#### GridSearchCV (LogisticRegression) :-"
   ]
  },
  {
   "cell_type": "code",
   "execution_count": 106,
   "id": "83b21d56",
   "metadata": {},
   "outputs": [
    {
     "name": "stdout",
     "output_type": "stream",
     "text": [
      "LogisticRegression(C=4.281332398719396, solver='liblinear') is the Best Estimator according to Exhaustive Hyperparameter search.\n",
      "\n",
      "77.48917748917748% is the accuracy score for the estimator using the best hyparameters suggested by GridSearchCV.\n",
      "76.19047619047619% is the precision score for the estimator using the best hyparameters suggested by GridSearchCV.\n",
      "56.470588235294116% is the recall score for the estimator using the best hyparameters suggested by GridSearchCV.\n",
      "64.86486486486486% is the f1_score for the estimator using the best hyparameters suggested by GridSearchCV.\n"
     ]
    }
   ],
   "source": [
    "logistic_regression = LogisticRegression()\n",
    "\n",
    "params_grid_dict = {\n",
    "    'penalty' : ['l1', 'l2', 'elasticnet', 'none'],\n",
    "    'max_iter' : [100, 1000,2500, 5000],\n",
    "    'C' : np.logspace(-4, 4, 20),\n",
    "    'solver' : ['lbfgs','newton-cg','liblinear','sag','saga'],\n",
    "    \n",
    "}\n",
    "\n",
    "grid_search_cv(logistic_regression, params_grid_dict, \n",
    "               X_train=X_train_scaled,\n",
    "               y_train = y_train,\n",
    "               X_test = X_test_scaled,\n",
    "               y_test = y_test)     "
   ]
  },
  {
   "cell_type": "code",
   "execution_count": null,
   "id": "3d1e5b8c",
   "metadata": {},
   "outputs": [],
   "source": []
  },
  {
   "cell_type": "code",
   "execution_count": 139,
   "id": "8a681331",
   "metadata": {},
   "outputs": [
    {
     "name": "stdout",
     "output_type": "stream",
     "text": [
      "LogisticRegression(C=0.615848211066026, solver='newton-cg') is the Best Estimator according to Exhaustive Hyperparameter search.\n",
      "\n",
      "78.35497835497836% is the accuracy score for the estimator using the best hyparameters suggested by GridSearchCV.\n",
      "76.92307692307693% is the precision score for the estimator using the best hyparameters suggested by GridSearchCV.\n",
      "58.82352941176471% is the recall score for the estimator using the best hyparameters suggested by GridSearchCV.\n",
      "66.66666666666667% is the f1_score for the estimator using the best hyparameters suggested by GridSearchCV.\n"
     ]
    }
   ],
   "source": [
    "logistic_regression = LogisticRegression()\n",
    "\n",
    "params_grid_dict = {\n",
    "    'penalty' : ['l1', 'l2', 'elasticnet', 'none'],\n",
    "    'max_iter' : [100, 1000,2500, 5000],\n",
    "    'C' : np.logspace(-4, 4, 20),\n",
    "    'solver' : ['lbfgs','newton-cg','liblinear','sag','saga'],\n",
    "    \n",
    "}\n",
    "\n",
    "grid_search_cv(logistic_regression, params_grid_dict, \n",
    "               X_train=X_train_imputed,\n",
    "               y_train = y_train,\n",
    "               X_test = X_test_imputed,\n",
    "               y_test = y_test) "
   ]
  },
  {
   "cell_type": "code",
   "execution_count": null,
   "id": "71b05ce4",
   "metadata": {},
   "outputs": [],
   "source": [
    "  "
   ]
  },
  {
   "cell_type": "markdown",
   "id": "1c2e168f",
   "metadata": {},
   "source": [
    "#### RandomizedSearchCV (LogisticRegression) :-"
   ]
  },
  {
   "cell_type": "code",
   "execution_count": 136,
   "id": "8410de71",
   "metadata": {},
   "outputs": [
    {
     "name": "stdout",
     "output_type": "stream",
     "text": [
      "LogisticRegression(C=29763.51441631313, max_iter=70, solver='saga') is the Best Estimator according to Randomized Hyperparameter search.\n",
      "\n",
      "78.35497835497836% is the accuracy score for LogisticRegression() using the best hyparameters suggested by RandomizedSearchCV.\n",
      "76.92307692307693% is the precision score for LogisticRegression() using the best hyparameters suggested by RandomizedSearchCV.\n",
      "58.82352941176471% is the recall score for LogisticRegression() using the best hyparameters suggested by RandomizedSearchCV.\n",
      "66.66666666666667% is the f1_score for LogisticRegression() using the best hyparameters suggested by RandomizedSearchCV.\n"
     ]
    }
   ],
   "source": [
    "logistic_regression = LogisticRegression()\n",
    "\n",
    "params_grid_dict = {\n",
    "    'penalty' : ['l1', 'l2', 'elasticnet', 'none'],\n",
    "    'max_iter' : [50,70,80,100,1000,2500,5000, ],\n",
    "    'C' : np.logspace(-5, 5, 20),\n",
    "    'solver' : ['lbfgs','newton-cg','liblinear','sag','saga'],\n",
    "    \n",
    "}\n",
    "\n",
    "randomized_search_cv(logistic_regression,params_grid_dict,X_train=X_train_scaled, \n",
    "                   y_train=y_train, X_test=X_test_scaled, y_test=y_test)\n"
   ]
  },
  {
   "cell_type": "code",
   "execution_count": null,
   "id": "6c486dca",
   "metadata": {},
   "outputs": [],
   "source": []
  },
  {
   "cell_type": "code",
   "execution_count": 137,
   "id": "5df43dee",
   "metadata": {},
   "outputs": [
    {
     "name": "stdout",
     "output_type": "stream",
     "text": [
      "LogisticRegression(C=20.6913808111479, max_iter=5000, penalty='l1',\n",
      "                   solver='liblinear') is the Best Estimator according to Randomized Hyperparameter search.\n",
      "\n",
      "78.35497835497836% is the accuracy score for LogisticRegression() using the best hyparameters suggested by RandomizedSearchCV.\n",
      "76.92307692307693% is the precision score for LogisticRegression() using the best hyparameters suggested by RandomizedSearchCV.\n",
      "58.82352941176471% is the recall score for LogisticRegression() using the best hyparameters suggested by RandomizedSearchCV.\n",
      "66.66666666666667% is the f1_score for LogisticRegression() using the best hyparameters suggested by RandomizedSearchCV.\n"
     ]
    }
   ],
   "source": [
    "logistic_regression = LogisticRegression()\n",
    "\n",
    "params_grid_dict = {\n",
    "    'penalty' : ['l1', 'l2', 'elasticnet', 'none'],\n",
    "    'max_iter' : [80,100,1000,2500,5000 ],\n",
    "    'C' : np.logspace(-5, 5, 20),\n",
    "    'solver' : ['lbfgs','newton-cg','liblinear','sag','saga'],\n",
    "    \n",
    "}\n",
    "\n",
    "randomized_search_cv(logistic_regression,params_grid_dict,X_train=X_train_imputed, \n",
    "                   y_train=y_train, X_test=X_test_imputed, y_test=y_test)"
   ]
  },
  {
   "cell_type": "code",
   "execution_count": null,
   "id": "b117fcb8",
   "metadata": {},
   "outputs": [],
   "source": []
  },
  {
   "cell_type": "markdown",
   "id": "0514d378",
   "metadata": {},
   "source": [
    "## Decision Tree Classifier :-"
   ]
  },
  {
   "cell_type": "code",
   "execution_count": 143,
   "id": "ad3f9351",
   "metadata": {},
   "outputs": [
    {
     "name": "stdout",
     "output_type": "stream",
     "text": [
      "72.72727272727273% is the accuracy score in percentage form with DecisionTreesTechnique.\n"
     ]
    }
   ],
   "source": [
    "decision_tree = DecisionTreeClassifier(random_state=42)\n",
    "\n",
    "decision_tree.fit(X_train_imputed, y_train)\n",
    "\n",
    "y_pred = decision_tree.predict(X_test_imputed)\n",
    "\n",
    "accuracy_score_dt = accuracy_score(y_test, y_pred)*100\n",
    "\n",
    "print(f\"{accuracy_score_dt}% is the accuracy score in percentage form with DecisionTreesTechnique.\")"
   ]
  },
  {
   "cell_type": "code",
   "execution_count": null,
   "id": "b7596f6d",
   "metadata": {},
   "outputs": [],
   "source": []
  },
  {
   "cell_type": "markdown",
   "id": "9a8f3940",
   "metadata": {},
   "source": [
    "#### GridSearchCV (DecisionTrees) :-"
   ]
  },
  {
   "cell_type": "code",
   "execution_count": null,
   "id": "07157bad",
   "metadata": {},
   "outputs": [],
   "source": [
    "decision_tree = DecisionTreeClassifier()\n",
    "\n",
    "params_grid_dict = {\n",
    "    'max_depth' : np.array([i for i in range(2,20)]),\n",
    "    'criterion' : np.array(['gini', 'entropy']),\n",
    "    'min_impurity_decrease': np.arange(0.01, 0.06, 0.01),\n",
    "    'min_samples_split': np.arange(10,100,10) \n",
    "}\n",
    "\n",
    "grid_search_cv(decision_tree, params_grid_dict, \n",
    "               X_train=X_train_imputed,\n",
    "               y_train = y_train,\n",
    "               X_test = X_test_imputed,\n",
    "               y_test = y_test)  "
   ]
  },
  {
   "cell_type": "code",
   "execution_count": null,
   "id": "76a19380",
   "metadata": {},
   "outputs": [],
   "source": []
  },
  {
   "cell_type": "markdown",
   "id": "0bef78be",
   "metadata": {},
   "source": [
    "#### RandomizedSearchCV (DecisionTrees) :-"
   ]
  },
  {
   "cell_type": "code",
   "execution_count": null,
   "id": "b6ff0692",
   "metadata": {},
   "outputs": [],
   "source": []
  }
 ],
 "metadata": {
  "kernelspec": {
   "display_name": "Python 3 (ipykernel)",
   "language": "python",
   "name": "python3"
  },
  "language_info": {
   "codemirror_mode": {
    "name": "ipython",
    "version": 3
   },
   "file_extension": ".py",
   "mimetype": "text/x-python",
   "name": "python",
   "nbconvert_exporter": "python",
   "pygments_lexer": "ipython3",
   "version": "3.9.6"
  }
 },
 "nbformat": 4,
 "nbformat_minor": 5
}
